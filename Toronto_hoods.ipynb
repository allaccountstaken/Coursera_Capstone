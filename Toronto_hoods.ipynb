{
 "cells": [
  {
   "cell_type": "code",
   "execution_count": 1,
   "metadata": {},
   "outputs": [],
   "source": [
    "import pandas as pd"
   ]
  },
  {
   "cell_type": "markdown",
   "metadata": {},
   "source": [
    "# Part 1: loading and cleaning the data"
   ]
  },
  {
   "cell_type": "code",
   "execution_count": 24,
   "metadata": {},
   "outputs": [],
   "source": [
    "df_wiki = pd.read_clipboard(sep = '\\t')"
   ]
  },
  {
   "cell_type": "code",
   "execution_count": 25,
   "metadata": {},
   "outputs": [
    {
     "data": {
      "text/html": [
       "<div>\n",
       "<style scoped>\n",
       "    .dataframe tbody tr th:only-of-type {\n",
       "        vertical-align: middle;\n",
       "    }\n",
       "\n",
       "    .dataframe tbody tr th {\n",
       "        vertical-align: top;\n",
       "    }\n",
       "\n",
       "    .dataframe thead th {\n",
       "        text-align: right;\n",
       "    }\n",
       "</style>\n",
       "<table border=\"1\" class=\"dataframe\">\n",
       "  <thead>\n",
       "    <tr style=\"text-align: right;\">\n",
       "      <th></th>\n",
       "      <th>Postal Code</th>\n",
       "      <th>Borough</th>\n",
       "      <th>Neighborhood</th>\n",
       "    </tr>\n",
       "  </thead>\n",
       "  <tbody>\n",
       "    <tr>\n",
       "      <th>0</th>\n",
       "      <td>M1A</td>\n",
       "      <td>Not assigned</td>\n",
       "      <td>NaN</td>\n",
       "    </tr>\n",
       "    <tr>\n",
       "      <th>1</th>\n",
       "      <td>M2A</td>\n",
       "      <td>Not assigned</td>\n",
       "      <td>NaN</td>\n",
       "    </tr>\n",
       "    <tr>\n",
       "      <th>2</th>\n",
       "      <td>M3A</td>\n",
       "      <td>North York</td>\n",
       "      <td>Parkwoods</td>\n",
       "    </tr>\n",
       "    <tr>\n",
       "      <th>3</th>\n",
       "      <td>M4A</td>\n",
       "      <td>North York</td>\n",
       "      <td>Victoria Village</td>\n",
       "    </tr>\n",
       "    <tr>\n",
       "      <th>4</th>\n",
       "      <td>M5A</td>\n",
       "      <td>Downtown Toronto</td>\n",
       "      <td>Regent Park / Harbourfront</td>\n",
       "    </tr>\n",
       "  </tbody>\n",
       "</table>\n",
       "</div>"
      ],
      "text/plain": [
       "  Postal Code           Borough                Neighborhood\n",
       "0         M1A      Not assigned                         NaN\n",
       "1         M2A      Not assigned                         NaN\n",
       "2         M3A        North York                   Parkwoods\n",
       "3         M4A        North York            Victoria Village\n",
       "4         M5A  Downtown Toronto  Regent Park / Harbourfront"
      ]
     },
     "execution_count": 25,
     "metadata": {},
     "output_type": "execute_result"
    }
   ],
   "source": [
    "df_wiki.head()"
   ]
  },
  {
   "cell_type": "markdown",
   "metadata": {},
   "source": [
    "#### Data requirements:\n",
    "- The dataframe will consist of three columns: PostalCode, Borough, and Neighborhood\n",
    "- Only process the cells that have an assigned borough. Ignore cells with a borough that is Not assigned.\n",
    "- More than one neighborhood can exist in one postal code area. For example, in the table on the Wikipedia page, you will notice that M5A is listed twice and has two neighborhoods: Harbourfront and Regent Park. These two rows will be combined into one row with the neighborhoods separated with a comma as shown in row 11 in the above table.\n",
    "- If a cell has a borough but a Not assigned neighborhood, then the neighborhood will be the same as the borough.\n",
    "- Clean your Notebook and add Markdown cells to explain your work and any assumptions you are making.\n",
    "- In the last cell of your notebook, use the .shape method to print the number of rows of your dataframe."
   ]
  },
  {
   "cell_type": "code",
   "execution_count": 26,
   "metadata": {},
   "outputs": [
    {
     "data": {
      "text/plain": [
       "(180, 3)"
      ]
     },
     "execution_count": 26,
     "metadata": {},
     "output_type": "execute_result"
    }
   ],
   "source": [
    "df_wiki.shape"
   ]
  },
  {
   "cell_type": "code",
   "execution_count": 163,
   "metadata": {},
   "outputs": [],
   "source": [
    "# Only process the cells that have an assigned borough. Ignore cells with a borough that is Not assigned.\n",
    "df = df_wiki[df_wiki.Borough != 'Not assigned']"
   ]
  },
  {
   "cell_type": "code",
   "execution_count": 164,
   "metadata": {},
   "outputs": [
    {
     "data": {
      "text/plain": [
       "(103, 3)"
      ]
     },
     "execution_count": 164,
     "metadata": {},
     "output_type": "execute_result"
    }
   ],
   "source": [
    "df.shape"
   ]
  },
  {
   "cell_type": "code",
   "execution_count": 165,
   "metadata": {},
   "outputs": [
    {
     "data": {
      "text/html": [
       "<div>\n",
       "<style scoped>\n",
       "    .dataframe tbody tr th:only-of-type {\n",
       "        vertical-align: middle;\n",
       "    }\n",
       "\n",
       "    .dataframe tbody tr th {\n",
       "        vertical-align: top;\n",
       "    }\n",
       "\n",
       "    .dataframe thead th {\n",
       "        text-align: right;\n",
       "    }\n",
       "</style>\n",
       "<table border=\"1\" class=\"dataframe\">\n",
       "  <thead>\n",
       "    <tr style=\"text-align: right;\">\n",
       "      <th></th>\n",
       "      <th>Postal Code</th>\n",
       "      <th>Borough</th>\n",
       "      <th>Neighborhood</th>\n",
       "    </tr>\n",
       "  </thead>\n",
       "  <tbody>\n",
       "    <tr>\n",
       "      <th>4</th>\n",
       "      <td>M5A</td>\n",
       "      <td>Downtown Toronto</td>\n",
       "      <td>Regent Park / Harbourfront</td>\n",
       "    </tr>\n",
       "  </tbody>\n",
       "</table>\n",
       "</div>"
      ],
      "text/plain": [
       "  Postal Code           Borough                Neighborhood\n",
       "4         M5A  Downtown Toronto  Regent Park / Harbourfront"
      ]
     },
     "execution_count": 165,
     "metadata": {},
     "output_type": "execute_result"
    }
   ],
   "source": [
    "# More than one neighborhood can exist in one postal code area. For example, in the table on the Wikipedia page, \n",
    "# you will notice that M5A is listed twice and has two neighborhoods: Harbourfront and Regent Park.\n",
    "df.loc[df['Postal Code'] == 'M5A']"
   ]
  },
  {
   "cell_type": "code",
   "execution_count": 166,
   "metadata": {},
   "outputs": [
    {
     "data": {
      "text/html": [
       "<div>\n",
       "<style scoped>\n",
       "    .dataframe tbody tr th:only-of-type {\n",
       "        vertical-align: middle;\n",
       "    }\n",
       "\n",
       "    .dataframe tbody tr th {\n",
       "        vertical-align: top;\n",
       "    }\n",
       "\n",
       "    .dataframe thead th {\n",
       "        text-align: right;\n",
       "    }\n",
       "</style>\n",
       "<table border=\"1\" class=\"dataframe\">\n",
       "  <thead>\n",
       "    <tr style=\"text-align: right;\">\n",
       "      <th></th>\n",
       "      <th>Postal Code</th>\n",
       "      <th>Borough</th>\n",
       "      <th>Neighborhood</th>\n",
       "    </tr>\n",
       "  </thead>\n",
       "  <tbody>\n",
       "    <tr>\n",
       "      <th>2</th>\n",
       "      <td>M3A</td>\n",
       "      <td>North York</td>\n",
       "      <td>Parkwoods</td>\n",
       "    </tr>\n",
       "    <tr>\n",
       "      <th>3</th>\n",
       "      <td>M4A</td>\n",
       "      <td>North York</td>\n",
       "      <td>Victoria Village</td>\n",
       "    </tr>\n",
       "    <tr>\n",
       "      <th>4</th>\n",
       "      <td>M5A</td>\n",
       "      <td>Downtown Toronto</td>\n",
       "      <td>Regent Park / Harbourfront</td>\n",
       "    </tr>\n",
       "    <tr>\n",
       "      <th>5</th>\n",
       "      <td>M6A</td>\n",
       "      <td>North York</td>\n",
       "      <td>Lawrence Manor / Lawrence Heights</td>\n",
       "    </tr>\n",
       "    <tr>\n",
       "      <th>6</th>\n",
       "      <td>M7A</td>\n",
       "      <td>Downtown Toronto</td>\n",
       "      <td>Queen's Park / Ontario Provincial Government</td>\n",
       "    </tr>\n",
       "  </tbody>\n",
       "</table>\n",
       "</div>"
      ],
      "text/plain": [
       "  Postal Code           Borough                                  Neighborhood\n",
       "2         M3A        North York                                     Parkwoods\n",
       "3         M4A        North York                              Victoria Village\n",
       "4         M5A  Downtown Toronto                    Regent Park / Harbourfront\n",
       "5         M6A        North York             Lawrence Manor / Lawrence Heights\n",
       "6         M7A  Downtown Toronto  Queen's Park / Ontario Provincial Government"
      ]
     },
     "execution_count": 166,
     "metadata": {},
     "output_type": "execute_result"
    }
   ],
   "source": [
    "df.head()"
   ]
  },
  {
   "cell_type": "code",
   "execution_count": 167,
   "metadata": {},
   "outputs": [
    {
     "name": "stderr",
     "output_type": "stream",
     "text": [
      "/anaconda3/lib/python3.7/site-packages/ipykernel_launcher.py:3: SettingWithCopyWarning: \n",
      "A value is trying to be set on a copy of a slice from a DataFrame.\n",
      "Try using .loc[row_indexer,col_indexer] = value instead\n",
      "\n",
      "See the caveats in the documentation: http://pandas.pydata.org/pandas-docs/stable/indexing.html#indexing-view-versus-copy\n",
      "  This is separate from the ipykernel package so we can avoid doing imports until\n"
     ]
    }
   ],
   "source": [
    "# These two rows will be combined into one row with the neighborhoods separated with a comma \n",
    "# as shown in row 11 in the above table.\n",
    "df['Neighborhood']= df['Neighborhood'].str.replace(' /', ',')"
   ]
  },
  {
   "cell_type": "code",
   "execution_count": 168,
   "metadata": {},
   "outputs": [
    {
     "data": {
      "text/html": [
       "<div>\n",
       "<style scoped>\n",
       "    .dataframe tbody tr th:only-of-type {\n",
       "        vertical-align: middle;\n",
       "    }\n",
       "\n",
       "    .dataframe tbody tr th {\n",
       "        vertical-align: top;\n",
       "    }\n",
       "\n",
       "    .dataframe thead th {\n",
       "        text-align: right;\n",
       "    }\n",
       "</style>\n",
       "<table border=\"1\" class=\"dataframe\">\n",
       "  <thead>\n",
       "    <tr style=\"text-align: right;\">\n",
       "      <th></th>\n",
       "      <th>Postal Code</th>\n",
       "      <th>Borough</th>\n",
       "      <th>Neighborhood</th>\n",
       "    </tr>\n",
       "  </thead>\n",
       "  <tbody>\n",
       "    <tr>\n",
       "      <th>2</th>\n",
       "      <td>M3A</td>\n",
       "      <td>North York</td>\n",
       "      <td>Parkwoods</td>\n",
       "    </tr>\n",
       "    <tr>\n",
       "      <th>3</th>\n",
       "      <td>M4A</td>\n",
       "      <td>North York</td>\n",
       "      <td>Victoria Village</td>\n",
       "    </tr>\n",
       "    <tr>\n",
       "      <th>4</th>\n",
       "      <td>M5A</td>\n",
       "      <td>Downtown Toronto</td>\n",
       "      <td>Regent Park, Harbourfront</td>\n",
       "    </tr>\n",
       "    <tr>\n",
       "      <th>5</th>\n",
       "      <td>M6A</td>\n",
       "      <td>North York</td>\n",
       "      <td>Lawrence Manor, Lawrence Heights</td>\n",
       "    </tr>\n",
       "    <tr>\n",
       "      <th>6</th>\n",
       "      <td>M7A</td>\n",
       "      <td>Downtown Toronto</td>\n",
       "      <td>Queen's Park, Ontario Provincial Government</td>\n",
       "    </tr>\n",
       "  </tbody>\n",
       "</table>\n",
       "</div>"
      ],
      "text/plain": [
       "  Postal Code           Borough                                 Neighborhood\n",
       "2         M3A        North York                                    Parkwoods\n",
       "3         M4A        North York                             Victoria Village\n",
       "4         M5A  Downtown Toronto                    Regent Park, Harbourfront\n",
       "5         M6A        North York             Lawrence Manor, Lawrence Heights\n",
       "6         M7A  Downtown Toronto  Queen's Park, Ontario Provincial Government"
      ]
     },
     "execution_count": 168,
     "metadata": {},
     "output_type": "execute_result"
    }
   ],
   "source": [
    "df.head()"
   ]
  },
  {
   "cell_type": "code",
   "execution_count": 169,
   "metadata": {},
   "outputs": [
    {
     "data": {
      "text/plain": [
       "0"
      ]
     },
     "execution_count": 169,
     "metadata": {},
     "output_type": "execute_result"
    }
   ],
   "source": [
    "# If a cell has a borough but a Not assigned neighborhood, then the neighborhood will be the same as the borough.\n",
    "df['Neighborhood'].isna().sum()"
   ]
  },
  {
   "cell_type": "code",
   "execution_count": 170,
   "metadata": {},
   "outputs": [
    {
     "data": {
      "text/plain": [
       "0"
      ]
     },
     "execution_count": 170,
     "metadata": {},
     "output_type": "execute_result"
    }
   ],
   "source": [
    "df['Borough'].isna().sum()"
   ]
  },
  {
   "cell_type": "code",
   "execution_count": 171,
   "metadata": {},
   "outputs": [
    {
     "data": {
      "text/html": [
       "<div>\n",
       "<style scoped>\n",
       "    .dataframe tbody tr th:only-of-type {\n",
       "        vertical-align: middle;\n",
       "    }\n",
       "\n",
       "    .dataframe tbody tr th {\n",
       "        vertical-align: top;\n",
       "    }\n",
       "\n",
       "    .dataframe thead th {\n",
       "        text-align: right;\n",
       "    }\n",
       "</style>\n",
       "<table border=\"1\" class=\"dataframe\">\n",
       "  <thead>\n",
       "    <tr style=\"text-align: right;\">\n",
       "      <th></th>\n",
       "      <th>Postal Code</th>\n",
       "      <th>Borough</th>\n",
       "      <th>Neighborhood</th>\n",
       "    </tr>\n",
       "  </thead>\n",
       "  <tbody>\n",
       "    <tr>\n",
       "      <th>count</th>\n",
       "      <td>103</td>\n",
       "      <td>103</td>\n",
       "      <td>103</td>\n",
       "    </tr>\n",
       "    <tr>\n",
       "      <th>unique</th>\n",
       "      <td>103</td>\n",
       "      <td>10</td>\n",
       "      <td>98</td>\n",
       "    </tr>\n",
       "    <tr>\n",
       "      <th>top</th>\n",
       "      <td>M1L</td>\n",
       "      <td>North York</td>\n",
       "      <td>Downsview</td>\n",
       "    </tr>\n",
       "    <tr>\n",
       "      <th>freq</th>\n",
       "      <td>1</td>\n",
       "      <td>24</td>\n",
       "      <td>4</td>\n",
       "    </tr>\n",
       "  </tbody>\n",
       "</table>\n",
       "</div>"
      ],
      "text/plain": [
       "       Postal Code     Borough Neighborhood\n",
       "count          103         103          103\n",
       "unique         103          10           98\n",
       "top            M1L  North York    Downsview\n",
       "freq             1          24            4"
      ]
     },
     "execution_count": 171,
     "metadata": {},
     "output_type": "execute_result"
    }
   ],
   "source": [
    "df.describe()"
   ]
  },
  {
   "cell_type": "code",
   "execution_count": 172,
   "metadata": {},
   "outputs": [
    {
     "data": {
      "text/plain": [
       "Borough\n",
       "Central Toronto      9\n",
       "Downtown Toronto    19\n",
       "East Toronto         5\n",
       "East York            5\n",
       "Etobicoke           12\n",
       "Mississauga          1\n",
       "North York          24\n",
       "Scarborough         17\n",
       "West Toronto         6\n",
       "York                 5\n",
       "Name: Neighborhood, dtype: int64"
      ]
     },
     "execution_count": 172,
     "metadata": {},
     "output_type": "execute_result"
    }
   ],
   "source": [
    "df.groupby('Borough')['Neighborhood'].count()"
   ]
  },
  {
   "cell_type": "code",
   "execution_count": 173,
   "metadata": {},
   "outputs": [
    {
     "data": {
      "text/plain": [
       "North York          24\n",
       "Downtown Toronto    19\n",
       "Scarborough         17\n",
       "Etobicoke           12\n",
       "Central Toronto      9\n",
       "West Toronto         6\n",
       "East Toronto         5\n",
       "York                 5\n",
       "East York            5\n",
       "Mississauga          1\n",
       "Name: Borough, dtype: int64"
      ]
     },
     "execution_count": 173,
     "metadata": {},
     "output_type": "execute_result"
    }
   ],
   "source": [
    "df.Borough.value_counts() "
   ]
  },
  {
   "cell_type": "code",
   "execution_count": 174,
   "metadata": {},
   "outputs": [
    {
     "data": {
      "text/plain": [
       "Downsview                                                                                                        4\n",
       "Don Mills                                                                                                        2\n",
       "Willowdale                                                                                                       2\n",
       "The Kingsway, Montgomery Road, Old Mill North                                                                    1\n",
       "Thorncliffe Park                                                                                                 1\n",
       "Agincourt                                                                                                        1\n",
       "Woodbine Heights                                                                                                 1\n",
       "Bayview Village                                                                                                  1\n",
       "St. James Town                                                                                                   1\n",
       "India Bazaar, The Beaches West                                                                                   1\n",
       "Central Bay Street                                                                                               1\n",
       "Dorset Park, Wexford Heights, Scarborough Town Centre                                                            1\n",
       "Business reply mail Processing Centre                                                                            1\n",
       "Runnymede, Swansea                                                                                               1\n",
       "Victoria Village                                                                                                 1\n",
       "Eringate, Bloordale Gardens, Old Burnhamthorpe, Markland Wood                                                    1\n",
       "Toronto Dominion Centre, Design Exchange                                                                         1\n",
       "Northwood Park, York University                                                                                  1\n",
       "Kensington Market, Chinatown, Grange Park                                                                        1\n",
       "Glencairn                                                                                                        1\n",
       "Richmond, Adelaide, King                                                                                         1\n",
       "Queen's Park, Ontario Provincial Government                                                                      1\n",
       "Kingsview Village, St. Phillips, Martin Grove Gardens, Richview Gardens                                          1\n",
       "Del Ray, Mount Dennis, Keelsdale and Silverthorn                                                                 1\n",
       "Golden Mile, Clairlea, Oakridge                                                                                  1\n",
       "York Mills, Silver Hills                                                                                         1\n",
       "CN Tower, King and Spadina, Railway Lands, Harbourfront West, Bathurst Quay, South Niagara, Island airport       1\n",
       "Weston                                                                                                           1\n",
       "East Toronto                                                                                                     1\n",
       "Stn A PO Boxes                                                                                                   1\n",
       "                                                                                                                ..\n",
       "Rosedale                                                                                                         1\n",
       "Steeles West, L'Amoreaux West                                                                                    1\n",
       "High Park, The Junction South                                                                                    1\n",
       "Parkdale, Roncesvalles                                                                                           1\n",
       "Leaside                                                                                                          1\n",
       "South Steeles, Silverstone, Humbergate, Jamestown, Mount Olive, Beaumond Heights, Thistletown, Albion Gardens    1\n",
       "The Beaches                                                                                                      1\n",
       "Bathurst Manor, Wilson Heights, Downsview North                                                                  1\n",
       "Humewood-Cedarvale                                                                                               1\n",
       "North Toronto West                                                                                               1\n",
       "Garden District, Ryerson                                                                                         1\n",
       "Lawrence Manor, Lawrence Heights                                                                                 1\n",
       "Commerce Court, Victoria Hotel                                                                                   1\n",
       "Rouge Hill, Port Union, Highland Creek                                                                           1\n",
       "West Deane Park, Princess Gardens, Martin Grove, Islington, Cloverdale                                           1\n",
       "Davisville North                                                                                                 1\n",
       "Fairview, Henry Farm, Oriole                                                                                     1\n",
       "New Toronto, Mimico South, Humber Bay Shores                                                                     1\n",
       "Guildwood, Morningside, West Hill                                                                                1\n",
       "Woburn                                                                                                           1\n",
       "Moore Park, Summerhill East                                                                                      1\n",
       "Islington Avenue                                                                                                 1\n",
       "Runnymede, The Junction North                                                                                    1\n",
       "Summerhill West, Rathnelly, South Hill, Forest Hill SE, Deer Park                                                1\n",
       "Davisville                                                                                                       1\n",
       "Studio District                                                                                                  1\n",
       "First Canadian Place, Underground city                                                                           1\n",
       "Upper Rouge                                                                                                      1\n",
       "University of Toronto, Harbord                                                                                   1\n",
       "Birch Cliff, Cliffside West                                                                                      1\n",
       "Name: Neighborhood, Length: 98, dtype: int64"
      ]
     },
     "execution_count": 174,
     "metadata": {},
     "output_type": "execute_result"
    }
   ],
   "source": [
    "df.Neighborhood.value_counts() "
   ]
  },
  {
   "cell_type": "code",
   "execution_count": 175,
   "metadata": {},
   "outputs": [
    {
     "data": {
      "text/plain": [
       "(103, 3)"
      ]
     },
     "execution_count": 175,
     "metadata": {},
     "output_type": "execute_result"
    }
   ],
   "source": [
    "# In the last cell of your notebook, use the .shape method to print the number of rows of your dataframe.\n",
    "df.shape"
   ]
  },
  {
   "cell_type": "markdown",
   "metadata": {},
   "source": [
    "# Part 2: merging with geospatial coordinates"
   ]
  },
  {
   "cell_type": "code",
   "execution_count": 176,
   "metadata": {},
   "outputs": [
    {
     "data": {
      "text/html": [
       "<div>\n",
       "<style scoped>\n",
       "    .dataframe tbody tr th:only-of-type {\n",
       "        vertical-align: middle;\n",
       "    }\n",
       "\n",
       "    .dataframe tbody tr th {\n",
       "        vertical-align: top;\n",
       "    }\n",
       "\n",
       "    .dataframe thead th {\n",
       "        text-align: right;\n",
       "    }\n",
       "</style>\n",
       "<table border=\"1\" class=\"dataframe\">\n",
       "  <thead>\n",
       "    <tr style=\"text-align: right;\">\n",
       "      <th></th>\n",
       "      <th>Postal Code</th>\n",
       "      <th>Borough</th>\n",
       "      <th>Neighborhood</th>\n",
       "    </tr>\n",
       "  </thead>\n",
       "  <tbody>\n",
       "    <tr>\n",
       "      <th>count</th>\n",
       "      <td>103</td>\n",
       "      <td>103</td>\n",
       "      <td>103</td>\n",
       "    </tr>\n",
       "    <tr>\n",
       "      <th>unique</th>\n",
       "      <td>103</td>\n",
       "      <td>10</td>\n",
       "      <td>98</td>\n",
       "    </tr>\n",
       "    <tr>\n",
       "      <th>top</th>\n",
       "      <td>M1L</td>\n",
       "      <td>North York</td>\n",
       "      <td>Downsview</td>\n",
       "    </tr>\n",
       "    <tr>\n",
       "      <th>freq</th>\n",
       "      <td>1</td>\n",
       "      <td>24</td>\n",
       "      <td>4</td>\n",
       "    </tr>\n",
       "  </tbody>\n",
       "</table>\n",
       "</div>"
      ],
      "text/plain": [
       "       Postal Code     Borough Neighborhood\n",
       "count          103         103          103\n",
       "unique         103          10           98\n",
       "top            M1L  North York    Downsview\n",
       "freq             1          24            4"
      ]
     },
     "execution_count": 176,
     "metadata": {},
     "output_type": "execute_result"
    }
   ],
   "source": [
    "df.describe()"
   ]
  },
  {
   "cell_type": "code",
   "execution_count": 177,
   "metadata": {},
   "outputs": [
    {
     "data": {
      "text/html": [
       "<div>\n",
       "<style scoped>\n",
       "    .dataframe tbody tr th:only-of-type {\n",
       "        vertical-align: middle;\n",
       "    }\n",
       "\n",
       "    .dataframe tbody tr th {\n",
       "        vertical-align: top;\n",
       "    }\n",
       "\n",
       "    .dataframe thead th {\n",
       "        text-align: right;\n",
       "    }\n",
       "</style>\n",
       "<table border=\"1\" class=\"dataframe\">\n",
       "  <thead>\n",
       "    <tr style=\"text-align: right;\">\n",
       "      <th></th>\n",
       "      <th>Postal Code</th>\n",
       "      <th>Borough</th>\n",
       "      <th>Neighborhood</th>\n",
       "    </tr>\n",
       "  </thead>\n",
       "  <tbody>\n",
       "    <tr>\n",
       "      <th>2</th>\n",
       "      <td>M3A</td>\n",
       "      <td>North York</td>\n",
       "      <td>Parkwoods</td>\n",
       "    </tr>\n",
       "    <tr>\n",
       "      <th>3</th>\n",
       "      <td>M4A</td>\n",
       "      <td>North York</td>\n",
       "      <td>Victoria Village</td>\n",
       "    </tr>\n",
       "    <tr>\n",
       "      <th>4</th>\n",
       "      <td>M5A</td>\n",
       "      <td>Downtown Toronto</td>\n",
       "      <td>Regent Park, Harbourfront</td>\n",
       "    </tr>\n",
       "    <tr>\n",
       "      <th>5</th>\n",
       "      <td>M6A</td>\n",
       "      <td>North York</td>\n",
       "      <td>Lawrence Manor, Lawrence Heights</td>\n",
       "    </tr>\n",
       "    <tr>\n",
       "      <th>6</th>\n",
       "      <td>M7A</td>\n",
       "      <td>Downtown Toronto</td>\n",
       "      <td>Queen's Park, Ontario Provincial Government</td>\n",
       "    </tr>\n",
       "  </tbody>\n",
       "</table>\n",
       "</div>"
      ],
      "text/plain": [
       "  Postal Code           Borough                                 Neighborhood\n",
       "2         M3A        North York                                    Parkwoods\n",
       "3         M4A        North York                             Victoria Village\n",
       "4         M5A  Downtown Toronto                    Regent Park, Harbourfront\n",
       "5         M6A        North York             Lawrence Manor, Lawrence Heights\n",
       "6         M7A  Downtown Toronto  Queen's Park, Ontario Provincial Government"
      ]
     },
     "execution_count": 177,
     "metadata": {},
     "output_type": "execute_result"
    }
   ],
   "source": [
    "df.head()"
   ]
  },
  {
   "cell_type": "code",
   "execution_count": 178,
   "metadata": {},
   "outputs": [],
   "source": [
    "df_coordinates = pd.read_csv('Geospatial_Coordinates.csv')"
   ]
  },
  {
   "cell_type": "code",
   "execution_count": 179,
   "metadata": {},
   "outputs": [
    {
     "data": {
      "text/html": [
       "<div>\n",
       "<style scoped>\n",
       "    .dataframe tbody tr th:only-of-type {\n",
       "        vertical-align: middle;\n",
       "    }\n",
       "\n",
       "    .dataframe tbody tr th {\n",
       "        vertical-align: top;\n",
       "    }\n",
       "\n",
       "    .dataframe thead th {\n",
       "        text-align: right;\n",
       "    }\n",
       "</style>\n",
       "<table border=\"1\" class=\"dataframe\">\n",
       "  <thead>\n",
       "    <tr style=\"text-align: right;\">\n",
       "      <th></th>\n",
       "      <th>Postal Code</th>\n",
       "      <th>Latitude</th>\n",
       "      <th>Longitude</th>\n",
       "    </tr>\n",
       "  </thead>\n",
       "  <tbody>\n",
       "    <tr>\n",
       "      <th>0</th>\n",
       "      <td>M1B</td>\n",
       "      <td>43.806686</td>\n",
       "      <td>-79.194353</td>\n",
       "    </tr>\n",
       "    <tr>\n",
       "      <th>1</th>\n",
       "      <td>M1C</td>\n",
       "      <td>43.784535</td>\n",
       "      <td>-79.160497</td>\n",
       "    </tr>\n",
       "    <tr>\n",
       "      <th>2</th>\n",
       "      <td>M1E</td>\n",
       "      <td>43.763573</td>\n",
       "      <td>-79.188711</td>\n",
       "    </tr>\n",
       "    <tr>\n",
       "      <th>3</th>\n",
       "      <td>M1G</td>\n",
       "      <td>43.770992</td>\n",
       "      <td>-79.216917</td>\n",
       "    </tr>\n",
       "    <tr>\n",
       "      <th>4</th>\n",
       "      <td>M1H</td>\n",
       "      <td>43.773136</td>\n",
       "      <td>-79.239476</td>\n",
       "    </tr>\n",
       "  </tbody>\n",
       "</table>\n",
       "</div>"
      ],
      "text/plain": [
       "  Postal Code   Latitude  Longitude\n",
       "0         M1B  43.806686 -79.194353\n",
       "1         M1C  43.784535 -79.160497\n",
       "2         M1E  43.763573 -79.188711\n",
       "3         M1G  43.770992 -79.216917\n",
       "4         M1H  43.773136 -79.239476"
      ]
     },
     "execution_count": 179,
     "metadata": {},
     "output_type": "execute_result"
    }
   ],
   "source": [
    "df_coordinates.head()"
   ]
  },
  {
   "cell_type": "code",
   "execution_count": 180,
   "metadata": {},
   "outputs": [
    {
     "data": {
      "text/html": [
       "<div>\n",
       "<style scoped>\n",
       "    .dataframe tbody tr th:only-of-type {\n",
       "        vertical-align: middle;\n",
       "    }\n",
       "\n",
       "    .dataframe tbody tr th {\n",
       "        vertical-align: top;\n",
       "    }\n",
       "\n",
       "    .dataframe thead th {\n",
       "        text-align: right;\n",
       "    }\n",
       "</style>\n",
       "<table border=\"1\" class=\"dataframe\">\n",
       "  <thead>\n",
       "    <tr style=\"text-align: right;\">\n",
       "      <th></th>\n",
       "      <th>Latitude</th>\n",
       "      <th>Longitude</th>\n",
       "    </tr>\n",
       "  </thead>\n",
       "  <tbody>\n",
       "    <tr>\n",
       "      <th>count</th>\n",
       "      <td>103.000000</td>\n",
       "      <td>103.000000</td>\n",
       "    </tr>\n",
       "    <tr>\n",
       "      <th>mean</th>\n",
       "      <td>43.704608</td>\n",
       "      <td>-79.397153</td>\n",
       "    </tr>\n",
       "    <tr>\n",
       "      <th>std</th>\n",
       "      <td>0.052463</td>\n",
       "      <td>0.097146</td>\n",
       "    </tr>\n",
       "    <tr>\n",
       "      <th>min</th>\n",
       "      <td>43.602414</td>\n",
       "      <td>-79.615819</td>\n",
       "    </tr>\n",
       "    <tr>\n",
       "      <th>25%</th>\n",
       "      <td>43.660567</td>\n",
       "      <td>-79.464763</td>\n",
       "    </tr>\n",
       "    <tr>\n",
       "      <th>50%</th>\n",
       "      <td>43.696948</td>\n",
       "      <td>-79.388790</td>\n",
       "    </tr>\n",
       "    <tr>\n",
       "      <th>75%</th>\n",
       "      <td>43.745320</td>\n",
       "      <td>-79.340923</td>\n",
       "    </tr>\n",
       "    <tr>\n",
       "      <th>max</th>\n",
       "      <td>43.836125</td>\n",
       "      <td>-79.160497</td>\n",
       "    </tr>\n",
       "  </tbody>\n",
       "</table>\n",
       "</div>"
      ],
      "text/plain": [
       "         Latitude   Longitude\n",
       "count  103.000000  103.000000\n",
       "mean    43.704608  -79.397153\n",
       "std      0.052463    0.097146\n",
       "min     43.602414  -79.615819\n",
       "25%     43.660567  -79.464763\n",
       "50%     43.696948  -79.388790\n",
       "75%     43.745320  -79.340923\n",
       "max     43.836125  -79.160497"
      ]
     },
     "execution_count": 180,
     "metadata": {},
     "output_type": "execute_result"
    }
   ],
   "source": [
    "df_coordinates.describe()"
   ]
  },
  {
   "cell_type": "code",
   "execution_count": 181,
   "metadata": {},
   "outputs": [],
   "source": [
    "df = df.merge(df_coordinates)\n",
    "# TODO: use geolocator = Nominatim(user_agent=\"ny_explorer\") to get coordinated of Neigborhoods"
   ]
  },
  {
   "cell_type": "code",
   "execution_count": 184,
   "metadata": {},
   "outputs": [
    {
     "data": {
      "text/html": [
       "<div>\n",
       "<style scoped>\n",
       "    .dataframe tbody tr th:only-of-type {\n",
       "        vertical-align: middle;\n",
       "    }\n",
       "\n",
       "    .dataframe tbody tr th {\n",
       "        vertical-align: top;\n",
       "    }\n",
       "\n",
       "    .dataframe thead th {\n",
       "        text-align: right;\n",
       "    }\n",
       "</style>\n",
       "<table border=\"1\" class=\"dataframe\">\n",
       "  <thead>\n",
       "    <tr style=\"text-align: right;\">\n",
       "      <th></th>\n",
       "      <th>Postal Code</th>\n",
       "      <th>Borough</th>\n",
       "      <th>Neighborhood</th>\n",
       "      <th>Latitude</th>\n",
       "      <th>Longitude</th>\n",
       "    </tr>\n",
       "  </thead>\n",
       "  <tbody>\n",
       "    <tr>\n",
       "      <th>0</th>\n",
       "      <td>M3A</td>\n",
       "      <td>North York</td>\n",
       "      <td>Parkwoods</td>\n",
       "      <td>43.753259</td>\n",
       "      <td>-79.329656</td>\n",
       "    </tr>\n",
       "    <tr>\n",
       "      <th>1</th>\n",
       "      <td>M4A</td>\n",
       "      <td>North York</td>\n",
       "      <td>Victoria Village</td>\n",
       "      <td>43.725882</td>\n",
       "      <td>-79.315572</td>\n",
       "    </tr>\n",
       "    <tr>\n",
       "      <th>2</th>\n",
       "      <td>M5A</td>\n",
       "      <td>Downtown Toronto</td>\n",
       "      <td>Regent Park, Harbourfront</td>\n",
       "      <td>43.654260</td>\n",
       "      <td>-79.360636</td>\n",
       "    </tr>\n",
       "    <tr>\n",
       "      <th>3</th>\n",
       "      <td>M6A</td>\n",
       "      <td>North York</td>\n",
       "      <td>Lawrence Manor, Lawrence Heights</td>\n",
       "      <td>43.718518</td>\n",
       "      <td>-79.464763</td>\n",
       "    </tr>\n",
       "    <tr>\n",
       "      <th>4</th>\n",
       "      <td>M7A</td>\n",
       "      <td>Downtown Toronto</td>\n",
       "      <td>Queen's Park, Ontario Provincial Government</td>\n",
       "      <td>43.662301</td>\n",
       "      <td>-79.389494</td>\n",
       "    </tr>\n",
       "    <tr>\n",
       "      <th>5</th>\n",
       "      <td>M9A</td>\n",
       "      <td>Etobicoke</td>\n",
       "      <td>Islington Avenue</td>\n",
       "      <td>43.667856</td>\n",
       "      <td>-79.532242</td>\n",
       "    </tr>\n",
       "    <tr>\n",
       "      <th>6</th>\n",
       "      <td>M1B</td>\n",
       "      <td>Scarborough</td>\n",
       "      <td>Malvern, Rouge</td>\n",
       "      <td>43.806686</td>\n",
       "      <td>-79.194353</td>\n",
       "    </tr>\n",
       "    <tr>\n",
       "      <th>7</th>\n",
       "      <td>M3B</td>\n",
       "      <td>North York</td>\n",
       "      <td>Don Mills</td>\n",
       "      <td>43.745906</td>\n",
       "      <td>-79.352188</td>\n",
       "    </tr>\n",
       "    <tr>\n",
       "      <th>8</th>\n",
       "      <td>M4B</td>\n",
       "      <td>East York</td>\n",
       "      <td>Parkview Hill, Woodbine Gardens</td>\n",
       "      <td>43.706397</td>\n",
       "      <td>-79.309937</td>\n",
       "    </tr>\n",
       "    <tr>\n",
       "      <th>9</th>\n",
       "      <td>M5B</td>\n",
       "      <td>Downtown Toronto</td>\n",
       "      <td>Garden District, Ryerson</td>\n",
       "      <td>43.657162</td>\n",
       "      <td>-79.378937</td>\n",
       "    </tr>\n",
       "    <tr>\n",
       "      <th>10</th>\n",
       "      <td>M6B</td>\n",
       "      <td>North York</td>\n",
       "      <td>Glencairn</td>\n",
       "      <td>43.709577</td>\n",
       "      <td>-79.445073</td>\n",
       "    </tr>\n",
       "    <tr>\n",
       "      <th>11</th>\n",
       "      <td>M9B</td>\n",
       "      <td>Etobicoke</td>\n",
       "      <td>West Deane Park, Princess Gardens, Martin Grov...</td>\n",
       "      <td>43.650943</td>\n",
       "      <td>-79.554724</td>\n",
       "    </tr>\n",
       "  </tbody>\n",
       "</table>\n",
       "</div>"
      ],
      "text/plain": [
       "   Postal Code           Borough  \\\n",
       "0          M3A        North York   \n",
       "1          M4A        North York   \n",
       "2          M5A  Downtown Toronto   \n",
       "3          M6A        North York   \n",
       "4          M7A  Downtown Toronto   \n",
       "5          M9A         Etobicoke   \n",
       "6          M1B       Scarborough   \n",
       "7          M3B        North York   \n",
       "8          M4B         East York   \n",
       "9          M5B  Downtown Toronto   \n",
       "10         M6B        North York   \n",
       "11         M9B         Etobicoke   \n",
       "\n",
       "                                         Neighborhood   Latitude  Longitude  \n",
       "0                                           Parkwoods  43.753259 -79.329656  \n",
       "1                                    Victoria Village  43.725882 -79.315572  \n",
       "2                           Regent Park, Harbourfront  43.654260 -79.360636  \n",
       "3                    Lawrence Manor, Lawrence Heights  43.718518 -79.464763  \n",
       "4         Queen's Park, Ontario Provincial Government  43.662301 -79.389494  \n",
       "5                                    Islington Avenue  43.667856 -79.532242  \n",
       "6                                      Malvern, Rouge  43.806686 -79.194353  \n",
       "7                                           Don Mills  43.745906 -79.352188  \n",
       "8                     Parkview Hill, Woodbine Gardens  43.706397 -79.309937  \n",
       "9                            Garden District, Ryerson  43.657162 -79.378937  \n",
       "10                                          Glencairn  43.709577 -79.445073  \n",
       "11  West Deane Park, Princess Gardens, Martin Grov...  43.650943 -79.554724  "
      ]
     },
     "execution_count": 184,
     "metadata": {},
     "output_type": "execute_result"
    }
   ],
   "source": [
    "df.head(12)"
   ]
  },
  {
   "cell_type": "markdown",
   "metadata": {},
   "source": [
    "# Part 3: exploring and clustering "
   ]
  },
  {
   "cell_type": "code",
   "execution_count": 186,
   "metadata": {},
   "outputs": [
    {
     "name": "stdout",
     "output_type": "stream",
     "text": [
      "The dataframe has 10 boroughs and 103 neighborhoods.\n"
     ]
    }
   ],
   "source": [
    "print('The dataframe has {} boroughs and {} neighborhoods.'.format(len(df['Borough'].unique()), df.shape[0]))"
   ]
  },
  {
   "cell_type": "code",
   "execution_count": 187,
   "metadata": {},
   "outputs": [],
   "source": [
    "#!conda install -c conda-forge folium=0.5.0 --yes # uncomment this line if you haven't completed the Foursquare API lab\n",
    "import folium # map rendering library"
   ]
  },
  {
   "cell_type": "code",
   "execution_count": 203,
   "metadata": {},
   "outputs": [],
   "source": [
    "# create map of Toronto using latitude and longitude values - starting coordinates 43.6532° N, 79.3832° W\n",
    "map_Toronto = folium.Map(location=[43.6532, -79.3832], zoom_start=10)\n",
    "\n",
    "# add markers to map\n",
    "for lat, lng, borough, neighborhood in zip(df['Latitude'], df['Longitude'], df['Borough'], df['Neighborhood']):\n",
    "    label = 'Neighborhoods: {} mapped to borough: {}'.format(neighborhood, borough)\n",
    "    label = folium.Popup(label, parse_html=True)\n",
    "    folium.CircleMarker(\n",
    "        [lat, lng],\n",
    "        radius=5,\n",
    "        popup=label,\n",
    "        color='blue',\n",
    "        fill=True,\n",
    "        fill_color='#3186cc',\n",
    "        fill_opacity=0.7,\n",
    "        parse_html=False).add_to(map_Toronto)  \n",
    "    \n",
    "#map_newyork"
   ]
  },
  {
   "cell_type": "code",
   "execution_count": 204,
   "metadata": {},
   "outputs": [
    {
     "data": {
      "text/html": [
       "<div style=\"width:100%;\"><div style=\"position:relative;width:100%;height:0;padding-bottom:60%;\"><iframe src=\"about:blank\" style=\"position:absolute;width:100%;height:100%;left:0;top:0;border:none !important;\" data-html=PCFET0NUWVBFIGh0bWw+CjxoZWFkPiAgICAKICAgIDxtZXRhIGh0dHAtZXF1aXY9ImNvbnRlbnQtdHlwZSIgY29udGVudD0idGV4dC9odG1sOyBjaGFyc2V0PVVURi04IiAvPgogICAgPHNjcmlwdD5MX1BSRUZFUl9DQU5WQVMgPSBmYWxzZTsgTF9OT19UT1VDSCA9IGZhbHNlOyBMX0RJU0FCTEVfM0QgPSBmYWxzZTs8L3NjcmlwdD4KICAgIDxzY3JpcHQgc3JjPSJodHRwczovL2Nkbi5qc2RlbGl2ci5uZXQvbnBtL2xlYWZsZXRAMS4yLjAvZGlzdC9sZWFmbGV0LmpzIj48L3NjcmlwdD4KICAgIDxzY3JpcHQgc3JjPSJodHRwczovL2FqYXguZ29vZ2xlYXBpcy5jb20vYWpheC9saWJzL2pxdWVyeS8xLjExLjEvanF1ZXJ5Lm1pbi5qcyI+PC9zY3JpcHQ+CiAgICA8c2NyaXB0IHNyYz0iaHR0cHM6Ly9tYXhjZG4uYm9vdHN0cmFwY2RuLmNvbS9ib290c3RyYXAvMy4yLjAvanMvYm9vdHN0cmFwLm1pbi5qcyI+PC9zY3JpcHQ+CiAgICA8c2NyaXB0IHNyYz0iaHR0cHM6Ly9jZG5qcy5jbG91ZGZsYXJlLmNvbS9hamF4L2xpYnMvTGVhZmxldC5hd2Vzb21lLW1hcmtlcnMvMi4wLjIvbGVhZmxldC5hd2Vzb21lLW1hcmtlcnMuanMiPjwvc2NyaXB0PgogICAgPGxpbmsgcmVsPSJzdHlsZXNoZWV0IiBocmVmPSJodHRwczovL2Nkbi5qc2RlbGl2ci5uZXQvbnBtL2xlYWZsZXRAMS4yLjAvZGlzdC9sZWFmbGV0LmNzcyIvPgogICAgPGxpbmsgcmVsPSJzdHlsZXNoZWV0IiBocmVmPSJodHRwczovL21heGNkbi5ib290c3RyYXBjZG4uY29tL2Jvb3RzdHJhcC8zLjIuMC9jc3MvYm9vdHN0cmFwLm1pbi5jc3MiLz4KICAgIDxsaW5rIHJlbD0ic3R5bGVzaGVldCIgaHJlZj0iaHR0cHM6Ly9tYXhjZG4uYm9vdHN0cmFwY2RuLmNvbS9ib290c3RyYXAvMy4yLjAvY3NzL2Jvb3RzdHJhcC10aGVtZS5taW4uY3NzIi8+CiAgICA8bGluayByZWw9InN0eWxlc2hlZXQiIGhyZWY9Imh0dHBzOi8vbWF4Y2RuLmJvb3RzdHJhcGNkbi5jb20vZm9udC1hd2Vzb21lLzQuNi4zL2Nzcy9mb250LWF3ZXNvbWUubWluLmNzcyIvPgogICAgPGxpbmsgcmVsPSJzdHlsZXNoZWV0IiBocmVmPSJodHRwczovL2NkbmpzLmNsb3VkZmxhcmUuY29tL2FqYXgvbGlicy9MZWFmbGV0LmF3ZXNvbWUtbWFya2Vycy8yLjAuMi9sZWFmbGV0LmF3ZXNvbWUtbWFya2Vycy5jc3MiLz4KICAgIDxsaW5rIHJlbD0ic3R5bGVzaGVldCIgaHJlZj0iaHR0cHM6Ly9yYXdnaXQuY29tL3B5dGhvbi12aXN1YWxpemF0aW9uL2ZvbGl1bS9tYXN0ZXIvZm9saXVtL3RlbXBsYXRlcy9sZWFmbGV0LmF3ZXNvbWUucm90YXRlLmNzcyIvPgogICAgPHN0eWxlPmh0bWwsIGJvZHkge3dpZHRoOiAxMDAlO2hlaWdodDogMTAwJTttYXJnaW46IDA7cGFkZGluZzogMDt9PC9zdHlsZT4KICAgIDxzdHlsZT4jbWFwIHtwb3NpdGlvbjphYnNvbHV0ZTt0b3A6MDtib3R0b206MDtyaWdodDowO2xlZnQ6MDt9PC9zdHlsZT4KICAgIAogICAgICAgICAgICA8c3R5bGU+ICNtYXBfNDk0ZTQ3NWZmZWZkNDJhMWEzMDZlNTliYWYyZTQ5ZWEgewogICAgICAgICAgICAgICAgcG9zaXRpb24gOiByZWxhdGl2ZTsKICAgICAgICAgICAgICAgIHdpZHRoIDogMTAwLjAlOwogICAgICAgICAgICAgICAgaGVpZ2h0OiAxMDAuMCU7CiAgICAgICAgICAgICAgICBsZWZ0OiAwLjAlOwogICAgICAgICAgICAgICAgdG9wOiAwLjAlOwogICAgICAgICAgICAgICAgfQogICAgICAgICAgICA8L3N0eWxlPgogICAgICAgIAo8L2hlYWQ+Cjxib2R5PiAgICAKICAgIAogICAgICAgICAgICA8ZGl2IGNsYXNzPSJmb2xpdW0tbWFwIiBpZD0ibWFwXzQ5NGU0NzVmZmVmZDQyYTFhMzA2ZTU5YmFmMmU0OWVhIiA+PC9kaXY+CiAgICAgICAgCjwvYm9keT4KPHNjcmlwdD4gICAgCiAgICAKCiAgICAgICAgICAgIAogICAgICAgICAgICAgICAgdmFyIGJvdW5kcyA9IG51bGw7CiAgICAgICAgICAgIAoKICAgICAgICAgICAgdmFyIG1hcF80OTRlNDc1ZmZlZmQ0MmExYTMwNmU1OWJhZjJlNDllYSA9IEwubWFwKAogICAgICAgICAgICAgICAgICAgICAgICAgICAgICAgICAgJ21hcF80OTRlNDc1ZmZlZmQ0MmExYTMwNmU1OWJhZjJlNDllYScsCiAgICAgICAgICAgICAgICAgICAgICAgICAgICAgICAgICB7Y2VudGVyOiBbNDMuNjUzMiwtNzkuMzgzMl0sCiAgICAgICAgICAgICAgICAgICAgICAgICAgICAgICAgICB6b29tOiAxMCwKICAgICAgICAgICAgICAgICAgICAgICAgICAgICAgICAgIG1heEJvdW5kczogYm91bmRzLAogICAgICAgICAgICAgICAgICAgICAgICAgICAgICAgICAgbGF5ZXJzOiBbXSwKICAgICAgICAgICAgICAgICAgICAgICAgICAgICAgICAgIHdvcmxkQ29weUp1bXA6IGZhbHNlLAogICAgICAgICAgICAgICAgICAgICAgICAgICAgICAgICAgY3JzOiBMLkNSUy5FUFNHMzg1NwogICAgICAgICAgICAgICAgICAgICAgICAgICAgICAgICB9KTsKICAgICAgICAgICAgCiAgICAgICAgCiAgICAKICAgICAgICAgICAgdmFyIHRpbGVfbGF5ZXJfYTRlZDk1OTcwOTc0NDNjYjhlNDNhYjdjOWZlYzI2OGYgPSBMLnRpbGVMYXllcigKICAgICAgICAgICAgICAgICdodHRwczovL3tzfS50aWxlLm9wZW5zdHJlZXRtYXAub3JnL3t6fS97eH0ve3l9LnBuZycsCiAgICAgICAgICAgICAgICB7CiAgImF0dHJpYnV0aW9uIjogbnVsbCwKICAiZGV0ZWN0UmV0aW5hIjogZmFsc2UsCiAgIm1heFpvb20iOiAxOCwKICAibWluWm9vbSI6IDEsCiAgIm5vV3JhcCI6IGZhbHNlLAogICJzdWJkb21haW5zIjogImFiYyIKfQogICAgICAgICAgICAgICAgKS5hZGRUbyhtYXBfNDk0ZTQ3NWZmZWZkNDJhMWEzMDZlNTliYWYyZTQ5ZWEpOwogICAgICAgIAogICAgCiAgICAgICAgICAgIHZhciBjaXJjbGVfbWFya2VyX2E5OWZhMzc3NmMyZDQzYjk5ZTFlYzdmNTJlYzUyNDRkID0gTC5jaXJjbGVNYXJrZXIoCiAgICAgICAgICAgICAgICBbNDMuNzUzMjU4NiwtNzkuMzI5NjU2NV0sCiAgICAgICAgICAgICAgICB7CiAgImJ1YmJsaW5nTW91c2VFdmVudHMiOiB0cnVlLAogICJjb2xvciI6ICJibHVlIiwKICAiZGFzaEFycmF5IjogbnVsbCwKICAiZGFzaE9mZnNldCI6IG51bGwsCiAgImZpbGwiOiB0cnVlLAogICJmaWxsQ29sb3IiOiAiIzMxODZjYyIsCiAgImZpbGxPcGFjaXR5IjogMC43LAogICJmaWxsUnVsZSI6ICJldmVub2RkIiwKICAibGluZUNhcCI6ICJyb3VuZCIsCiAgImxpbmVKb2luIjogInJvdW5kIiwKICAib3BhY2l0eSI6IDEuMCwKICAicmFkaXVzIjogNSwKICAic3Ryb2tlIjogdHJ1ZSwKICAid2VpZ2h0IjogMwp9CiAgICAgICAgICAgICAgICApLmFkZFRvKG1hcF80OTRlNDc1ZmZlZmQ0MmExYTMwNmU1OWJhZjJlNDllYSk7CiAgICAgICAgICAgIAogICAgCiAgICAgICAgICAgIHZhciBwb3B1cF8xNzljNmYwY2YyNDQ0MjYzOWNjY2Q3NzU1ZTVlMmMwNCA9IEwucG9wdXAoe21heFdpZHRoOiAnMzAwJ30pOwoKICAgICAgICAgICAgCiAgICAgICAgICAgICAgICB2YXIgaHRtbF83NWMzODU5MGNlODE0NjMzODQ0ODYzMzdmNGQ3NjQyMyA9ICQoJzxkaXYgaWQ9Imh0bWxfNzVjMzg1OTBjZTgxNDYzMzg0NDg2MzM3ZjRkNzY0MjMiIHN0eWxlPSJ3aWR0aDogMTAwLjAlOyBoZWlnaHQ6IDEwMC4wJTsiPk5laWdoYm9yaG9vZHM6IFBhcmt3b29kcyBtYXBwZWQgdG8gYm9yb3VnaDogTm9ydGggWW9yazwvZGl2PicpWzBdOwogICAgICAgICAgICAgICAgcG9wdXBfMTc5YzZmMGNmMjQ0NDI2MzljY2NkNzc1NWU1ZTJjMDQuc2V0Q29udGVudChodG1sXzc1YzM4NTkwY2U4MTQ2MzM4NDQ4NjMzN2Y0ZDc2NDIzKTsKICAgICAgICAgICAgCgogICAgICAgICAgICBjaXJjbGVfbWFya2VyX2E5OWZhMzc3NmMyZDQzYjk5ZTFlYzdmNTJlYzUyNDRkLmJpbmRQb3B1cChwb3B1cF8xNzljNmYwY2YyNDQ0MjYzOWNjY2Q3NzU1ZTVlMmMwNCk7CgogICAgICAgICAgICAKICAgICAgICAKICAgIAogICAgICAgICAgICB2YXIgY2lyY2xlX21hcmtlcl9iMmNjZWIzMWE0MzE0YjgzYWU1ZTYwODg5Zjg5YzA0NCA9IEwuY2lyY2xlTWFya2VyKAogICAgICAgICAgICAgICAgWzQzLjcyNTg4MjI5OTk5OTk5NSwtNzkuMzE1NTcxNTk5OTk5OThdLAogICAgICAgICAgICAgICAgewogICJidWJibGluZ01vdXNlRXZlbnRzIjogdHJ1ZSwKICAiY29sb3IiOiAiYmx1ZSIsCiAgImRhc2hBcnJheSI6IG51bGwsCiAgImRhc2hPZmZzZXQiOiBudWxsLAogICJmaWxsIjogdHJ1ZSwKICAiZmlsbENvbG9yIjogIiMzMTg2Y2MiLAogICJmaWxsT3BhY2l0eSI6IDAuNywKICAiZmlsbFJ1bGUiOiAiZXZlbm9kZCIsCiAgImxpbmVDYXAiOiAicm91bmQiLAogICJsaW5lSm9pbiI6ICJyb3VuZCIsCiAgIm9wYWNpdHkiOiAxLjAsCiAgInJhZGl1cyI6IDUsCiAgInN0cm9rZSI6IHRydWUsCiAgIndlaWdodCI6IDMKfQogICAgICAgICAgICAgICAgKS5hZGRUbyhtYXBfNDk0ZTQ3NWZmZWZkNDJhMWEzMDZlNTliYWYyZTQ5ZWEpOwogICAgICAgICAgICAKICAgIAogICAgICAgICAgICB2YXIgcG9wdXBfMGVmNzEwNWNlNDYyNGE0MDgxYmYxNDc3NmJkNjRiMDcgPSBMLnBvcHVwKHttYXhXaWR0aDogJzMwMCd9KTsKCiAgICAgICAgICAgIAogICAgICAgICAgICAgICAgdmFyIGh0bWxfNWUxMjkyMmE5MTBlNDc3YmI3MGJmN2YzMTIwMTc1NTggPSAkKCc8ZGl2IGlkPSJodG1sXzVlMTI5MjJhOTEwZTQ3N2JiNzBiZjdmMzEyMDE3NTU4IiBzdHlsZT0id2lkdGg6IDEwMC4wJTsgaGVpZ2h0OiAxMDAuMCU7Ij5OZWlnaGJvcmhvb2RzOiBWaWN0b3JpYSBWaWxsYWdlIG1hcHBlZCB0byBib3JvdWdoOiBOb3J0aCBZb3JrPC9kaXY+JylbMF07CiAgICAgICAgICAgICAgICBwb3B1cF8wZWY3MTA1Y2U0NjI0YTQwODFiZjE0Nzc2YmQ2NGIwNy5zZXRDb250ZW50KGh0bWxfNWUxMjkyMmE5MTBlNDc3YmI3MGJmN2YzMTIwMTc1NTgpOwogICAgICAgICAgICAKCiAgICAgICAgICAgIGNpcmNsZV9tYXJrZXJfYjJjY2ViMzFhNDMxNGI4M2FlNWU2MDg4OWY4OWMwNDQuYmluZFBvcHVwKHBvcHVwXzBlZjcxMDVjZTQ2MjRhNDA4MWJmMTQ3NzZiZDY0YjA3KTsKCiAgICAgICAgICAgIAogICAgICAgIAogICAgCiAgICAgICAgICAgIHZhciBjaXJjbGVfbWFya2VyXzZiNDRmYTYwMmZiZTQ1Nzk5NmU3NTg1ZGE1NThjYzBmID0gTC5jaXJjbGVNYXJrZXIoCiAgICAgICAgICAgICAgICBbNDMuNjU0MjU5OSwtNzkuMzYwNjM1OV0sCiAgICAgICAgICAgICAgICB7CiAgImJ1YmJsaW5nTW91c2VFdmVudHMiOiB0cnVlLAogICJjb2xvciI6ICJibHVlIiwKICAiZGFzaEFycmF5IjogbnVsbCwKICAiZGFzaE9mZnNldCI6IG51bGwsCiAgImZpbGwiOiB0cnVlLAogICJmaWxsQ29sb3IiOiAiIzMxODZjYyIsCiAgImZpbGxPcGFjaXR5IjogMC43LAogICJmaWxsUnVsZSI6ICJldmVub2RkIiwKICAibGluZUNhcCI6ICJyb3VuZCIsCiAgImxpbmVKb2luIjogInJvdW5kIiwKICAib3BhY2l0eSI6IDEuMCwKICAicmFkaXVzIjogNSwKICAic3Ryb2tlIjogdHJ1ZSwKICAid2VpZ2h0IjogMwp9CiAgICAgICAgICAgICAgICApLmFkZFRvKG1hcF80OTRlNDc1ZmZlZmQ0MmExYTMwNmU1OWJhZjJlNDllYSk7CiAgICAgICAgICAgIAogICAgCiAgICAgICAgICAgIHZhciBwb3B1cF9hNmU5YmRmYzYyMGM0YWU4OGIyNmZmNjZkZWE4NTg1NCA9IEwucG9wdXAoe21heFdpZHRoOiAnMzAwJ30pOwoKICAgICAgICAgICAgCiAgICAgICAgICAgICAgICB2YXIgaHRtbF8yNGVmOTQyYTVkOTg0NTJiYTBkOTViODA3MjQ4NmU3YSA9ICQoJzxkaXYgaWQ9Imh0bWxfMjRlZjk0MmE1ZDk4NDUyYmEwZDk1YjgwNzI0ODZlN2EiIHN0eWxlPSJ3aWR0aDogMTAwLjAlOyBoZWlnaHQ6IDEwMC4wJTsiPk5laWdoYm9yaG9vZHM6IFJlZ2VudCBQYXJrLCBIYXJib3VyZnJvbnQgbWFwcGVkIHRvIGJvcm91Z2g6IERvd250b3duIFRvcm9udG88L2Rpdj4nKVswXTsKICAgICAgICAgICAgICAgIHBvcHVwX2E2ZTliZGZjNjIwYzRhZTg4YjI2ZmY2NmRlYTg1ODU0LnNldENvbnRlbnQoaHRtbF8yNGVmOTQyYTVkOTg0NTJiYTBkOTViODA3MjQ4NmU3YSk7CiAgICAgICAgICAgIAoKICAgICAgICAgICAgY2lyY2xlX21hcmtlcl82YjQ0ZmE2MDJmYmU0NTc5OTZlNzU4NWRhNTU4Y2MwZi5iaW5kUG9wdXAocG9wdXBfYTZlOWJkZmM2MjBjNGFlODhiMjZmZjY2ZGVhODU4NTQpOwoKICAgICAgICAgICAgCiAgICAgICAgCiAgICAKICAgICAgICAgICAgdmFyIGNpcmNsZV9tYXJrZXJfYzhlZjBhZDc5Njg0NDNjZDk1NzM4OTNiYTAzMTY5ZGQgPSBMLmNpcmNsZU1hcmtlcigKICAgICAgICAgICAgICAgIFs0My43MTg1MTc5OTk5OTk5OTYsLTc5LjQ2NDc2MzI5OTk5OTk5XSwKICAgICAgICAgICAgICAgIHsKICAiYnViYmxpbmdNb3VzZUV2ZW50cyI6IHRydWUsCiAgImNvbG9yIjogImJsdWUiLAogICJkYXNoQXJyYXkiOiBudWxsLAogICJkYXNoT2Zmc2V0IjogbnVsbCwKICAiZmlsbCI6IHRydWUsCiAgImZpbGxDb2xvciI6ICIjMzE4NmNjIiwKICAiZmlsbE9wYWNpdHkiOiAwLjcsCiAgImZpbGxSdWxlIjogImV2ZW5vZGQiLAogICJsaW5lQ2FwIjogInJvdW5kIiwKICAibGluZUpvaW4iOiAicm91bmQiLAogICJvcGFjaXR5IjogMS4wLAogICJyYWRpdXMiOiA1LAogICJzdHJva2UiOiB0cnVlLAogICJ3ZWlnaHQiOiAzCn0KICAgICAgICAgICAgICAgICkuYWRkVG8obWFwXzQ5NGU0NzVmZmVmZDQyYTFhMzA2ZTU5YmFmMmU0OWVhKTsKICAgICAgICAgICAgCiAgICAKICAgICAgICAgICAgdmFyIHBvcHVwX2Y0NzkzNTkyOTg0MDQ4NDlhM2Q1OTEwOWM1MWVmYjQyID0gTC5wb3B1cCh7bWF4V2lkdGg6ICczMDAnfSk7CgogICAgICAgICAgICAKICAgICAgICAgICAgICAgIHZhciBodG1sXzhhYjVjODE5ODg1NTQ5NTI5OWNkZDBmYmQ1MDM1OTYyID0gJCgnPGRpdiBpZD0iaHRtbF84YWI1YzgxOTg4NTU0OTUyOTljZGQwZmJkNTAzNTk2MiIgc3R5bGU9IndpZHRoOiAxMDAuMCU7IGhlaWdodDogMTAwLjAlOyI+TmVpZ2hib3Job29kczogTGF3cmVuY2UgTWFub3IsIExhd3JlbmNlIEhlaWdodHMgbWFwcGVkIHRvIGJvcm91Z2g6IE5vcnRoIFlvcms8L2Rpdj4nKVswXTsKICAgICAgICAgICAgICAgIHBvcHVwX2Y0NzkzNTkyOTg0MDQ4NDlhM2Q1OTEwOWM1MWVmYjQyLnNldENvbnRlbnQoaHRtbF84YWI1YzgxOTg4NTU0OTUyOTljZGQwZmJkNTAzNTk2Mik7CiAgICAgICAgICAgIAoKICAgICAgICAgICAgY2lyY2xlX21hcmtlcl9jOGVmMGFkNzk2ODQ0M2NkOTU3Mzg5M2JhMDMxNjlkZC5iaW5kUG9wdXAocG9wdXBfZjQ3OTM1OTI5ODQwNDg0OWEzZDU5MTA5YzUxZWZiNDIpOwoKICAgICAgICAgICAgCiAgICAgICAgCiAgICAKICAgICAgICAgICAgdmFyIGNpcmNsZV9tYXJrZXJfZTFkMTY1ZGQzYWYwNDk4OGFkMzU5M2UzNGQ2ZjRmYTYgPSBMLmNpcmNsZU1hcmtlcigKICAgICAgICAgICAgICAgIFs0My42NjIzMDE1LC03OS4zODk0OTM4XSwKICAgICAgICAgICAgICAgIHsKICAiYnViYmxpbmdNb3VzZUV2ZW50cyI6IHRydWUsCiAgImNvbG9yIjogImJsdWUiLAogICJkYXNoQXJyYXkiOiBudWxsLAogICJkYXNoT2Zmc2V0IjogbnVsbCwKICAiZmlsbCI6IHRydWUsCiAgImZpbGxDb2xvciI6ICIjMzE4NmNjIiwKICAiZmlsbE9wYWNpdHkiOiAwLjcsCiAgImZpbGxSdWxlIjogImV2ZW5vZGQiLAogICJsaW5lQ2FwIjogInJvdW5kIiwKICAibGluZUpvaW4iOiAicm91bmQiLAogICJvcGFjaXR5IjogMS4wLAogICJyYWRpdXMiOiA1LAogICJzdHJva2UiOiB0cnVlLAogICJ3ZWlnaHQiOiAzCn0KICAgICAgICAgICAgICAgICkuYWRkVG8obWFwXzQ5NGU0NzVmZmVmZDQyYTFhMzA2ZTU5YmFmMmU0OWVhKTsKICAgICAgICAgICAgCiAgICAKICAgICAgICAgICAgdmFyIHBvcHVwXzk1OWU2NDdjMGNhODQxYWFiNWUzNGZjNmMyYzFkNjMxID0gTC5wb3B1cCh7bWF4V2lkdGg6ICczMDAnfSk7CgogICAgICAgICAgICAKICAgICAgICAgICAgICAgIHZhciBodG1sX2EyOTM4MGFiZjE3ZDRmZGI5NGY1ZGNhMmIwMGEwYjA4ID0gJCgnPGRpdiBpZD0iaHRtbF9hMjkzODBhYmYxN2Q0ZmRiOTRmNWRjYTJiMDBhMGIwOCIgc3R5bGU9IndpZHRoOiAxMDAuMCU7IGhlaWdodDogMTAwLjAlOyI+TmVpZ2hib3Job29kczogUXVlZW4mIzM5O3MgUGFyaywgT250YXJpbyBQcm92aW5jaWFsIEdvdmVybm1lbnQgbWFwcGVkIHRvIGJvcm91Z2g6IERvd250b3duIFRvcm9udG88L2Rpdj4nKVswXTsKICAgICAgICAgICAgICAgIHBvcHVwXzk1OWU2NDdjMGNhODQxYWFiNWUzNGZjNmMyYzFkNjMxLnNldENvbnRlbnQoaHRtbF9hMjkzODBhYmYxN2Q0ZmRiOTRmNWRjYTJiMDBhMGIwOCk7CiAgICAgICAgICAgIAoKICAgICAgICAgICAgY2lyY2xlX21hcmtlcl9lMWQxNjVkZDNhZjA0OTg4YWQzNTkzZTM0ZDZmNGZhNi5iaW5kUG9wdXAocG9wdXBfOTU5ZTY0N2MwY2E4NDFhYWI1ZTM0ZmM2YzJjMWQ2MzEpOwoKICAgICAgICAgICAgCiAgICAgICAgCiAgICAKICAgICAgICAgICAgdmFyIGNpcmNsZV9tYXJrZXJfOTU4NGZmOWExMWI4NDUzNmI2YzU0YTBkMDQzOTVkOTEgPSBMLmNpcmNsZU1hcmtlcigKICAgICAgICAgICAgICAgIFs0My42Njc4NTU2LC03OS41MzIyNDI0MDAwMDAwMl0sCiAgICAgICAgICAgICAgICB7CiAgImJ1YmJsaW5nTW91c2VFdmVudHMiOiB0cnVlLAogICJjb2xvciI6ICJibHVlIiwKICAiZGFzaEFycmF5IjogbnVsbCwKICAiZGFzaE9mZnNldCI6IG51bGwsCiAgImZpbGwiOiB0cnVlLAogICJmaWxsQ29sb3IiOiAiIzMxODZjYyIsCiAgImZpbGxPcGFjaXR5IjogMC43LAogICJmaWxsUnVsZSI6ICJldmVub2RkIiwKICAibGluZUNhcCI6ICJyb3VuZCIsCiAgImxpbmVKb2luIjogInJvdW5kIiwKICAib3BhY2l0eSI6IDEuMCwKICAicmFkaXVzIjogNSwKICAic3Ryb2tlIjogdHJ1ZSwKICAid2VpZ2h0IjogMwp9CiAgICAgICAgICAgICAgICApLmFkZFRvKG1hcF80OTRlNDc1ZmZlZmQ0MmExYTMwNmU1OWJhZjJlNDllYSk7CiAgICAgICAgICAgIAogICAgCiAgICAgICAgICAgIHZhciBwb3B1cF9hZDA5NTdhNzEwMDQ0ZGJlOTFiNjQ4ZDVmMmVlMjM1OCA9IEwucG9wdXAoe21heFdpZHRoOiAnMzAwJ30pOwoKICAgICAgICAgICAgCiAgICAgICAgICAgICAgICB2YXIgaHRtbF84ZjNlM2FmMDU1MzY0Nzg0YWIwNzcyZGEyY2Q2ODhhNiA9ICQoJzxkaXYgaWQ9Imh0bWxfOGYzZTNhZjA1NTM2NDc4NGFiMDc3MmRhMmNkNjg4YTYiIHN0eWxlPSJ3aWR0aDogMTAwLjAlOyBoZWlnaHQ6IDEwMC4wJTsiPk5laWdoYm9yaG9vZHM6IElzbGluZ3RvbiBBdmVudWUgbWFwcGVkIHRvIGJvcm91Z2g6IEV0b2JpY29rZTwvZGl2PicpWzBdOwogICAgICAgICAgICAgICAgcG9wdXBfYWQwOTU3YTcxMDA0NGRiZTkxYjY0OGQ1ZjJlZTIzNTguc2V0Q29udGVudChodG1sXzhmM2UzYWYwNTUzNjQ3ODRhYjA3NzJkYTJjZDY4OGE2KTsKICAgICAgICAgICAgCgogICAgICAgICAgICBjaXJjbGVfbWFya2VyXzk1ODRmZjlhMTFiODQ1MzZiNmM1NGEwZDA0Mzk1ZDkxLmJpbmRQb3B1cChwb3B1cF9hZDA5NTdhNzEwMDQ0ZGJlOTFiNjQ4ZDVmMmVlMjM1OCk7CgogICAgICAgICAgICAKICAgICAgICAKICAgIAogICAgICAgICAgICB2YXIgY2lyY2xlX21hcmtlcl84MGRlNjE0NjQ1NTc0YmRjOWJlZDQzMDFhNjQwZTM5NiA9IEwuY2lyY2xlTWFya2VyKAogICAgICAgICAgICAgICAgWzQzLjgwNjY4NjI5OTk5OTk5NiwtNzkuMTk0MzUzNDAwMDAwMDFdLAogICAgICAgICAgICAgICAgewogICJidWJibGluZ01vdXNlRXZlbnRzIjogdHJ1ZSwKICAiY29sb3IiOiAiYmx1ZSIsCiAgImRhc2hBcnJheSI6IG51bGwsCiAgImRhc2hPZmZzZXQiOiBudWxsLAogICJmaWxsIjogdHJ1ZSwKICAiZmlsbENvbG9yIjogIiMzMTg2Y2MiLAogICJmaWxsT3BhY2l0eSI6IDAuNywKICAiZmlsbFJ1bGUiOiAiZXZlbm9kZCIsCiAgImxpbmVDYXAiOiAicm91bmQiLAogICJsaW5lSm9pbiI6ICJyb3VuZCIsCiAgIm9wYWNpdHkiOiAxLjAsCiAgInJhZGl1cyI6IDUsCiAgInN0cm9rZSI6IHRydWUsCiAgIndlaWdodCI6IDMKfQogICAgICAgICAgICAgICAgKS5hZGRUbyhtYXBfNDk0ZTQ3NWZmZWZkNDJhMWEzMDZlNTliYWYyZTQ5ZWEpOwogICAgICAgICAgICAKICAgIAogICAgICAgICAgICB2YXIgcG9wdXBfMmQ4MzZmODQ2MzAwNDlkNDgxMDhjZDIwMWQ0YmRmZjAgPSBMLnBvcHVwKHttYXhXaWR0aDogJzMwMCd9KTsKCiAgICAgICAgICAgIAogICAgICAgICAgICAgICAgdmFyIGh0bWxfZmM5YzQzNGU1MTEyNDZiYTkyY2MyMzYyMGZhYmEwMjAgPSAkKCc8ZGl2IGlkPSJodG1sX2ZjOWM0MzRlNTExMjQ2YmE5MmNjMjM2MjBmYWJhMDIwIiBzdHlsZT0id2lkdGg6IDEwMC4wJTsgaGVpZ2h0OiAxMDAuMCU7Ij5OZWlnaGJvcmhvb2RzOiBNYWx2ZXJuLCBSb3VnZSBtYXBwZWQgdG8gYm9yb3VnaDogU2NhcmJvcm91Z2g8L2Rpdj4nKVswXTsKICAgICAgICAgICAgICAgIHBvcHVwXzJkODM2Zjg0NjMwMDQ5ZDQ4MTA4Y2QyMDFkNGJkZmYwLnNldENvbnRlbnQoaHRtbF9mYzljNDM0ZTUxMTI0NmJhOTJjYzIzNjIwZmFiYTAyMCk7CiAgICAgICAgICAgIAoKICAgICAgICAgICAgY2lyY2xlX21hcmtlcl84MGRlNjE0NjQ1NTc0YmRjOWJlZDQzMDFhNjQwZTM5Ni5iaW5kUG9wdXAocG9wdXBfMmQ4MzZmODQ2MzAwNDlkNDgxMDhjZDIwMWQ0YmRmZjApOwoKICAgICAgICAgICAgCiAgICAgICAgCiAgICAKICAgICAgICAgICAgdmFyIGNpcmNsZV9tYXJrZXJfZDBhYzU4NDllODllNDM0ODgxOTI2NjdkZDA4YWRjYjUgPSBMLmNpcmNsZU1hcmtlcigKICAgICAgICAgICAgICAgIFs0My43NDU5MDU3OTk5OTk5OTYsLTc5LjM1MjE4OF0sCiAgICAgICAgICAgICAgICB7CiAgImJ1YmJsaW5nTW91c2VFdmVudHMiOiB0cnVlLAogICJjb2xvciI6ICJibHVlIiwKICAiZGFzaEFycmF5IjogbnVsbCwKICAiZGFzaE9mZnNldCI6IG51bGwsCiAgImZpbGwiOiB0cnVlLAogICJmaWxsQ29sb3IiOiAiIzMxODZjYyIsCiAgImZpbGxPcGFjaXR5IjogMC43LAogICJmaWxsUnVsZSI6ICJldmVub2RkIiwKICAibGluZUNhcCI6ICJyb3VuZCIsCiAgImxpbmVKb2luIjogInJvdW5kIiwKICAib3BhY2l0eSI6IDEuMCwKICAicmFkaXVzIjogNSwKICAic3Ryb2tlIjogdHJ1ZSwKICAid2VpZ2h0IjogMwp9CiAgICAgICAgICAgICAgICApLmFkZFRvKG1hcF80OTRlNDc1ZmZlZmQ0MmExYTMwNmU1OWJhZjJlNDllYSk7CiAgICAgICAgICAgIAogICAgCiAgICAgICAgICAgIHZhciBwb3B1cF8wMzdjMTZjYzlkMTQ0Nzk3OTQwYmIxMzgzM2I3ZmVkNiA9IEwucG9wdXAoe21heFdpZHRoOiAnMzAwJ30pOwoKICAgICAgICAgICAgCiAgICAgICAgICAgICAgICB2YXIgaHRtbF82ODA1NWJlMmIwYTc0ZjY2YjU3YjE0ZDY2M2Q1ZjIwMSA9ICQoJzxkaXYgaWQ9Imh0bWxfNjgwNTViZTJiMGE3NGY2NmI1N2IxNGQ2NjNkNWYyMDEiIHN0eWxlPSJ3aWR0aDogMTAwLjAlOyBoZWlnaHQ6IDEwMC4wJTsiPk5laWdoYm9yaG9vZHM6IERvbiBNaWxscyBtYXBwZWQgdG8gYm9yb3VnaDogTm9ydGggWW9yazwvZGl2PicpWzBdOwogICAgICAgICAgICAgICAgcG9wdXBfMDM3YzE2Y2M5ZDE0NDc5Nzk0MGJiMTM4MzNiN2ZlZDYuc2V0Q29udGVudChodG1sXzY4MDU1YmUyYjBhNzRmNjZiNTdiMTRkNjYzZDVmMjAxKTsKICAgICAgICAgICAgCgogICAgICAgICAgICBjaXJjbGVfbWFya2VyX2QwYWM1ODQ5ZTg5ZTQzNDg4MTkyNjY3ZGQwOGFkY2I1LmJpbmRQb3B1cChwb3B1cF8wMzdjMTZjYzlkMTQ0Nzk3OTQwYmIxMzgzM2I3ZmVkNik7CgogICAgICAgICAgICAKICAgICAgICAKICAgIAogICAgICAgICAgICB2YXIgY2lyY2xlX21hcmtlcl8zZmE3MDhjY2RlNGM0OTA5YjRkYThlYmVlMWY1YmNhYyA9IEwuY2lyY2xlTWFya2VyKAogICAgICAgICAgICAgICAgWzQzLjcwNjM5NzIsLTc5LjMwOTkzN10sCiAgICAgICAgICAgICAgICB7CiAgImJ1YmJsaW5nTW91c2VFdmVudHMiOiB0cnVlLAogICJjb2xvciI6ICJibHVlIiwKICAiZGFzaEFycmF5IjogbnVsbCwKICAiZGFzaE9mZnNldCI6IG51bGwsCiAgImZpbGwiOiB0cnVlLAogICJmaWxsQ29sb3IiOiAiIzMxODZjYyIsCiAgImZpbGxPcGFjaXR5IjogMC43LAogICJmaWxsUnVsZSI6ICJldmVub2RkIiwKICAibGluZUNhcCI6ICJyb3VuZCIsCiAgImxpbmVKb2luIjogInJvdW5kIiwKICAib3BhY2l0eSI6IDEuMCwKICAicmFkaXVzIjogNSwKICAic3Ryb2tlIjogdHJ1ZSwKICAid2VpZ2h0IjogMwp9CiAgICAgICAgICAgICAgICApLmFkZFRvKG1hcF80OTRlNDc1ZmZlZmQ0MmExYTMwNmU1OWJhZjJlNDllYSk7CiAgICAgICAgICAgIAogICAgCiAgICAgICAgICAgIHZhciBwb3B1cF8wZTExZGVkYjVhMjY0YTAxYmVhODkyZGNkMjZlZDU1NCA9IEwucG9wdXAoe21heFdpZHRoOiAnMzAwJ30pOwoKICAgICAgICAgICAgCiAgICAgICAgICAgICAgICB2YXIgaHRtbF8zZWFiNjc0MzA1MmM0MTdjOGU3NWQ3N2JlNGUzMDkxMyA9ICQoJzxkaXYgaWQ9Imh0bWxfM2VhYjY3NDMwNTJjNDE3YzhlNzVkNzdiZTRlMzA5MTMiIHN0eWxlPSJ3aWR0aDogMTAwLjAlOyBoZWlnaHQ6IDEwMC4wJTsiPk5laWdoYm9yaG9vZHM6IFBhcmt2aWV3IEhpbGwsIFdvb2RiaW5lIEdhcmRlbnMgbWFwcGVkIHRvIGJvcm91Z2g6IEVhc3QgWW9yazwvZGl2PicpWzBdOwogICAgICAgICAgICAgICAgcG9wdXBfMGUxMWRlZGI1YTI2NGEwMWJlYTg5MmRjZDI2ZWQ1NTQuc2V0Q29udGVudChodG1sXzNlYWI2NzQzMDUyYzQxN2M4ZTc1ZDc3YmU0ZTMwOTEzKTsKICAgICAgICAgICAgCgogICAgICAgICAgICBjaXJjbGVfbWFya2VyXzNmYTcwOGNjZGU0YzQ5MDliNGRhOGViZWUxZjViY2FjLmJpbmRQb3B1cChwb3B1cF8wZTExZGVkYjVhMjY0YTAxYmVhODkyZGNkMjZlZDU1NCk7CgogICAgICAgICAgICAKICAgICAgICAKICAgIAogICAgICAgICAgICB2YXIgY2lyY2xlX21hcmtlcl9lYzY1ZmJmMDI5NmE0Y2FhOWQ0ZmU0ZmQzYjlkMDIyMCA9IEwuY2lyY2xlTWFya2VyKAogICAgICAgICAgICAgICAgWzQzLjY1NzE2MTgsLTc5LjM3ODkzNzA5OTk5OTk5XSwKICAgICAgICAgICAgICAgIHsKICAiYnViYmxpbmdNb3VzZUV2ZW50cyI6IHRydWUsCiAgImNvbG9yIjogImJsdWUiLAogICJkYXNoQXJyYXkiOiBudWxsLAogICJkYXNoT2Zmc2V0IjogbnVsbCwKICAiZmlsbCI6IHRydWUsCiAgImZpbGxDb2xvciI6ICIjMzE4NmNjIiwKICAiZmlsbE9wYWNpdHkiOiAwLjcsCiAgImZpbGxSdWxlIjogImV2ZW5vZGQiLAogICJsaW5lQ2FwIjogInJvdW5kIiwKICAibGluZUpvaW4iOiAicm91bmQiLAogICJvcGFjaXR5IjogMS4wLAogICJyYWRpdXMiOiA1LAogICJzdHJva2UiOiB0cnVlLAogICJ3ZWlnaHQiOiAzCn0KICAgICAgICAgICAgICAgICkuYWRkVG8obWFwXzQ5NGU0NzVmZmVmZDQyYTFhMzA2ZTU5YmFmMmU0OWVhKTsKICAgICAgICAgICAgCiAgICAKICAgICAgICAgICAgdmFyIHBvcHVwXzFkNDNjZDFkNDY3MzRhYzk4MTMzYzA5ODdlYWRhMDJhID0gTC5wb3B1cCh7bWF4V2lkdGg6ICczMDAnfSk7CgogICAgICAgICAgICAKICAgICAgICAgICAgICAgIHZhciBodG1sX2NhYmJhNDJmNGE1MTQ1M2ViZDg4YWQzYzFiY2MzMjhiID0gJCgnPGRpdiBpZD0iaHRtbF9jYWJiYTQyZjRhNTE0NTNlYmQ4OGFkM2MxYmNjMzI4YiIgc3R5bGU9IndpZHRoOiAxMDAuMCU7IGhlaWdodDogMTAwLjAlOyI+TmVpZ2hib3Job29kczogR2FyZGVuIERpc3RyaWN0LCBSeWVyc29uIG1hcHBlZCB0byBib3JvdWdoOiBEb3dudG93biBUb3JvbnRvPC9kaXY+JylbMF07CiAgICAgICAgICAgICAgICBwb3B1cF8xZDQzY2QxZDQ2NzM0YWM5ODEzM2MwOTg3ZWFkYTAyYS5zZXRDb250ZW50KGh0bWxfY2FiYmE0MmY0YTUxNDUzZWJkODhhZDNjMWJjYzMyOGIpOwogICAgICAgICAgICAKCiAgICAgICAgICAgIGNpcmNsZV9tYXJrZXJfZWM2NWZiZjAyOTZhNGNhYTlkNGZlNGZkM2I5ZDAyMjAuYmluZFBvcHVwKHBvcHVwXzFkNDNjZDFkNDY3MzRhYzk4MTMzYzA5ODdlYWRhMDJhKTsKCiAgICAgICAgICAgIAogICAgICAgIAogICAgCiAgICAgICAgICAgIHZhciBjaXJjbGVfbWFya2VyXzM2ODA4OGU2MzdmODQxNmNiMTY2NTA2OTAxMDZjMzRmID0gTC5jaXJjbGVNYXJrZXIoCiAgICAgICAgICAgICAgICBbNDMuNzA5NTc3LC03OS40NDUwNzI1OTk5OTk5OV0sCiAgICAgICAgICAgICAgICB7CiAgImJ1YmJsaW5nTW91c2VFdmVudHMiOiB0cnVlLAogICJjb2xvciI6ICJibHVlIiwKICAiZGFzaEFycmF5IjogbnVsbCwKICAiZGFzaE9mZnNldCI6IG51bGwsCiAgImZpbGwiOiB0cnVlLAogICJmaWxsQ29sb3IiOiAiIzMxODZjYyIsCiAgImZpbGxPcGFjaXR5IjogMC43LAogICJmaWxsUnVsZSI6ICJldmVub2RkIiwKICAibGluZUNhcCI6ICJyb3VuZCIsCiAgImxpbmVKb2luIjogInJvdW5kIiwKICAib3BhY2l0eSI6IDEuMCwKICAicmFkaXVzIjogNSwKICAic3Ryb2tlIjogdHJ1ZSwKICAid2VpZ2h0IjogMwp9CiAgICAgICAgICAgICAgICApLmFkZFRvKG1hcF80OTRlNDc1ZmZlZmQ0MmExYTMwNmU1OWJhZjJlNDllYSk7CiAgICAgICAgICAgIAogICAgCiAgICAgICAgICAgIHZhciBwb3B1cF85MTM0MTE3MDg3N2Q0NDk3YWY5ZmVmNzg2OGZjMDhmOCA9IEwucG9wdXAoe21heFdpZHRoOiAnMzAwJ30pOwoKICAgICAgICAgICAgCiAgICAgICAgICAgICAgICB2YXIgaHRtbF82ZmU2ODhhZThkZDg0N2Y3YTU1MDQ2YjIwNjkxMjQ1ZCA9ICQoJzxkaXYgaWQ9Imh0bWxfNmZlNjg4YWU4ZGQ4NDdmN2E1NTA0NmIyMDY5MTI0NWQiIHN0eWxlPSJ3aWR0aDogMTAwLjAlOyBoZWlnaHQ6IDEwMC4wJTsiPk5laWdoYm9yaG9vZHM6IEdsZW5jYWlybiBtYXBwZWQgdG8gYm9yb3VnaDogTm9ydGggWW9yazwvZGl2PicpWzBdOwogICAgICAgICAgICAgICAgcG9wdXBfOTEzNDExNzA4NzdkNDQ5N2FmOWZlZjc4NjhmYzA4Zjguc2V0Q29udGVudChodG1sXzZmZTY4OGFlOGRkODQ3ZjdhNTUwNDZiMjA2OTEyNDVkKTsKICAgICAgICAgICAgCgogICAgICAgICAgICBjaXJjbGVfbWFya2VyXzM2ODA4OGU2MzdmODQxNmNiMTY2NTA2OTAxMDZjMzRmLmJpbmRQb3B1cChwb3B1cF85MTM0MTE3MDg3N2Q0NDk3YWY5ZmVmNzg2OGZjMDhmOCk7CgogICAgICAgICAgICAKICAgICAgICAKICAgIAogICAgICAgICAgICB2YXIgY2lyY2xlX21hcmtlcl9jMTAyZWZlMzczNzE0NmU1YTg0NTIxYjljYjFmZjM1ZSA9IEwuY2lyY2xlTWFya2VyKAogICAgICAgICAgICAgICAgWzQzLjY1MDk0MzIsLTc5LjU1NDcyNDQwMDAwMDAxXSwKICAgICAgICAgICAgICAgIHsKICAiYnViYmxpbmdNb3VzZUV2ZW50cyI6IHRydWUsCiAgImNvbG9yIjogImJsdWUiLAogICJkYXNoQXJyYXkiOiBudWxsLAogICJkYXNoT2Zmc2V0IjogbnVsbCwKICAiZmlsbCI6IHRydWUsCiAgImZpbGxDb2xvciI6ICIjMzE4NmNjIiwKICAiZmlsbE9wYWNpdHkiOiAwLjcsCiAgImZpbGxSdWxlIjogImV2ZW5vZGQiLAogICJsaW5lQ2FwIjogInJvdW5kIiwKICAibGluZUpvaW4iOiAicm91bmQiLAogICJvcGFjaXR5IjogMS4wLAogICJyYWRpdXMiOiA1LAogICJzdHJva2UiOiB0cnVlLAogICJ3ZWlnaHQiOiAzCn0KICAgICAgICAgICAgICAgICkuYWRkVG8obWFwXzQ5NGU0NzVmZmVmZDQyYTFhMzA2ZTU5YmFmMmU0OWVhKTsKICAgICAgICAgICAgCiAgICAKICAgICAgICAgICAgdmFyIHBvcHVwXzQ3ZWRlMDAxYmVhZDRlM2NiMGI2ZjE5Y2U0Njg5YWIwID0gTC5wb3B1cCh7bWF4V2lkdGg6ICczMDAnfSk7CgogICAgICAgICAgICAKICAgICAgICAgICAgICAgIHZhciBodG1sX2Y4NjE4NWQzODc1NDQ5N2Y4MjM2MDUxOTUxOGJkNjZhID0gJCgnPGRpdiBpZD0iaHRtbF9mODYxODVkMzg3NTQ0OTdmODIzNjA1MTk1MThiZDY2YSIgc3R5bGU9IndpZHRoOiAxMDAuMCU7IGhlaWdodDogMTAwLjAlOyI+TmVpZ2hib3Job29kczogV2VzdCBEZWFuZSBQYXJrLCBQcmluY2VzcyBHYXJkZW5zLCBNYXJ0aW4gR3JvdmUsIElzbGluZ3RvbiwgQ2xvdmVyZGFsZSBtYXBwZWQgdG8gYm9yb3VnaDogRXRvYmljb2tlPC9kaXY+JylbMF07CiAgICAgICAgICAgICAgICBwb3B1cF80N2VkZTAwMWJlYWQ0ZTNjYjBiNmYxOWNlNDY4OWFiMC5zZXRDb250ZW50KGh0bWxfZjg2MTg1ZDM4NzU0NDk3ZjgyMzYwNTE5NTE4YmQ2NmEpOwogICAgICAgICAgICAKCiAgICAgICAgICAgIGNpcmNsZV9tYXJrZXJfYzEwMmVmZTM3MzcxNDZlNWE4NDUyMWI5Y2IxZmYzNWUuYmluZFBvcHVwKHBvcHVwXzQ3ZWRlMDAxYmVhZDRlM2NiMGI2ZjE5Y2U0Njg5YWIwKTsKCiAgICAgICAgICAgIAogICAgICAgIAogICAgCiAgICAgICAgICAgIHZhciBjaXJjbGVfbWFya2VyXzFjMGMyYzkxNjJjNDQ4MDg4ODAxYjJhMGY3MTY3MGU3ID0gTC5jaXJjbGVNYXJrZXIoCiAgICAgICAgICAgICAgICBbNDMuNzg0NTM1MSwtNzkuMTYwNDk3MDk5OTk5OTldLAogICAgICAgICAgICAgICAgewogICJidWJibGluZ01vdXNlRXZlbnRzIjogdHJ1ZSwKICAiY29sb3IiOiAiYmx1ZSIsCiAgImRhc2hBcnJheSI6IG51bGwsCiAgImRhc2hPZmZzZXQiOiBudWxsLAogICJmaWxsIjogdHJ1ZSwKICAiZmlsbENvbG9yIjogIiMzMTg2Y2MiLAogICJmaWxsT3BhY2l0eSI6IDAuNywKICAiZmlsbFJ1bGUiOiAiZXZlbm9kZCIsCiAgImxpbmVDYXAiOiAicm91bmQiLAogICJsaW5lSm9pbiI6ICJyb3VuZCIsCiAgIm9wYWNpdHkiOiAxLjAsCiAgInJhZGl1cyI6IDUsCiAgInN0cm9rZSI6IHRydWUsCiAgIndlaWdodCI6IDMKfQogICAgICAgICAgICAgICAgKS5hZGRUbyhtYXBfNDk0ZTQ3NWZmZWZkNDJhMWEzMDZlNTliYWYyZTQ5ZWEpOwogICAgICAgICAgICAKICAgIAogICAgICAgICAgICB2YXIgcG9wdXBfNWZlZTQ2OWU5ZmYyNDUzOWEwMjhjMjk4OTkwYTRhMDMgPSBMLnBvcHVwKHttYXhXaWR0aDogJzMwMCd9KTsKCiAgICAgICAgICAgIAogICAgICAgICAgICAgICAgdmFyIGh0bWxfZDg3NDI1ZmJhYTE0NDQ4ZDg1ZDliMGZmMzNkMDg1ZmMgPSAkKCc8ZGl2IGlkPSJodG1sX2Q4NzQyNWZiYWExNDQ0OGQ4NWQ5YjBmZjMzZDA4NWZjIiBzdHlsZT0id2lkdGg6IDEwMC4wJTsgaGVpZ2h0OiAxMDAuMCU7Ij5OZWlnaGJvcmhvb2RzOiBSb3VnZSBIaWxsLCBQb3J0IFVuaW9uLCBIaWdobGFuZCBDcmVlayBtYXBwZWQgdG8gYm9yb3VnaDogU2NhcmJvcm91Z2g8L2Rpdj4nKVswXTsKICAgICAgICAgICAgICAgIHBvcHVwXzVmZWU0NjllOWZmMjQ1MzlhMDI4YzI5ODk5MGE0YTAzLnNldENvbnRlbnQoaHRtbF9kODc0MjVmYmFhMTQ0NDhkODVkOWIwZmYzM2QwODVmYyk7CiAgICAgICAgICAgIAoKICAgICAgICAgICAgY2lyY2xlX21hcmtlcl8xYzBjMmM5MTYyYzQ0ODA4ODgwMWIyYTBmNzE2NzBlNy5iaW5kUG9wdXAocG9wdXBfNWZlZTQ2OWU5ZmYyNDUzOWEwMjhjMjk4OTkwYTRhMDMpOwoKICAgICAgICAgICAgCiAgICAgICAgCiAgICAKICAgICAgICAgICAgdmFyIGNpcmNsZV9tYXJrZXJfNTZjZGFkNmM4ZmFiNGMxMWI0NjU3ZGUyYjg3MGM5MzcgPSBMLmNpcmNsZU1hcmtlcigKICAgICAgICAgICAgICAgIFs0My43MjU4OTk3MDAwMDAwMSwtNzkuMzQwOTIzXSwKICAgICAgICAgICAgICAgIHsKICAiYnViYmxpbmdNb3VzZUV2ZW50cyI6IHRydWUsCiAgImNvbG9yIjogImJsdWUiLAogICJkYXNoQXJyYXkiOiBudWxsLAogICJkYXNoT2Zmc2V0IjogbnVsbCwKICAiZmlsbCI6IHRydWUsCiAgImZpbGxDb2xvciI6ICIjMzE4NmNjIiwKICAiZmlsbE9wYWNpdHkiOiAwLjcsCiAgImZpbGxSdWxlIjogImV2ZW5vZGQiLAogICJsaW5lQ2FwIjogInJvdW5kIiwKICAibGluZUpvaW4iOiAicm91bmQiLAogICJvcGFjaXR5IjogMS4wLAogICJyYWRpdXMiOiA1LAogICJzdHJva2UiOiB0cnVlLAogICJ3ZWlnaHQiOiAzCn0KICAgICAgICAgICAgICAgICkuYWRkVG8obWFwXzQ5NGU0NzVmZmVmZDQyYTFhMzA2ZTU5YmFmMmU0OWVhKTsKICAgICAgICAgICAgCiAgICAKICAgICAgICAgICAgdmFyIHBvcHVwXzhmNzUwZDM2OTFjNTRlOTc4MmQwM2NhNmIzZjRlMDQ3ID0gTC5wb3B1cCh7bWF4V2lkdGg6ICczMDAnfSk7CgogICAgICAgICAgICAKICAgICAgICAgICAgICAgIHZhciBodG1sXzk5Y2IwMjBkZWU0MjQzNmE5ZjhmYzZjOGI5NjkxNmI3ID0gJCgnPGRpdiBpZD0iaHRtbF85OWNiMDIwZGVlNDI0MzZhOWY4ZmM2YzhiOTY5MTZiNyIgc3R5bGU9IndpZHRoOiAxMDAuMCU7IGhlaWdodDogMTAwLjAlOyI+TmVpZ2hib3Job29kczogRG9uIE1pbGxzIG1hcHBlZCB0byBib3JvdWdoOiBOb3J0aCBZb3JrPC9kaXY+JylbMF07CiAgICAgICAgICAgICAgICBwb3B1cF84Zjc1MGQzNjkxYzU0ZTk3ODJkMDNjYTZiM2Y0ZTA0Ny5zZXRDb250ZW50KGh0bWxfOTljYjAyMGRlZTQyNDM2YTlmOGZjNmM4Yjk2OTE2YjcpOwogICAgICAgICAgICAKCiAgICAgICAgICAgIGNpcmNsZV9tYXJrZXJfNTZjZGFkNmM4ZmFiNGMxMWI0NjU3ZGUyYjg3MGM5MzcuYmluZFBvcHVwKHBvcHVwXzhmNzUwZDM2OTFjNTRlOTc4MmQwM2NhNmIzZjRlMDQ3KTsKCiAgICAgICAgICAgIAogICAgICAgIAogICAgCiAgICAgICAgICAgIHZhciBjaXJjbGVfbWFya2VyXzQ1MDg1MWRhYjZjMjRmMGRiMmRhZDBjMjBmODNkMTVmID0gTC5jaXJjbGVNYXJrZXIoCiAgICAgICAgICAgICAgICBbNDMuNjk1MzQzOTAwMDAwMDA1LC03OS4zMTgzODg3XSwKICAgICAgICAgICAgICAgIHsKICAiYnViYmxpbmdNb3VzZUV2ZW50cyI6IHRydWUsCiAgImNvbG9yIjogImJsdWUiLAogICJkYXNoQXJyYXkiOiBudWxsLAogICJkYXNoT2Zmc2V0IjogbnVsbCwKICAiZmlsbCI6IHRydWUsCiAgImZpbGxDb2xvciI6ICIjMzE4NmNjIiwKICAiZmlsbE9wYWNpdHkiOiAwLjcsCiAgImZpbGxSdWxlIjogImV2ZW5vZGQiLAogICJsaW5lQ2FwIjogInJvdW5kIiwKICAibGluZUpvaW4iOiAicm91bmQiLAogICJvcGFjaXR5IjogMS4wLAogICJyYWRpdXMiOiA1LAogICJzdHJva2UiOiB0cnVlLAogICJ3ZWlnaHQiOiAzCn0KICAgICAgICAgICAgICAgICkuYWRkVG8obWFwXzQ5NGU0NzVmZmVmZDQyYTFhMzA2ZTU5YmFmMmU0OWVhKTsKICAgICAgICAgICAgCiAgICAKICAgICAgICAgICAgdmFyIHBvcHVwXzlmNjNlZTMwYzBiOTQxNGI5Y2NhNDIzNzM3YTBiZjVmID0gTC5wb3B1cCh7bWF4V2lkdGg6ICczMDAnfSk7CgogICAgICAgICAgICAKICAgICAgICAgICAgICAgIHZhciBodG1sX2NhZWQ4YWZhNzA3YzRhYWRiMWUzOWRiM2FhYWVmYWUzID0gJCgnPGRpdiBpZD0iaHRtbF9jYWVkOGFmYTcwN2M0YWFkYjFlMzlkYjNhYWFlZmFlMyIgc3R5bGU9IndpZHRoOiAxMDAuMCU7IGhlaWdodDogMTAwLjAlOyI+TmVpZ2hib3Job29kczogV29vZGJpbmUgSGVpZ2h0cyBtYXBwZWQgdG8gYm9yb3VnaDogRWFzdCBZb3JrPC9kaXY+JylbMF07CiAgICAgICAgICAgICAgICBwb3B1cF85ZjYzZWUzMGMwYjk0MTRiOWNjYTQyMzczN2EwYmY1Zi5zZXRDb250ZW50KGh0bWxfY2FlZDhhZmE3MDdjNGFhZGIxZTM5ZGIzYWFhZWZhZTMpOwogICAgICAgICAgICAKCiAgICAgICAgICAgIGNpcmNsZV9tYXJrZXJfNDUwODUxZGFiNmMyNGYwZGIyZGFkMGMyMGY4M2QxNWYuYmluZFBvcHVwKHBvcHVwXzlmNjNlZTMwYzBiOTQxNGI5Y2NhNDIzNzM3YTBiZjVmKTsKCiAgICAgICAgICAgIAogICAgICAgIAogICAgCiAgICAgICAgICAgIHZhciBjaXJjbGVfbWFya2VyXzAwOWI0M2JlMmFiYzRlYjg5NTU0NzExNzhlMjViNjEzID0gTC5jaXJjbGVNYXJrZXIoCiAgICAgICAgICAgICAgICBbNDMuNjUxNDkzOSwtNzkuMzc1NDE3OV0sCiAgICAgICAgICAgICAgICB7CiAgImJ1YmJsaW5nTW91c2VFdmVudHMiOiB0cnVlLAogICJjb2xvciI6ICJibHVlIiwKICAiZGFzaEFycmF5IjogbnVsbCwKICAiZGFzaE9mZnNldCI6IG51bGwsCiAgImZpbGwiOiB0cnVlLAogICJmaWxsQ29sb3IiOiAiIzMxODZjYyIsCiAgImZpbGxPcGFjaXR5IjogMC43LAogICJmaWxsUnVsZSI6ICJldmVub2RkIiwKICAibGluZUNhcCI6ICJyb3VuZCIsCiAgImxpbmVKb2luIjogInJvdW5kIiwKICAib3BhY2l0eSI6IDEuMCwKICAicmFkaXVzIjogNSwKICAic3Ryb2tlIjogdHJ1ZSwKICAid2VpZ2h0IjogMwp9CiAgICAgICAgICAgICAgICApLmFkZFRvKG1hcF80OTRlNDc1ZmZlZmQ0MmExYTMwNmU1OWJhZjJlNDllYSk7CiAgICAgICAgICAgIAogICAgCiAgICAgICAgICAgIHZhciBwb3B1cF9mNzY4MTY1ZTE2YTY0ODczYjRmM2YxZDM2MjgzNTA2MSA9IEwucG9wdXAoe21heFdpZHRoOiAnMzAwJ30pOwoKICAgICAgICAgICAgCiAgICAgICAgICAgICAgICB2YXIgaHRtbF82NzRhMTJlMWE2NDU0NzM3OTFhNTllZGE5ZTA1NmMyYiA9ICQoJzxkaXYgaWQ9Imh0bWxfNjc0YTEyZTFhNjQ1NDczNzkxYTU5ZWRhOWUwNTZjMmIiIHN0eWxlPSJ3aWR0aDogMTAwLjAlOyBoZWlnaHQ6IDEwMC4wJTsiPk5laWdoYm9yaG9vZHM6IFN0LiBKYW1lcyBUb3duIG1hcHBlZCB0byBib3JvdWdoOiBEb3dudG93biBUb3JvbnRvPC9kaXY+JylbMF07CiAgICAgICAgICAgICAgICBwb3B1cF9mNzY4MTY1ZTE2YTY0ODczYjRmM2YxZDM2MjgzNTA2MS5zZXRDb250ZW50KGh0bWxfNjc0YTEyZTFhNjQ1NDczNzkxYTU5ZWRhOWUwNTZjMmIpOwogICAgICAgICAgICAKCiAgICAgICAgICAgIGNpcmNsZV9tYXJrZXJfMDA5YjQzYmUyYWJjNGViODk1NTQ3MTE3OGUyNWI2MTMuYmluZFBvcHVwKHBvcHVwX2Y3NjgxNjVlMTZhNjQ4NzNiNGYzZjFkMzYyODM1MDYxKTsKCiAgICAgICAgICAgIAogICAgICAgIAogICAgCiAgICAgICAgICAgIHZhciBjaXJjbGVfbWFya2VyXzI4MDhiZDIyNDI5ZTRhN2JiOTI5ZDhmNTM0NDM1NjViID0gTC5jaXJjbGVNYXJrZXIoCiAgICAgICAgICAgICAgICBbNDMuNjkzNzgxMywtNzkuNDI4MTkxNDAwMDAwMDJdLAogICAgICAgICAgICAgICAgewogICJidWJibGluZ01vdXNlRXZlbnRzIjogdHJ1ZSwKICAiY29sb3IiOiAiYmx1ZSIsCiAgImRhc2hBcnJheSI6IG51bGwsCiAgImRhc2hPZmZzZXQiOiBudWxsLAogICJmaWxsIjogdHJ1ZSwKICAiZmlsbENvbG9yIjogIiMzMTg2Y2MiLAogICJmaWxsT3BhY2l0eSI6IDAuNywKICAiZmlsbFJ1bGUiOiAiZXZlbm9kZCIsCiAgImxpbmVDYXAiOiAicm91bmQiLAogICJsaW5lSm9pbiI6ICJyb3VuZCIsCiAgIm9wYWNpdHkiOiAxLjAsCiAgInJhZGl1cyI6IDUsCiAgInN0cm9rZSI6IHRydWUsCiAgIndlaWdodCI6IDMKfQogICAgICAgICAgICAgICAgKS5hZGRUbyhtYXBfNDk0ZTQ3NWZmZWZkNDJhMWEzMDZlNTliYWYyZTQ5ZWEpOwogICAgICAgICAgICAKICAgIAogICAgICAgICAgICB2YXIgcG9wdXBfYWExNTgwNzI0NTgwNDkwMDgyODIzN2Y4MjA3M2Q0MGMgPSBMLnBvcHVwKHttYXhXaWR0aDogJzMwMCd9KTsKCiAgICAgICAgICAgIAogICAgICAgICAgICAgICAgdmFyIGh0bWxfOWYwMDZlYWE2ZDlhNDBlZjkwYzAzMmIxNTg0NjExMjggPSAkKCc8ZGl2IGlkPSJodG1sXzlmMDA2ZWFhNmQ5YTQwZWY5MGMwMzJiMTU4NDYxMTI4IiBzdHlsZT0id2lkdGg6IDEwMC4wJTsgaGVpZ2h0OiAxMDAuMCU7Ij5OZWlnaGJvcmhvb2RzOiBIdW1ld29vZC1DZWRhcnZhbGUgbWFwcGVkIHRvIGJvcm91Z2g6IFlvcms8L2Rpdj4nKVswXTsKICAgICAgICAgICAgICAgIHBvcHVwX2FhMTU4MDcyNDU4MDQ5MDA4MjgyMzdmODIwNzNkNDBjLnNldENvbnRlbnQoaHRtbF85ZjAwNmVhYTZkOWE0MGVmOTBjMDMyYjE1ODQ2MTEyOCk7CiAgICAgICAgICAgIAoKICAgICAgICAgICAgY2lyY2xlX21hcmtlcl8yODA4YmQyMjQyOWU0YTdiYjkyOWQ4ZjUzNDQzNTY1Yi5iaW5kUG9wdXAocG9wdXBfYWExNTgwNzI0NTgwNDkwMDgyODIzN2Y4MjA3M2Q0MGMpOwoKICAgICAgICAgICAgCiAgICAgICAgCiAgICAKICAgICAgICAgICAgdmFyIGNpcmNsZV9tYXJrZXJfZDFlOWQ2NjJlMjliNDliNDgzNjQ1NmM1MGM4MmE5OTggPSBMLmNpcmNsZU1hcmtlcigKICAgICAgICAgICAgICAgIFs0My42NDM1MTUyLC03OS41NzcyMDA3OTk5OTk5OV0sCiAgICAgICAgICAgICAgICB7CiAgImJ1YmJsaW5nTW91c2VFdmVudHMiOiB0cnVlLAogICJjb2xvciI6ICJibHVlIiwKICAiZGFzaEFycmF5IjogbnVsbCwKICAiZGFzaE9mZnNldCI6IG51bGwsCiAgImZpbGwiOiB0cnVlLAogICJmaWxsQ29sb3IiOiAiIzMxODZjYyIsCiAgImZpbGxPcGFjaXR5IjogMC43LAogICJmaWxsUnVsZSI6ICJldmVub2RkIiwKICAibGluZUNhcCI6ICJyb3VuZCIsCiAgImxpbmVKb2luIjogInJvdW5kIiwKICAib3BhY2l0eSI6IDEuMCwKICAicmFkaXVzIjogNSwKICAic3Ryb2tlIjogdHJ1ZSwKICAid2VpZ2h0IjogMwp9CiAgICAgICAgICAgICAgICApLmFkZFRvKG1hcF80OTRlNDc1ZmZlZmQ0MmExYTMwNmU1OWJhZjJlNDllYSk7CiAgICAgICAgICAgIAogICAgCiAgICAgICAgICAgIHZhciBwb3B1cF83MzMxYTI0MzNhMjY0OWQ4YTBiMWNhZTA1NDlhOTlkYiA9IEwucG9wdXAoe21heFdpZHRoOiAnMzAwJ30pOwoKICAgICAgICAgICAgCiAgICAgICAgICAgICAgICB2YXIgaHRtbF80OTA2ZmRhNmQ2ZDI0Yjg3YWQ2MTFkZjRhOTczNGMxOCA9ICQoJzxkaXYgaWQ9Imh0bWxfNDkwNmZkYTZkNmQyNGI4N2FkNjExZGY0YTk3MzRjMTgiIHN0eWxlPSJ3aWR0aDogMTAwLjAlOyBoZWlnaHQ6IDEwMC4wJTsiPk5laWdoYm9yaG9vZHM6IEVyaW5nYXRlLCBCbG9vcmRhbGUgR2FyZGVucywgT2xkIEJ1cm5oYW10aG9ycGUsIE1hcmtsYW5kIFdvb2QgbWFwcGVkIHRvIGJvcm91Z2g6IEV0b2JpY29rZTwvZGl2PicpWzBdOwogICAgICAgICAgICAgICAgcG9wdXBfNzMzMWEyNDMzYTI2NDlkOGEwYjFjYWUwNTQ5YTk5ZGIuc2V0Q29udGVudChodG1sXzQ5MDZmZGE2ZDZkMjRiODdhZDYxMWRmNGE5NzM0YzE4KTsKICAgICAgICAgICAgCgogICAgICAgICAgICBjaXJjbGVfbWFya2VyX2QxZTlkNjYyZTI5YjQ5YjQ4MzY0NTZjNTBjODJhOTk4LmJpbmRQb3B1cChwb3B1cF83MzMxYTI0MzNhMjY0OWQ4YTBiMWNhZTA1NDlhOTlkYik7CgogICAgICAgICAgICAKICAgICAgICAKICAgIAogICAgICAgICAgICB2YXIgY2lyY2xlX21hcmtlcl8xMjNjZmM4YzEzZjU0YmIzODc0ZDUyOGNkNmJhODA5ZiA9IEwuY2lyY2xlTWFya2VyKAogICAgICAgICAgICAgICAgWzQzLjc2MzU3MjYsLTc5LjE4ODcxMTVdLAogICAgICAgICAgICAgICAgewogICJidWJibGluZ01vdXNlRXZlbnRzIjogdHJ1ZSwKICAiY29sb3IiOiAiYmx1ZSIsCiAgImRhc2hBcnJheSI6IG51bGwsCiAgImRhc2hPZmZzZXQiOiBudWxsLAogICJmaWxsIjogdHJ1ZSwKICAiZmlsbENvbG9yIjogIiMzMTg2Y2MiLAogICJmaWxsT3BhY2l0eSI6IDAuNywKICAiZmlsbFJ1bGUiOiAiZXZlbm9kZCIsCiAgImxpbmVDYXAiOiAicm91bmQiLAogICJsaW5lSm9pbiI6ICJyb3VuZCIsCiAgIm9wYWNpdHkiOiAxLjAsCiAgInJhZGl1cyI6IDUsCiAgInN0cm9rZSI6IHRydWUsCiAgIndlaWdodCI6IDMKfQogICAgICAgICAgICAgICAgKS5hZGRUbyhtYXBfNDk0ZTQ3NWZmZWZkNDJhMWEzMDZlNTliYWYyZTQ5ZWEpOwogICAgICAgICAgICAKICAgIAogICAgICAgICAgICB2YXIgcG9wdXBfMzg0MzYzYjcyMDlhNDgzYThkZWQ5M2U1NTAxYmMyODggPSBMLnBvcHVwKHttYXhXaWR0aDogJzMwMCd9KTsKCiAgICAgICAgICAgIAogICAgICAgICAgICAgICAgdmFyIGh0bWxfMTgzMmQ0Y2Y2ZGEwNDA2M2E1ZjI1ZTM2MmM3YmI2YzcgPSAkKCc8ZGl2IGlkPSJodG1sXzE4MzJkNGNmNmRhMDQwNjNhNWYyNWUzNjJjN2JiNmM3IiBzdHlsZT0id2lkdGg6IDEwMC4wJTsgaGVpZ2h0OiAxMDAuMCU7Ij5OZWlnaGJvcmhvb2RzOiBHdWlsZHdvb2QsIE1vcm5pbmdzaWRlLCBXZXN0IEhpbGwgbWFwcGVkIHRvIGJvcm91Z2g6IFNjYXJib3JvdWdoPC9kaXY+JylbMF07CiAgICAgICAgICAgICAgICBwb3B1cF8zODQzNjNiNzIwOWE0ODNhOGRlZDkzZTU1MDFiYzI4OC5zZXRDb250ZW50KGh0bWxfMTgzMmQ0Y2Y2ZGEwNDA2M2E1ZjI1ZTM2MmM3YmI2YzcpOwogICAgICAgICAgICAKCiAgICAgICAgICAgIGNpcmNsZV9tYXJrZXJfMTIzY2ZjOGMxM2Y1NGJiMzg3NGQ1MjhjZDZiYTgwOWYuYmluZFBvcHVwKHBvcHVwXzM4NDM2M2I3MjA5YTQ4M2E4ZGVkOTNlNTUwMWJjMjg4KTsKCiAgICAgICAgICAgIAogICAgICAgIAogICAgCiAgICAgICAgICAgIHZhciBjaXJjbGVfbWFya2VyXzQyMTkzM2JhNWFkOTRjYzZhN2RiN2I0NjU3MWUwYTAzID0gTC5jaXJjbGVNYXJrZXIoCiAgICAgICAgICAgICAgICBbNDMuNjc2MzU3Mzk5OTk5OTksLTc5LjI5MzAzMTJdLAogICAgICAgICAgICAgICAgewogICJidWJibGluZ01vdXNlRXZlbnRzIjogdHJ1ZSwKICAiY29sb3IiOiAiYmx1ZSIsCiAgImRhc2hBcnJheSI6IG51bGwsCiAgImRhc2hPZmZzZXQiOiBudWxsLAogICJmaWxsIjogdHJ1ZSwKICAiZmlsbENvbG9yIjogIiMzMTg2Y2MiLAogICJmaWxsT3BhY2l0eSI6IDAuNywKICAiZmlsbFJ1bGUiOiAiZXZlbm9kZCIsCiAgImxpbmVDYXAiOiAicm91bmQiLAogICJsaW5lSm9pbiI6ICJyb3VuZCIsCiAgIm9wYWNpdHkiOiAxLjAsCiAgInJhZGl1cyI6IDUsCiAgInN0cm9rZSI6IHRydWUsCiAgIndlaWdodCI6IDMKfQogICAgICAgICAgICAgICAgKS5hZGRUbyhtYXBfNDk0ZTQ3NWZmZWZkNDJhMWEzMDZlNTliYWYyZTQ5ZWEpOwogICAgICAgICAgICAKICAgIAogICAgICAgICAgICB2YXIgcG9wdXBfN2MyMzdjZGFkNzhjNDI0YmExNDJmZGNmODU0MTAwMmQgPSBMLnBvcHVwKHttYXhXaWR0aDogJzMwMCd9KTsKCiAgICAgICAgICAgIAogICAgICAgICAgICAgICAgdmFyIGh0bWxfM2VkMjk0MTI2ODYwNDZiOWE1OWYwNDU1OGE1NDM3YTggPSAkKCc8ZGl2IGlkPSJodG1sXzNlZDI5NDEyNjg2MDQ2YjlhNTlmMDQ1NThhNTQzN2E4IiBzdHlsZT0id2lkdGg6IDEwMC4wJTsgaGVpZ2h0OiAxMDAuMCU7Ij5OZWlnaGJvcmhvb2RzOiBUaGUgQmVhY2hlcyBtYXBwZWQgdG8gYm9yb3VnaDogRWFzdCBUb3JvbnRvPC9kaXY+JylbMF07CiAgICAgICAgICAgICAgICBwb3B1cF83YzIzN2NkYWQ3OGM0MjRiYTE0MmZkY2Y4NTQxMDAyZC5zZXRDb250ZW50KGh0bWxfM2VkMjk0MTI2ODYwNDZiOWE1OWYwNDU1OGE1NDM3YTgpOwogICAgICAgICAgICAKCiAgICAgICAgICAgIGNpcmNsZV9tYXJrZXJfNDIxOTMzYmE1YWQ5NGNjNmE3ZGI3YjQ2NTcxZTBhMDMuYmluZFBvcHVwKHBvcHVwXzdjMjM3Y2RhZDc4YzQyNGJhMTQyZmRjZjg1NDEwMDJkKTsKCiAgICAgICAgICAgIAogICAgICAgIAogICAgCiAgICAgICAgICAgIHZhciBjaXJjbGVfbWFya2VyX2RkYTllNzQ0OTQ1YzQ0MWY5MzU2NTY3NWU5MDZiYjVkID0gTC5jaXJjbGVNYXJrZXIoCiAgICAgICAgICAgICAgICBbNDMuNjQ0NzcwNzk5OTk5OTk2LC03OS4zNzMzMDY0XSwKICAgICAgICAgICAgICAgIHsKICAiYnViYmxpbmdNb3VzZUV2ZW50cyI6IHRydWUsCiAgImNvbG9yIjogImJsdWUiLAogICJkYXNoQXJyYXkiOiBudWxsLAogICJkYXNoT2Zmc2V0IjogbnVsbCwKICAiZmlsbCI6IHRydWUsCiAgImZpbGxDb2xvciI6ICIjMzE4NmNjIiwKICAiZmlsbE9wYWNpdHkiOiAwLjcsCiAgImZpbGxSdWxlIjogImV2ZW5vZGQiLAogICJsaW5lQ2FwIjogInJvdW5kIiwKICAibGluZUpvaW4iOiAicm91bmQiLAogICJvcGFjaXR5IjogMS4wLAogICJyYWRpdXMiOiA1LAogICJzdHJva2UiOiB0cnVlLAogICJ3ZWlnaHQiOiAzCn0KICAgICAgICAgICAgICAgICkuYWRkVG8obWFwXzQ5NGU0NzVmZmVmZDQyYTFhMzA2ZTU5YmFmMmU0OWVhKTsKICAgICAgICAgICAgCiAgICAKICAgICAgICAgICAgdmFyIHBvcHVwXzM4ZmY0ZTYxNDY1NzQxZGFiZWU5NzU2MTQ2ZDNjYWI4ID0gTC5wb3B1cCh7bWF4V2lkdGg6ICczMDAnfSk7CgogICAgICAgICAgICAKICAgICAgICAgICAgICAgIHZhciBodG1sX2QxMDJiY2U5ZDNkMjQzNTA5NDUwYTk4ZmQyZDdiMjg5ID0gJCgnPGRpdiBpZD0iaHRtbF9kMTAyYmNlOWQzZDI0MzUwOTQ1MGE5OGZkMmQ3YjI4OSIgc3R5bGU9IndpZHRoOiAxMDAuMCU7IGhlaWdodDogMTAwLjAlOyI+TmVpZ2hib3Job29kczogQmVyY3p5IFBhcmsgbWFwcGVkIHRvIGJvcm91Z2g6IERvd250b3duIFRvcm9udG88L2Rpdj4nKVswXTsKICAgICAgICAgICAgICAgIHBvcHVwXzM4ZmY0ZTYxNDY1NzQxZGFiZWU5NzU2MTQ2ZDNjYWI4LnNldENvbnRlbnQoaHRtbF9kMTAyYmNlOWQzZDI0MzUwOTQ1MGE5OGZkMmQ3YjI4OSk7CiAgICAgICAgICAgIAoKICAgICAgICAgICAgY2lyY2xlX21hcmtlcl9kZGE5ZTc0NDk0NWM0NDFmOTM1NjU2NzVlOTA2YmI1ZC5iaW5kUG9wdXAocG9wdXBfMzhmZjRlNjE0NjU3NDFkYWJlZTk3NTYxNDZkM2NhYjgpOwoKICAgICAgICAgICAgCiAgICAgICAgCiAgICAKICAgICAgICAgICAgdmFyIGNpcmNsZV9tYXJrZXJfNzM0NjU0MzYwYWQwNGFiYmFkYmI4MTM0ZTIwOGFlMGUgPSBMLmNpcmNsZU1hcmtlcigKICAgICAgICAgICAgICAgIFs0My42ODkwMjU2LC03OS40NTM1MTJdLAogICAgICAgICAgICAgICAgewogICJidWJibGluZ01vdXNlRXZlbnRzIjogdHJ1ZSwKICAiY29sb3IiOiAiYmx1ZSIsCiAgImRhc2hBcnJheSI6IG51bGwsCiAgImRhc2hPZmZzZXQiOiBudWxsLAogICJmaWxsIjogdHJ1ZSwKICAiZmlsbENvbG9yIjogIiMzMTg2Y2MiLAogICJmaWxsT3BhY2l0eSI6IDAuNywKICAiZmlsbFJ1bGUiOiAiZXZlbm9kZCIsCiAgImxpbmVDYXAiOiAicm91bmQiLAogICJsaW5lSm9pbiI6ICJyb3VuZCIsCiAgIm9wYWNpdHkiOiAxLjAsCiAgInJhZGl1cyI6IDUsCiAgInN0cm9rZSI6IHRydWUsCiAgIndlaWdodCI6IDMKfQogICAgICAgICAgICAgICAgKS5hZGRUbyhtYXBfNDk0ZTQ3NWZmZWZkNDJhMWEzMDZlNTliYWYyZTQ5ZWEpOwogICAgICAgICAgICAKICAgIAogICAgICAgICAgICB2YXIgcG9wdXBfMzMxY2I5ZTVhMjUzNDdlM2JhMjQ3OTg1YTJhZDcwNTMgPSBMLnBvcHVwKHttYXhXaWR0aDogJzMwMCd9KTsKCiAgICAgICAgICAgIAogICAgICAgICAgICAgICAgdmFyIGh0bWxfODI1YjVmN2ZlZTNlNDBlZmIzY2Y5MzVkNzgwYjFkZDAgPSAkKCc8ZGl2IGlkPSJodG1sXzgyNWI1ZjdmZWUzZTQwZWZiM2NmOTM1ZDc4MGIxZGQwIiBzdHlsZT0id2lkdGg6IDEwMC4wJTsgaGVpZ2h0OiAxMDAuMCU7Ij5OZWlnaGJvcmhvb2RzOiBDYWxlZG9uaWEtRmFpcmJhbmtzIG1hcHBlZCB0byBib3JvdWdoOiBZb3JrPC9kaXY+JylbMF07CiAgICAgICAgICAgICAgICBwb3B1cF8zMzFjYjllNWEyNTM0N2UzYmEyNDc5ODVhMmFkNzA1My5zZXRDb250ZW50KGh0bWxfODI1YjVmN2ZlZTNlNDBlZmIzY2Y5MzVkNzgwYjFkZDApOwogICAgICAgICAgICAKCiAgICAgICAgICAgIGNpcmNsZV9tYXJrZXJfNzM0NjU0MzYwYWQwNGFiYmFkYmI4MTM0ZTIwOGFlMGUuYmluZFBvcHVwKHBvcHVwXzMzMWNiOWU1YTI1MzQ3ZTNiYTI0Nzk4NWEyYWQ3MDUzKTsKCiAgICAgICAgICAgIAogICAgICAgIAogICAgCiAgICAgICAgICAgIHZhciBjaXJjbGVfbWFya2VyXzkzMGMyZDkxM2M2ZTRjNmI5ODFhMTdmYWVjMmMwNGQ4ID0gTC5jaXJjbGVNYXJrZXIoCiAgICAgICAgICAgICAgICBbNDMuNzcwOTkyMSwtNzkuMjE2OTE3NDAwMDAwMDFdLAogICAgICAgICAgICAgICAgewogICJidWJibGluZ01vdXNlRXZlbnRzIjogdHJ1ZSwKICAiY29sb3IiOiAiYmx1ZSIsCiAgImRhc2hBcnJheSI6IG51bGwsCiAgImRhc2hPZmZzZXQiOiBudWxsLAogICJmaWxsIjogdHJ1ZSwKICAiZmlsbENvbG9yIjogIiMzMTg2Y2MiLAogICJmaWxsT3BhY2l0eSI6IDAuNywKICAiZmlsbFJ1bGUiOiAiZXZlbm9kZCIsCiAgImxpbmVDYXAiOiAicm91bmQiLAogICJsaW5lSm9pbiI6ICJyb3VuZCIsCiAgIm9wYWNpdHkiOiAxLjAsCiAgInJhZGl1cyI6IDUsCiAgInN0cm9rZSI6IHRydWUsCiAgIndlaWdodCI6IDMKfQogICAgICAgICAgICAgICAgKS5hZGRUbyhtYXBfNDk0ZTQ3NWZmZWZkNDJhMWEzMDZlNTliYWYyZTQ5ZWEpOwogICAgICAgICAgICAKICAgIAogICAgICAgICAgICB2YXIgcG9wdXBfOGRmMmQzNTNkMzY2NDIzZTkyN2NmY2E5NzgwMzI0MTMgPSBMLnBvcHVwKHttYXhXaWR0aDogJzMwMCd9KTsKCiAgICAgICAgICAgIAogICAgICAgICAgICAgICAgdmFyIGh0bWxfMjlmNzc3NDFiZGFkNGYwY2FmODUyNjdiMzg0YjI5ZjAgPSAkKCc8ZGl2IGlkPSJodG1sXzI5Zjc3NzQxYmRhZDRmMGNhZjg1MjY3YjM4NGIyOWYwIiBzdHlsZT0id2lkdGg6IDEwMC4wJTsgaGVpZ2h0OiAxMDAuMCU7Ij5OZWlnaGJvcmhvb2RzOiBXb2J1cm4gbWFwcGVkIHRvIGJvcm91Z2g6IFNjYXJib3JvdWdoPC9kaXY+JylbMF07CiAgICAgICAgICAgICAgICBwb3B1cF84ZGYyZDM1M2QzNjY0MjNlOTI3Y2ZjYTk3ODAzMjQxMy5zZXRDb250ZW50KGh0bWxfMjlmNzc3NDFiZGFkNGYwY2FmODUyNjdiMzg0YjI5ZjApOwogICAgICAgICAgICAKCiAgICAgICAgICAgIGNpcmNsZV9tYXJrZXJfOTMwYzJkOTEzYzZlNGM2Yjk4MWExN2ZhZWMyYzA0ZDguYmluZFBvcHVwKHBvcHVwXzhkZjJkMzUzZDM2NjQyM2U5MjdjZmNhOTc4MDMyNDEzKTsKCiAgICAgICAgICAgIAogICAgICAgIAogICAgCiAgICAgICAgICAgIHZhciBjaXJjbGVfbWFya2VyX2IwNjNjY2M4N2JmZTRmOGRiZjg5YjI2MDUwOGQyMDI4ID0gTC5jaXJjbGVNYXJrZXIoCiAgICAgICAgICAgICAgICBbNDMuNzA5MDYwNCwtNzkuMzYzNDUxN10sCiAgICAgICAgICAgICAgICB7CiAgImJ1YmJsaW5nTW91c2VFdmVudHMiOiB0cnVlLAogICJjb2xvciI6ICJibHVlIiwKICAiZGFzaEFycmF5IjogbnVsbCwKICAiZGFzaE9mZnNldCI6IG51bGwsCiAgImZpbGwiOiB0cnVlLAogICJmaWxsQ29sb3IiOiAiIzMxODZjYyIsCiAgImZpbGxPcGFjaXR5IjogMC43LAogICJmaWxsUnVsZSI6ICJldmVub2RkIiwKICAibGluZUNhcCI6ICJyb3VuZCIsCiAgImxpbmVKb2luIjogInJvdW5kIiwKICAib3BhY2l0eSI6IDEuMCwKICAicmFkaXVzIjogNSwKICAic3Ryb2tlIjogdHJ1ZSwKICAid2VpZ2h0IjogMwp9CiAgICAgICAgICAgICAgICApLmFkZFRvKG1hcF80OTRlNDc1ZmZlZmQ0MmExYTMwNmU1OWJhZjJlNDllYSk7CiAgICAgICAgICAgIAogICAgCiAgICAgICAgICAgIHZhciBwb3B1cF83YmM2NDcwODZjYjU0NWE0OTg4Y2UxY2QyMDA5NDNjNCA9IEwucG9wdXAoe21heFdpZHRoOiAnMzAwJ30pOwoKICAgICAgICAgICAgCiAgICAgICAgICAgICAgICB2YXIgaHRtbF8wMjFkMjVjNmE2YmU0YjZhYmMwOTQzZmM3MDJkYzExOSA9ICQoJzxkaXYgaWQ9Imh0bWxfMDIxZDI1YzZhNmJlNGI2YWJjMDk0M2ZjNzAyZGMxMTkiIHN0eWxlPSJ3aWR0aDogMTAwLjAlOyBoZWlnaHQ6IDEwMC4wJTsiPk5laWdoYm9yaG9vZHM6IExlYXNpZGUgbWFwcGVkIHRvIGJvcm91Z2g6IEVhc3QgWW9yazwvZGl2PicpWzBdOwogICAgICAgICAgICAgICAgcG9wdXBfN2JjNjQ3MDg2Y2I1NDVhNDk4OGNlMWNkMjAwOTQzYzQuc2V0Q29udGVudChodG1sXzAyMWQyNWM2YTZiZTRiNmFiYzA5NDNmYzcwMmRjMTE5KTsKICAgICAgICAgICAgCgogICAgICAgICAgICBjaXJjbGVfbWFya2VyX2IwNjNjY2M4N2JmZTRmOGRiZjg5YjI2MDUwOGQyMDI4LmJpbmRQb3B1cChwb3B1cF83YmM2NDcwODZjYjU0NWE0OTg4Y2UxY2QyMDA5NDNjNCk7CgogICAgICAgICAgICAKICAgICAgICAKICAgIAogICAgICAgICAgICB2YXIgY2lyY2xlX21hcmtlcl83NjU0Mzk2YjUzMjI0Y2JiODQyZTg3ZDNlOWY0MWZkYSA9IEwuY2lyY2xlTWFya2VyKAogICAgICAgICAgICAgICAgWzQzLjY1Nzk1MjQsLTc5LjM4NzM4MjZdLAogICAgICAgICAgICAgICAgewogICJidWJibGluZ01vdXNlRXZlbnRzIjogdHJ1ZSwKICAiY29sb3IiOiAiYmx1ZSIsCiAgImRhc2hBcnJheSI6IG51bGwsCiAgImRhc2hPZmZzZXQiOiBudWxsLAogICJmaWxsIjogdHJ1ZSwKICAiZmlsbENvbG9yIjogIiMzMTg2Y2MiLAogICJmaWxsT3BhY2l0eSI6IDAuNywKICAiZmlsbFJ1bGUiOiAiZXZlbm9kZCIsCiAgImxpbmVDYXAiOiAicm91bmQiLAogICJsaW5lSm9pbiI6ICJyb3VuZCIsCiAgIm9wYWNpdHkiOiAxLjAsCiAgInJhZGl1cyI6IDUsCiAgInN0cm9rZSI6IHRydWUsCiAgIndlaWdodCI6IDMKfQogICAgICAgICAgICAgICAgKS5hZGRUbyhtYXBfNDk0ZTQ3NWZmZWZkNDJhMWEzMDZlNTliYWYyZTQ5ZWEpOwogICAgICAgICAgICAKICAgIAogICAgICAgICAgICB2YXIgcG9wdXBfZTgyODQwMjRlNmQ5NGZmZDk2ZDU1M2Q4N2ZiZWY5ZTIgPSBMLnBvcHVwKHttYXhXaWR0aDogJzMwMCd9KTsKCiAgICAgICAgICAgIAogICAgICAgICAgICAgICAgdmFyIGh0bWxfNTRmZTRiNDJjZTk5NDI2YjhmZTJmZTgyYTlmNTcxZjcgPSAkKCc8ZGl2IGlkPSJodG1sXzU0ZmU0YjQyY2U5OTQyNmI4ZmUyZmU4MmE5ZjU3MWY3IiBzdHlsZT0id2lkdGg6IDEwMC4wJTsgaGVpZ2h0OiAxMDAuMCU7Ij5OZWlnaGJvcmhvb2RzOiBDZW50cmFsIEJheSBTdHJlZXQgbWFwcGVkIHRvIGJvcm91Z2g6IERvd250b3duIFRvcm9udG88L2Rpdj4nKVswXTsKICAgICAgICAgICAgICAgIHBvcHVwX2U4Mjg0MDI0ZTZkOTRmZmQ5NmQ1NTNkODdmYmVmOWUyLnNldENvbnRlbnQoaHRtbF81NGZlNGI0MmNlOTk0MjZiOGZlMmZlODJhOWY1NzFmNyk7CiAgICAgICAgICAgIAoKICAgICAgICAgICAgY2lyY2xlX21hcmtlcl83NjU0Mzk2YjUzMjI0Y2JiODQyZTg3ZDNlOWY0MWZkYS5iaW5kUG9wdXAocG9wdXBfZTgyODQwMjRlNmQ5NGZmZDk2ZDU1M2Q4N2ZiZWY5ZTIpOwoKICAgICAgICAgICAgCiAgICAgICAgCiAgICAKICAgICAgICAgICAgdmFyIGNpcmNsZV9tYXJrZXJfMTFhOTZhOTFmNjc0NGVkZThhOWQ1MWJjNmY3MWQ4MzAgPSBMLmNpcmNsZU1hcmtlcigKICAgICAgICAgICAgICAgIFs0My42Njk1NDIsLTc5LjQyMjU2MzddLAogICAgICAgICAgICAgICAgewogICJidWJibGluZ01vdXNlRXZlbnRzIjogdHJ1ZSwKICAiY29sb3IiOiAiYmx1ZSIsCiAgImRhc2hBcnJheSI6IG51bGwsCiAgImRhc2hPZmZzZXQiOiBudWxsLAogICJmaWxsIjogdHJ1ZSwKICAiZmlsbENvbG9yIjogIiMzMTg2Y2MiLAogICJmaWxsT3BhY2l0eSI6IDAuNywKICAiZmlsbFJ1bGUiOiAiZXZlbm9kZCIsCiAgImxpbmVDYXAiOiAicm91bmQiLAogICJsaW5lSm9pbiI6ICJyb3VuZCIsCiAgIm9wYWNpdHkiOiAxLjAsCiAgInJhZGl1cyI6IDUsCiAgInN0cm9rZSI6IHRydWUsCiAgIndlaWdodCI6IDMKfQogICAgICAgICAgICAgICAgKS5hZGRUbyhtYXBfNDk0ZTQ3NWZmZWZkNDJhMWEzMDZlNTliYWYyZTQ5ZWEpOwogICAgICAgICAgICAKICAgIAogICAgICAgICAgICB2YXIgcG9wdXBfNzRkZjNjMzYzYTllNDU2MDlhMzk0MzZmN2E4M2E2MjIgPSBMLnBvcHVwKHttYXhXaWR0aDogJzMwMCd9KTsKCiAgICAgICAgICAgIAogICAgICAgICAgICAgICAgdmFyIGh0bWxfMWIxNzA2NjUxYjkxNGU3OGI2ZmViMTExZWNkYTQwZjQgPSAkKCc8ZGl2IGlkPSJodG1sXzFiMTcwNjY1MWI5MTRlNzhiNmZlYjExMWVjZGE0MGY0IiBzdHlsZT0id2lkdGg6IDEwMC4wJTsgaGVpZ2h0OiAxMDAuMCU7Ij5OZWlnaGJvcmhvb2RzOiBDaHJpc3RpZSBtYXBwZWQgdG8gYm9yb3VnaDogRG93bnRvd24gVG9yb250bzwvZGl2PicpWzBdOwogICAgICAgICAgICAgICAgcG9wdXBfNzRkZjNjMzYzYTllNDU2MDlhMzk0MzZmN2E4M2E2MjIuc2V0Q29udGVudChodG1sXzFiMTcwNjY1MWI5MTRlNzhiNmZlYjExMWVjZGE0MGY0KTsKICAgICAgICAgICAgCgogICAgICAgICAgICBjaXJjbGVfbWFya2VyXzExYTk2YTkxZjY3NDRlZGU4YTlkNTFiYzZmNzFkODMwLmJpbmRQb3B1cChwb3B1cF83NGRmM2MzNjNhOWU0NTYwOWEzOTQzNmY3YTgzYTYyMik7CgogICAgICAgICAgICAKICAgICAgICAKICAgIAogICAgICAgICAgICB2YXIgY2lyY2xlX21hcmtlcl9hNzM0MTJmNTAwY2E0YWRjOTUyMGU1MzI2NzQxNzUxMSA9IEwuY2lyY2xlTWFya2VyKAogICAgICAgICAgICAgICAgWzQzLjc3MzEzNiwtNzkuMjM5NDc2MDk5OTk5OTldLAogICAgICAgICAgICAgICAgewogICJidWJibGluZ01vdXNlRXZlbnRzIjogdHJ1ZSwKICAiY29sb3IiOiAiYmx1ZSIsCiAgImRhc2hBcnJheSI6IG51bGwsCiAgImRhc2hPZmZzZXQiOiBudWxsLAogICJmaWxsIjogdHJ1ZSwKICAiZmlsbENvbG9yIjogIiMzMTg2Y2MiLAogICJmaWxsT3BhY2l0eSI6IDAuNywKICAiZmlsbFJ1bGUiOiAiZXZlbm9kZCIsCiAgImxpbmVDYXAiOiAicm91bmQiLAogICJsaW5lSm9pbiI6ICJyb3VuZCIsCiAgIm9wYWNpdHkiOiAxLjAsCiAgInJhZGl1cyI6IDUsCiAgInN0cm9rZSI6IHRydWUsCiAgIndlaWdodCI6IDMKfQogICAgICAgICAgICAgICAgKS5hZGRUbyhtYXBfNDk0ZTQ3NWZmZWZkNDJhMWEzMDZlNTliYWYyZTQ5ZWEpOwogICAgICAgICAgICAKICAgIAogICAgICAgICAgICB2YXIgcG9wdXBfYTJhODUyNGNkZDA5NDBlYTgxYjgwOWU4ZjYxOTMxYjEgPSBMLnBvcHVwKHttYXhXaWR0aDogJzMwMCd9KTsKCiAgICAgICAgICAgIAogICAgICAgICAgICAgICAgdmFyIGh0bWxfNDZmOTNkYWEzZDViNDVkYWEzYTQ5ZjQ0MjNjMGMyMmEgPSAkKCc8ZGl2IGlkPSJodG1sXzQ2ZjkzZGFhM2Q1YjQ1ZGFhM2E0OWY0NDIzYzBjMjJhIiBzdHlsZT0id2lkdGg6IDEwMC4wJTsgaGVpZ2h0OiAxMDAuMCU7Ij5OZWlnaGJvcmhvb2RzOiBDZWRhcmJyYWUgbWFwcGVkIHRvIGJvcm91Z2g6IFNjYXJib3JvdWdoPC9kaXY+JylbMF07CiAgICAgICAgICAgICAgICBwb3B1cF9hMmE4NTI0Y2RkMDk0MGVhODFiODA5ZThmNjE5MzFiMS5zZXRDb250ZW50KGh0bWxfNDZmOTNkYWEzZDViNDVkYWEzYTQ5ZjQ0MjNjMGMyMmEpOwogICAgICAgICAgICAKCiAgICAgICAgICAgIGNpcmNsZV9tYXJrZXJfYTczNDEyZjUwMGNhNGFkYzk1MjBlNTMyNjc0MTc1MTEuYmluZFBvcHVwKHBvcHVwX2EyYTg1MjRjZGQwOTQwZWE4MWI4MDllOGY2MTkzMWIxKTsKCiAgICAgICAgICAgIAogICAgICAgIAogICAgCiAgICAgICAgICAgIHZhciBjaXJjbGVfbWFya2VyXzk2NjQ4MWM3NzE4MDQzYWI4ODI3ODcyNGU5YzQ4ZjYxID0gTC5jaXJjbGVNYXJrZXIoCiAgICAgICAgICAgICAgICBbNDMuODAzNzYyMiwtNzkuMzYzNDUxN10sCiAgICAgICAgICAgICAgICB7CiAgImJ1YmJsaW5nTW91c2VFdmVudHMiOiB0cnVlLAogICJjb2xvciI6ICJibHVlIiwKICAiZGFzaEFycmF5IjogbnVsbCwKICAiZGFzaE9mZnNldCI6IG51bGwsCiAgImZpbGwiOiB0cnVlLAogICJmaWxsQ29sb3IiOiAiIzMxODZjYyIsCiAgImZpbGxPcGFjaXR5IjogMC43LAogICJmaWxsUnVsZSI6ICJldmVub2RkIiwKICAibGluZUNhcCI6ICJyb3VuZCIsCiAgImxpbmVKb2luIjogInJvdW5kIiwKICAib3BhY2l0eSI6IDEuMCwKICAicmFkaXVzIjogNSwKICAic3Ryb2tlIjogdHJ1ZSwKICAid2VpZ2h0IjogMwp9CiAgICAgICAgICAgICAgICApLmFkZFRvKG1hcF80OTRlNDc1ZmZlZmQ0MmExYTMwNmU1OWJhZjJlNDllYSk7CiAgICAgICAgICAgIAogICAgCiAgICAgICAgICAgIHZhciBwb3B1cF9lNTk1MDY4NzAxZTU0OTEyODQ1ZmNmYTVjZTdhY2RmNyA9IEwucG9wdXAoe21heFdpZHRoOiAnMzAwJ30pOwoKICAgICAgICAgICAgCiAgICAgICAgICAgICAgICB2YXIgaHRtbF8zOTk0OTJlYmZkYmE0ODg0OTBhYjM0MjA3ZWUyMTU5ZSA9ICQoJzxkaXYgaWQ9Imh0bWxfMzk5NDkyZWJmZGJhNDg4NDkwYWIzNDIwN2VlMjE1OWUiIHN0eWxlPSJ3aWR0aDogMTAwLjAlOyBoZWlnaHQ6IDEwMC4wJTsiPk5laWdoYm9yaG9vZHM6IEhpbGxjcmVzdCBWaWxsYWdlIG1hcHBlZCB0byBib3JvdWdoOiBOb3J0aCBZb3JrPC9kaXY+JylbMF07CiAgICAgICAgICAgICAgICBwb3B1cF9lNTk1MDY4NzAxZTU0OTEyODQ1ZmNmYTVjZTdhY2RmNy5zZXRDb250ZW50KGh0bWxfMzk5NDkyZWJmZGJhNDg4NDkwYWIzNDIwN2VlMjE1OWUpOwogICAgICAgICAgICAKCiAgICAgICAgICAgIGNpcmNsZV9tYXJrZXJfOTY2NDgxYzc3MTgwNDNhYjg4Mjc4NzI0ZTljNDhmNjEuYmluZFBvcHVwKHBvcHVwX2U1OTUwNjg3MDFlNTQ5MTI4NDVmY2ZhNWNlN2FjZGY3KTsKCiAgICAgICAgICAgIAogICAgICAgIAogICAgCiAgICAgICAgICAgIHZhciBjaXJjbGVfbWFya2VyXzk2OTEwOTQ2MmRmNjRlYTJhYmQ1ZjA2ZGYwMmQ5YTQ1ID0gTC5jaXJjbGVNYXJrZXIoCiAgICAgICAgICAgICAgICBbNDMuNzU0MzI4MywtNzkuNDQyMjU5M10sCiAgICAgICAgICAgICAgICB7CiAgImJ1YmJsaW5nTW91c2VFdmVudHMiOiB0cnVlLAogICJjb2xvciI6ICJibHVlIiwKICAiZGFzaEFycmF5IjogbnVsbCwKICAiZGFzaE9mZnNldCI6IG51bGwsCiAgImZpbGwiOiB0cnVlLAogICJmaWxsQ29sb3IiOiAiIzMxODZjYyIsCiAgImZpbGxPcGFjaXR5IjogMC43LAogICJmaWxsUnVsZSI6ICJldmVub2RkIiwKICAibGluZUNhcCI6ICJyb3VuZCIsCiAgImxpbmVKb2luIjogInJvdW5kIiwKICAib3BhY2l0eSI6IDEuMCwKICAicmFkaXVzIjogNSwKICAic3Ryb2tlIjogdHJ1ZSwKICAid2VpZ2h0IjogMwp9CiAgICAgICAgICAgICAgICApLmFkZFRvKG1hcF80OTRlNDc1ZmZlZmQ0MmExYTMwNmU1OWJhZjJlNDllYSk7CiAgICAgICAgICAgIAogICAgCiAgICAgICAgICAgIHZhciBwb3B1cF8wZjEzN2IxN2IxZmI0NGVhYjYzN2MzN2U1NDU4OTczMSA9IEwucG9wdXAoe21heFdpZHRoOiAnMzAwJ30pOwoKICAgICAgICAgICAgCiAgICAgICAgICAgICAgICB2YXIgaHRtbF84OGE0YWJiZjZkOGE0NjA5OGJkZGU2YjhiNTFhYTA4YiA9ICQoJzxkaXYgaWQ9Imh0bWxfODhhNGFiYmY2ZDhhNDYwOThiZGRlNmI4YjUxYWEwOGIiIHN0eWxlPSJ3aWR0aDogMTAwLjAlOyBoZWlnaHQ6IDEwMC4wJTsiPk5laWdoYm9yaG9vZHM6IEJhdGh1cnN0IE1hbm9yLCBXaWxzb24gSGVpZ2h0cywgRG93bnN2aWV3IE5vcnRoIG1hcHBlZCB0byBib3JvdWdoOiBOb3J0aCBZb3JrPC9kaXY+JylbMF07CiAgICAgICAgICAgICAgICBwb3B1cF8wZjEzN2IxN2IxZmI0NGVhYjYzN2MzN2U1NDU4OTczMS5zZXRDb250ZW50KGh0bWxfODhhNGFiYmY2ZDhhNDYwOThiZGRlNmI4YjUxYWEwOGIpOwogICAgICAgICAgICAKCiAgICAgICAgICAgIGNpcmNsZV9tYXJrZXJfOTY5MTA5NDYyZGY2NGVhMmFiZDVmMDZkZjAyZDlhNDUuYmluZFBvcHVwKHBvcHVwXzBmMTM3YjE3YjFmYjQ0ZWFiNjM3YzM3ZTU0NTg5NzMxKTsKCiAgICAgICAgICAgIAogICAgICAgIAogICAgCiAgICAgICAgICAgIHZhciBjaXJjbGVfbWFya2VyX2UyMjNmZGFiYTk4MDQ1ZTViY2RiM2UwMTI5ODM1M2E3ID0gTC5jaXJjbGVNYXJrZXIoCiAgICAgICAgICAgICAgICBbNDMuNzA1MzY4OSwtNzkuMzQ5MzcxOTAwMDAwMDFdLAogICAgICAgICAgICAgICAgewogICJidWJibGluZ01vdXNlRXZlbnRzIjogdHJ1ZSwKICAiY29sb3IiOiAiYmx1ZSIsCiAgImRhc2hBcnJheSI6IG51bGwsCiAgImRhc2hPZmZzZXQiOiBudWxsLAogICJmaWxsIjogdHJ1ZSwKICAiZmlsbENvbG9yIjogIiMzMTg2Y2MiLAogICJmaWxsT3BhY2l0eSI6IDAuNywKICAiZmlsbFJ1bGUiOiAiZXZlbm9kZCIsCiAgImxpbmVDYXAiOiAicm91bmQiLAogICJsaW5lSm9pbiI6ICJyb3VuZCIsCiAgIm9wYWNpdHkiOiAxLjAsCiAgInJhZGl1cyI6IDUsCiAgInN0cm9rZSI6IHRydWUsCiAgIndlaWdodCI6IDMKfQogICAgICAgICAgICAgICAgKS5hZGRUbyhtYXBfNDk0ZTQ3NWZmZWZkNDJhMWEzMDZlNTliYWYyZTQ5ZWEpOwogICAgICAgICAgICAKICAgIAogICAgICAgICAgICB2YXIgcG9wdXBfZDk1OTg2NjRiOGFlNDA1Y2IxMzQzOTdiMjNkYTNkNmEgPSBMLnBvcHVwKHttYXhXaWR0aDogJzMwMCd9KTsKCiAgICAgICAgICAgIAogICAgICAgICAgICAgICAgdmFyIGh0bWxfOWE1YjU5ZTMwMjk5NGI4MmFlZWQ4MDlmYWI3ODllNTUgPSAkKCc8ZGl2IGlkPSJodG1sXzlhNWI1OWUzMDI5OTRiODJhZWVkODA5ZmFiNzg5ZTU1IiBzdHlsZT0id2lkdGg6IDEwMC4wJTsgaGVpZ2h0OiAxMDAuMCU7Ij5OZWlnaGJvcmhvb2RzOiBUaG9ybmNsaWZmZSBQYXJrIG1hcHBlZCB0byBib3JvdWdoOiBFYXN0IFlvcms8L2Rpdj4nKVswXTsKICAgICAgICAgICAgICAgIHBvcHVwX2Q5NTk4NjY0YjhhZTQwNWNiMTM0Mzk3YjIzZGEzZDZhLnNldENvbnRlbnQoaHRtbF85YTViNTllMzAyOTk0YjgyYWVlZDgwOWZhYjc4OWU1NSk7CiAgICAgICAgICAgIAoKICAgICAgICAgICAgY2lyY2xlX21hcmtlcl9lMjIzZmRhYmE5ODA0NWU1YmNkYjNlMDEyOTgzNTNhNy5iaW5kUG9wdXAocG9wdXBfZDk1OTg2NjRiOGFlNDA1Y2IxMzQzOTdiMjNkYTNkNmEpOwoKICAgICAgICAgICAgCiAgICAgICAgCiAgICAKICAgICAgICAgICAgdmFyIGNpcmNsZV9tYXJrZXJfNTM5N2U5M2MyOGEzNGQ5MmE1OTkyNWM4OGU3YzRiYzMgPSBMLmNpcmNsZU1hcmtlcigKICAgICAgICAgICAgICAgIFs0My42NTA1NzEyMDAwMDAwMSwtNzkuMzg0NTY3NV0sCiAgICAgICAgICAgICAgICB7CiAgImJ1YmJsaW5nTW91c2VFdmVudHMiOiB0cnVlLAogICJjb2xvciI6ICJibHVlIiwKICAiZGFzaEFycmF5IjogbnVsbCwKICAiZGFzaE9mZnNldCI6IG51bGwsCiAgImZpbGwiOiB0cnVlLAogICJmaWxsQ29sb3IiOiAiIzMxODZjYyIsCiAgImZpbGxPcGFjaXR5IjogMC43LAogICJmaWxsUnVsZSI6ICJldmVub2RkIiwKICAibGluZUNhcCI6ICJyb3VuZCIsCiAgImxpbmVKb2luIjogInJvdW5kIiwKICAib3BhY2l0eSI6IDEuMCwKICAicmFkaXVzIjogNSwKICAic3Ryb2tlIjogdHJ1ZSwKICAid2VpZ2h0IjogMwp9CiAgICAgICAgICAgICAgICApLmFkZFRvKG1hcF80OTRlNDc1ZmZlZmQ0MmExYTMwNmU1OWJhZjJlNDllYSk7CiAgICAgICAgICAgIAogICAgCiAgICAgICAgICAgIHZhciBwb3B1cF80YTQ2ZjIyOWUyYWU0ZGU0YTRmODQyN2NkYTlkZmMyMSA9IEwucG9wdXAoe21heFdpZHRoOiAnMzAwJ30pOwoKICAgICAgICAgICAgCiAgICAgICAgICAgICAgICB2YXIgaHRtbF9iMGU5NTc3Yjg0Mzg0ZWRkYTcyYzVkMDMyNGFjZjBkOCA9ICQoJzxkaXYgaWQ9Imh0bWxfYjBlOTU3N2I4NDM4NGVkZGE3MmM1ZDAzMjRhY2YwZDgiIHN0eWxlPSJ3aWR0aDogMTAwLjAlOyBoZWlnaHQ6IDEwMC4wJTsiPk5laWdoYm9yaG9vZHM6IFJpY2htb25kLCBBZGVsYWlkZSwgS2luZyBtYXBwZWQgdG8gYm9yb3VnaDogRG93bnRvd24gVG9yb250bzwvZGl2PicpWzBdOwogICAgICAgICAgICAgICAgcG9wdXBfNGE0NmYyMjllMmFlNGRlNGE0Zjg0MjdjZGE5ZGZjMjEuc2V0Q29udGVudChodG1sX2IwZTk1NzdiODQzODRlZGRhNzJjNWQwMzI0YWNmMGQ4KTsKICAgICAgICAgICAgCgogICAgICAgICAgICBjaXJjbGVfbWFya2VyXzUzOTdlOTNjMjhhMzRkOTJhNTk5MjVjODhlN2M0YmMzLmJpbmRQb3B1cChwb3B1cF80YTQ2ZjIyOWUyYWU0ZGU0YTRmODQyN2NkYTlkZmMyMSk7CgogICAgICAgICAgICAKICAgICAgICAKICAgIAogICAgICAgICAgICB2YXIgY2lyY2xlX21hcmtlcl8xMzA5N2Y2MTQyN2I0MmU5OTkyMzZhMjE5YTU0MjEzMyA9IEwuY2lyY2xlTWFya2VyKAogICAgICAgICAgICAgICAgWzQzLjY2OTAwNTEwMDAwMDAxLC03OS40NDIyNTkzXSwKICAgICAgICAgICAgICAgIHsKICAiYnViYmxpbmdNb3VzZUV2ZW50cyI6IHRydWUsCiAgImNvbG9yIjogImJsdWUiLAogICJkYXNoQXJyYXkiOiBudWxsLAogICJkYXNoT2Zmc2V0IjogbnVsbCwKICAiZmlsbCI6IHRydWUsCiAgImZpbGxDb2xvciI6ICIjMzE4NmNjIiwKICAiZmlsbE9wYWNpdHkiOiAwLjcsCiAgImZpbGxSdWxlIjogImV2ZW5vZGQiLAogICJsaW5lQ2FwIjogInJvdW5kIiwKICAibGluZUpvaW4iOiAicm91bmQiLAogICJvcGFjaXR5IjogMS4wLAogICJyYWRpdXMiOiA1LAogICJzdHJva2UiOiB0cnVlLAogICJ3ZWlnaHQiOiAzCn0KICAgICAgICAgICAgICAgICkuYWRkVG8obWFwXzQ5NGU0NzVmZmVmZDQyYTFhMzA2ZTU5YmFmMmU0OWVhKTsKICAgICAgICAgICAgCiAgICAKICAgICAgICAgICAgdmFyIHBvcHVwXzcyMjQ4OWI5MTJjYjQ0MzI4ZDdiNTAyNDc3MzI5OTY4ID0gTC5wb3B1cCh7bWF4V2lkdGg6ICczMDAnfSk7CgogICAgICAgICAgICAKICAgICAgICAgICAgICAgIHZhciBodG1sX2M2ZmJjNjkyYTVkZDQwMDhiZWU0YTIwY2FlMTRhMGQ3ID0gJCgnPGRpdiBpZD0iaHRtbF9jNmZiYzY5MmE1ZGQ0MDA4YmVlNGEyMGNhZTE0YTBkNyIgc3R5bGU9IndpZHRoOiAxMDAuMCU7IGhlaWdodDogMTAwLjAlOyI+TmVpZ2hib3Job29kczogRHVmZmVyaW4sIERvdmVyY291cnQgVmlsbGFnZSBtYXBwZWQgdG8gYm9yb3VnaDogV2VzdCBUb3JvbnRvPC9kaXY+JylbMF07CiAgICAgICAgICAgICAgICBwb3B1cF83MjI0ODliOTEyY2I0NDMyOGQ3YjUwMjQ3NzMyOTk2OC5zZXRDb250ZW50KGh0bWxfYzZmYmM2OTJhNWRkNDAwOGJlZTRhMjBjYWUxNGEwZDcpOwogICAgICAgICAgICAKCiAgICAgICAgICAgIGNpcmNsZV9tYXJrZXJfMTMwOTdmNjE0MjdiNDJlOTk5MjM2YTIxOWE1NDIxMzMuYmluZFBvcHVwKHBvcHVwXzcyMjQ4OWI5MTJjYjQ0MzI4ZDdiNTAyNDc3MzI5OTY4KTsKCiAgICAgICAgICAgIAogICAgICAgIAogICAgCiAgICAgICAgICAgIHZhciBjaXJjbGVfbWFya2VyXzg0YTBhOGUzMmE1YzRlMGU5Y2VkZDA0ZWM2ZGE3MjI3ID0gTC5jaXJjbGVNYXJrZXIoCiAgICAgICAgICAgICAgICBbNDMuNzQ0NzM0MiwtNzkuMjM5NDc2MDk5OTk5OTldLAogICAgICAgICAgICAgICAgewogICJidWJibGluZ01vdXNlRXZlbnRzIjogdHJ1ZSwKICAiY29sb3IiOiAiYmx1ZSIsCiAgImRhc2hBcnJheSI6IG51bGwsCiAgImRhc2hPZmZzZXQiOiBudWxsLAogICJmaWxsIjogdHJ1ZSwKICAiZmlsbENvbG9yIjogIiMzMTg2Y2MiLAogICJmaWxsT3BhY2l0eSI6IDAuNywKICAiZmlsbFJ1bGUiOiAiZXZlbm9kZCIsCiAgImxpbmVDYXAiOiAicm91bmQiLAogICJsaW5lSm9pbiI6ICJyb3VuZCIsCiAgIm9wYWNpdHkiOiAxLjAsCiAgInJhZGl1cyI6IDUsCiAgInN0cm9rZSI6IHRydWUsCiAgIndlaWdodCI6IDMKfQogICAgICAgICAgICAgICAgKS5hZGRUbyhtYXBfNDk0ZTQ3NWZmZWZkNDJhMWEzMDZlNTliYWYyZTQ5ZWEpOwogICAgICAgICAgICAKICAgIAogICAgICAgICAgICB2YXIgcG9wdXBfOTk2YWYxYjI1ODVkNDRkZTliM2Q1ZmE3Y2YwYzc5NTggPSBMLnBvcHVwKHttYXhXaWR0aDogJzMwMCd9KTsKCiAgICAgICAgICAgIAogICAgICAgICAgICAgICAgdmFyIGh0bWxfOTMwZTIzY2RmOTdkNGVlOWIwNzQ0NjRkNjZmYmYwNjEgPSAkKCc8ZGl2IGlkPSJodG1sXzkzMGUyM2NkZjk3ZDRlZTliMDc0NDY0ZDY2ZmJmMDYxIiBzdHlsZT0id2lkdGg6IDEwMC4wJTsgaGVpZ2h0OiAxMDAuMCU7Ij5OZWlnaGJvcmhvb2RzOiBTY2FyYm9yb3VnaCBWaWxsYWdlIG1hcHBlZCB0byBib3JvdWdoOiBTY2FyYm9yb3VnaDwvZGl2PicpWzBdOwogICAgICAgICAgICAgICAgcG9wdXBfOTk2YWYxYjI1ODVkNDRkZTliM2Q1ZmE3Y2YwYzc5NTguc2V0Q29udGVudChodG1sXzkzMGUyM2NkZjk3ZDRlZTliMDc0NDY0ZDY2ZmJmMDYxKTsKICAgICAgICAgICAgCgogICAgICAgICAgICBjaXJjbGVfbWFya2VyXzg0YTBhOGUzMmE1YzRlMGU5Y2VkZDA0ZWM2ZGE3MjI3LmJpbmRQb3B1cChwb3B1cF85OTZhZjFiMjU4NWQ0NGRlOWIzZDVmYTdjZjBjNzk1OCk7CgogICAgICAgICAgICAKICAgICAgICAKICAgIAogICAgICAgICAgICB2YXIgY2lyY2xlX21hcmtlcl8wYjAzYzg4NzFlOTk0OTE3ODhjZjAwZTc1ZjRlMzZiYSA9IEwuY2lyY2xlTWFya2VyKAogICAgICAgICAgICAgICAgWzQzLjc3ODUxNzUsLTc5LjM0NjU1NTddLAogICAgICAgICAgICAgICAgewogICJidWJibGluZ01vdXNlRXZlbnRzIjogdHJ1ZSwKICAiY29sb3IiOiAiYmx1ZSIsCiAgImRhc2hBcnJheSI6IG51bGwsCiAgImRhc2hPZmZzZXQiOiBudWxsLAogICJmaWxsIjogdHJ1ZSwKICAiZmlsbENvbG9yIjogIiMzMTg2Y2MiLAogICJmaWxsT3BhY2l0eSI6IDAuNywKICAiZmlsbFJ1bGUiOiAiZXZlbm9kZCIsCiAgImxpbmVDYXAiOiAicm91bmQiLAogICJsaW5lSm9pbiI6ICJyb3VuZCIsCiAgIm9wYWNpdHkiOiAxLjAsCiAgInJhZGl1cyI6IDUsCiAgInN0cm9rZSI6IHRydWUsCiAgIndlaWdodCI6IDMKfQogICAgICAgICAgICAgICAgKS5hZGRUbyhtYXBfNDk0ZTQ3NWZmZWZkNDJhMWEzMDZlNTliYWYyZTQ5ZWEpOwogICAgICAgICAgICAKICAgIAogICAgICAgICAgICB2YXIgcG9wdXBfMzg1ZTE1ZTk3ZWM3NDBmY2ExN2VjOGEzM2UzZWIxYjMgPSBMLnBvcHVwKHttYXhXaWR0aDogJzMwMCd9KTsKCiAgICAgICAgICAgIAogICAgICAgICAgICAgICAgdmFyIGh0bWxfZDY1YWE0NTZlYjdjNDI3YTkyMDFhYTQ1OGNiYjI0NDkgPSAkKCc8ZGl2IGlkPSJodG1sX2Q2NWFhNDU2ZWI3YzQyN2E5MjAxYWE0NThjYmIyNDQ5IiBzdHlsZT0id2lkdGg6IDEwMC4wJTsgaGVpZ2h0OiAxMDAuMCU7Ij5OZWlnaGJvcmhvb2RzOiBGYWlydmlldywgSGVucnkgRmFybSwgT3Jpb2xlIG1hcHBlZCB0byBib3JvdWdoOiBOb3J0aCBZb3JrPC9kaXY+JylbMF07CiAgICAgICAgICAgICAgICBwb3B1cF8zODVlMTVlOTdlYzc0MGZjYTE3ZWM4YTMzZTNlYjFiMy5zZXRDb250ZW50KGh0bWxfZDY1YWE0NTZlYjdjNDI3YTkyMDFhYTQ1OGNiYjI0NDkpOwogICAgICAgICAgICAKCiAgICAgICAgICAgIGNpcmNsZV9tYXJrZXJfMGIwM2M4ODcxZTk5NDkxNzg4Y2YwMGU3NWY0ZTM2YmEuYmluZFBvcHVwKHBvcHVwXzM4NWUxNWU5N2VjNzQwZmNhMTdlYzhhMzNlM2ViMWIzKTsKCiAgICAgICAgICAgIAogICAgICAgIAogICAgCiAgICAgICAgICAgIHZhciBjaXJjbGVfbWFya2VyX2RkYTY0Yzc4MWEzYjRjNzQ4OGY3ZTlhNWIyMWZmMTBkID0gTC5jaXJjbGVNYXJrZXIoCiAgICAgICAgICAgICAgICBbNDMuNzY3OTgwMywtNzkuNDg3MjYxOTAwMDAwMDFdLAogICAgICAgICAgICAgICAgewogICJidWJibGluZ01vdXNlRXZlbnRzIjogdHJ1ZSwKICAiY29sb3IiOiAiYmx1ZSIsCiAgImRhc2hBcnJheSI6IG51bGwsCiAgImRhc2hPZmZzZXQiOiBudWxsLAogICJmaWxsIjogdHJ1ZSwKICAiZmlsbENvbG9yIjogIiMzMTg2Y2MiLAogICJmaWxsT3BhY2l0eSI6IDAuNywKICAiZmlsbFJ1bGUiOiAiZXZlbm9kZCIsCiAgImxpbmVDYXAiOiAicm91bmQiLAogICJsaW5lSm9pbiI6ICJyb3VuZCIsCiAgIm9wYWNpdHkiOiAxLjAsCiAgInJhZGl1cyI6IDUsCiAgInN0cm9rZSI6IHRydWUsCiAgIndlaWdodCI6IDMKfQogICAgICAgICAgICAgICAgKS5hZGRUbyhtYXBfNDk0ZTQ3NWZmZWZkNDJhMWEzMDZlNTliYWYyZTQ5ZWEpOwogICAgICAgICAgICAKICAgIAogICAgICAgICAgICB2YXIgcG9wdXBfZTE1OGUzYmYzNzVjNGViODhhNWIyODg4NWJjYjcwNTkgPSBMLnBvcHVwKHttYXhXaWR0aDogJzMwMCd9KTsKCiAgICAgICAgICAgIAogICAgICAgICAgICAgICAgdmFyIGh0bWxfNWY3NzljNTlhYWQwNDVkMDgwOWNhZTk3ZGIyZjMzYWMgPSAkKCc8ZGl2IGlkPSJodG1sXzVmNzc5YzU5YWFkMDQ1ZDA4MDljYWU5N2RiMmYzM2FjIiBzdHlsZT0id2lkdGg6IDEwMC4wJTsgaGVpZ2h0OiAxMDAuMCU7Ij5OZWlnaGJvcmhvb2RzOiBOb3J0aHdvb2QgUGFyaywgWW9yayBVbml2ZXJzaXR5IG1hcHBlZCB0byBib3JvdWdoOiBOb3J0aCBZb3JrPC9kaXY+JylbMF07CiAgICAgICAgICAgICAgICBwb3B1cF9lMTU4ZTNiZjM3NWM0ZWI4OGE1YjI4ODg1YmNiNzA1OS5zZXRDb250ZW50KGh0bWxfNWY3NzljNTlhYWQwNDVkMDgwOWNhZTk3ZGIyZjMzYWMpOwogICAgICAgICAgICAKCiAgICAgICAgICAgIGNpcmNsZV9tYXJrZXJfZGRhNjRjNzgxYTNiNGM3NDg4ZjdlOWE1YjIxZmYxMGQuYmluZFBvcHVwKHBvcHVwX2UxNThlM2JmMzc1YzRlYjg4YTViMjg4ODViY2I3MDU5KTsKCiAgICAgICAgICAgIAogICAgICAgIAogICAgCiAgICAgICAgICAgIHZhciBjaXJjbGVfbWFya2VyXzU5N2MzNjIzYmM3YTRiM2E5YWVkNjM4MjkwNzg3OTNlID0gTC5jaXJjbGVNYXJrZXIoCiAgICAgICAgICAgICAgICBbNDMuNjg1MzQ3LC03OS4zMzgxMDY1XSwKICAgICAgICAgICAgICAgIHsKICAiYnViYmxpbmdNb3VzZUV2ZW50cyI6IHRydWUsCiAgImNvbG9yIjogImJsdWUiLAogICJkYXNoQXJyYXkiOiBudWxsLAogICJkYXNoT2Zmc2V0IjogbnVsbCwKICAiZmlsbCI6IHRydWUsCiAgImZpbGxDb2xvciI6ICIjMzE4NmNjIiwKICAiZmlsbE9wYWNpdHkiOiAwLjcsCiAgImZpbGxSdWxlIjogImV2ZW5vZGQiLAogICJsaW5lQ2FwIjogInJvdW5kIiwKICAibGluZUpvaW4iOiAicm91bmQiLAogICJvcGFjaXR5IjogMS4wLAogICJyYWRpdXMiOiA1LAogICJzdHJva2UiOiB0cnVlLAogICJ3ZWlnaHQiOiAzCn0KICAgICAgICAgICAgICAgICkuYWRkVG8obWFwXzQ5NGU0NzVmZmVmZDQyYTFhMzA2ZTU5YmFmMmU0OWVhKTsKICAgICAgICAgICAgCiAgICAKICAgICAgICAgICAgdmFyIHBvcHVwX2U4MDZiNmZjOGE0NjRlOGRiNDA4MzNiOWQ4NDE2Y2I2ID0gTC5wb3B1cCh7bWF4V2lkdGg6ICczMDAnfSk7CgogICAgICAgICAgICAKICAgICAgICAgICAgICAgIHZhciBodG1sXzAwMjQxZmNmOGE2YjQ0NTc4ZjNmYTYzY2RhZGVhMTM0ID0gJCgnPGRpdiBpZD0iaHRtbF8wMDI0MWZjZjhhNmI0NDU3OGYzZmE2M2NkYWRlYTEzNCIgc3R5bGU9IndpZHRoOiAxMDAuMCU7IGhlaWdodDogMTAwLjAlOyI+TmVpZ2hib3Job29kczogRWFzdCBUb3JvbnRvIG1hcHBlZCB0byBib3JvdWdoOiBFYXN0IFlvcms8L2Rpdj4nKVswXTsKICAgICAgICAgICAgICAgIHBvcHVwX2U4MDZiNmZjOGE0NjRlOGRiNDA4MzNiOWQ4NDE2Y2I2LnNldENvbnRlbnQoaHRtbF8wMDI0MWZjZjhhNmI0NDU3OGYzZmE2M2NkYWRlYTEzNCk7CiAgICAgICAgICAgIAoKICAgICAgICAgICAgY2lyY2xlX21hcmtlcl81OTdjMzYyM2JjN2E0YjNhOWFlZDYzODI5MDc4NzkzZS5iaW5kUG9wdXAocG9wdXBfZTgwNmI2ZmM4YTQ2NGU4ZGI0MDgzM2I5ZDg0MTZjYjYpOwoKICAgICAgICAgICAgCiAgICAgICAgCiAgICAKICAgICAgICAgICAgdmFyIGNpcmNsZV9tYXJrZXJfZThmZmJhNjkwZjUzNDBkMzkzYjhkYmQxM2U3NTMwOGIgPSBMLmNpcmNsZU1hcmtlcigKICAgICAgICAgICAgICAgIFs0My42NDA4MTU3LC03OS4zODE3NTIyOTk5OTk5OV0sCiAgICAgICAgICAgICAgICB7CiAgImJ1YmJsaW5nTW91c2VFdmVudHMiOiB0cnVlLAogICJjb2xvciI6ICJibHVlIiwKICAiZGFzaEFycmF5IjogbnVsbCwKICAiZGFzaE9mZnNldCI6IG51bGwsCiAgImZpbGwiOiB0cnVlLAogICJmaWxsQ29sb3IiOiAiIzMxODZjYyIsCiAgImZpbGxPcGFjaXR5IjogMC43LAogICJmaWxsUnVsZSI6ICJldmVub2RkIiwKICAibGluZUNhcCI6ICJyb3VuZCIsCiAgImxpbmVKb2luIjogInJvdW5kIiwKICAib3BhY2l0eSI6IDEuMCwKICAicmFkaXVzIjogNSwKICAic3Ryb2tlIjogdHJ1ZSwKICAid2VpZ2h0IjogMwp9CiAgICAgICAgICAgICAgICApLmFkZFRvKG1hcF80OTRlNDc1ZmZlZmQ0MmExYTMwNmU1OWJhZjJlNDllYSk7CiAgICAgICAgICAgIAogICAgCiAgICAgICAgICAgIHZhciBwb3B1cF8wNTgxM2FlMzQ2OTk0MzNmYmNjMGYxYWE5MjdlMjY0ZiA9IEwucG9wdXAoe21heFdpZHRoOiAnMzAwJ30pOwoKICAgICAgICAgICAgCiAgICAgICAgICAgICAgICB2YXIgaHRtbF80Njc4NGVmMDg4OGI0NTkyYmQ1ZjhlNDAwY2I1MjVmNCA9ICQoJzxkaXYgaWQ9Imh0bWxfNDY3ODRlZjA4ODhiNDU5MmJkNWY4ZTQwMGNiNTI1ZjQiIHN0eWxlPSJ3aWR0aDogMTAwLjAlOyBoZWlnaHQ6IDEwMC4wJTsiPk5laWdoYm9yaG9vZHM6IEhhcmJvdXJmcm9udCBFYXN0LCBVbmlvbiBTdGF0aW9uLCBUb3JvbnRvIElzbGFuZHMgbWFwcGVkIHRvIGJvcm91Z2g6IERvd250b3duIFRvcm9udG88L2Rpdj4nKVswXTsKICAgICAgICAgICAgICAgIHBvcHVwXzA1ODEzYWUzNDY5OTQzM2ZiY2MwZjFhYTkyN2UyNjRmLnNldENvbnRlbnQoaHRtbF80Njc4NGVmMDg4OGI0NTkyYmQ1ZjhlNDAwY2I1MjVmNCk7CiAgICAgICAgICAgIAoKICAgICAgICAgICAgY2lyY2xlX21hcmtlcl9lOGZmYmE2OTBmNTM0MGQzOTNiOGRiZDEzZTc1MzA4Yi5iaW5kUG9wdXAocG9wdXBfMDU4MTNhZTM0Njk5NDMzZmJjYzBmMWFhOTI3ZTI2NGYpOwoKICAgICAgICAgICAgCiAgICAgICAgCiAgICAKICAgICAgICAgICAgdmFyIGNpcmNsZV9tYXJrZXJfNTE5YWZkZWZmZmM2NDQ4ZTk2YTVlOTc4YmRkZjZiYzggPSBMLmNpcmNsZU1hcmtlcigKICAgICAgICAgICAgICAgIFs0My42NDc5MjY3MDAwMDAwMDYsLTc5LjQxOTc0OTddLAogICAgICAgICAgICAgICAgewogICJidWJibGluZ01vdXNlRXZlbnRzIjogdHJ1ZSwKICAiY29sb3IiOiAiYmx1ZSIsCiAgImRhc2hBcnJheSI6IG51bGwsCiAgImRhc2hPZmZzZXQiOiBudWxsLAogICJmaWxsIjogdHJ1ZSwKICAiZmlsbENvbG9yIjogIiMzMTg2Y2MiLAogICJmaWxsT3BhY2l0eSI6IDAuNywKICAiZmlsbFJ1bGUiOiAiZXZlbm9kZCIsCiAgImxpbmVDYXAiOiAicm91bmQiLAogICJsaW5lSm9pbiI6ICJyb3VuZCIsCiAgIm9wYWNpdHkiOiAxLjAsCiAgInJhZGl1cyI6IDUsCiAgInN0cm9rZSI6IHRydWUsCiAgIndlaWdodCI6IDMKfQogICAgICAgICAgICAgICAgKS5hZGRUbyhtYXBfNDk0ZTQ3NWZmZWZkNDJhMWEzMDZlNTliYWYyZTQ5ZWEpOwogICAgICAgICAgICAKICAgIAogICAgICAgICAgICB2YXIgcG9wdXBfOGQ0MWQ4ZjdhYjViNDljOTlhMjZhY2MzOWIwMDNlODIgPSBMLnBvcHVwKHttYXhXaWR0aDogJzMwMCd9KTsKCiAgICAgICAgICAgIAogICAgICAgICAgICAgICAgdmFyIGh0bWxfOGUzNDY4ZDY4ZjBlNGNjOTljZjY1YjA2ZjRiODlmMDEgPSAkKCc8ZGl2IGlkPSJodG1sXzhlMzQ2OGQ2OGYwZTRjYzk5Y2Y2NWIwNmY0Yjg5ZjAxIiBzdHlsZT0id2lkdGg6IDEwMC4wJTsgaGVpZ2h0OiAxMDAuMCU7Ij5OZWlnaGJvcmhvb2RzOiBMaXR0bGUgUG9ydHVnYWwsIFRyaW5pdHkgbWFwcGVkIHRvIGJvcm91Z2g6IFdlc3QgVG9yb250bzwvZGl2PicpWzBdOwogICAgICAgICAgICAgICAgcG9wdXBfOGQ0MWQ4ZjdhYjViNDljOTlhMjZhY2MzOWIwMDNlODIuc2V0Q29udGVudChodG1sXzhlMzQ2OGQ2OGYwZTRjYzk5Y2Y2NWIwNmY0Yjg5ZjAxKTsKICAgICAgICAgICAgCgogICAgICAgICAgICBjaXJjbGVfbWFya2VyXzUxOWFmZGVmZmZjNjQ0OGU5NmE1ZTk3OGJkZGY2YmM4LmJpbmRQb3B1cChwb3B1cF84ZDQxZDhmN2FiNWI0OWM5OWEyNmFjYzM5YjAwM2U4Mik7CgogICAgICAgICAgICAKICAgICAgICAKICAgIAogICAgICAgICAgICB2YXIgY2lyY2xlX21hcmtlcl8yNzE5ZGY5NWE5ZmU0YjhkYjkyMWUxNGVlYjdlNDU5OCA9IEwuY2lyY2xlTWFya2VyKAogICAgICAgICAgICAgICAgWzQzLjcyNzkyOTIsLTc5LjI2MjAyOTQwMDAwMDAyXSwKICAgICAgICAgICAgICAgIHsKICAiYnViYmxpbmdNb3VzZUV2ZW50cyI6IHRydWUsCiAgImNvbG9yIjogImJsdWUiLAogICJkYXNoQXJyYXkiOiBudWxsLAogICJkYXNoT2Zmc2V0IjogbnVsbCwKICAiZmlsbCI6IHRydWUsCiAgImZpbGxDb2xvciI6ICIjMzE4NmNjIiwKICAiZmlsbE9wYWNpdHkiOiAwLjcsCiAgImZpbGxSdWxlIjogImV2ZW5vZGQiLAogICJsaW5lQ2FwIjogInJvdW5kIiwKICAibGluZUpvaW4iOiAicm91bmQiLAogICJvcGFjaXR5IjogMS4wLAogICJyYWRpdXMiOiA1LAogICJzdHJva2UiOiB0cnVlLAogICJ3ZWlnaHQiOiAzCn0KICAgICAgICAgICAgICAgICkuYWRkVG8obWFwXzQ5NGU0NzVmZmVmZDQyYTFhMzA2ZTU5YmFmMmU0OWVhKTsKICAgICAgICAgICAgCiAgICAKICAgICAgICAgICAgdmFyIHBvcHVwX2E5NmYyZmM1YmI1ZTQ2YzBhY2YwYTRhYWQ4NGRiYzYyID0gTC5wb3B1cCh7bWF4V2lkdGg6ICczMDAnfSk7CgogICAgICAgICAgICAKICAgICAgICAgICAgICAgIHZhciBodG1sX2UxMDRhNTNkOTZhYzQ4MWZiYTkxZjRhYjhmMDVmMWM1ID0gJCgnPGRpdiBpZD0iaHRtbF9lMTA0YTUzZDk2YWM0ODFmYmE5MWY0YWI4ZjA1ZjFjNSIgc3R5bGU9IndpZHRoOiAxMDAuMCU7IGhlaWdodDogMTAwLjAlOyI+TmVpZ2hib3Job29kczogS2VubmVkeSBQYXJrLCBJb252aWV3LCBFYXN0IEJpcmNobW91bnQgUGFyayBtYXBwZWQgdG8gYm9yb3VnaDogU2NhcmJvcm91Z2g8L2Rpdj4nKVswXTsKICAgICAgICAgICAgICAgIHBvcHVwX2E5NmYyZmM1YmI1ZTQ2YzBhY2YwYTRhYWQ4NGRiYzYyLnNldENvbnRlbnQoaHRtbF9lMTA0YTUzZDk2YWM0ODFmYmE5MWY0YWI4ZjA1ZjFjNSk7CiAgICAgICAgICAgIAoKICAgICAgICAgICAgY2lyY2xlX21hcmtlcl8yNzE5ZGY5NWE5ZmU0YjhkYjkyMWUxNGVlYjdlNDU5OC5iaW5kUG9wdXAocG9wdXBfYTk2ZjJmYzViYjVlNDZjMGFjZjBhNGFhZDg0ZGJjNjIpOwoKICAgICAgICAgICAgCiAgICAgICAgCiAgICAKICAgICAgICAgICAgdmFyIGNpcmNsZV9tYXJrZXJfYTM0MmI4OTYxZWEyNGVlMmI2MTllMzc3NGQ3MjM1MTggPSBMLmNpcmNsZU1hcmtlcigKICAgICAgICAgICAgICAgIFs0My43ODY5NDczLC03OS4zODU5NzVdLAogICAgICAgICAgICAgICAgewogICJidWJibGluZ01vdXNlRXZlbnRzIjogdHJ1ZSwKICAiY29sb3IiOiAiYmx1ZSIsCiAgImRhc2hBcnJheSI6IG51bGwsCiAgImRhc2hPZmZzZXQiOiBudWxsLAogICJmaWxsIjogdHJ1ZSwKICAiZmlsbENvbG9yIjogIiMzMTg2Y2MiLAogICJmaWxsT3BhY2l0eSI6IDAuNywKICAiZmlsbFJ1bGUiOiAiZXZlbm9kZCIsCiAgImxpbmVDYXAiOiAicm91bmQiLAogICJsaW5lSm9pbiI6ICJyb3VuZCIsCiAgIm9wYWNpdHkiOiAxLjAsCiAgInJhZGl1cyI6IDUsCiAgInN0cm9rZSI6IHRydWUsCiAgIndlaWdodCI6IDMKfQogICAgICAgICAgICAgICAgKS5hZGRUbyhtYXBfNDk0ZTQ3NWZmZWZkNDJhMWEzMDZlNTliYWYyZTQ5ZWEpOwogICAgICAgICAgICAKICAgIAogICAgICAgICAgICB2YXIgcG9wdXBfY2NhZjFmMDA2Y2Q0NDEzMGFmYzZiOTIyY2E4ODVkZWQgPSBMLnBvcHVwKHttYXhXaWR0aDogJzMwMCd9KTsKCiAgICAgICAgICAgIAogICAgICAgICAgICAgICAgdmFyIGh0bWxfZDRiMWVhMDJhNmQyNGUyOWI4Yjg1N2U0NDQyMDU2Y2IgPSAkKCc8ZGl2IGlkPSJodG1sX2Q0YjFlYTAyYTZkMjRlMjliOGI4NTdlNDQ0MjA1NmNiIiBzdHlsZT0id2lkdGg6IDEwMC4wJTsgaGVpZ2h0OiAxMDAuMCU7Ij5OZWlnaGJvcmhvb2RzOiBCYXl2aWV3IFZpbGxhZ2UgbWFwcGVkIHRvIGJvcm91Z2g6IE5vcnRoIFlvcms8L2Rpdj4nKVswXTsKICAgICAgICAgICAgICAgIHBvcHVwX2NjYWYxZjAwNmNkNDQxMzBhZmM2YjkyMmNhODg1ZGVkLnNldENvbnRlbnQoaHRtbF9kNGIxZWEwMmE2ZDI0ZTI5YjhiODU3ZTQ0NDIwNTZjYik7CiAgICAgICAgICAgIAoKICAgICAgICAgICAgY2lyY2xlX21hcmtlcl9hMzQyYjg5NjFlYTI0ZWUyYjYxOWUzNzc0ZDcyMzUxOC5iaW5kUG9wdXAocG9wdXBfY2NhZjFmMDA2Y2Q0NDEzMGFmYzZiOTIyY2E4ODVkZWQpOwoKICAgICAgICAgICAgCiAgICAgICAgCiAgICAKICAgICAgICAgICAgdmFyIGNpcmNsZV9tYXJrZXJfZjljNGM1MmI1ZjIyNGIwYTkzY2FhOWMwMWNjYzExOTAgPSBMLmNpcmNsZU1hcmtlcigKICAgICAgICAgICAgICAgIFs0My43Mzc0NzMyMDAwMDAwMDQsLTc5LjQ2NDc2MzI5OTk5OTk5XSwKICAgICAgICAgICAgICAgIHsKICAiYnViYmxpbmdNb3VzZUV2ZW50cyI6IHRydWUsCiAgImNvbG9yIjogImJsdWUiLAogICJkYXNoQXJyYXkiOiBudWxsLAogICJkYXNoT2Zmc2V0IjogbnVsbCwKICAiZmlsbCI6IHRydWUsCiAgImZpbGxDb2xvciI6ICIjMzE4NmNjIiwKICAiZmlsbE9wYWNpdHkiOiAwLjcsCiAgImZpbGxSdWxlIjogImV2ZW5vZGQiLAogICJsaW5lQ2FwIjogInJvdW5kIiwKICAibGluZUpvaW4iOiAicm91bmQiLAogICJvcGFjaXR5IjogMS4wLAogICJyYWRpdXMiOiA1LAogICJzdHJva2UiOiB0cnVlLAogICJ3ZWlnaHQiOiAzCn0KICAgICAgICAgICAgICAgICkuYWRkVG8obWFwXzQ5NGU0NzVmZmVmZDQyYTFhMzA2ZTU5YmFmMmU0OWVhKTsKICAgICAgICAgICAgCiAgICAKICAgICAgICAgICAgdmFyIHBvcHVwXzNjODJkMDdhNjc3MDQxYWZhYTgxOGUzZGIzNGU2MDMwID0gTC5wb3B1cCh7bWF4V2lkdGg6ICczMDAnfSk7CgogICAgICAgICAgICAKICAgICAgICAgICAgICAgIHZhciBodG1sXzcxMjc2MWUwNjBlZDQ2MGRiMjAxOTdlZjI0NmNiYzE4ID0gJCgnPGRpdiBpZD0iaHRtbF83MTI3NjFlMDYwZWQ0NjBkYjIwMTk3ZWYyNDZjYmMxOCIgc3R5bGU9IndpZHRoOiAxMDAuMCU7IGhlaWdodDogMTAwLjAlOyI+TmVpZ2hib3Job29kczogRG93bnN2aWV3IG1hcHBlZCB0byBib3JvdWdoOiBOb3J0aCBZb3JrPC9kaXY+JylbMF07CiAgICAgICAgICAgICAgICBwb3B1cF8zYzgyZDA3YTY3NzA0MWFmYWE4MThlM2RiMzRlNjAzMC5zZXRDb250ZW50KGh0bWxfNzEyNzYxZTA2MGVkNDYwZGIyMDE5N2VmMjQ2Y2JjMTgpOwogICAgICAgICAgICAKCiAgICAgICAgICAgIGNpcmNsZV9tYXJrZXJfZjljNGM1MmI1ZjIyNGIwYTkzY2FhOWMwMWNjYzExOTAuYmluZFBvcHVwKHBvcHVwXzNjODJkMDdhNjc3MDQxYWZhYTgxOGUzZGIzNGU2MDMwKTsKCiAgICAgICAgICAgIAogICAgICAgIAogICAgCiAgICAgICAgICAgIHZhciBjaXJjbGVfbWFya2VyXzAyYWIwMDBmZjdhMzRiYmFiODY2YzFjMmJmODI2YTQ3ID0gTC5jaXJjbGVNYXJrZXIoCiAgICAgICAgICAgICAgICBbNDMuNjc5NTU3MSwtNzkuMzUyMTg4XSwKICAgICAgICAgICAgICAgIHsKICAiYnViYmxpbmdNb3VzZUV2ZW50cyI6IHRydWUsCiAgImNvbG9yIjogImJsdWUiLAogICJkYXNoQXJyYXkiOiBudWxsLAogICJkYXNoT2Zmc2V0IjogbnVsbCwKICAiZmlsbCI6IHRydWUsCiAgImZpbGxDb2xvciI6ICIjMzE4NmNjIiwKICAiZmlsbE9wYWNpdHkiOiAwLjcsCiAgImZpbGxSdWxlIjogImV2ZW5vZGQiLAogICJsaW5lQ2FwIjogInJvdW5kIiwKICAibGluZUpvaW4iOiAicm91bmQiLAogICJvcGFjaXR5IjogMS4wLAogICJyYWRpdXMiOiA1LAogICJzdHJva2UiOiB0cnVlLAogICJ3ZWlnaHQiOiAzCn0KICAgICAgICAgICAgICAgICkuYWRkVG8obWFwXzQ5NGU0NzVmZmVmZDQyYTFhMzA2ZTU5YmFmMmU0OWVhKTsKICAgICAgICAgICAgCiAgICAKICAgICAgICAgICAgdmFyIHBvcHVwXzY3MWNkODQ4YjMzYjQyN2JhOWM3MGVmNDg1ZjAxMTQ1ID0gTC5wb3B1cCh7bWF4V2lkdGg6ICczMDAnfSk7CgogICAgICAgICAgICAKICAgICAgICAgICAgICAgIHZhciBodG1sX2VhZjI2ODBhNzliNTQ3ZTg5OWYyYzRhMmI5YjA0NGQyID0gJCgnPGRpdiBpZD0iaHRtbF9lYWYyNjgwYTc5YjU0N2U4OTlmMmM0YTJiOWIwNDRkMiIgc3R5bGU9IndpZHRoOiAxMDAuMCU7IGhlaWdodDogMTAwLjAlOyI+TmVpZ2hib3Job29kczogVGhlIERhbmZvcnRoIFdlc3QsIFJpdmVyZGFsZSBtYXBwZWQgdG8gYm9yb3VnaDogRWFzdCBUb3JvbnRvPC9kaXY+JylbMF07CiAgICAgICAgICAgICAgICBwb3B1cF82NzFjZDg0OGIzM2I0MjdiYTljNzBlZjQ4NWYwMTE0NS5zZXRDb250ZW50KGh0bWxfZWFmMjY4MGE3OWI1NDdlODk5ZjJjNGEyYjliMDQ0ZDIpOwogICAgICAgICAgICAKCiAgICAgICAgICAgIGNpcmNsZV9tYXJrZXJfMDJhYjAwMGZmN2EzNGJiYWI4NjZjMWMyYmY4MjZhNDcuYmluZFBvcHVwKHBvcHVwXzY3MWNkODQ4YjMzYjQyN2JhOWM3MGVmNDg1ZjAxMTQ1KTsKCiAgICAgICAgICAgIAogICAgICAgIAogICAgCiAgICAgICAgICAgIHZhciBjaXJjbGVfbWFya2VyX2ZkODg3MGYzYmUxMDQxYWNiODAyNDY3ODU5OTVjMDY5ID0gTC5jaXJjbGVNYXJrZXIoCiAgICAgICAgICAgICAgICBbNDMuNjQ3MTc2OCwtNzkuMzgxNTc2NDAwMDAwMDFdLAogICAgICAgICAgICAgICAgewogICJidWJibGluZ01vdXNlRXZlbnRzIjogdHJ1ZSwKICAiY29sb3IiOiAiYmx1ZSIsCiAgImRhc2hBcnJheSI6IG51bGwsCiAgImRhc2hPZmZzZXQiOiBudWxsLAogICJmaWxsIjogdHJ1ZSwKICAiZmlsbENvbG9yIjogIiMzMTg2Y2MiLAogICJmaWxsT3BhY2l0eSI6IDAuNywKICAiZmlsbFJ1bGUiOiAiZXZlbm9kZCIsCiAgImxpbmVDYXAiOiAicm91bmQiLAogICJsaW5lSm9pbiI6ICJyb3VuZCIsCiAgIm9wYWNpdHkiOiAxLjAsCiAgInJhZGl1cyI6IDUsCiAgInN0cm9rZSI6IHRydWUsCiAgIndlaWdodCI6IDMKfQogICAgICAgICAgICAgICAgKS5hZGRUbyhtYXBfNDk0ZTQ3NWZmZWZkNDJhMWEzMDZlNTliYWYyZTQ5ZWEpOwogICAgICAgICAgICAKICAgIAogICAgICAgICAgICB2YXIgcG9wdXBfYzExNmVhZWM2N2E5NGVkOTg1OWQ3ZWYwOTBjYjcxYjMgPSBMLnBvcHVwKHttYXhXaWR0aDogJzMwMCd9KTsKCiAgICAgICAgICAgIAogICAgICAgICAgICAgICAgdmFyIGh0bWxfNjM2ZTg1MzNlZTFlNDExODlhMGVjYTQ3NTVmMzRmNTQgPSAkKCc8ZGl2IGlkPSJodG1sXzYzNmU4NTMzZWUxZTQxMTg5YTBlY2E0NzU1ZjM0ZjU0IiBzdHlsZT0id2lkdGg6IDEwMC4wJTsgaGVpZ2h0OiAxMDAuMCU7Ij5OZWlnaGJvcmhvb2RzOiBUb3JvbnRvIERvbWluaW9uIENlbnRyZSwgRGVzaWduIEV4Y2hhbmdlIG1hcHBlZCB0byBib3JvdWdoOiBEb3dudG93biBUb3JvbnRvPC9kaXY+JylbMF07CiAgICAgICAgICAgICAgICBwb3B1cF9jMTE2ZWFlYzY3YTk0ZWQ5ODU5ZDdlZjA5MGNiNzFiMy5zZXRDb250ZW50KGh0bWxfNjM2ZTg1MzNlZTFlNDExODlhMGVjYTQ3NTVmMzRmNTQpOwogICAgICAgICAgICAKCiAgICAgICAgICAgIGNpcmNsZV9tYXJrZXJfZmQ4ODcwZjNiZTEwNDFhY2I4MDI0Njc4NTk5NWMwNjkuYmluZFBvcHVwKHBvcHVwX2MxMTZlYWVjNjdhOTRlZDk4NTlkN2VmMDkwY2I3MWIzKTsKCiAgICAgICAgICAgIAogICAgICAgIAogICAgCiAgICAgICAgICAgIHZhciBjaXJjbGVfbWFya2VyXzM2NjgyZTgxNjVhZDRhZGU4NTFiYjMwM2Y0NDFmOTg4ID0gTC5jaXJjbGVNYXJrZXIoCiAgICAgICAgICAgICAgICBbNDMuNjM2ODQ3MiwtNzkuNDI4MTkxNDAwMDAwMDJdLAogICAgICAgICAgICAgICAgewogICJidWJibGluZ01vdXNlRXZlbnRzIjogdHJ1ZSwKICAiY29sb3IiOiAiYmx1ZSIsCiAgImRhc2hBcnJheSI6IG51bGwsCiAgImRhc2hPZmZzZXQiOiBudWxsLAogICJmaWxsIjogdHJ1ZSwKICAiZmlsbENvbG9yIjogIiMzMTg2Y2MiLAogICJmaWxsT3BhY2l0eSI6IDAuNywKICAiZmlsbFJ1bGUiOiAiZXZlbm9kZCIsCiAgImxpbmVDYXAiOiAicm91bmQiLAogICJsaW5lSm9pbiI6ICJyb3VuZCIsCiAgIm9wYWNpdHkiOiAxLjAsCiAgInJhZGl1cyI6IDUsCiAgInN0cm9rZSI6IHRydWUsCiAgIndlaWdodCI6IDMKfQogICAgICAgICAgICAgICAgKS5hZGRUbyhtYXBfNDk0ZTQ3NWZmZWZkNDJhMWEzMDZlNTliYWYyZTQ5ZWEpOwogICAgICAgICAgICAKICAgIAogICAgICAgICAgICB2YXIgcG9wdXBfNGRjYmYyNDJmMmVjNDM1MTk3ODM2MDFhNGY0OTY3MTYgPSBMLnBvcHVwKHttYXhXaWR0aDogJzMwMCd9KTsKCiAgICAgICAgICAgIAogICAgICAgICAgICAgICAgdmFyIGh0bWxfMTU1ZDMzNWZmMWM2NGIxZTljNDIzNzQ0MDUxYzIxM2EgPSAkKCc8ZGl2IGlkPSJodG1sXzE1NWQzMzVmZjFjNjRiMWU5YzQyMzc0NDA1MWMyMTNhIiBzdHlsZT0id2lkdGg6IDEwMC4wJTsgaGVpZ2h0OiAxMDAuMCU7Ij5OZWlnaGJvcmhvb2RzOiBCcm9ja3RvbiwgUGFya2RhbGUgVmlsbGFnZSwgRXhoaWJpdGlvbiBQbGFjZSBtYXBwZWQgdG8gYm9yb3VnaDogV2VzdCBUb3JvbnRvPC9kaXY+JylbMF07CiAgICAgICAgICAgICAgICBwb3B1cF80ZGNiZjI0MmYyZWM0MzUxOTc4MzYwMWE0ZjQ5NjcxNi5zZXRDb250ZW50KGh0bWxfMTU1ZDMzNWZmMWM2NGIxZTljNDIzNzQ0MDUxYzIxM2EpOwogICAgICAgICAgICAKCiAgICAgICAgICAgIGNpcmNsZV9tYXJrZXJfMzY2ODJlODE2NWFkNGFkZTg1MWJiMzAzZjQ0MWY5ODguYmluZFBvcHVwKHBvcHVwXzRkY2JmMjQyZjJlYzQzNTE5NzgzNjAxYTRmNDk2NzE2KTsKCiAgICAgICAgICAgIAogICAgICAgIAogICAgCiAgICAgICAgICAgIHZhciBjaXJjbGVfbWFya2VyXzkzMjdmNzBlZmUwNzQ2NTE4ZmIxNjdjOWQ5ZTUyM2E2ID0gTC5jaXJjbGVNYXJrZXIoCiAgICAgICAgICAgICAgICBbNDMuNzExMTExNzAwMDAwMDA0LC03OS4yODQ1NzcyXSwKICAgICAgICAgICAgICAgIHsKICAiYnViYmxpbmdNb3VzZUV2ZW50cyI6IHRydWUsCiAgImNvbG9yIjogImJsdWUiLAogICJkYXNoQXJyYXkiOiBudWxsLAogICJkYXNoT2Zmc2V0IjogbnVsbCwKICAiZmlsbCI6IHRydWUsCiAgImZpbGxDb2xvciI6ICIjMzE4NmNjIiwKICAiZmlsbE9wYWNpdHkiOiAwLjcsCiAgImZpbGxSdWxlIjogImV2ZW5vZGQiLAogICJsaW5lQ2FwIjogInJvdW5kIiwKICAibGluZUpvaW4iOiAicm91bmQiLAogICJvcGFjaXR5IjogMS4wLAogICJyYWRpdXMiOiA1LAogICJzdHJva2UiOiB0cnVlLAogICJ3ZWlnaHQiOiAzCn0KICAgICAgICAgICAgICAgICkuYWRkVG8obWFwXzQ5NGU0NzVmZmVmZDQyYTFhMzA2ZTU5YmFmMmU0OWVhKTsKICAgICAgICAgICAgCiAgICAKICAgICAgICAgICAgdmFyIHBvcHVwX2ZhZDExNTZhY2RjOTQwZmY4MjExYWI1MGVkMDBiYTk5ID0gTC5wb3B1cCh7bWF4V2lkdGg6ICczMDAnfSk7CgogICAgICAgICAgICAKICAgICAgICAgICAgICAgIHZhciBodG1sXzViMTgyY2UwZDUxMDQ1NmY4MGYwYWI2YWJmOTIyNzRjID0gJCgnPGRpdiBpZD0iaHRtbF81YjE4MmNlMGQ1MTA0NTZmODBmMGFiNmFiZjkyMjc0YyIgc3R5bGU9IndpZHRoOiAxMDAuMCU7IGhlaWdodDogMTAwLjAlOyI+TmVpZ2hib3Job29kczogR29sZGVuIE1pbGUsIENsYWlybGVhLCBPYWtyaWRnZSBtYXBwZWQgdG8gYm9yb3VnaDogU2NhcmJvcm91Z2g8L2Rpdj4nKVswXTsKICAgICAgICAgICAgICAgIHBvcHVwX2ZhZDExNTZhY2RjOTQwZmY4MjExYWI1MGVkMDBiYTk5LnNldENvbnRlbnQoaHRtbF81YjE4MmNlMGQ1MTA0NTZmODBmMGFiNmFiZjkyMjc0Yyk7CiAgICAgICAgICAgIAoKICAgICAgICAgICAgY2lyY2xlX21hcmtlcl85MzI3ZjcwZWZlMDc0NjUxOGZiMTY3YzlkOWU1MjNhNi5iaW5kUG9wdXAocG9wdXBfZmFkMTE1NmFjZGM5NDBmZjgyMTFhYjUwZWQwMGJhOTkpOwoKICAgICAgICAgICAgCiAgICAgICAgCiAgICAKICAgICAgICAgICAgdmFyIGNpcmNsZV9tYXJrZXJfZmQ4MzBhMDAzMDA4NDFhYTliYjA1MjhlYjFlMjc1NGMgPSBMLmNpcmNsZU1hcmtlcigKICAgICAgICAgICAgICAgIFs0My43NTc0OTAyLC03OS4zNzQ3MTQwOTk5OTk5OV0sCiAgICAgICAgICAgICAgICB7CiAgImJ1YmJsaW5nTW91c2VFdmVudHMiOiB0cnVlLAogICJjb2xvciI6ICJibHVlIiwKICAiZGFzaEFycmF5IjogbnVsbCwKICAiZGFzaE9mZnNldCI6IG51bGwsCiAgImZpbGwiOiB0cnVlLAogICJmaWxsQ29sb3IiOiAiIzMxODZjYyIsCiAgImZpbGxPcGFjaXR5IjogMC43LAogICJmaWxsUnVsZSI6ICJldmVub2RkIiwKICAibGluZUNhcCI6ICJyb3VuZCIsCiAgImxpbmVKb2luIjogInJvdW5kIiwKICAib3BhY2l0eSI6IDEuMCwKICAicmFkaXVzIjogNSwKICAic3Ryb2tlIjogdHJ1ZSwKICAid2VpZ2h0IjogMwp9CiAgICAgICAgICAgICAgICApLmFkZFRvKG1hcF80OTRlNDc1ZmZlZmQ0MmExYTMwNmU1OWJhZjJlNDllYSk7CiAgICAgICAgICAgIAogICAgCiAgICAgICAgICAgIHZhciBwb3B1cF81YTdkMGU5MzE0OTQ0NTliYjg0NzVjZTQyYWI0YTAwOSA9IEwucG9wdXAoe21heFdpZHRoOiAnMzAwJ30pOwoKICAgICAgICAgICAgCiAgICAgICAgICAgICAgICB2YXIgaHRtbF84NGMxZjAzZjJlMTM0NDlkOTRmMDM5MTIzZmRjOTZiNiA9ICQoJzxkaXYgaWQ9Imh0bWxfODRjMWYwM2YyZTEzNDQ5ZDk0ZjAzOTEyM2ZkYzk2YjYiIHN0eWxlPSJ3aWR0aDogMTAwLjAlOyBoZWlnaHQ6IDEwMC4wJTsiPk5laWdoYm9yaG9vZHM6IFlvcmsgTWlsbHMsIFNpbHZlciBIaWxscyBtYXBwZWQgdG8gYm9yb3VnaDogTm9ydGggWW9yazwvZGl2PicpWzBdOwogICAgICAgICAgICAgICAgcG9wdXBfNWE3ZDBlOTMxNDk0NDU5YmI4NDc1Y2U0MmFiNGEwMDkuc2V0Q29udGVudChodG1sXzg0YzFmMDNmMmUxMzQ0OWQ5NGYwMzkxMjNmZGM5NmI2KTsKICAgICAgICAgICAgCgogICAgICAgICAgICBjaXJjbGVfbWFya2VyX2ZkODMwYTAwMzAwODQxYWE5YmIwNTI4ZWIxZTI3NTRjLmJpbmRQb3B1cChwb3B1cF81YTdkMGU5MzE0OTQ0NTliYjg0NzVjZTQyYWI0YTAwOSk7CgogICAgICAgICAgICAKICAgICAgICAKICAgIAogICAgICAgICAgICB2YXIgY2lyY2xlX21hcmtlcl8wNGI0ZjIyZTVmNjY0NGViODk2YTQxOTVmOWM5ODA5YiA9IEwuY2lyY2xlTWFya2VyKAogICAgICAgICAgICAgICAgWzQzLjczOTAxNDYsLTc5LjUwNjk0MzZdLAogICAgICAgICAgICAgICAgewogICJidWJibGluZ01vdXNlRXZlbnRzIjogdHJ1ZSwKICAiY29sb3IiOiAiYmx1ZSIsCiAgImRhc2hBcnJheSI6IG51bGwsCiAgImRhc2hPZmZzZXQiOiBudWxsLAogICJmaWxsIjogdHJ1ZSwKICAiZmlsbENvbG9yIjogIiMzMTg2Y2MiLAogICJmaWxsT3BhY2l0eSI6IDAuNywKICAiZmlsbFJ1bGUiOiAiZXZlbm9kZCIsCiAgImxpbmVDYXAiOiAicm91bmQiLAogICJsaW5lSm9pbiI6ICJyb3VuZCIsCiAgIm9wYWNpdHkiOiAxLjAsCiAgInJhZGl1cyI6IDUsCiAgInN0cm9rZSI6IHRydWUsCiAgIndlaWdodCI6IDMKfQogICAgICAgICAgICAgICAgKS5hZGRUbyhtYXBfNDk0ZTQ3NWZmZWZkNDJhMWEzMDZlNTliYWYyZTQ5ZWEpOwogICAgICAgICAgICAKICAgIAogICAgICAgICAgICB2YXIgcG9wdXBfN2M5YTAzMDg4NmFlNGI1MGI2NzkxY2M1YTFjYmY5NmMgPSBMLnBvcHVwKHttYXhXaWR0aDogJzMwMCd9KTsKCiAgICAgICAgICAgIAogICAgICAgICAgICAgICAgdmFyIGh0bWxfYmNhZDRmOTQwNzYwNGFlZWI1ZDNlYjY1OGY3MGFjNTcgPSAkKCc8ZGl2IGlkPSJodG1sX2JjYWQ0Zjk0MDc2MDRhZWViNWQzZWI2NThmNzBhYzU3IiBzdHlsZT0id2lkdGg6IDEwMC4wJTsgaGVpZ2h0OiAxMDAuMCU7Ij5OZWlnaGJvcmhvb2RzOiBEb3duc3ZpZXcgbWFwcGVkIHRvIGJvcm91Z2g6IE5vcnRoIFlvcms8L2Rpdj4nKVswXTsKICAgICAgICAgICAgICAgIHBvcHVwXzdjOWEwMzA4ODZhZTRiNTBiNjc5MWNjNWExY2JmOTZjLnNldENvbnRlbnQoaHRtbF9iY2FkNGY5NDA3NjA0YWVlYjVkM2ViNjU4ZjcwYWM1Nyk7CiAgICAgICAgICAgIAoKICAgICAgICAgICAgY2lyY2xlX21hcmtlcl8wNGI0ZjIyZTVmNjY0NGViODk2YTQxOTVmOWM5ODA5Yi5iaW5kUG9wdXAocG9wdXBfN2M5YTAzMDg4NmFlNGI1MGI2NzkxY2M1YTFjYmY5NmMpOwoKICAgICAgICAgICAgCiAgICAgICAgCiAgICAKICAgICAgICAgICAgdmFyIGNpcmNsZV9tYXJrZXJfOGIxMGU3M2RlNmVjNDhiZDllOWRkNDJmOGQ0NWRlZWMgPSBMLmNpcmNsZU1hcmtlcigKICAgICAgICAgICAgICAgIFs0My42Njg5OTg1LC03OS4zMTU1NzE1OTk5OTk5OF0sCiAgICAgICAgICAgICAgICB7CiAgImJ1YmJsaW5nTW91c2VFdmVudHMiOiB0cnVlLAogICJjb2xvciI6ICJibHVlIiwKICAiZGFzaEFycmF5IjogbnVsbCwKICAiZGFzaE9mZnNldCI6IG51bGwsCiAgImZpbGwiOiB0cnVlLAogICJmaWxsQ29sb3IiOiAiIzMxODZjYyIsCiAgImZpbGxPcGFjaXR5IjogMC43LAogICJmaWxsUnVsZSI6ICJldmVub2RkIiwKICAibGluZUNhcCI6ICJyb3VuZCIsCiAgImxpbmVKb2luIjogInJvdW5kIiwKICAib3BhY2l0eSI6IDEuMCwKICAicmFkaXVzIjogNSwKICAic3Ryb2tlIjogdHJ1ZSwKICAid2VpZ2h0IjogMwp9CiAgICAgICAgICAgICAgICApLmFkZFRvKG1hcF80OTRlNDc1ZmZlZmQ0MmExYTMwNmU1OWJhZjJlNDllYSk7CiAgICAgICAgICAgIAogICAgCiAgICAgICAgICAgIHZhciBwb3B1cF9iMzk0ZjM1ZDNiZTk0MWQzODVhM2U5NDFjNmRkMjFiNyA9IEwucG9wdXAoe21heFdpZHRoOiAnMzAwJ30pOwoKICAgICAgICAgICAgCiAgICAgICAgICAgICAgICB2YXIgaHRtbF8zOWMwMDc3ZTQzNzQ0ODdiYTUyZjhjOTA2MWZjMDEyNSA9ICQoJzxkaXYgaWQ9Imh0bWxfMzljMDA3N2U0Mzc0NDg3YmE1MmY4YzkwNjFmYzAxMjUiIHN0eWxlPSJ3aWR0aDogMTAwLjAlOyBoZWlnaHQ6IDEwMC4wJTsiPk5laWdoYm9yaG9vZHM6IEluZGlhIEJhemFhciwgVGhlIEJlYWNoZXMgV2VzdCBtYXBwZWQgdG8gYm9yb3VnaDogRWFzdCBUb3JvbnRvPC9kaXY+JylbMF07CiAgICAgICAgICAgICAgICBwb3B1cF9iMzk0ZjM1ZDNiZTk0MWQzODVhM2U5NDFjNmRkMjFiNy5zZXRDb250ZW50KGh0bWxfMzljMDA3N2U0Mzc0NDg3YmE1MmY4YzkwNjFmYzAxMjUpOwogICAgICAgICAgICAKCiAgICAgICAgICAgIGNpcmNsZV9tYXJrZXJfOGIxMGU3M2RlNmVjNDhiZDllOWRkNDJmOGQ0NWRlZWMuYmluZFBvcHVwKHBvcHVwX2IzOTRmMzVkM2JlOTQxZDM4NWEzZTk0MWM2ZGQyMWI3KTsKCiAgICAgICAgICAgIAogICAgICAgIAogICAgCiAgICAgICAgICAgIHZhciBjaXJjbGVfbWFya2VyX2MzNzE0MzQxNzM5ZTQzNDY4OTg2YWEzNGI5YmVjNWUwID0gTC5jaXJjbGVNYXJrZXIoCiAgICAgICAgICAgICAgICBbNDMuNjQ4MTk4NSwtNzkuMzc5ODE2OTAwMDAwMDFdLAogICAgICAgICAgICAgICAgewogICJidWJibGluZ01vdXNlRXZlbnRzIjogdHJ1ZSwKICAiY29sb3IiOiAiYmx1ZSIsCiAgImRhc2hBcnJheSI6IG51bGwsCiAgImRhc2hPZmZzZXQiOiBudWxsLAogICJmaWxsIjogdHJ1ZSwKICAiZmlsbENvbG9yIjogIiMzMTg2Y2MiLAogICJmaWxsT3BhY2l0eSI6IDAuNywKICAiZmlsbFJ1bGUiOiAiZXZlbm9kZCIsCiAgImxpbmVDYXAiOiAicm91bmQiLAogICJsaW5lSm9pbiI6ICJyb3VuZCIsCiAgIm9wYWNpdHkiOiAxLjAsCiAgInJhZGl1cyI6IDUsCiAgInN0cm9rZSI6IHRydWUsCiAgIndlaWdodCI6IDMKfQogICAgICAgICAgICAgICAgKS5hZGRUbyhtYXBfNDk0ZTQ3NWZmZWZkNDJhMWEzMDZlNTliYWYyZTQ5ZWEpOwogICAgICAgICAgICAKICAgIAogICAgICAgICAgICB2YXIgcG9wdXBfNjkxYzljZTQ4MmU1NDNlZmI2NWE2YmMyOWNhZjlkMWUgPSBMLnBvcHVwKHttYXhXaWR0aDogJzMwMCd9KTsKCiAgICAgICAgICAgIAogICAgICAgICAgICAgICAgdmFyIGh0bWxfMzkyODM1MmM0MWViNGY4MmI2MjhhYzBkYTA1M2U1NTggPSAkKCc8ZGl2IGlkPSJodG1sXzM5MjgzNTJjNDFlYjRmODJiNjI4YWMwZGEwNTNlNTU4IiBzdHlsZT0id2lkdGg6IDEwMC4wJTsgaGVpZ2h0OiAxMDAuMCU7Ij5OZWlnaGJvcmhvb2RzOiBDb21tZXJjZSBDb3VydCwgVmljdG9yaWEgSG90ZWwgbWFwcGVkIHRvIGJvcm91Z2g6IERvd250b3duIFRvcm9udG88L2Rpdj4nKVswXTsKICAgICAgICAgICAgICAgIHBvcHVwXzY5MWM5Y2U0ODJlNTQzZWZiNjVhNmJjMjljYWY5ZDFlLnNldENvbnRlbnQoaHRtbF8zOTI4MzUyYzQxZWI0ZjgyYjYyOGFjMGRhMDUzZTU1OCk7CiAgICAgICAgICAgIAoKICAgICAgICAgICAgY2lyY2xlX21hcmtlcl9jMzcxNDM0MTczOWU0MzQ2ODk4NmFhMzRiOWJlYzVlMC5iaW5kUG9wdXAocG9wdXBfNjkxYzljZTQ4MmU1NDNlZmI2NWE2YmMyOWNhZjlkMWUpOwoKICAgICAgICAgICAgCiAgICAgICAgCiAgICAKICAgICAgICAgICAgdmFyIGNpcmNsZV9tYXJrZXJfNmEwOWU4Y2IzODJhNDJmY2E5MTcwOWUyMjkyNTdlYjYgPSBMLmNpcmNsZU1hcmtlcigKICAgICAgICAgICAgICAgIFs0My43MTM3NTYyMDAwMDAwMDYsLTc5LjQ5MDA3MzhdLAogICAgICAgICAgICAgICAgewogICJidWJibGluZ01vdXNlRXZlbnRzIjogdHJ1ZSwKICAiY29sb3IiOiAiYmx1ZSIsCiAgImRhc2hBcnJheSI6IG51bGwsCiAgImRhc2hPZmZzZXQiOiBudWxsLAogICJmaWxsIjogdHJ1ZSwKICAiZmlsbENvbG9yIjogIiMzMTg2Y2MiLAogICJmaWxsT3BhY2l0eSI6IDAuNywKICAiZmlsbFJ1bGUiOiAiZXZlbm9kZCIsCiAgImxpbmVDYXAiOiAicm91bmQiLAogICJsaW5lSm9pbiI6ICJyb3VuZCIsCiAgIm9wYWNpdHkiOiAxLjAsCiAgInJhZGl1cyI6IDUsCiAgInN0cm9rZSI6IHRydWUsCiAgIndlaWdodCI6IDMKfQogICAgICAgICAgICAgICAgKS5hZGRUbyhtYXBfNDk0ZTQ3NWZmZWZkNDJhMWEzMDZlNTliYWYyZTQ5ZWEpOwogICAgICAgICAgICAKICAgIAogICAgICAgICAgICB2YXIgcG9wdXBfZGZmNDVkODI3OWNhNGQ4NzllYTkyNTQ1MjY2YTRhZDggPSBMLnBvcHVwKHttYXhXaWR0aDogJzMwMCd9KTsKCiAgICAgICAgICAgIAogICAgICAgICAgICAgICAgdmFyIGh0bWxfYWM2Nzk2OTZmM2JlNGYzZDkwZWY1MmVlNDI0NDgxN2EgPSAkKCc8ZGl2IGlkPSJodG1sX2FjNjc5Njk2ZjNiZTRmM2Q5MGVmNTJlZTQyNDQ4MTdhIiBzdHlsZT0id2lkdGg6IDEwMC4wJTsgaGVpZ2h0OiAxMDAuMCU7Ij5OZWlnaGJvcmhvb2RzOiBOb3J0aCBQYXJrLCBNYXBsZSBMZWFmIFBhcmssIFVwd29vZCBQYXJrIG1hcHBlZCB0byBib3JvdWdoOiBOb3J0aCBZb3JrPC9kaXY+JylbMF07CiAgICAgICAgICAgICAgICBwb3B1cF9kZmY0NWQ4Mjc5Y2E0ZDg3OWVhOTI1NDUyNjZhNGFkOC5zZXRDb250ZW50KGh0bWxfYWM2Nzk2OTZmM2JlNGYzZDkwZWY1MmVlNDI0NDgxN2EpOwogICAgICAgICAgICAKCiAgICAgICAgICAgIGNpcmNsZV9tYXJrZXJfNmEwOWU4Y2IzODJhNDJmY2E5MTcwOWUyMjkyNTdlYjYuYmluZFBvcHVwKHBvcHVwX2RmZjQ1ZDgyNzljYTRkODc5ZWE5MjU0NTI2NmE0YWQ4KTsKCiAgICAgICAgICAgIAogICAgICAgIAogICAgCiAgICAgICAgICAgIHZhciBjaXJjbGVfbWFya2VyX2RiNjE4MDk4NzM5ZDQyM2Q4ODE5YzA5NDM2YzYzZjhhID0gTC5jaXJjbGVNYXJrZXIoCiAgICAgICAgICAgICAgICBbNDMuNzU2MzAzMywtNzkuNTY1OTYzMjk5OTk5OTldLAogICAgICAgICAgICAgICAgewogICJidWJibGluZ01vdXNlRXZlbnRzIjogdHJ1ZSwKICAiY29sb3IiOiAiYmx1ZSIsCiAgImRhc2hBcnJheSI6IG51bGwsCiAgImRhc2hPZmZzZXQiOiBudWxsLAogICJmaWxsIjogdHJ1ZSwKICAiZmlsbENvbG9yIjogIiMzMTg2Y2MiLAogICJmaWxsT3BhY2l0eSI6IDAuNywKICAiZmlsbFJ1bGUiOiAiZXZlbm9kZCIsCiAgImxpbmVDYXAiOiAicm91bmQiLAogICJsaW5lSm9pbiI6ICJyb3VuZCIsCiAgIm9wYWNpdHkiOiAxLjAsCiAgInJhZGl1cyI6IDUsCiAgInN0cm9rZSI6IHRydWUsCiAgIndlaWdodCI6IDMKfQogICAgICAgICAgICAgICAgKS5hZGRUbyhtYXBfNDk0ZTQ3NWZmZWZkNDJhMWEzMDZlNTliYWYyZTQ5ZWEpOwogICAgICAgICAgICAKICAgIAogICAgICAgICAgICB2YXIgcG9wdXBfNTJiNGJmYjAzMTM4NDhkMWE2ZWJjZmNmOWNkYjZhMTggPSBMLnBvcHVwKHttYXhXaWR0aDogJzMwMCd9KTsKCiAgICAgICAgICAgIAogICAgICAgICAgICAgICAgdmFyIGh0bWxfMWYxODZjY2JmNGYzNDgwMGE3ZTA3Y2QwYWNkMGE0NWEgPSAkKCc8ZGl2IGlkPSJodG1sXzFmMTg2Y2NiZjRmMzQ4MDBhN2UwN2NkMGFjZDBhNDVhIiBzdHlsZT0id2lkdGg6IDEwMC4wJTsgaGVpZ2h0OiAxMDAuMCU7Ij5OZWlnaGJvcmhvb2RzOiBIdW1iZXIgU3VtbWl0IG1hcHBlZCB0byBib3JvdWdoOiBOb3J0aCBZb3JrPC9kaXY+JylbMF07CiAgICAgICAgICAgICAgICBwb3B1cF81MmI0YmZiMDMxMzg0OGQxYTZlYmNmY2Y5Y2RiNmExOC5zZXRDb250ZW50KGh0bWxfMWYxODZjY2JmNGYzNDgwMGE3ZTA3Y2QwYWNkMGE0NWEpOwogICAgICAgICAgICAKCiAgICAgICAgICAgIGNpcmNsZV9tYXJrZXJfZGI2MTgwOTg3MzlkNDIzZDg4MTljMDk0MzZjNjNmOGEuYmluZFBvcHVwKHBvcHVwXzUyYjRiZmIwMzEzODQ4ZDFhNmViY2ZjZjljZGI2YTE4KTsKCiAgICAgICAgICAgIAogICAgICAgIAogICAgCiAgICAgICAgICAgIHZhciBjaXJjbGVfbWFya2VyX2U0MWNkYzI1YmNkZTQxNTE5OTJmNjc3M2RkYWZjMjg0ID0gTC5jaXJjbGVNYXJrZXIoCiAgICAgICAgICAgICAgICBbNDMuNzE2MzE2LC03OS4yMzk0NzYwOTk5OTk5OV0sCiAgICAgICAgICAgICAgICB7CiAgImJ1YmJsaW5nTW91c2VFdmVudHMiOiB0cnVlLAogICJjb2xvciI6ICJibHVlIiwKICAiZGFzaEFycmF5IjogbnVsbCwKICAiZGFzaE9mZnNldCI6IG51bGwsCiAgImZpbGwiOiB0cnVlLAogICJmaWxsQ29sb3IiOiAiIzMxODZjYyIsCiAgImZpbGxPcGFjaXR5IjogMC43LAogICJmaWxsUnVsZSI6ICJldmVub2RkIiwKICAibGluZUNhcCI6ICJyb3VuZCIsCiAgImxpbmVKb2luIjogInJvdW5kIiwKICAib3BhY2l0eSI6IDEuMCwKICAicmFkaXVzIjogNSwKICAic3Ryb2tlIjogdHJ1ZSwKICAid2VpZ2h0IjogMwp9CiAgICAgICAgICAgICAgICApLmFkZFRvKG1hcF80OTRlNDc1ZmZlZmQ0MmExYTMwNmU1OWJhZjJlNDllYSk7CiAgICAgICAgICAgIAogICAgCiAgICAgICAgICAgIHZhciBwb3B1cF84YTU0ZjI4M2Y2NDQ0YmU2YjU0Mjg5Nzc2MjQ0NmQ1OCA9IEwucG9wdXAoe21heFdpZHRoOiAnMzAwJ30pOwoKICAgICAgICAgICAgCiAgICAgICAgICAgICAgICB2YXIgaHRtbF9mZWM0M2Q1OWFmYmE0NDUzOWZjNjE1Y2E1YzMzYjdkNiA9ICQoJzxkaXYgaWQ9Imh0bWxfZmVjNDNkNTlhZmJhNDQ1MzlmYzYxNWNhNWMzM2I3ZDYiIHN0eWxlPSJ3aWR0aDogMTAwLjAlOyBoZWlnaHQ6IDEwMC4wJTsiPk5laWdoYm9yaG9vZHM6IENsaWZmc2lkZSwgQ2xpZmZjcmVzdCwgU2NhcmJvcm91Z2ggVmlsbGFnZSBXZXN0IG1hcHBlZCB0byBib3JvdWdoOiBTY2FyYm9yb3VnaDwvZGl2PicpWzBdOwogICAgICAgICAgICAgICAgcG9wdXBfOGE1NGYyODNmNjQ0NGJlNmI1NDI4OTc3NjI0NDZkNTguc2V0Q29udGVudChodG1sX2ZlYzQzZDU5YWZiYTQ0NTM5ZmM2MTVjYTVjMzNiN2Q2KTsKICAgICAgICAgICAgCgogICAgICAgICAgICBjaXJjbGVfbWFya2VyX2U0MWNkYzI1YmNkZTQxNTE5OTJmNjc3M2RkYWZjMjg0LmJpbmRQb3B1cChwb3B1cF84YTU0ZjI4M2Y2NDQ0YmU2YjU0Mjg5Nzc2MjQ0NmQ1OCk7CgogICAgICAgICAgICAKICAgICAgICAKICAgIAogICAgICAgICAgICB2YXIgY2lyY2xlX21hcmtlcl81NzdiOTljZmQyMDI0ODY2YjFhNWE0YmYzN2M1MzkzZiA9IEwuY2lyY2xlTWFya2VyKAogICAgICAgICAgICAgICAgWzQzLjc4OTA1MywtNzkuNDA4NDkyNzk5OTk5OTldLAogICAgICAgICAgICAgICAgewogICJidWJibGluZ01vdXNlRXZlbnRzIjogdHJ1ZSwKICAiY29sb3IiOiAiYmx1ZSIsCiAgImRhc2hBcnJheSI6IG51bGwsCiAgImRhc2hPZmZzZXQiOiBudWxsLAogICJmaWxsIjogdHJ1ZSwKICAiZmlsbENvbG9yIjogIiMzMTg2Y2MiLAogICJmaWxsT3BhY2l0eSI6IDAuNywKICAiZmlsbFJ1bGUiOiAiZXZlbm9kZCIsCiAgImxpbmVDYXAiOiAicm91bmQiLAogICJsaW5lSm9pbiI6ICJyb3VuZCIsCiAgIm9wYWNpdHkiOiAxLjAsCiAgInJhZGl1cyI6IDUsCiAgInN0cm9rZSI6IHRydWUsCiAgIndlaWdodCI6IDMKfQogICAgICAgICAgICAgICAgKS5hZGRUbyhtYXBfNDk0ZTQ3NWZmZWZkNDJhMWEzMDZlNTliYWYyZTQ5ZWEpOwogICAgICAgICAgICAKICAgIAogICAgICAgICAgICB2YXIgcG9wdXBfNjI1MjQ1NjdiN2VjNGY1NjkyMzRlMWY1NGY4NzY5MGIgPSBMLnBvcHVwKHttYXhXaWR0aDogJzMwMCd9KTsKCiAgICAgICAgICAgIAogICAgICAgICAgICAgICAgdmFyIGh0bWxfNzEyNGRkYWQ4ZWQyNGVkNDgyMjQ3MGViMWNhOTVjNDcgPSAkKCc8ZGl2IGlkPSJodG1sXzcxMjRkZGFkOGVkMjRlZDQ4MjI0NzBlYjFjYTk1YzQ3IiBzdHlsZT0id2lkdGg6IDEwMC4wJTsgaGVpZ2h0OiAxMDAuMCU7Ij5OZWlnaGJvcmhvb2RzOiBXaWxsb3dkYWxlLCBOZXd0b25icm9vayBtYXBwZWQgdG8gYm9yb3VnaDogTm9ydGggWW9yazwvZGl2PicpWzBdOwogICAgICAgICAgICAgICAgcG9wdXBfNjI1MjQ1NjdiN2VjNGY1NjkyMzRlMWY1NGY4NzY5MGIuc2V0Q29udGVudChodG1sXzcxMjRkZGFkOGVkMjRlZDQ4MjI0NzBlYjFjYTk1YzQ3KTsKICAgICAgICAgICAgCgogICAgICAgICAgICBjaXJjbGVfbWFya2VyXzU3N2I5OWNmZDIwMjQ4NjZiMWE1YTRiZjM3YzUzOTNmLmJpbmRQb3B1cChwb3B1cF82MjUyNDU2N2I3ZWM0ZjU2OTIzNGUxZjU0Zjg3NjkwYik7CgogICAgICAgICAgICAKICAgICAgICAKICAgIAogICAgICAgICAgICB2YXIgY2lyY2xlX21hcmtlcl8zZjY4NDE5ZDJhOWQ0MTgxYTZmZmJkZGVhYWI0YWM0NyA9IEwuY2lyY2xlTWFya2VyKAogICAgICAgICAgICAgICAgWzQzLjcyODQ5NjQsLTc5LjQ5NTY5NzQwMDAwMDAxXSwKICAgICAgICAgICAgICAgIHsKICAiYnViYmxpbmdNb3VzZUV2ZW50cyI6IHRydWUsCiAgImNvbG9yIjogImJsdWUiLAogICJkYXNoQXJyYXkiOiBudWxsLAogICJkYXNoT2Zmc2V0IjogbnVsbCwKICAiZmlsbCI6IHRydWUsCiAgImZpbGxDb2xvciI6ICIjMzE4NmNjIiwKICAiZmlsbE9wYWNpdHkiOiAwLjcsCiAgImZpbGxSdWxlIjogImV2ZW5vZGQiLAogICJsaW5lQ2FwIjogInJvdW5kIiwKICAibGluZUpvaW4iOiAicm91bmQiLAogICJvcGFjaXR5IjogMS4wLAogICJyYWRpdXMiOiA1LAogICJzdHJva2UiOiB0cnVlLAogICJ3ZWlnaHQiOiAzCn0KICAgICAgICAgICAgICAgICkuYWRkVG8obWFwXzQ5NGU0NzVmZmVmZDQyYTFhMzA2ZTU5YmFmMmU0OWVhKTsKICAgICAgICAgICAgCiAgICAKICAgICAgICAgICAgdmFyIHBvcHVwXzViZTcwMjNiMGMzODRjYWM4YzM1ZTZjMDRiZWRjYjExID0gTC5wb3B1cCh7bWF4V2lkdGg6ICczMDAnfSk7CgogICAgICAgICAgICAKICAgICAgICAgICAgICAgIHZhciBodG1sXzM5NGI4MDIxMDVkOTRjNWFiNTJhOGUwYmZjZjQyOWU5ID0gJCgnPGRpdiBpZD0iaHRtbF8zOTRiODAyMTA1ZDk0YzVhYjUyYThlMGJmY2Y0MjllOSIgc3R5bGU9IndpZHRoOiAxMDAuMCU7IGhlaWdodDogMTAwLjAlOyI+TmVpZ2hib3Job29kczogRG93bnN2aWV3IG1hcHBlZCB0byBib3JvdWdoOiBOb3J0aCBZb3JrPC9kaXY+JylbMF07CiAgICAgICAgICAgICAgICBwb3B1cF81YmU3MDIzYjBjMzg0Y2FjOGMzNWU2YzA0YmVkY2IxMS5zZXRDb250ZW50KGh0bWxfMzk0YjgwMjEwNWQ5NGM1YWI1MmE4ZTBiZmNmNDI5ZTkpOwogICAgICAgICAgICAKCiAgICAgICAgICAgIGNpcmNsZV9tYXJrZXJfM2Y2ODQxOWQyYTlkNDE4MWE2ZmZiZGRlYWFiNGFjNDcuYmluZFBvcHVwKHBvcHVwXzViZTcwMjNiMGMzODRjYWM4YzM1ZTZjMDRiZWRjYjExKTsKCiAgICAgICAgICAgIAogICAgICAgIAogICAgCiAgICAgICAgICAgIHZhciBjaXJjbGVfbWFya2VyXzc2MjNiNDJjODFiOTRmMGNhMmJkZDJlMTAzZWUxNTA2ID0gTC5jaXJjbGVNYXJrZXIoCiAgICAgICAgICAgICAgICBbNDMuNjU5NTI1NSwtNzkuMzQwOTIzXSwKICAgICAgICAgICAgICAgIHsKICAiYnViYmxpbmdNb3VzZUV2ZW50cyI6IHRydWUsCiAgImNvbG9yIjogImJsdWUiLAogICJkYXNoQXJyYXkiOiBudWxsLAogICJkYXNoT2Zmc2V0IjogbnVsbCwKICAiZmlsbCI6IHRydWUsCiAgImZpbGxDb2xvciI6ICIjMzE4NmNjIiwKICAiZmlsbE9wYWNpdHkiOiAwLjcsCiAgImZpbGxSdWxlIjogImV2ZW5vZGQiLAogICJsaW5lQ2FwIjogInJvdW5kIiwKICAibGluZUpvaW4iOiAicm91bmQiLAogICJvcGFjaXR5IjogMS4wLAogICJyYWRpdXMiOiA1LAogICJzdHJva2UiOiB0cnVlLAogICJ3ZWlnaHQiOiAzCn0KICAgICAgICAgICAgICAgICkuYWRkVG8obWFwXzQ5NGU0NzVmZmVmZDQyYTFhMzA2ZTU5YmFmMmU0OWVhKTsKICAgICAgICAgICAgCiAgICAKICAgICAgICAgICAgdmFyIHBvcHVwX2ZkNDk1OGQ2NmYzYjQ0ZWJiYzc4MDVhYjJjNzYzNmVhID0gTC5wb3B1cCh7bWF4V2lkdGg6ICczMDAnfSk7CgogICAgICAgICAgICAKICAgICAgICAgICAgICAgIHZhciBodG1sXzBmN2IyYzg1NTNmZTRjYWRiNGIxMjA4Zjk4MzMyZWNiID0gJCgnPGRpdiBpZD0iaHRtbF8wZjdiMmM4NTUzZmU0Y2FkYjRiMTIwOGY5ODMzMmVjYiIgc3R5bGU9IndpZHRoOiAxMDAuMCU7IGhlaWdodDogMTAwLjAlOyI+TmVpZ2hib3Job29kczogU3R1ZGlvIERpc3RyaWN0IG1hcHBlZCB0byBib3JvdWdoOiBFYXN0IFRvcm9udG88L2Rpdj4nKVswXTsKICAgICAgICAgICAgICAgIHBvcHVwX2ZkNDk1OGQ2NmYzYjQ0ZWJiYzc4MDVhYjJjNzYzNmVhLnNldENvbnRlbnQoaHRtbF8wZjdiMmM4NTUzZmU0Y2FkYjRiMTIwOGY5ODMzMmVjYik7CiAgICAgICAgICAgIAoKICAgICAgICAgICAgY2lyY2xlX21hcmtlcl83NjIzYjQyYzgxYjk0ZjBjYTJiZGQyZTEwM2VlMTUwNi5iaW5kUG9wdXAocG9wdXBfZmQ0OTU4ZDY2ZjNiNDRlYmJjNzgwNWFiMmM3NjM2ZWEpOwoKICAgICAgICAgICAgCiAgICAgICAgCiAgICAKICAgICAgICAgICAgdmFyIGNpcmNsZV9tYXJrZXJfNTI0YzdhMTI1OTQxNGE1YzhkOGFiZTM2NzNmNGFiNmEgPSBMLmNpcmNsZU1hcmtlcigKICAgICAgICAgICAgICAgIFs0My43MzMyODI1LC03OS40MTk3NDk3XSwKICAgICAgICAgICAgICAgIHsKICAiYnViYmxpbmdNb3VzZUV2ZW50cyI6IHRydWUsCiAgImNvbG9yIjogImJsdWUiLAogICJkYXNoQXJyYXkiOiBudWxsLAogICJkYXNoT2Zmc2V0IjogbnVsbCwKICAiZmlsbCI6IHRydWUsCiAgImZpbGxDb2xvciI6ICIjMzE4NmNjIiwKICAiZmlsbE9wYWNpdHkiOiAwLjcsCiAgImZpbGxSdWxlIjogImV2ZW5vZGQiLAogICJsaW5lQ2FwIjogInJvdW5kIiwKICAibGluZUpvaW4iOiAicm91bmQiLAogICJvcGFjaXR5IjogMS4wLAogICJyYWRpdXMiOiA1LAogICJzdHJva2UiOiB0cnVlLAogICJ3ZWlnaHQiOiAzCn0KICAgICAgICAgICAgICAgICkuYWRkVG8obWFwXzQ5NGU0NzVmZmVmZDQyYTFhMzA2ZTU5YmFmMmU0OWVhKTsKICAgICAgICAgICAgCiAgICAKICAgICAgICAgICAgdmFyIHBvcHVwXzUzMGYwMjcxZjdhYzRlMzJhNDc0YjYxYzkyMGM1YTlmID0gTC5wb3B1cCh7bWF4V2lkdGg6ICczMDAnfSk7CgogICAgICAgICAgICAKICAgICAgICAgICAgICAgIHZhciBodG1sX2UyZjFlZDdiYTgyNzRmNzliZmI4ZTAzYjAxYmE1OGZjID0gJCgnPGRpdiBpZD0iaHRtbF9lMmYxZWQ3YmE4Mjc0Zjc5YmZiOGUwM2IwMWJhNThmYyIgc3R5bGU9IndpZHRoOiAxMDAuMCU7IGhlaWdodDogMTAwLjAlOyI+TmVpZ2hib3Job29kczogQmVkZm9yZCBQYXJrLCBMYXdyZW5jZSBNYW5vciBFYXN0IG1hcHBlZCB0byBib3JvdWdoOiBOb3J0aCBZb3JrPC9kaXY+JylbMF07CiAgICAgICAgICAgICAgICBwb3B1cF81MzBmMDI3MWY3YWM0ZTMyYTQ3NGI2MWM5MjBjNWE5Zi5zZXRDb250ZW50KGh0bWxfZTJmMWVkN2JhODI3NGY3OWJmYjhlMDNiMDFiYTU4ZmMpOwogICAgICAgICAgICAKCiAgICAgICAgICAgIGNpcmNsZV9tYXJrZXJfNTI0YzdhMTI1OTQxNGE1YzhkOGFiZTM2NzNmNGFiNmEuYmluZFBvcHVwKHBvcHVwXzUzMGYwMjcxZjdhYzRlMzJhNDc0YjYxYzkyMGM1YTlmKTsKCiAgICAgICAgICAgIAogICAgICAgIAogICAgCiAgICAgICAgICAgIHZhciBjaXJjbGVfbWFya2VyXzYxMjBhNjNlNTQ3NTQ3ZTk4M2UwNzZiMmQ1MmU1Y2Q0ID0gTC5jaXJjbGVNYXJrZXIoCiAgICAgICAgICAgICAgICBbNDMuNjkxMTE1OCwtNzkuNDc2MDEzMjk5OTk5OTldLAogICAgICAgICAgICAgICAgewogICJidWJibGluZ01vdXNlRXZlbnRzIjogdHJ1ZSwKICAiY29sb3IiOiAiYmx1ZSIsCiAgImRhc2hBcnJheSI6IG51bGwsCiAgImRhc2hPZmZzZXQiOiBudWxsLAogICJmaWxsIjogdHJ1ZSwKICAiZmlsbENvbG9yIjogIiMzMTg2Y2MiLAogICJmaWxsT3BhY2l0eSI6IDAuNywKICAiZmlsbFJ1bGUiOiAiZXZlbm9kZCIsCiAgImxpbmVDYXAiOiAicm91bmQiLAogICJsaW5lSm9pbiI6ICJyb3VuZCIsCiAgIm9wYWNpdHkiOiAxLjAsCiAgInJhZGl1cyI6IDUsCiAgInN0cm9rZSI6IHRydWUsCiAgIndlaWdodCI6IDMKfQogICAgICAgICAgICAgICAgKS5hZGRUbyhtYXBfNDk0ZTQ3NWZmZWZkNDJhMWEzMDZlNTliYWYyZTQ5ZWEpOwogICAgICAgICAgICAKICAgIAogICAgICAgICAgICB2YXIgcG9wdXBfMDZhMjNiODFkY2E3NDEzZDg0ZjVhYzA5MTYyMDlmYzQgPSBMLnBvcHVwKHttYXhXaWR0aDogJzMwMCd9KTsKCiAgICAgICAgICAgIAogICAgICAgICAgICAgICAgdmFyIGh0bWxfNGRiODNlMGVjY2M4NGY5Nzg1YjU5MDhiYTVmZjk5NzkgPSAkKCc8ZGl2IGlkPSJodG1sXzRkYjgzZTBlY2NjODRmOTc4NWI1OTA4YmE1ZmY5OTc5IiBzdHlsZT0id2lkdGg6IDEwMC4wJTsgaGVpZ2h0OiAxMDAuMCU7Ij5OZWlnaGJvcmhvb2RzOiBEZWwgUmF5LCBNb3VudCBEZW5uaXMsIEtlZWxzZGFsZSBhbmQgU2lsdmVydGhvcm4gbWFwcGVkIHRvIGJvcm91Z2g6IFlvcms8L2Rpdj4nKVswXTsKICAgICAgICAgICAgICAgIHBvcHVwXzA2YTIzYjgxZGNhNzQxM2Q4NGY1YWMwOTE2MjA5ZmM0LnNldENvbnRlbnQoaHRtbF80ZGI4M2UwZWNjYzg0Zjk3ODViNTkwOGJhNWZmOTk3OSk7CiAgICAgICAgICAgIAoKICAgICAgICAgICAgY2lyY2xlX21hcmtlcl82MTIwYTYzZTU0NzU0N2U5ODNlMDc2YjJkNTJlNWNkNC5iaW5kUG9wdXAocG9wdXBfMDZhMjNiODFkY2E3NDEzZDg0ZjVhYzA5MTYyMDlmYzQpOwoKICAgICAgICAgICAgCiAgICAgICAgCiAgICAKICAgICAgICAgICAgdmFyIGNpcmNsZV9tYXJrZXJfYTYxNWYyMjNhM2VjNDVhMzk5ZWU0NDgyNGRhZWQ0ZTcgPSBMLmNpcmNsZU1hcmtlcigKICAgICAgICAgICAgICAgIFs0My43MjQ3NjU5LC03OS41MzIyNDI0MDAwMDAwMl0sCiAgICAgICAgICAgICAgICB7CiAgImJ1YmJsaW5nTW91c2VFdmVudHMiOiB0cnVlLAogICJjb2xvciI6ICJibHVlIiwKICAiZGFzaEFycmF5IjogbnVsbCwKICAiZGFzaE9mZnNldCI6IG51bGwsCiAgImZpbGwiOiB0cnVlLAogICJmaWxsQ29sb3IiOiAiIzMxODZjYyIsCiAgImZpbGxPcGFjaXR5IjogMC43LAogICJmaWxsUnVsZSI6ICJldmVub2RkIiwKICAibGluZUNhcCI6ICJyb3VuZCIsCiAgImxpbmVKb2luIjogInJvdW5kIiwKICAib3BhY2l0eSI6IDEuMCwKICAicmFkaXVzIjogNSwKICAic3Ryb2tlIjogdHJ1ZSwKICAid2VpZ2h0IjogMwp9CiAgICAgICAgICAgICAgICApLmFkZFRvKG1hcF80OTRlNDc1ZmZlZmQ0MmExYTMwNmU1OWJhZjJlNDllYSk7CiAgICAgICAgICAgIAogICAgCiAgICAgICAgICAgIHZhciBwb3B1cF9hNWEzZDczYmMxZmQ0OTcyOTAzZjhkZmFjNzNjMjc2NSA9IEwucG9wdXAoe21heFdpZHRoOiAnMzAwJ30pOwoKICAgICAgICAgICAgCiAgICAgICAgICAgICAgICB2YXIgaHRtbF9iMzBjOWY2ZmEyYzA0MmUyOWE3ODliOWUzOTE1Mzc4OSA9ICQoJzxkaXYgaWQ9Imh0bWxfYjMwYzlmNmZhMmMwNDJlMjlhNzg5YjllMzkxNTM3ODkiIHN0eWxlPSJ3aWR0aDogMTAwLjAlOyBoZWlnaHQ6IDEwMC4wJTsiPk5laWdoYm9yaG9vZHM6IEh1bWJlcmxlYSwgRW1lcnkgbWFwcGVkIHRvIGJvcm91Z2g6IE5vcnRoIFlvcms8L2Rpdj4nKVswXTsKICAgICAgICAgICAgICAgIHBvcHVwX2E1YTNkNzNiYzFmZDQ5NzI5MDNmOGRmYWM3M2MyNzY1LnNldENvbnRlbnQoaHRtbF9iMzBjOWY2ZmEyYzA0MmUyOWE3ODliOWUzOTE1Mzc4OSk7CiAgICAgICAgICAgIAoKICAgICAgICAgICAgY2lyY2xlX21hcmtlcl9hNjE1ZjIyM2EzZWM0NWEzOTllZTQ0ODI0ZGFlZDRlNy5iaW5kUG9wdXAocG9wdXBfYTVhM2Q3M2JjMWZkNDk3MjkwM2Y4ZGZhYzczYzI3NjUpOwoKICAgICAgICAgICAgCiAgICAgICAgCiAgICAKICAgICAgICAgICAgdmFyIGNpcmNsZV9tYXJrZXJfOWE1OGY4OGI0ZGFlNDFlN2FhMmE4MTRhNDE4MjhlNTkgPSBMLmNpcmNsZU1hcmtlcigKICAgICAgICAgICAgICAgIFs0My42OTI2NTcwMDAwMDAwMDQsLTc5LjI2NDg0ODFdLAogICAgICAgICAgICAgICAgewogICJidWJibGluZ01vdXNlRXZlbnRzIjogdHJ1ZSwKICAiY29sb3IiOiAiYmx1ZSIsCiAgImRhc2hBcnJheSI6IG51bGwsCiAgImRhc2hPZmZzZXQiOiBudWxsLAogICJmaWxsIjogdHJ1ZSwKICAiZmlsbENvbG9yIjogIiMzMTg2Y2MiLAogICJmaWxsT3BhY2l0eSI6IDAuNywKICAiZmlsbFJ1bGUiOiAiZXZlbm9kZCIsCiAgImxpbmVDYXAiOiAicm91bmQiLAogICJsaW5lSm9pbiI6ICJyb3VuZCIsCiAgIm9wYWNpdHkiOiAxLjAsCiAgInJhZGl1cyI6IDUsCiAgInN0cm9rZSI6IHRydWUsCiAgIndlaWdodCI6IDMKfQogICAgICAgICAgICAgICAgKS5hZGRUbyhtYXBfNDk0ZTQ3NWZmZWZkNDJhMWEzMDZlNTliYWYyZTQ5ZWEpOwogICAgICAgICAgICAKICAgIAogICAgICAgICAgICB2YXIgcG9wdXBfOGRlMjU2ZGExNDkyNDIyOGIzYzdkYzlkM2EyYWU1NjcgPSBMLnBvcHVwKHttYXhXaWR0aDogJzMwMCd9KTsKCiAgICAgICAgICAgIAogICAgICAgICAgICAgICAgdmFyIGh0bWxfZjhlMWUyNGFiMDZiNDhkNjlhYmEzNTRhZjhjN2Q1MDIgPSAkKCc8ZGl2IGlkPSJodG1sX2Y4ZTFlMjRhYjA2YjQ4ZDY5YWJhMzU0YWY4YzdkNTAyIiBzdHlsZT0id2lkdGg6IDEwMC4wJTsgaGVpZ2h0OiAxMDAuMCU7Ij5OZWlnaGJvcmhvb2RzOiBCaXJjaCBDbGlmZiwgQ2xpZmZzaWRlIFdlc3QgbWFwcGVkIHRvIGJvcm91Z2g6IFNjYXJib3JvdWdoPC9kaXY+JylbMF07CiAgICAgICAgICAgICAgICBwb3B1cF84ZGUyNTZkYTE0OTI0MjI4YjNjN2RjOWQzYTJhZTU2Ny5zZXRDb250ZW50KGh0bWxfZjhlMWUyNGFiMDZiNDhkNjlhYmEzNTRhZjhjN2Q1MDIpOwogICAgICAgICAgICAKCiAgICAgICAgICAgIGNpcmNsZV9tYXJrZXJfOWE1OGY4OGI0ZGFlNDFlN2FhMmE4MTRhNDE4MjhlNTkuYmluZFBvcHVwKHBvcHVwXzhkZTI1NmRhMTQ5MjQyMjhiM2M3ZGM5ZDNhMmFlNTY3KTsKCiAgICAgICAgICAgIAogICAgICAgIAogICAgCiAgICAgICAgICAgIHZhciBjaXJjbGVfbWFya2VyXzM2OTM4ODcwYjk4NTQ0ODg5NTM3Zjg5NzE0MWMzZTI4ID0gTC5jaXJjbGVNYXJrZXIoCiAgICAgICAgICAgICAgICBbNDMuNzcwMTE5OSwtNzkuNDA4NDkyNzk5OTk5OTldLAogICAgICAgICAgICAgICAgewogICJidWJibGluZ01vdXNlRXZlbnRzIjogdHJ1ZSwKICAiY29sb3IiOiAiYmx1ZSIsCiAgImRhc2hBcnJheSI6IG51bGwsCiAgImRhc2hPZmZzZXQiOiBudWxsLAogICJmaWxsIjogdHJ1ZSwKICAiZmlsbENvbG9yIjogIiMzMTg2Y2MiLAogICJmaWxsT3BhY2l0eSI6IDAuNywKICAiZmlsbFJ1bGUiOiAiZXZlbm9kZCIsCiAgImxpbmVDYXAiOiAicm91bmQiLAogICJsaW5lSm9pbiI6ICJyb3VuZCIsCiAgIm9wYWNpdHkiOiAxLjAsCiAgInJhZGl1cyI6IDUsCiAgInN0cm9rZSI6IHRydWUsCiAgIndlaWdodCI6IDMKfQogICAgICAgICAgICAgICAgKS5hZGRUbyhtYXBfNDk0ZTQ3NWZmZWZkNDJhMWEzMDZlNTliYWYyZTQ5ZWEpOwogICAgICAgICAgICAKICAgIAogICAgICAgICAgICB2YXIgcG9wdXBfMTljOTE5ZjZmYTc4NDM1MWJmNDlhZjI1OTE3YzZhN2YgPSBMLnBvcHVwKHttYXhXaWR0aDogJzMwMCd9KTsKCiAgICAgICAgICAgIAogICAgICAgICAgICAgICAgdmFyIGh0bWxfZWRlOGQ4MDFmZjZhNGYzNWI3MzY2NTFkYWNjMzAzZjcgPSAkKCc8ZGl2IGlkPSJodG1sX2VkZThkODAxZmY2YTRmMzViNzM2NjUxZGFjYzMwM2Y3IiBzdHlsZT0id2lkdGg6IDEwMC4wJTsgaGVpZ2h0OiAxMDAuMCU7Ij5OZWlnaGJvcmhvb2RzOiBXaWxsb3dkYWxlIG1hcHBlZCB0byBib3JvdWdoOiBOb3J0aCBZb3JrPC9kaXY+JylbMF07CiAgICAgICAgICAgICAgICBwb3B1cF8xOWM5MTlmNmZhNzg0MzUxYmY0OWFmMjU5MTdjNmE3Zi5zZXRDb250ZW50KGh0bWxfZWRlOGQ4MDFmZjZhNGYzNWI3MzY2NTFkYWNjMzAzZjcpOwogICAgICAgICAgICAKCiAgICAgICAgICAgIGNpcmNsZV9tYXJrZXJfMzY5Mzg4NzBiOTg1NDQ4ODk1MzdmODk3MTQxYzNlMjguYmluZFBvcHVwKHBvcHVwXzE5YzkxOWY2ZmE3ODQzNTFiZjQ5YWYyNTkxN2M2YTdmKTsKCiAgICAgICAgICAgIAogICAgICAgIAogICAgCiAgICAgICAgICAgIHZhciBjaXJjbGVfbWFya2VyX2EyOTdlNzY5MWQ1NjQxOGNhMTFlODU5YjI1Mzc1NmY3ID0gTC5jaXJjbGVNYXJrZXIoCiAgICAgICAgICAgICAgICBbNDMuNzYxNjMxMywtNzkuNTIwOTk5NDAwMDAwMDFdLAogICAgICAgICAgICAgICAgewogICJidWJibGluZ01vdXNlRXZlbnRzIjogdHJ1ZSwKICAiY29sb3IiOiAiYmx1ZSIsCiAgImRhc2hBcnJheSI6IG51bGwsCiAgImRhc2hPZmZzZXQiOiBudWxsLAogICJmaWxsIjogdHJ1ZSwKICAiZmlsbENvbG9yIjogIiMzMTg2Y2MiLAogICJmaWxsT3BhY2l0eSI6IDAuNywKICAiZmlsbFJ1bGUiOiAiZXZlbm9kZCIsCiAgImxpbmVDYXAiOiAicm91bmQiLAogICJsaW5lSm9pbiI6ICJyb3VuZCIsCiAgIm9wYWNpdHkiOiAxLjAsCiAgInJhZGl1cyI6IDUsCiAgInN0cm9rZSI6IHRydWUsCiAgIndlaWdodCI6IDMKfQogICAgICAgICAgICAgICAgKS5hZGRUbyhtYXBfNDk0ZTQ3NWZmZWZkNDJhMWEzMDZlNTliYWYyZTQ5ZWEpOwogICAgICAgICAgICAKICAgIAogICAgICAgICAgICB2YXIgcG9wdXBfMzRlYjlkYzQxMjU5NDE0NThiNjhlNDAyNzBiM2EyMWYgPSBMLnBvcHVwKHttYXhXaWR0aDogJzMwMCd9KTsKCiAgICAgICAgICAgIAogICAgICAgICAgICAgICAgdmFyIGh0bWxfMTk2MDYyOTFjMzFkNDM2NTk2ODNlYzVjNWFjMzVmYWIgPSAkKCc8ZGl2IGlkPSJodG1sXzE5NjA2MjkxYzMxZDQzNjU5NjgzZWM1YzVhYzM1ZmFiIiBzdHlsZT0id2lkdGg6IDEwMC4wJTsgaGVpZ2h0OiAxMDAuMCU7Ij5OZWlnaGJvcmhvb2RzOiBEb3duc3ZpZXcgbWFwcGVkIHRvIGJvcm91Z2g6IE5vcnRoIFlvcms8L2Rpdj4nKVswXTsKICAgICAgICAgICAgICAgIHBvcHVwXzM0ZWI5ZGM0MTI1OTQxNDU4YjY4ZTQwMjcwYjNhMjFmLnNldENvbnRlbnQoaHRtbF8xOTYwNjI5MWMzMWQ0MzY1OTY4M2VjNWM1YWMzNWZhYik7CiAgICAgICAgICAgIAoKICAgICAgICAgICAgY2lyY2xlX21hcmtlcl9hMjk3ZTc2OTFkNTY0MThjYTExZTg1OWIyNTM3NTZmNy5iaW5kUG9wdXAocG9wdXBfMzRlYjlkYzQxMjU5NDE0NThiNjhlNDAyNzBiM2EyMWYpOwoKICAgICAgICAgICAgCiAgICAgICAgCiAgICAKICAgICAgICAgICAgdmFyIGNpcmNsZV9tYXJrZXJfZTk3MmQxNmI3ZGE0NDAyMmIwNmI1ZDYyNjVlZDgyYzUgPSBMLmNpcmNsZU1hcmtlcigKICAgICAgICAgICAgICAgIFs0My43MjgwMjA1LC03OS4zODg3OTAxXSwKICAgICAgICAgICAgICAgIHsKICAiYnViYmxpbmdNb3VzZUV2ZW50cyI6IHRydWUsCiAgImNvbG9yIjogImJsdWUiLAogICJkYXNoQXJyYXkiOiBudWxsLAogICJkYXNoT2Zmc2V0IjogbnVsbCwKICAiZmlsbCI6IHRydWUsCiAgImZpbGxDb2xvciI6ICIjMzE4NmNjIiwKICAiZmlsbE9wYWNpdHkiOiAwLjcsCiAgImZpbGxSdWxlIjogImV2ZW5vZGQiLAogICJsaW5lQ2FwIjogInJvdW5kIiwKICAibGluZUpvaW4iOiAicm91bmQiLAogICJvcGFjaXR5IjogMS4wLAogICJyYWRpdXMiOiA1LAogICJzdHJva2UiOiB0cnVlLAogICJ3ZWlnaHQiOiAzCn0KICAgICAgICAgICAgICAgICkuYWRkVG8obWFwXzQ5NGU0NzVmZmVmZDQyYTFhMzA2ZTU5YmFmMmU0OWVhKTsKICAgICAgICAgICAgCiAgICAKICAgICAgICAgICAgdmFyIHBvcHVwXzE4MzM4YzYxZDM0ODRhMjk4MTU0ZjcyMTE3ZjUzOTIwID0gTC5wb3B1cCh7bWF4V2lkdGg6ICczMDAnfSk7CgogICAgICAgICAgICAKICAgICAgICAgICAgICAgIHZhciBodG1sXzMxNzU3ZmZkNmUwYzQzZmE5N2Q3MjY1MmRiMTU2ZTBjID0gJCgnPGRpdiBpZD0iaHRtbF8zMTc1N2ZmZDZlMGM0M2ZhOTdkNzI2NTJkYjE1NmUwYyIgc3R5bGU9IndpZHRoOiAxMDAuMCU7IGhlaWdodDogMTAwLjAlOyI+TmVpZ2hib3Job29kczogTGF3cmVuY2UgUGFyayBtYXBwZWQgdG8gYm9yb3VnaDogQ2VudHJhbCBUb3JvbnRvPC9kaXY+JylbMF07CiAgICAgICAgICAgICAgICBwb3B1cF8xODMzOGM2MWQzNDg0YTI5ODE1NGY3MjExN2Y1MzkyMC5zZXRDb250ZW50KGh0bWxfMzE3NTdmZmQ2ZTBjNDNmYTk3ZDcyNjUyZGIxNTZlMGMpOwogICAgICAgICAgICAKCiAgICAgICAgICAgIGNpcmNsZV9tYXJrZXJfZTk3MmQxNmI3ZGE0NDAyMmIwNmI1ZDYyNjVlZDgyYzUuYmluZFBvcHVwKHBvcHVwXzE4MzM4YzYxZDM0ODRhMjk4MTU0ZjcyMTE3ZjUzOTIwKTsKCiAgICAgICAgICAgIAogICAgICAgIAogICAgCiAgICAgICAgICAgIHZhciBjaXJjbGVfbWFya2VyXzFmNTc4M2VkYzE5ZDRmOGM4NzRiYTk0ODc2ZGEyYmNiID0gTC5jaXJjbGVNYXJrZXIoCiAgICAgICAgICAgICAgICBbNDMuNzExNjk0OCwtNzkuNDE2OTM1NTk5OTk5OTldLAogICAgICAgICAgICAgICAgewogICJidWJibGluZ01vdXNlRXZlbnRzIjogdHJ1ZSwKICAiY29sb3IiOiAiYmx1ZSIsCiAgImRhc2hBcnJheSI6IG51bGwsCiAgImRhc2hPZmZzZXQiOiBudWxsLAogICJmaWxsIjogdHJ1ZSwKICAiZmlsbENvbG9yIjogIiMzMTg2Y2MiLAogICJmaWxsT3BhY2l0eSI6IDAuNywKICAiZmlsbFJ1bGUiOiAiZXZlbm9kZCIsCiAgImxpbmVDYXAiOiAicm91bmQiLAogICJsaW5lSm9pbiI6ICJyb3VuZCIsCiAgIm9wYWNpdHkiOiAxLjAsCiAgInJhZGl1cyI6IDUsCiAgInN0cm9rZSI6IHRydWUsCiAgIndlaWdodCI6IDMKfQogICAgICAgICAgICAgICAgKS5hZGRUbyhtYXBfNDk0ZTQ3NWZmZWZkNDJhMWEzMDZlNTliYWYyZTQ5ZWEpOwogICAgICAgICAgICAKICAgIAogICAgICAgICAgICB2YXIgcG9wdXBfM2IyODQyY2U5YjkyNDE2ZTllZWRhZjI2M2Y4MGQ1ZWYgPSBMLnBvcHVwKHttYXhXaWR0aDogJzMwMCd9KTsKCiAgICAgICAgICAgIAogICAgICAgICAgICAgICAgdmFyIGh0bWxfZGY0NTMzOTliODIxNGZiNDgxNjQ2MDIwMThiZWFhNzIgPSAkKCc8ZGl2IGlkPSJodG1sX2RmNDUzMzk5YjgyMTRmYjQ4MTY0NjAyMDE4YmVhYTcyIiBzdHlsZT0id2lkdGg6IDEwMC4wJTsgaGVpZ2h0OiAxMDAuMCU7Ij5OZWlnaGJvcmhvb2RzOiBSb3NlbGF3biBtYXBwZWQgdG8gYm9yb3VnaDogQ2VudHJhbCBUb3JvbnRvPC9kaXY+JylbMF07CiAgICAgICAgICAgICAgICBwb3B1cF8zYjI4NDJjZTliOTI0MTZlOWVlZGFmMjYzZjgwZDVlZi5zZXRDb250ZW50KGh0bWxfZGY0NTMzOTliODIxNGZiNDgxNjQ2MDIwMThiZWFhNzIpOwogICAgICAgICAgICAKCiAgICAgICAgICAgIGNpcmNsZV9tYXJrZXJfMWY1NzgzZWRjMTlkNGY4Yzg3NGJhOTQ4NzZkYTJiY2IuYmluZFBvcHVwKHBvcHVwXzNiMjg0MmNlOWI5MjQxNmU5ZWVkYWYyNjNmODBkNWVmKTsKCiAgICAgICAgICAgIAogICAgICAgIAogICAgCiAgICAgICAgICAgIHZhciBjaXJjbGVfbWFya2VyXzkyZDUyYjlhZDA4MTRmMjU5NDBjNWU2Njc0MjY4MDUzID0gTC5jaXJjbGVNYXJrZXIoCiAgICAgICAgICAgICAgICBbNDMuNjczMTg1Mjk5OTk5OTksLTc5LjQ4NzI2MTkwMDAwMDAxXSwKICAgICAgICAgICAgICAgIHsKICAiYnViYmxpbmdNb3VzZUV2ZW50cyI6IHRydWUsCiAgImNvbG9yIjogImJsdWUiLAogICJkYXNoQXJyYXkiOiBudWxsLAogICJkYXNoT2Zmc2V0IjogbnVsbCwKICAiZmlsbCI6IHRydWUsCiAgImZpbGxDb2xvciI6ICIjMzE4NmNjIiwKICAiZmlsbE9wYWNpdHkiOiAwLjcsCiAgImZpbGxSdWxlIjogImV2ZW5vZGQiLAogICJsaW5lQ2FwIjogInJvdW5kIiwKICAibGluZUpvaW4iOiAicm91bmQiLAogICJvcGFjaXR5IjogMS4wLAogICJyYWRpdXMiOiA1LAogICJzdHJva2UiOiB0cnVlLAogICJ3ZWlnaHQiOiAzCn0KICAgICAgICAgICAgICAgICkuYWRkVG8obWFwXzQ5NGU0NzVmZmVmZDQyYTFhMzA2ZTU5YmFmMmU0OWVhKTsKICAgICAgICAgICAgCiAgICAKICAgICAgICAgICAgdmFyIHBvcHVwXzEzYjlkNTc3YzM1ODRiZDg5OTdjNzNiZWQwNTdhNDc4ID0gTC5wb3B1cCh7bWF4V2lkdGg6ICczMDAnfSk7CgogICAgICAgICAgICAKICAgICAgICAgICAgICAgIHZhciBodG1sXzliYzUxMzA5NGZhMDQ4NDFhZmU3ZmY1Njg3M2NjYWFkID0gJCgnPGRpdiBpZD0iaHRtbF85YmM1MTMwOTRmYTA0ODQxYWZlN2ZmNTY4NzNjY2FhZCIgc3R5bGU9IndpZHRoOiAxMDAuMCU7IGhlaWdodDogMTAwLjAlOyI+TmVpZ2hib3Job29kczogUnVubnltZWRlLCBUaGUgSnVuY3Rpb24gTm9ydGggbWFwcGVkIHRvIGJvcm91Z2g6IFlvcms8L2Rpdj4nKVswXTsKICAgICAgICAgICAgICAgIHBvcHVwXzEzYjlkNTc3YzM1ODRiZDg5OTdjNzNiZWQwNTdhNDc4LnNldENvbnRlbnQoaHRtbF85YmM1MTMwOTRmYTA0ODQxYWZlN2ZmNTY4NzNjY2FhZCk7CiAgICAgICAgICAgIAoKICAgICAgICAgICAgY2lyY2xlX21hcmtlcl85MmQ1MmI5YWQwODE0ZjI1OTQwYzVlNjY3NDI2ODA1My5iaW5kUG9wdXAocG9wdXBfMTNiOWQ1NzdjMzU4NGJkODk5N2M3M2JlZDA1N2E0NzgpOwoKICAgICAgICAgICAgCiAgICAgICAgCiAgICAKICAgICAgICAgICAgdmFyIGNpcmNsZV9tYXJrZXJfMzNhOWQxODE5ODc3NDU4YThkNzBmMjdkMjNkMDc3OTYgPSBMLmNpcmNsZU1hcmtlcigKICAgICAgICAgICAgICAgIFs0My43MDY4NzYsLTc5LjUxODE4ODQwMDAwMDAxXSwKICAgICAgICAgICAgICAgIHsKICAiYnViYmxpbmdNb3VzZUV2ZW50cyI6IHRydWUsCiAgImNvbG9yIjogImJsdWUiLAogICJkYXNoQXJyYXkiOiBudWxsLAogICJkYXNoT2Zmc2V0IjogbnVsbCwKICAiZmlsbCI6IHRydWUsCiAgImZpbGxDb2xvciI6ICIjMzE4NmNjIiwKICAiZmlsbE9wYWNpdHkiOiAwLjcsCiAgImZpbGxSdWxlIjogImV2ZW5vZGQiLAogICJsaW5lQ2FwIjogInJvdW5kIiwKICAibGluZUpvaW4iOiAicm91bmQiLAogICJvcGFjaXR5IjogMS4wLAogICJyYWRpdXMiOiA1LAogICJzdHJva2UiOiB0cnVlLAogICJ3ZWlnaHQiOiAzCn0KICAgICAgICAgICAgICAgICkuYWRkVG8obWFwXzQ5NGU0NzVmZmVmZDQyYTFhMzA2ZTU5YmFmMmU0OWVhKTsKICAgICAgICAgICAgCiAgICAKICAgICAgICAgICAgdmFyIHBvcHVwX2E3Njc5ZWUyYWRkMTRhNWE4NWU0NGJiOWY2OTVhOGM1ID0gTC5wb3B1cCh7bWF4V2lkdGg6ICczMDAnfSk7CgogICAgICAgICAgICAKICAgICAgICAgICAgICAgIHZhciBodG1sXzczNDkyNTI5ODQzYjQ3ZWE4ZmJiNjcxZWZjMWY3Yzc3ID0gJCgnPGRpdiBpZD0iaHRtbF83MzQ5MjUyOTg0M2I0N2VhOGZiYjY3MWVmYzFmN2M3NyIgc3R5bGU9IndpZHRoOiAxMDAuMCU7IGhlaWdodDogMTAwLjAlOyI+TmVpZ2hib3Job29kczogV2VzdG9uIG1hcHBlZCB0byBib3JvdWdoOiBZb3JrPC9kaXY+JylbMF07CiAgICAgICAgICAgICAgICBwb3B1cF9hNzY3OWVlMmFkZDE0YTVhODVlNDRiYjlmNjk1YThjNS5zZXRDb250ZW50KGh0bWxfNzM0OTI1Mjk4NDNiNDdlYThmYmI2NzFlZmMxZjdjNzcpOwogICAgICAgICAgICAKCiAgICAgICAgICAgIGNpcmNsZV9tYXJrZXJfMzNhOWQxODE5ODc3NDU4YThkNzBmMjdkMjNkMDc3OTYuYmluZFBvcHVwKHBvcHVwX2E3Njc5ZWUyYWRkMTRhNWE4NWU0NGJiOWY2OTVhOGM1KTsKCiAgICAgICAgICAgIAogICAgICAgIAogICAgCiAgICAgICAgICAgIHZhciBjaXJjbGVfbWFya2VyXzJkZjJhNmE5YzhkYTQyN2E5NDk3MTlhZjZkM2VjMmEwID0gTC5jaXJjbGVNYXJrZXIoCiAgICAgICAgICAgICAgICBbNDMuNzU3NDA5NiwtNzkuMjczMzA0MDAwMDAwMDFdLAogICAgICAgICAgICAgICAgewogICJidWJibGluZ01vdXNlRXZlbnRzIjogdHJ1ZSwKICAiY29sb3IiOiAiYmx1ZSIsCiAgImRhc2hBcnJheSI6IG51bGwsCiAgImRhc2hPZmZzZXQiOiBudWxsLAogICJmaWxsIjogdHJ1ZSwKICAiZmlsbENvbG9yIjogIiMzMTg2Y2MiLAogICJmaWxsT3BhY2l0eSI6IDAuNywKICAiZmlsbFJ1bGUiOiAiZXZlbm9kZCIsCiAgImxpbmVDYXAiOiAicm91bmQiLAogICJsaW5lSm9pbiI6ICJyb3VuZCIsCiAgIm9wYWNpdHkiOiAxLjAsCiAgInJhZGl1cyI6IDUsCiAgInN0cm9rZSI6IHRydWUsCiAgIndlaWdodCI6IDMKfQogICAgICAgICAgICAgICAgKS5hZGRUbyhtYXBfNDk0ZTQ3NWZmZWZkNDJhMWEzMDZlNTliYWYyZTQ5ZWEpOwogICAgICAgICAgICAKICAgIAogICAgICAgICAgICB2YXIgcG9wdXBfNmY0YWVhN2JkMTY4NDBhM2JkYWM1MTFlZWVmMzZhZDAgPSBMLnBvcHVwKHttYXhXaWR0aDogJzMwMCd9KTsKCiAgICAgICAgICAgIAogICAgICAgICAgICAgICAgdmFyIGh0bWxfOGJkNWJkNmRlNTIyNGM2ZjhkMmMzZWI5ZDZjMTEwNjYgPSAkKCc8ZGl2IGlkPSJodG1sXzhiZDViZDZkZTUyMjRjNmY4ZDJjM2ViOWQ2YzExMDY2IiBzdHlsZT0id2lkdGg6IDEwMC4wJTsgaGVpZ2h0OiAxMDAuMCU7Ij5OZWlnaGJvcmhvb2RzOiBEb3JzZXQgUGFyaywgV2V4Zm9yZCBIZWlnaHRzLCBTY2FyYm9yb3VnaCBUb3duIENlbnRyZSBtYXBwZWQgdG8gYm9yb3VnaDogU2NhcmJvcm91Z2g8L2Rpdj4nKVswXTsKICAgICAgICAgICAgICAgIHBvcHVwXzZmNGFlYTdiZDE2ODQwYTNiZGFjNTExZWVlZjM2YWQwLnNldENvbnRlbnQoaHRtbF84YmQ1YmQ2ZGU1MjI0YzZmOGQyYzNlYjlkNmMxMTA2Nik7CiAgICAgICAgICAgIAoKICAgICAgICAgICAgY2lyY2xlX21hcmtlcl8yZGYyYTZhOWM4ZGE0MjdhOTQ5NzE5YWY2ZDNlYzJhMC5iaW5kUG9wdXAocG9wdXBfNmY0YWVhN2JkMTY4NDBhM2JkYWM1MTFlZWVmMzZhZDApOwoKICAgICAgICAgICAgCiAgICAgICAgCiAgICAKICAgICAgICAgICAgdmFyIGNpcmNsZV9tYXJrZXJfNzE0MzhlMjgyNThkNDY5MDgyNjk5MWVkNDM0MGRlNjIgPSBMLmNpcmNsZU1hcmtlcigKICAgICAgICAgICAgICAgIFs0My43NTI3NTgyOTk5OTk5OTYsLTc5LjQwMDA0OTNdLAogICAgICAgICAgICAgICAgewogICJidWJibGluZ01vdXNlRXZlbnRzIjogdHJ1ZSwKICAiY29sb3IiOiAiYmx1ZSIsCiAgImRhc2hBcnJheSI6IG51bGwsCiAgImRhc2hPZmZzZXQiOiBudWxsLAogICJmaWxsIjogdHJ1ZSwKICAiZmlsbENvbG9yIjogIiMzMTg2Y2MiLAogICJmaWxsT3BhY2l0eSI6IDAuNywKICAiZmlsbFJ1bGUiOiAiZXZlbm9kZCIsCiAgImxpbmVDYXAiOiAicm91bmQiLAogICJsaW5lSm9pbiI6ICJyb3VuZCIsCiAgIm9wYWNpdHkiOiAxLjAsCiAgInJhZGl1cyI6IDUsCiAgInN0cm9rZSI6IHRydWUsCiAgIndlaWdodCI6IDMKfQogICAgICAgICAgICAgICAgKS5hZGRUbyhtYXBfNDk0ZTQ3NWZmZWZkNDJhMWEzMDZlNTliYWYyZTQ5ZWEpOwogICAgICAgICAgICAKICAgIAogICAgICAgICAgICB2YXIgcG9wdXBfNWY1YTg2MmI4YmJiNGQ5ZjgxOTRhYmZiZjk3NzRhMjcgPSBMLnBvcHVwKHttYXhXaWR0aDogJzMwMCd9KTsKCiAgICAgICAgICAgIAogICAgICAgICAgICAgICAgdmFyIGh0bWxfZmY0MmZkNDkxNDZlNDU0ZDlkNWNkYTMxZWVmYjM0YzMgPSAkKCc8ZGl2IGlkPSJodG1sX2ZmNDJmZDQ5MTQ2ZTQ1NGQ5ZDVjZGEzMWVlZmIzNGMzIiBzdHlsZT0id2lkdGg6IDEwMC4wJTsgaGVpZ2h0OiAxMDAuMCU7Ij5OZWlnaGJvcmhvb2RzOiBZb3JrIE1pbGxzIFdlc3QgbWFwcGVkIHRvIGJvcm91Z2g6IE5vcnRoIFlvcms8L2Rpdj4nKVswXTsKICAgICAgICAgICAgICAgIHBvcHVwXzVmNWE4NjJiOGJiYjRkOWY4MTk0YWJmYmY5Nzc0YTI3LnNldENvbnRlbnQoaHRtbF9mZjQyZmQ0OTE0NmU0NTRkOWQ1Y2RhMzFlZWZiMzRjMyk7CiAgICAgICAgICAgIAoKICAgICAgICAgICAgY2lyY2xlX21hcmtlcl83MTQzOGUyODI1OGQ0NjkwODI2OTkxZWQ0MzQwZGU2Mi5iaW5kUG9wdXAocG9wdXBfNWY1YTg2MmI4YmJiNGQ5ZjgxOTRhYmZiZjk3NzRhMjcpOwoKICAgICAgICAgICAgCiAgICAgICAgCiAgICAKICAgICAgICAgICAgdmFyIGNpcmNsZV9tYXJrZXJfYjQyZWIwMWExNTE0NDk0ODlhMzUxZDYxY2U3ZTMyNDkgPSBMLmNpcmNsZU1hcmtlcigKICAgICAgICAgICAgICAgIFs0My43MTI3NTExLC03OS4zOTAxOTc1XSwKICAgICAgICAgICAgICAgIHsKICAiYnViYmxpbmdNb3VzZUV2ZW50cyI6IHRydWUsCiAgImNvbG9yIjogImJsdWUiLAogICJkYXNoQXJyYXkiOiBudWxsLAogICJkYXNoT2Zmc2V0IjogbnVsbCwKICAiZmlsbCI6IHRydWUsCiAgImZpbGxDb2xvciI6ICIjMzE4NmNjIiwKICAiZmlsbE9wYWNpdHkiOiAwLjcsCiAgImZpbGxSdWxlIjogImV2ZW5vZGQiLAogICJsaW5lQ2FwIjogInJvdW5kIiwKICAibGluZUpvaW4iOiAicm91bmQiLAogICJvcGFjaXR5IjogMS4wLAogICJyYWRpdXMiOiA1LAogICJzdHJva2UiOiB0cnVlLAogICJ3ZWlnaHQiOiAzCn0KICAgICAgICAgICAgICAgICkuYWRkVG8obWFwXzQ5NGU0NzVmZmVmZDQyYTFhMzA2ZTU5YmFmMmU0OWVhKTsKICAgICAgICAgICAgCiAgICAKICAgICAgICAgICAgdmFyIHBvcHVwXzFlMjY0ZTQyOTllNDQ2NTY5MjI5NjdjYWZkMjQ0M2M4ID0gTC5wb3B1cCh7bWF4V2lkdGg6ICczMDAnfSk7CgogICAgICAgICAgICAKICAgICAgICAgICAgICAgIHZhciBodG1sXzI2ZjA5ZWUwMzNhMzQwZDA4NDkwYjM4YWE1ODM1MWI5ID0gJCgnPGRpdiBpZD0iaHRtbF8yNmYwOWVlMDMzYTM0MGQwODQ5MGIzOGFhNTgzNTFiOSIgc3R5bGU9IndpZHRoOiAxMDAuMCU7IGhlaWdodDogMTAwLjAlOyI+TmVpZ2hib3Job29kczogRGF2aXN2aWxsZSBOb3J0aCBtYXBwZWQgdG8gYm9yb3VnaDogQ2VudHJhbCBUb3JvbnRvPC9kaXY+JylbMF07CiAgICAgICAgICAgICAgICBwb3B1cF8xZTI2NGU0Mjk5ZTQ0NjU2OTIyOTY3Y2FmZDI0NDNjOC5zZXRDb250ZW50KGh0bWxfMjZmMDllZTAzM2EzNDBkMDg0OTBiMzhhYTU4MzUxYjkpOwogICAgICAgICAgICAKCiAgICAgICAgICAgIGNpcmNsZV9tYXJrZXJfYjQyZWIwMWExNTE0NDk0ODlhMzUxZDYxY2U3ZTMyNDkuYmluZFBvcHVwKHBvcHVwXzFlMjY0ZTQyOTllNDQ2NTY5MjI5NjdjYWZkMjQ0M2M4KTsKCiAgICAgICAgICAgIAogICAgICAgIAogICAgCiAgICAgICAgICAgIHZhciBjaXJjbGVfbWFya2VyXzYwN2NjYzc3OGRkYzQxMDJhYTU4ZDYyYzVlMWRmMjZkID0gTC5jaXJjbGVNYXJrZXIoCiAgICAgICAgICAgICAgICBbNDMuNjk2OTQ3NiwtNzkuNDExMzA3MjAwMDAwMDFdLAogICAgICAgICAgICAgICAgewogICJidWJibGluZ01vdXNlRXZlbnRzIjogdHJ1ZSwKICAiY29sb3IiOiAiYmx1ZSIsCiAgImRhc2hBcnJheSI6IG51bGwsCiAgImRhc2hPZmZzZXQiOiBudWxsLAogICJmaWxsIjogdHJ1ZSwKICAiZmlsbENvbG9yIjogIiMzMTg2Y2MiLAogICJmaWxsT3BhY2l0eSI6IDAuNywKICAiZmlsbFJ1bGUiOiAiZXZlbm9kZCIsCiAgImxpbmVDYXAiOiAicm91bmQiLAogICJsaW5lSm9pbiI6ICJyb3VuZCIsCiAgIm9wYWNpdHkiOiAxLjAsCiAgInJhZGl1cyI6IDUsCiAgInN0cm9rZSI6IHRydWUsCiAgIndlaWdodCI6IDMKfQogICAgICAgICAgICAgICAgKS5hZGRUbyhtYXBfNDk0ZTQ3NWZmZWZkNDJhMWEzMDZlNTliYWYyZTQ5ZWEpOwogICAgICAgICAgICAKICAgIAogICAgICAgICAgICB2YXIgcG9wdXBfYTUzM2JmM2NhMDZlNDFiZTk5OWJlNGIzMmQyZjVjY2EgPSBMLnBvcHVwKHttYXhXaWR0aDogJzMwMCd9KTsKCiAgICAgICAgICAgIAogICAgICAgICAgICAgICAgdmFyIGh0bWxfODhkMTQ2MDQ4M2MzNDAzZWFjMmQ1OTRlZDcyZGVlMTAgPSAkKCc8ZGl2IGlkPSJodG1sXzg4ZDE0NjA0ODNjMzQwM2VhYzJkNTk0ZWQ3MmRlZTEwIiBzdHlsZT0id2lkdGg6IDEwMC4wJTsgaGVpZ2h0OiAxMDAuMCU7Ij5OZWlnaGJvcmhvb2RzOiBGb3Jlc3QgSGlsbCBOb3J0aCAmYW1wOyBXZXN0IG1hcHBlZCB0byBib3JvdWdoOiBDZW50cmFsIFRvcm9udG88L2Rpdj4nKVswXTsKICAgICAgICAgICAgICAgIHBvcHVwX2E1MzNiZjNjYTA2ZTQxYmU5OTliZTRiMzJkMmY1Y2NhLnNldENvbnRlbnQoaHRtbF84OGQxNDYwNDgzYzM0MDNlYWMyZDU5NGVkNzJkZWUxMCk7CiAgICAgICAgICAgIAoKICAgICAgICAgICAgY2lyY2xlX21hcmtlcl82MDdjY2M3NzhkZGM0MTAyYWE1OGQ2MmM1ZTFkZjI2ZC5iaW5kUG9wdXAocG9wdXBfYTUzM2JmM2NhMDZlNDFiZTk5OWJlNGIzMmQyZjVjY2EpOwoKICAgICAgICAgICAgCiAgICAgICAgCiAgICAKICAgICAgICAgICAgdmFyIGNpcmNsZV9tYXJrZXJfYzE3Y2Y1YmZkMzYwNDIxZWE1YjhlMmQ4MWM3YWNmZTkgPSBMLmNpcmNsZU1hcmtlcigKICAgICAgICAgICAgICAgIFs0My42NjE2MDgzLC03OS40NjQ3NjMyOTk5OTk5OV0sCiAgICAgICAgICAgICAgICB7CiAgImJ1YmJsaW5nTW91c2VFdmVudHMiOiB0cnVlLAogICJjb2xvciI6ICJibHVlIiwKICAiZGFzaEFycmF5IjogbnVsbCwKICAiZGFzaE9mZnNldCI6IG51bGwsCiAgImZpbGwiOiB0cnVlLAogICJmaWxsQ29sb3IiOiAiIzMxODZjYyIsCiAgImZpbGxPcGFjaXR5IjogMC43LAogICJmaWxsUnVsZSI6ICJldmVub2RkIiwKICAibGluZUNhcCI6ICJyb3VuZCIsCiAgImxpbmVKb2luIjogInJvdW5kIiwKICAib3BhY2l0eSI6IDEuMCwKICAicmFkaXVzIjogNSwKICAic3Ryb2tlIjogdHJ1ZSwKICAid2VpZ2h0IjogMwp9CiAgICAgICAgICAgICAgICApLmFkZFRvKG1hcF80OTRlNDc1ZmZlZmQ0MmExYTMwNmU1OWJhZjJlNDllYSk7CiAgICAgICAgICAgIAogICAgCiAgICAgICAgICAgIHZhciBwb3B1cF85ZGMxNDRiNTJiMzE0YTRlOTZmZThiYjFjMTE0OTEwMSA9IEwucG9wdXAoe21heFdpZHRoOiAnMzAwJ30pOwoKICAgICAgICAgICAgCiAgICAgICAgICAgICAgICB2YXIgaHRtbF8xNDZjYmEzMzBjMTM0MTQ4YjlhZDhmZWYxNTBkZGE2OCA9ICQoJzxkaXYgaWQ9Imh0bWxfMTQ2Y2JhMzMwYzEzNDE0OGI5YWQ4ZmVmMTUwZGRhNjgiIHN0eWxlPSJ3aWR0aDogMTAwLjAlOyBoZWlnaHQ6IDEwMC4wJTsiPk5laWdoYm9yaG9vZHM6IEhpZ2ggUGFyaywgVGhlIEp1bmN0aW9uIFNvdXRoIG1hcHBlZCB0byBib3JvdWdoOiBXZXN0IFRvcm9udG88L2Rpdj4nKVswXTsKICAgICAgICAgICAgICAgIHBvcHVwXzlkYzE0NGI1MmIzMTRhNGU5NmZlOGJiMWMxMTQ5MTAxLnNldENvbnRlbnQoaHRtbF8xNDZjYmEzMzBjMTM0MTQ4YjlhZDhmZWYxNTBkZGE2OCk7CiAgICAgICAgICAgIAoKICAgICAgICAgICAgY2lyY2xlX21hcmtlcl9jMTdjZjViZmQzNjA0MjFlYTViOGUyZDgxYzdhY2ZlOS5iaW5kUG9wdXAocG9wdXBfOWRjMTQ0YjUyYjMxNGE0ZTk2ZmU4YmIxYzExNDkxMDEpOwoKICAgICAgICAgICAgCiAgICAgICAgCiAgICAKICAgICAgICAgICAgdmFyIGNpcmNsZV9tYXJrZXJfYWNjNDhhN2MwMmUwNDI1N2JhMTRiNjM4NDE0N2MzZDIgPSBMLmNpcmNsZU1hcmtlcigKICAgICAgICAgICAgICAgIFs0My42OTYzMTksLTc5LjUzMjI0MjQwMDAwMDAyXSwKICAgICAgICAgICAgICAgIHsKICAiYnViYmxpbmdNb3VzZUV2ZW50cyI6IHRydWUsCiAgImNvbG9yIjogImJsdWUiLAogICJkYXNoQXJyYXkiOiBudWxsLAogICJkYXNoT2Zmc2V0IjogbnVsbCwKICAiZmlsbCI6IHRydWUsCiAgImZpbGxDb2xvciI6ICIjMzE4NmNjIiwKICAiZmlsbE9wYWNpdHkiOiAwLjcsCiAgImZpbGxSdWxlIjogImV2ZW5vZGQiLAogICJsaW5lQ2FwIjogInJvdW5kIiwKICAibGluZUpvaW4iOiAicm91bmQiLAogICJvcGFjaXR5IjogMS4wLAogICJyYWRpdXMiOiA1LAogICJzdHJva2UiOiB0cnVlLAogICJ3ZWlnaHQiOiAzCn0KICAgICAgICAgICAgICAgICkuYWRkVG8obWFwXzQ5NGU0NzVmZmVmZDQyYTFhMzA2ZTU5YmFmMmU0OWVhKTsKICAgICAgICAgICAgCiAgICAKICAgICAgICAgICAgdmFyIHBvcHVwXzI3ZmJmOWZkNzcxYTRlMTk4Yjk2NGI0ODU0MDI5NjRiID0gTC5wb3B1cCh7bWF4V2lkdGg6ICczMDAnfSk7CgogICAgICAgICAgICAKICAgICAgICAgICAgICAgIHZhciBodG1sXzY1ZTlmMTIyMmRmZjQwY2U5YjhjNGZkNDhlMzA5ZDJiID0gJCgnPGRpdiBpZD0iaHRtbF82NWU5ZjEyMjJkZmY0MGNlOWI4YzRmZDQ4ZTMwOWQyYiIgc3R5bGU9IndpZHRoOiAxMDAuMCU7IGhlaWdodDogMTAwLjAlOyI+TmVpZ2hib3Job29kczogV2VzdG1vdW50IG1hcHBlZCB0byBib3JvdWdoOiBFdG9iaWNva2U8L2Rpdj4nKVswXTsKICAgICAgICAgICAgICAgIHBvcHVwXzI3ZmJmOWZkNzcxYTRlMTk4Yjk2NGI0ODU0MDI5NjRiLnNldENvbnRlbnQoaHRtbF82NWU5ZjEyMjJkZmY0MGNlOWI4YzRmZDQ4ZTMwOWQyYik7CiAgICAgICAgICAgIAoKICAgICAgICAgICAgY2lyY2xlX21hcmtlcl9hY2M0OGE3YzAyZTA0MjU3YmExNGI2Mzg0MTQ3YzNkMi5iaW5kUG9wdXAocG9wdXBfMjdmYmY5ZmQ3NzFhNGUxOThiOTY0YjQ4NTQwMjk2NGIpOwoKICAgICAgICAgICAgCiAgICAgICAgCiAgICAKICAgICAgICAgICAgdmFyIGNpcmNsZV9tYXJrZXJfMmRmYWZiMTU3Mjk2NDBjNGIzMmQzYzI4NmU1ZWE4YWQgPSBMLmNpcmNsZU1hcmtlcigKICAgICAgICAgICAgICAgIFs0My43NTAwNzE1MDAwMDAwMDQsLTc5LjI5NTg0OTFdLAogICAgICAgICAgICAgICAgewogICJidWJibGluZ01vdXNlRXZlbnRzIjogdHJ1ZSwKICAiY29sb3IiOiAiYmx1ZSIsCiAgImRhc2hBcnJheSI6IG51bGwsCiAgImRhc2hPZmZzZXQiOiBudWxsLAogICJmaWxsIjogdHJ1ZSwKICAiZmlsbENvbG9yIjogIiMzMTg2Y2MiLAogICJmaWxsT3BhY2l0eSI6IDAuNywKICAiZmlsbFJ1bGUiOiAiZXZlbm9kZCIsCiAgImxpbmVDYXAiOiAicm91bmQiLAogICJsaW5lSm9pbiI6ICJyb3VuZCIsCiAgIm9wYWNpdHkiOiAxLjAsCiAgInJhZGl1cyI6IDUsCiAgInN0cm9rZSI6IHRydWUsCiAgIndlaWdodCI6IDMKfQogICAgICAgICAgICAgICAgKS5hZGRUbyhtYXBfNDk0ZTQ3NWZmZWZkNDJhMWEzMDZlNTliYWYyZTQ5ZWEpOwogICAgICAgICAgICAKICAgIAogICAgICAgICAgICB2YXIgcG9wdXBfODllNmNmZjkwM2U3NDQ3Mjk3ZTViZWY1MTlhZGYyN2IgPSBMLnBvcHVwKHttYXhXaWR0aDogJzMwMCd9KTsKCiAgICAgICAgICAgIAogICAgICAgICAgICAgICAgdmFyIGh0bWxfZjlmMThjMjY1NWU3NDgwOTgyMGYwNzkzNDE1YjRkZDEgPSAkKCc8ZGl2IGlkPSJodG1sX2Y5ZjE4YzI2NTVlNzQ4MDk4MjBmMDc5MzQxNWI0ZGQxIiBzdHlsZT0id2lkdGg6IDEwMC4wJTsgaGVpZ2h0OiAxMDAuMCU7Ij5OZWlnaGJvcmhvb2RzOiBXZXhmb3JkLCBNYXJ5dmFsZSBtYXBwZWQgdG8gYm9yb3VnaDogU2NhcmJvcm91Z2g8L2Rpdj4nKVswXTsKICAgICAgICAgICAgICAgIHBvcHVwXzg5ZTZjZmY5MDNlNzQ0NzI5N2U1YmVmNTE5YWRmMjdiLnNldENvbnRlbnQoaHRtbF9mOWYxOGMyNjU1ZTc0ODA5ODIwZjA3OTM0MTViNGRkMSk7CiAgICAgICAgICAgIAoKICAgICAgICAgICAgY2lyY2xlX21hcmtlcl8yZGZhZmIxNTcyOTY0MGM0YjMyZDNjMjg2ZTVlYThhZC5iaW5kUG9wdXAocG9wdXBfODllNmNmZjkwM2U3NDQ3Mjk3ZTViZWY1MTlhZGYyN2IpOwoKICAgICAgICAgICAgCiAgICAgICAgCiAgICAKICAgICAgICAgICAgdmFyIGNpcmNsZV9tYXJrZXJfODMwYWVmYmI5ZjQ5NDRmZmJhMjFmYmJlY2QxY2QzMzkgPSBMLmNpcmNsZU1hcmtlcigKICAgICAgICAgICAgICAgIFs0My43ODI3MzY0LC03OS40NDIyNTkzXSwKICAgICAgICAgICAgICAgIHsKICAiYnViYmxpbmdNb3VzZUV2ZW50cyI6IHRydWUsCiAgImNvbG9yIjogImJsdWUiLAogICJkYXNoQXJyYXkiOiBudWxsLAogICJkYXNoT2Zmc2V0IjogbnVsbCwKICAiZmlsbCI6IHRydWUsCiAgImZpbGxDb2xvciI6ICIjMzE4NmNjIiwKICAiZmlsbE9wYWNpdHkiOiAwLjcsCiAgImZpbGxSdWxlIjogImV2ZW5vZGQiLAogICJsaW5lQ2FwIjogInJvdW5kIiwKICAibGluZUpvaW4iOiAicm91bmQiLAogICJvcGFjaXR5IjogMS4wLAogICJyYWRpdXMiOiA1LAogICJzdHJva2UiOiB0cnVlLAogICJ3ZWlnaHQiOiAzCn0KICAgICAgICAgICAgICAgICkuYWRkVG8obWFwXzQ5NGU0NzVmZmVmZDQyYTFhMzA2ZTU5YmFmMmU0OWVhKTsKICAgICAgICAgICAgCiAgICAKICAgICAgICAgICAgdmFyIHBvcHVwXzNiMmVhYTYzOWI1YTQ3MjhhYmUyMzdhNmQ1NmVhODJhID0gTC5wb3B1cCh7bWF4V2lkdGg6ICczMDAnfSk7CgogICAgICAgICAgICAKICAgICAgICAgICAgICAgIHZhciBodG1sXzI1NmU3OTNiMTBjODQxZjY4NDg5OGZjMGVjNGI3NWRjID0gJCgnPGRpdiBpZD0iaHRtbF8yNTZlNzkzYjEwYzg0MWY2ODQ4OThmYzBlYzRiNzVkYyIgc3R5bGU9IndpZHRoOiAxMDAuMCU7IGhlaWdodDogMTAwLjAlOyI+TmVpZ2hib3Job29kczogV2lsbG93ZGFsZSBtYXBwZWQgdG8gYm9yb3VnaDogTm9ydGggWW9yazwvZGl2PicpWzBdOwogICAgICAgICAgICAgICAgcG9wdXBfM2IyZWFhNjM5YjVhNDcyOGFiZTIzN2E2ZDU2ZWE4MmEuc2V0Q29udGVudChodG1sXzI1NmU3OTNiMTBjODQxZjY4NDg5OGZjMGVjNGI3NWRjKTsKICAgICAgICAgICAgCgogICAgICAgICAgICBjaXJjbGVfbWFya2VyXzgzMGFlZmJiOWY0OTQ0ZmZiYTIxZmJiZWNkMWNkMzM5LmJpbmRQb3B1cChwb3B1cF8zYjJlYWE2MzliNWE0NzI4YWJlMjM3YTZkNTZlYTgyYSk7CgogICAgICAgICAgICAKICAgICAgICAKICAgIAogICAgICAgICAgICB2YXIgY2lyY2xlX21hcmtlcl9iZDQzMjM2ZDc4ZTg0Nzg1OWZlMDBiN2E3MjZkYzcwMCA9IEwuY2lyY2xlTWFya2VyKAogICAgICAgICAgICAgICAgWzQzLjcxNTM4MzQsLTc5LjQwNTY3ODQwMDAwMDAxXSwKICAgICAgICAgICAgICAgIHsKICAiYnViYmxpbmdNb3VzZUV2ZW50cyI6IHRydWUsCiAgImNvbG9yIjogImJsdWUiLAogICJkYXNoQXJyYXkiOiBudWxsLAogICJkYXNoT2Zmc2V0IjogbnVsbCwKICAiZmlsbCI6IHRydWUsCiAgImZpbGxDb2xvciI6ICIjMzE4NmNjIiwKICAiZmlsbE9wYWNpdHkiOiAwLjcsCiAgImZpbGxSdWxlIjogImV2ZW5vZGQiLAogICJsaW5lQ2FwIjogInJvdW5kIiwKICAibGluZUpvaW4iOiAicm91bmQiLAogICJvcGFjaXR5IjogMS4wLAogICJyYWRpdXMiOiA1LAogICJzdHJva2UiOiB0cnVlLAogICJ3ZWlnaHQiOiAzCn0KICAgICAgICAgICAgICAgICkuYWRkVG8obWFwXzQ5NGU0NzVmZmVmZDQyYTFhMzA2ZTU5YmFmMmU0OWVhKTsKICAgICAgICAgICAgCiAgICAKICAgICAgICAgICAgdmFyIHBvcHVwX2QzMGQ2NzM1NjFhNjRlZDdhY2ZhNmVjNmRlYWY0MDc5ID0gTC5wb3B1cCh7bWF4V2lkdGg6ICczMDAnfSk7CgogICAgICAgICAgICAKICAgICAgICAgICAgICAgIHZhciBodG1sXzhlMWY0ZDE3MTA2OTRjOGM4YjY2OWI3OGU4NmQ4NGFkID0gJCgnPGRpdiBpZD0iaHRtbF84ZTFmNGQxNzEwNjk0YzhjOGI2NjliNzhlODZkODRhZCIgc3R5bGU9IndpZHRoOiAxMDAuMCU7IGhlaWdodDogMTAwLjAlOyI+TmVpZ2hib3Job29kczogTm9ydGggVG9yb250byBXZXN0IG1hcHBlZCB0byBib3JvdWdoOiBDZW50cmFsIFRvcm9udG88L2Rpdj4nKVswXTsKICAgICAgICAgICAgICAgIHBvcHVwX2QzMGQ2NzM1NjFhNjRlZDdhY2ZhNmVjNmRlYWY0MDc5LnNldENvbnRlbnQoaHRtbF84ZTFmNGQxNzEwNjk0YzhjOGI2NjliNzhlODZkODRhZCk7CiAgICAgICAgICAgIAoKICAgICAgICAgICAgY2lyY2xlX21hcmtlcl9iZDQzMjM2ZDc4ZTg0Nzg1OWZlMDBiN2E3MjZkYzcwMC5iaW5kUG9wdXAocG9wdXBfZDMwZDY3MzU2MWE2NGVkN2FjZmE2ZWM2ZGVhZjQwNzkpOwoKICAgICAgICAgICAgCiAgICAgICAgCiAgICAKICAgICAgICAgICAgdmFyIGNpcmNsZV9tYXJrZXJfMzE2NmJhZTY0NGQyNDg4ZGFjYmMxMDU5MmE2MWIyNWYgPSBMLmNpcmNsZU1hcmtlcigKICAgICAgICAgICAgICAgIFs0My42NzI3MDk3LC03OS40MDU2Nzg0MDAwMDAwMV0sCiAgICAgICAgICAgICAgICB7CiAgImJ1YmJsaW5nTW91c2VFdmVudHMiOiB0cnVlLAogICJjb2xvciI6ICJibHVlIiwKICAiZGFzaEFycmF5IjogbnVsbCwKICAiZGFzaE9mZnNldCI6IG51bGwsCiAgImZpbGwiOiB0cnVlLAogICJmaWxsQ29sb3IiOiAiIzMxODZjYyIsCiAgImZpbGxPcGFjaXR5IjogMC43LAogICJmaWxsUnVsZSI6ICJldmVub2RkIiwKICAibGluZUNhcCI6ICJyb3VuZCIsCiAgImxpbmVKb2luIjogInJvdW5kIiwKICAib3BhY2l0eSI6IDEuMCwKICAicmFkaXVzIjogNSwKICAic3Ryb2tlIjogdHJ1ZSwKICAid2VpZ2h0IjogMwp9CiAgICAgICAgICAgICAgICApLmFkZFRvKG1hcF80OTRlNDc1ZmZlZmQ0MmExYTMwNmU1OWJhZjJlNDllYSk7CiAgICAgICAgICAgIAogICAgCiAgICAgICAgICAgIHZhciBwb3B1cF84ZTA5ZjU0OGMwMTA0MDMyYTQ4M2E0YjhiYjQ0NmZiMiA9IEwucG9wdXAoe21heFdpZHRoOiAnMzAwJ30pOwoKICAgICAgICAgICAgCiAgICAgICAgICAgICAgICB2YXIgaHRtbF82ODkwODg5YWU1M2Q0N2RjOWZkYmY4MGFkNWIzMzMyMiA9ICQoJzxkaXYgaWQ9Imh0bWxfNjg5MDg4OWFlNTNkNDdkYzlmZGJmODBhZDViMzMzMjIiIHN0eWxlPSJ3aWR0aDogMTAwLjAlOyBoZWlnaHQ6IDEwMC4wJTsiPk5laWdoYm9yaG9vZHM6IFRoZSBBbm5leCwgTm9ydGggTWlkdG93biwgWW9ya3ZpbGxlIG1hcHBlZCB0byBib3JvdWdoOiBDZW50cmFsIFRvcm9udG88L2Rpdj4nKVswXTsKICAgICAgICAgICAgICAgIHBvcHVwXzhlMDlmNTQ4YzAxMDQwMzJhNDgzYTRiOGJiNDQ2ZmIyLnNldENvbnRlbnQoaHRtbF82ODkwODg5YWU1M2Q0N2RjOWZkYmY4MGFkNWIzMzMyMik7CiAgICAgICAgICAgIAoKICAgICAgICAgICAgY2lyY2xlX21hcmtlcl8zMTY2YmFlNjQ0ZDI0ODhkYWNiYzEwNTkyYTYxYjI1Zi5iaW5kUG9wdXAocG9wdXBfOGUwOWY1NDhjMDEwNDAzMmE0ODNhNGI4YmI0NDZmYjIpOwoKICAgICAgICAgICAgCiAgICAgICAgCiAgICAKICAgICAgICAgICAgdmFyIGNpcmNsZV9tYXJrZXJfZDUyMTU1MmZiZjA0NGE0Yzk0ODljNmFlYmNmZThmMjUgPSBMLmNpcmNsZU1hcmtlcigKICAgICAgICAgICAgICAgIFs0My42NDg5NTk3LC03OS40NTYzMjVdLAogICAgICAgICAgICAgICAgewogICJidWJibGluZ01vdXNlRXZlbnRzIjogdHJ1ZSwKICAiY29sb3IiOiAiYmx1ZSIsCiAgImRhc2hBcnJheSI6IG51bGwsCiAgImRhc2hPZmZzZXQiOiBudWxsLAogICJmaWxsIjogdHJ1ZSwKICAiZmlsbENvbG9yIjogIiMzMTg2Y2MiLAogICJmaWxsT3BhY2l0eSI6IDAuNywKICAiZmlsbFJ1bGUiOiAiZXZlbm9kZCIsCiAgImxpbmVDYXAiOiAicm91bmQiLAogICJsaW5lSm9pbiI6ICJyb3VuZCIsCiAgIm9wYWNpdHkiOiAxLjAsCiAgInJhZGl1cyI6IDUsCiAgInN0cm9rZSI6IHRydWUsCiAgIndlaWdodCI6IDMKfQogICAgICAgICAgICAgICAgKS5hZGRUbyhtYXBfNDk0ZTQ3NWZmZWZkNDJhMWEzMDZlNTliYWYyZTQ5ZWEpOwogICAgICAgICAgICAKICAgIAogICAgICAgICAgICB2YXIgcG9wdXBfMGFhM2Y3MDc2MjU5NDk1MWJjOTI3NDljNDIyZGQ3YjEgPSBMLnBvcHVwKHttYXhXaWR0aDogJzMwMCd9KTsKCiAgICAgICAgICAgIAogICAgICAgICAgICAgICAgdmFyIGh0bWxfMWE1YTY5MDg0MGZlNGZhNmE0N2VlNDU4YzMyZjExOTUgPSAkKCc8ZGl2IGlkPSJodG1sXzFhNWE2OTA4NDBmZTRmYTZhNDdlZTQ1OGMzMmYxMTk1IiBzdHlsZT0id2lkdGg6IDEwMC4wJTsgaGVpZ2h0OiAxMDAuMCU7Ij5OZWlnaGJvcmhvb2RzOiBQYXJrZGFsZSwgUm9uY2VzdmFsbGVzIG1hcHBlZCB0byBib3JvdWdoOiBXZXN0IFRvcm9udG88L2Rpdj4nKVswXTsKICAgICAgICAgICAgICAgIHBvcHVwXzBhYTNmNzA3NjI1OTQ5NTFiYzkyNzQ5YzQyMmRkN2IxLnNldENvbnRlbnQoaHRtbF8xYTVhNjkwODQwZmU0ZmE2YTQ3ZWU0NThjMzJmMTE5NSk7CiAgICAgICAgICAgIAoKICAgICAgICAgICAgY2lyY2xlX21hcmtlcl9kNTIxNTUyZmJmMDQ0YTRjOTQ4OWM2YWViY2ZlOGYyNS5iaW5kUG9wdXAocG9wdXBfMGFhM2Y3MDc2MjU5NDk1MWJjOTI3NDljNDIyZGQ3YjEpOwoKICAgICAgICAgICAgCiAgICAgICAgCiAgICAKICAgICAgICAgICAgdmFyIGNpcmNsZV9tYXJrZXJfMDAxZGRmN2U3ZTg2NDc0NWJiMTRjOGE1YjRmYjc0OWUgPSBMLmNpcmNsZU1hcmtlcigKICAgICAgICAgICAgICAgIFs0My42MzY5NjU2LC03OS42MTU4MTg5OTk5OTk5OV0sCiAgICAgICAgICAgICAgICB7CiAgImJ1YmJsaW5nTW91c2VFdmVudHMiOiB0cnVlLAogICJjb2xvciI6ICJibHVlIiwKICAiZGFzaEFycmF5IjogbnVsbCwKICAiZGFzaE9mZnNldCI6IG51bGwsCiAgImZpbGwiOiB0cnVlLAogICJmaWxsQ29sb3IiOiAiIzMxODZjYyIsCiAgImZpbGxPcGFjaXR5IjogMC43LAogICJmaWxsUnVsZSI6ICJldmVub2RkIiwKICAibGluZUNhcCI6ICJyb3VuZCIsCiAgImxpbmVKb2luIjogInJvdW5kIiwKICAib3BhY2l0eSI6IDEuMCwKICAicmFkaXVzIjogNSwKICAic3Ryb2tlIjogdHJ1ZSwKICAid2VpZ2h0IjogMwp9CiAgICAgICAgICAgICAgICApLmFkZFRvKG1hcF80OTRlNDc1ZmZlZmQ0MmExYTMwNmU1OWJhZjJlNDllYSk7CiAgICAgICAgICAgIAogICAgCiAgICAgICAgICAgIHZhciBwb3B1cF80NDIwYjNlODE4MTA0N2MyOTU0ODRjYTBhNzQxNzNlYyA9IEwucG9wdXAoe21heFdpZHRoOiAnMzAwJ30pOwoKICAgICAgICAgICAgCiAgICAgICAgICAgICAgICB2YXIgaHRtbF82NjQ2YTA4Y2FhNTk0YzllOTViNDAzZWE1YTE1ZDI3YSA9ICQoJzxkaXYgaWQ9Imh0bWxfNjY0NmEwOGNhYTU5NGM5ZTk1YjQwM2VhNWExNWQyN2EiIHN0eWxlPSJ3aWR0aDogMTAwLjAlOyBoZWlnaHQ6IDEwMC4wJTsiPk5laWdoYm9yaG9vZHM6IENhbmFkYSBQb3N0IEdhdGV3YXkgUHJvY2Vzc2luZyBDZW50cmUgbWFwcGVkIHRvIGJvcm91Z2g6IE1pc3Npc3NhdWdhPC9kaXY+JylbMF07CiAgICAgICAgICAgICAgICBwb3B1cF80NDIwYjNlODE4MTA0N2MyOTU0ODRjYTBhNzQxNzNlYy5zZXRDb250ZW50KGh0bWxfNjY0NmEwOGNhYTU5NGM5ZTk1YjQwM2VhNWExNWQyN2EpOwogICAgICAgICAgICAKCiAgICAgICAgICAgIGNpcmNsZV9tYXJrZXJfMDAxZGRmN2U3ZTg2NDc0NWJiMTRjOGE1YjRmYjc0OWUuYmluZFBvcHVwKHBvcHVwXzQ0MjBiM2U4MTgxMDQ3YzI5NTQ4NGNhMGE3NDE3M2VjKTsKCiAgICAgICAgICAgIAogICAgICAgIAogICAgCiAgICAgICAgICAgIHZhciBjaXJjbGVfbWFya2VyX2I5ZTU4MGY4NDBiNDQ5MjE5Y2FlZDBjNjI4MmVjYWQwID0gTC5jaXJjbGVNYXJrZXIoCiAgICAgICAgICAgICAgICBbNDMuNjg4OTA1NCwtNzkuNTU0NzI0NDAwMDAwMDFdLAogICAgICAgICAgICAgICAgewogICJidWJibGluZ01vdXNlRXZlbnRzIjogdHJ1ZSwKICAiY29sb3IiOiAiYmx1ZSIsCiAgImRhc2hBcnJheSI6IG51bGwsCiAgImRhc2hPZmZzZXQiOiBudWxsLAogICJmaWxsIjogdHJ1ZSwKICAiZmlsbENvbG9yIjogIiMzMTg2Y2MiLAogICJmaWxsT3BhY2l0eSI6IDAuNywKICAiZmlsbFJ1bGUiOiAiZXZlbm9kZCIsCiAgImxpbmVDYXAiOiAicm91bmQiLAogICJsaW5lSm9pbiI6ICJyb3VuZCIsCiAgIm9wYWNpdHkiOiAxLjAsCiAgInJhZGl1cyI6IDUsCiAgInN0cm9rZSI6IHRydWUsCiAgIndlaWdodCI6IDMKfQogICAgICAgICAgICAgICAgKS5hZGRUbyhtYXBfNDk0ZTQ3NWZmZWZkNDJhMWEzMDZlNTliYWYyZTQ5ZWEpOwogICAgICAgICAgICAKICAgIAogICAgICAgICAgICB2YXIgcG9wdXBfOGU4OTNjMDdkOTQ5NDhhMWI4MmVkMzQ2MjIyNmMxZGEgPSBMLnBvcHVwKHttYXhXaWR0aDogJzMwMCd9KTsKCiAgICAgICAgICAgIAogICAgICAgICAgICAgICAgdmFyIGh0bWxfYTUzYWJkMWMyYTBkNGZjMmJjZTgzMzVkNDFjOThiNjYgPSAkKCc8ZGl2IGlkPSJodG1sX2E1M2FiZDFjMmEwZDRmYzJiY2U4MzM1ZDQxYzk4YjY2IiBzdHlsZT0id2lkdGg6IDEwMC4wJTsgaGVpZ2h0OiAxMDAuMCU7Ij5OZWlnaGJvcmhvb2RzOiBLaW5nc3ZpZXcgVmlsbGFnZSwgU3QuIFBoaWxsaXBzLCBNYXJ0aW4gR3JvdmUgR2FyZGVucywgUmljaHZpZXcgR2FyZGVucyBtYXBwZWQgdG8gYm9yb3VnaDogRXRvYmljb2tlPC9kaXY+JylbMF07CiAgICAgICAgICAgICAgICBwb3B1cF84ZTg5M2MwN2Q5NDk0OGExYjgyZWQzNDYyMjI2YzFkYS5zZXRDb250ZW50KGh0bWxfYTUzYWJkMWMyYTBkNGZjMmJjZTgzMzVkNDFjOThiNjYpOwogICAgICAgICAgICAKCiAgICAgICAgICAgIGNpcmNsZV9tYXJrZXJfYjllNTgwZjg0MGI0NDkyMTljYWVkMGM2MjgyZWNhZDAuYmluZFBvcHVwKHBvcHVwXzhlODkzYzA3ZDk0OTQ4YTFiODJlZDM0NjIyMjZjMWRhKTsKCiAgICAgICAgICAgIAogICAgICAgIAogICAgCiAgICAgICAgICAgIHZhciBjaXJjbGVfbWFya2VyX2M1YTAzMzdlNzE3MDQ2NWJhNWFkZmEwZDc1ZTNmNmI3ID0gTC5jaXJjbGVNYXJrZXIoCiAgICAgICAgICAgICAgICBbNDMuNzk0MjAwMywtNzkuMjYyMDI5NDAwMDAwMDJdLAogICAgICAgICAgICAgICAgewogICJidWJibGluZ01vdXNlRXZlbnRzIjogdHJ1ZSwKICAiY29sb3IiOiAiYmx1ZSIsCiAgImRhc2hBcnJheSI6IG51bGwsCiAgImRhc2hPZmZzZXQiOiBudWxsLAogICJmaWxsIjogdHJ1ZSwKICAiZmlsbENvbG9yIjogIiMzMTg2Y2MiLAogICJmaWxsT3BhY2l0eSI6IDAuNywKICAiZmlsbFJ1bGUiOiAiZXZlbm9kZCIsCiAgImxpbmVDYXAiOiAicm91bmQiLAogICJsaW5lSm9pbiI6ICJyb3VuZCIsCiAgIm9wYWNpdHkiOiAxLjAsCiAgInJhZGl1cyI6IDUsCiAgInN0cm9rZSI6IHRydWUsCiAgIndlaWdodCI6IDMKfQogICAgICAgICAgICAgICAgKS5hZGRUbyhtYXBfNDk0ZTQ3NWZmZWZkNDJhMWEzMDZlNTliYWYyZTQ5ZWEpOwogICAgICAgICAgICAKICAgIAogICAgICAgICAgICB2YXIgcG9wdXBfN2I2MzdhZTJiMGY4NGIzN2I4MjZiZmY2NDQ1ZmU4NjggPSBMLnBvcHVwKHttYXhXaWR0aDogJzMwMCd9KTsKCiAgICAgICAgICAgIAogICAgICAgICAgICAgICAgdmFyIGh0bWxfZGFkZDYzYWU4NTZhNDRjODllMDg1MWY5MTdiNDYyOWEgPSAkKCc8ZGl2IGlkPSJodG1sX2RhZGQ2M2FlODU2YTQ0Yzg5ZTA4NTFmOTE3YjQ2MjlhIiBzdHlsZT0id2lkdGg6IDEwMC4wJTsgaGVpZ2h0OiAxMDAuMCU7Ij5OZWlnaGJvcmhvb2RzOiBBZ2luY291cnQgbWFwcGVkIHRvIGJvcm91Z2g6IFNjYXJib3JvdWdoPC9kaXY+JylbMF07CiAgICAgICAgICAgICAgICBwb3B1cF83YjYzN2FlMmIwZjg0YjM3YjgyNmJmZjY0NDVmZTg2OC5zZXRDb250ZW50KGh0bWxfZGFkZDYzYWU4NTZhNDRjODllMDg1MWY5MTdiNDYyOWEpOwogICAgICAgICAgICAKCiAgICAgICAgICAgIGNpcmNsZV9tYXJrZXJfYzVhMDMzN2U3MTcwNDY1YmE1YWRmYTBkNzVlM2Y2YjcuYmluZFBvcHVwKHBvcHVwXzdiNjM3YWUyYjBmODRiMzdiODI2YmZmNjQ0NWZlODY4KTsKCiAgICAgICAgICAgIAogICAgICAgIAogICAgCiAgICAgICAgICAgIHZhciBjaXJjbGVfbWFya2VyXzNiY2NjOTA0M2Y0YTQwOGQ4Y2JkNGYwZWNiYWI2OGRiID0gTC5jaXJjbGVNYXJrZXIoCiAgICAgICAgICAgICAgICBbNDMuNzA0MzI0NCwtNzkuMzg4NzkwMV0sCiAgICAgICAgICAgICAgICB7CiAgImJ1YmJsaW5nTW91c2VFdmVudHMiOiB0cnVlLAogICJjb2xvciI6ICJibHVlIiwKICAiZGFzaEFycmF5IjogbnVsbCwKICAiZGFzaE9mZnNldCI6IG51bGwsCiAgImZpbGwiOiB0cnVlLAogICJmaWxsQ29sb3IiOiAiIzMxODZjYyIsCiAgImZpbGxPcGFjaXR5IjogMC43LAogICJmaWxsUnVsZSI6ICJldmVub2RkIiwKICAibGluZUNhcCI6ICJyb3VuZCIsCiAgImxpbmVKb2luIjogInJvdW5kIiwKICAib3BhY2l0eSI6IDEuMCwKICAicmFkaXVzIjogNSwKICAic3Ryb2tlIjogdHJ1ZSwKICAid2VpZ2h0IjogMwp9CiAgICAgICAgICAgICAgICApLmFkZFRvKG1hcF80OTRlNDc1ZmZlZmQ0MmExYTMwNmU1OWJhZjJlNDllYSk7CiAgICAgICAgICAgIAogICAgCiAgICAgICAgICAgIHZhciBwb3B1cF83NzI4MTNmZWI4OGU0MmE1YWMyOWZlYTk4M2QwMzZjNSA9IEwucG9wdXAoe21heFdpZHRoOiAnMzAwJ30pOwoKICAgICAgICAgICAgCiAgICAgICAgICAgICAgICB2YXIgaHRtbF85Yzg1YTg4NjY0OTM0YjJlYTFlMmQ3YmRmOTY2Yzk4ZCA9ICQoJzxkaXYgaWQ9Imh0bWxfOWM4NWE4ODY2NDkzNGIyZWExZTJkN2JkZjk2NmM5OGQiIHN0eWxlPSJ3aWR0aDogMTAwLjAlOyBoZWlnaHQ6IDEwMC4wJTsiPk5laWdoYm9yaG9vZHM6IERhdmlzdmlsbGUgbWFwcGVkIHRvIGJvcm91Z2g6IENlbnRyYWwgVG9yb250bzwvZGl2PicpWzBdOwogICAgICAgICAgICAgICAgcG9wdXBfNzcyODEzZmViODhlNDJhNWFjMjlmZWE5ODNkMDM2YzUuc2V0Q29udGVudChodG1sXzljODVhODg2NjQ5MzRiMmVhMWUyZDdiZGY5NjZjOThkKTsKICAgICAgICAgICAgCgogICAgICAgICAgICBjaXJjbGVfbWFya2VyXzNiY2NjOTA0M2Y0YTQwOGQ4Y2JkNGYwZWNiYWI2OGRiLmJpbmRQb3B1cChwb3B1cF83NzI4MTNmZWI4OGU0MmE1YWMyOWZlYTk4M2QwMzZjNSk7CgogICAgICAgICAgICAKICAgICAgICAKICAgIAogICAgICAgICAgICB2YXIgY2lyY2xlX21hcmtlcl82MzRmOTkwODEwYmY0ZjMxYWYyNTRiYzQyNGMxZWNlOCA9IEwuY2lyY2xlTWFya2VyKAogICAgICAgICAgICAgICAgWzQzLjY2MjY5NTYsLTc5LjQwMDA0OTNdLAogICAgICAgICAgICAgICAgewogICJidWJibGluZ01vdXNlRXZlbnRzIjogdHJ1ZSwKICAiY29sb3IiOiAiYmx1ZSIsCiAgImRhc2hBcnJheSI6IG51bGwsCiAgImRhc2hPZmZzZXQiOiBudWxsLAogICJmaWxsIjogdHJ1ZSwKICAiZmlsbENvbG9yIjogIiMzMTg2Y2MiLAogICJmaWxsT3BhY2l0eSI6IDAuNywKICAiZmlsbFJ1bGUiOiAiZXZlbm9kZCIsCiAgImxpbmVDYXAiOiAicm91bmQiLAogICJsaW5lSm9pbiI6ICJyb3VuZCIsCiAgIm9wYWNpdHkiOiAxLjAsCiAgInJhZGl1cyI6IDUsCiAgInN0cm9rZSI6IHRydWUsCiAgIndlaWdodCI6IDMKfQogICAgICAgICAgICAgICAgKS5hZGRUbyhtYXBfNDk0ZTQ3NWZmZWZkNDJhMWEzMDZlNTliYWYyZTQ5ZWEpOwogICAgICAgICAgICAKICAgIAogICAgICAgICAgICB2YXIgcG9wdXBfZDg4OGY2ZTI4NDFlNGU2MTk1NWRhZmZkYTkzOTVjNTAgPSBMLnBvcHVwKHttYXhXaWR0aDogJzMwMCd9KTsKCiAgICAgICAgICAgIAogICAgICAgICAgICAgICAgdmFyIGh0bWxfODAzMDk3MmNkYmQyNGY3MWFjZjM3ZWYzZTAxNThmMTMgPSAkKCc8ZGl2IGlkPSJodG1sXzgwMzA5NzJjZGJkMjRmNzFhY2YzN2VmM2UwMTU4ZjEzIiBzdHlsZT0id2lkdGg6IDEwMC4wJTsgaGVpZ2h0OiAxMDAuMCU7Ij5OZWlnaGJvcmhvb2RzOiBVbml2ZXJzaXR5IG9mIFRvcm9udG8sIEhhcmJvcmQgbWFwcGVkIHRvIGJvcm91Z2g6IERvd250b3duIFRvcm9udG88L2Rpdj4nKVswXTsKICAgICAgICAgICAgICAgIHBvcHVwX2Q4ODhmNmUyODQxZTRlNjE5NTVkYWZmZGE5Mzk1YzUwLnNldENvbnRlbnQoaHRtbF84MDMwOTcyY2RiZDI0ZjcxYWNmMzdlZjNlMDE1OGYxMyk7CiAgICAgICAgICAgIAoKICAgICAgICAgICAgY2lyY2xlX21hcmtlcl82MzRmOTkwODEwYmY0ZjMxYWYyNTRiYzQyNGMxZWNlOC5iaW5kUG9wdXAocG9wdXBfZDg4OGY2ZTI4NDFlNGU2MTk1NWRhZmZkYTkzOTVjNTApOwoKICAgICAgICAgICAgCiAgICAgICAgCiAgICAKICAgICAgICAgICAgdmFyIGNpcmNsZV9tYXJrZXJfM2I0OWQzNDM3MjgxNDA3NTllNTgwODZhNjU2M2RjZjEgPSBMLmNpcmNsZU1hcmtlcigKICAgICAgICAgICAgICAgIFs0My42NTE1NzA2LC03OS40ODQ0NDk5XSwKICAgICAgICAgICAgICAgIHsKICAiYnViYmxpbmdNb3VzZUV2ZW50cyI6IHRydWUsCiAgImNvbG9yIjogImJsdWUiLAogICJkYXNoQXJyYXkiOiBudWxsLAogICJkYXNoT2Zmc2V0IjogbnVsbCwKICAiZmlsbCI6IHRydWUsCiAgImZpbGxDb2xvciI6ICIjMzE4NmNjIiwKICAiZmlsbE9wYWNpdHkiOiAwLjcsCiAgImZpbGxSdWxlIjogImV2ZW5vZGQiLAogICJsaW5lQ2FwIjogInJvdW5kIiwKICAibGluZUpvaW4iOiAicm91bmQiLAogICJvcGFjaXR5IjogMS4wLAogICJyYWRpdXMiOiA1LAogICJzdHJva2UiOiB0cnVlLAogICJ3ZWlnaHQiOiAzCn0KICAgICAgICAgICAgICAgICkuYWRkVG8obWFwXzQ5NGU0NzVmZmVmZDQyYTFhMzA2ZTU5YmFmMmU0OWVhKTsKICAgICAgICAgICAgCiAgICAKICAgICAgICAgICAgdmFyIHBvcHVwX2I4NTU0OGE2NjQ5MzRhN2Y4OTg0ZDdlMDI3YWE3NTViID0gTC5wb3B1cCh7bWF4V2lkdGg6ICczMDAnfSk7CgogICAgICAgICAgICAKICAgICAgICAgICAgICAgIHZhciBodG1sX2M3MDNiZjdiZDA4NDQyZWRhZWRlMDE1MGM4ZDQ1YzJlID0gJCgnPGRpdiBpZD0iaHRtbF9jNzAzYmY3YmQwODQ0MmVkYWVkZTAxNTBjOGQ0NWMyZSIgc3R5bGU9IndpZHRoOiAxMDAuMCU7IGhlaWdodDogMTAwLjAlOyI+TmVpZ2hib3Job29kczogUnVubnltZWRlLCBTd2Fuc2VhIG1hcHBlZCB0byBib3JvdWdoOiBXZXN0IFRvcm9udG88L2Rpdj4nKVswXTsKICAgICAgICAgICAgICAgIHBvcHVwX2I4NTU0OGE2NjQ5MzRhN2Y4OTg0ZDdlMDI3YWE3NTViLnNldENvbnRlbnQoaHRtbF9jNzAzYmY3YmQwODQ0MmVkYWVkZTAxNTBjOGQ0NWMyZSk7CiAgICAgICAgICAgIAoKICAgICAgICAgICAgY2lyY2xlX21hcmtlcl8zYjQ5ZDM0MzcyODE0MDc1OWU1ODA4NmE2NTYzZGNmMS5iaW5kUG9wdXAocG9wdXBfYjg1NTQ4YTY2NDkzNGE3Zjg5ODRkN2UwMjdhYTc1NWIpOwoKICAgICAgICAgICAgCiAgICAgICAgCiAgICAKICAgICAgICAgICAgdmFyIGNpcmNsZV9tYXJrZXJfNDEwNzAxNDQyMWRiNGQ5YWFjOTcwMTZiYjhjMGVkY2EgPSBMLmNpcmNsZU1hcmtlcigKICAgICAgICAgICAgICAgIFs0My43ODE2Mzc1LC03OS4zMDQzMDIxXSwKICAgICAgICAgICAgICAgIHsKICAiYnViYmxpbmdNb3VzZUV2ZW50cyI6IHRydWUsCiAgImNvbG9yIjogImJsdWUiLAogICJkYXNoQXJyYXkiOiBudWxsLAogICJkYXNoT2Zmc2V0IjogbnVsbCwKICAiZmlsbCI6IHRydWUsCiAgImZpbGxDb2xvciI6ICIjMzE4NmNjIiwKICAiZmlsbE9wYWNpdHkiOiAwLjcsCiAgImZpbGxSdWxlIjogImV2ZW5vZGQiLAogICJsaW5lQ2FwIjogInJvdW5kIiwKICAibGluZUpvaW4iOiAicm91bmQiLAogICJvcGFjaXR5IjogMS4wLAogICJyYWRpdXMiOiA1LAogICJzdHJva2UiOiB0cnVlLAogICJ3ZWlnaHQiOiAzCn0KICAgICAgICAgICAgICAgICkuYWRkVG8obWFwXzQ5NGU0NzVmZmVmZDQyYTFhMzA2ZTU5YmFmMmU0OWVhKTsKICAgICAgICAgICAgCiAgICAKICAgICAgICAgICAgdmFyIHBvcHVwXzQ0YWJkZjM4YzI4ZjRjZjU4OGUyNzljZTNjMDAyM2RmID0gTC5wb3B1cCh7bWF4V2lkdGg6ICczMDAnfSk7CgogICAgICAgICAgICAKICAgICAgICAgICAgICAgIHZhciBodG1sXzI2NWFhMTEyMmEyMjQzOGRiNjA2MzQ3ODAyZDU2ZWFkID0gJCgnPGRpdiBpZD0iaHRtbF8yNjVhYTExMjJhMjI0MzhkYjYwNjM0NzgwMmQ1NmVhZCIgc3R5bGU9IndpZHRoOiAxMDAuMCU7IGhlaWdodDogMTAwLjAlOyI+TmVpZ2hib3Job29kczogQ2xhcmtzIENvcm5lcnMsIFRhbSBPJiMzOTtTaGFudGVyLCBTdWxsaXZhbiBtYXBwZWQgdG8gYm9yb3VnaDogU2NhcmJvcm91Z2g8L2Rpdj4nKVswXTsKICAgICAgICAgICAgICAgIHBvcHVwXzQ0YWJkZjM4YzI4ZjRjZjU4OGUyNzljZTNjMDAyM2RmLnNldENvbnRlbnQoaHRtbF8yNjVhYTExMjJhMjI0MzhkYjYwNjM0NzgwMmQ1NmVhZCk7CiAgICAgICAgICAgIAoKICAgICAgICAgICAgY2lyY2xlX21hcmtlcl80MTA3MDE0NDIxZGI0ZDlhYWM5NzAxNmJiOGMwZWRjYS5iaW5kUG9wdXAocG9wdXBfNDRhYmRmMzhjMjhmNGNmNTg4ZTI3OWNlM2MwMDIzZGYpOwoKICAgICAgICAgICAgCiAgICAgICAgCiAgICAKICAgICAgICAgICAgdmFyIGNpcmNsZV9tYXJrZXJfMmU0NDA2Nzc0ODI2NGE0N2E3ZjdhMTk5OWVmZTQzMzAgPSBMLmNpcmNsZU1hcmtlcigKICAgICAgICAgICAgICAgIFs0My42ODk1NzQzLC03OS4zODMxNTk5MDAwMDAwMV0sCiAgICAgICAgICAgICAgICB7CiAgImJ1YmJsaW5nTW91c2VFdmVudHMiOiB0cnVlLAogICJjb2xvciI6ICJibHVlIiwKICAiZGFzaEFycmF5IjogbnVsbCwKICAiZGFzaE9mZnNldCI6IG51bGwsCiAgImZpbGwiOiB0cnVlLAogICJmaWxsQ29sb3IiOiAiIzMxODZjYyIsCiAgImZpbGxPcGFjaXR5IjogMC43LAogICJmaWxsUnVsZSI6ICJldmVub2RkIiwKICAibGluZUNhcCI6ICJyb3VuZCIsCiAgImxpbmVKb2luIjogInJvdW5kIiwKICAib3BhY2l0eSI6IDEuMCwKICAicmFkaXVzIjogNSwKICAic3Ryb2tlIjogdHJ1ZSwKICAid2VpZ2h0IjogMwp9CiAgICAgICAgICAgICAgICApLmFkZFRvKG1hcF80OTRlNDc1ZmZlZmQ0MmExYTMwNmU1OWJhZjJlNDllYSk7CiAgICAgICAgICAgIAogICAgCiAgICAgICAgICAgIHZhciBwb3B1cF8wMmE4NmJjMWFiNGE0ODg4YmVhNmI3NjBjMGVkYWUzZCA9IEwucG9wdXAoe21heFdpZHRoOiAnMzAwJ30pOwoKICAgICAgICAgICAgCiAgICAgICAgICAgICAgICB2YXIgaHRtbF84N2E4ZTE0Zjc4ZjY0YTBiOWJiYjM1YTI5NGZiODA0YSA9ICQoJzxkaXYgaWQ9Imh0bWxfODdhOGUxNGY3OGY2NGEwYjliYmIzNWEyOTRmYjgwNGEiIHN0eWxlPSJ3aWR0aDogMTAwLjAlOyBoZWlnaHQ6IDEwMC4wJTsiPk5laWdoYm9yaG9vZHM6IE1vb3JlIFBhcmssIFN1bW1lcmhpbGwgRWFzdCBtYXBwZWQgdG8gYm9yb3VnaDogQ2VudHJhbCBUb3JvbnRvPC9kaXY+JylbMF07CiAgICAgICAgICAgICAgICBwb3B1cF8wMmE4NmJjMWFiNGE0ODg4YmVhNmI3NjBjMGVkYWUzZC5zZXRDb250ZW50KGh0bWxfODdhOGUxNGY3OGY2NGEwYjliYmIzNWEyOTRmYjgwNGEpOwogICAgICAgICAgICAKCiAgICAgICAgICAgIGNpcmNsZV9tYXJrZXJfMmU0NDA2Nzc0ODI2NGE0N2E3ZjdhMTk5OWVmZTQzMzAuYmluZFBvcHVwKHBvcHVwXzAyYTg2YmMxYWI0YTQ4ODhiZWE2Yjc2MGMwZWRhZTNkKTsKCiAgICAgICAgICAgIAogICAgICAgIAogICAgCiAgICAgICAgICAgIHZhciBjaXJjbGVfbWFya2VyXzUzM2YxODExNWUzODRkMGJiZmM5ODUyODJkYTgwMzM1ID0gTC5jaXJjbGVNYXJrZXIoCiAgICAgICAgICAgICAgICBbNDMuNjUzMjA1NywtNzkuNDAwMDQ5M10sCiAgICAgICAgICAgICAgICB7CiAgImJ1YmJsaW5nTW91c2VFdmVudHMiOiB0cnVlLAogICJjb2xvciI6ICJibHVlIiwKICAiZGFzaEFycmF5IjogbnVsbCwKICAiZGFzaE9mZnNldCI6IG51bGwsCiAgImZpbGwiOiB0cnVlLAogICJmaWxsQ29sb3IiOiAiIzMxODZjYyIsCiAgImZpbGxPcGFjaXR5IjogMC43LAogICJmaWxsUnVsZSI6ICJldmVub2RkIiwKICAibGluZUNhcCI6ICJyb3VuZCIsCiAgImxpbmVKb2luIjogInJvdW5kIiwKICAib3BhY2l0eSI6IDEuMCwKICAicmFkaXVzIjogNSwKICAic3Ryb2tlIjogdHJ1ZSwKICAid2VpZ2h0IjogMwp9CiAgICAgICAgICAgICAgICApLmFkZFRvKG1hcF80OTRlNDc1ZmZlZmQ0MmExYTMwNmU1OWJhZjJlNDllYSk7CiAgICAgICAgICAgIAogICAgCiAgICAgICAgICAgIHZhciBwb3B1cF80MTZmYTE1MWQyMDQ0OTI0ODRlMjVlNzRjZDAwMGFkZSA9IEwucG9wdXAoe21heFdpZHRoOiAnMzAwJ30pOwoKICAgICAgICAgICAgCiAgICAgICAgICAgICAgICB2YXIgaHRtbF9kZDkwNDRmMmQ5NDE0MDc2YjUwY2Y3NTIwYTFlYjI5MCA9ICQoJzxkaXYgaWQ9Imh0bWxfZGQ5MDQ0ZjJkOTQxNDA3NmI1MGNmNzUyMGExZWIyOTAiIHN0eWxlPSJ3aWR0aDogMTAwLjAlOyBoZWlnaHQ6IDEwMC4wJTsiPk5laWdoYm9yaG9vZHM6IEtlbnNpbmd0b24gTWFya2V0LCBDaGluYXRvd24sIEdyYW5nZSBQYXJrIG1hcHBlZCB0byBib3JvdWdoOiBEb3dudG93biBUb3JvbnRvPC9kaXY+JylbMF07CiAgICAgICAgICAgICAgICBwb3B1cF80MTZmYTE1MWQyMDQ0OTI0ODRlMjVlNzRjZDAwMGFkZS5zZXRDb250ZW50KGh0bWxfZGQ5MDQ0ZjJkOTQxNDA3NmI1MGNmNzUyMGExZWIyOTApOwogICAgICAgICAgICAKCiAgICAgICAgICAgIGNpcmNsZV9tYXJrZXJfNTMzZjE4MTE1ZTM4NGQwYmJmYzk4NTI4MmRhODAzMzUuYmluZFBvcHVwKHBvcHVwXzQxNmZhMTUxZDIwNDQ5MjQ4NGUyNWU3NGNkMDAwYWRlKTsKCiAgICAgICAgICAgIAogICAgICAgIAogICAgCiAgICAgICAgICAgIHZhciBjaXJjbGVfbWFya2VyXzhlOGQ4YjI5MWQ2NzRiMTJiMTVmYTYzNzBiMTI2ZjFjID0gTC5jaXJjbGVNYXJrZXIoCiAgICAgICAgICAgICAgICBbNDMuODE1MjUyMiwtNzkuMjg0NTc3Ml0sCiAgICAgICAgICAgICAgICB7CiAgImJ1YmJsaW5nTW91c2VFdmVudHMiOiB0cnVlLAogICJjb2xvciI6ICJibHVlIiwKICAiZGFzaEFycmF5IjogbnVsbCwKICAiZGFzaE9mZnNldCI6IG51bGwsCiAgImZpbGwiOiB0cnVlLAogICJmaWxsQ29sb3IiOiAiIzMxODZjYyIsCiAgImZpbGxPcGFjaXR5IjogMC43LAogICJmaWxsUnVsZSI6ICJldmVub2RkIiwKICAibGluZUNhcCI6ICJyb3VuZCIsCiAgImxpbmVKb2luIjogInJvdW5kIiwKICAib3BhY2l0eSI6IDEuMCwKICAicmFkaXVzIjogNSwKICAic3Ryb2tlIjogdHJ1ZSwKICAid2VpZ2h0IjogMwp9CiAgICAgICAgICAgICAgICApLmFkZFRvKG1hcF80OTRlNDc1ZmZlZmQ0MmExYTMwNmU1OWJhZjJlNDllYSk7CiAgICAgICAgICAgIAogICAgCiAgICAgICAgICAgIHZhciBwb3B1cF9kYThhZjU1ZGZiNzA0MzBmYWFkZjU2NjMyY2YzYTNjNSA9IEwucG9wdXAoe21heFdpZHRoOiAnMzAwJ30pOwoKICAgICAgICAgICAgCiAgICAgICAgICAgICAgICB2YXIgaHRtbF80MWE4NWI1ZDVjZWM0MWJmYTgxYjhkYWVmNzFjMDI3YiA9ICQoJzxkaXYgaWQ9Imh0bWxfNDFhODViNWQ1Y2VjNDFiZmE4MWI4ZGFlZjcxYzAyN2IiIHN0eWxlPSJ3aWR0aDogMTAwLjAlOyBoZWlnaHQ6IDEwMC4wJTsiPk5laWdoYm9yaG9vZHM6IE1pbGxpa2VuLCBBZ2luY291cnQgTm9ydGgsIFN0ZWVsZXMgRWFzdCwgTCYjMzk7QW1vcmVhdXggRWFzdCBtYXBwZWQgdG8gYm9yb3VnaDogU2NhcmJvcm91Z2g8L2Rpdj4nKVswXTsKICAgICAgICAgICAgICAgIHBvcHVwX2RhOGFmNTVkZmI3MDQzMGZhYWRmNTY2MzJjZjNhM2M1LnNldENvbnRlbnQoaHRtbF80MWE4NWI1ZDVjZWM0MWJmYTgxYjhkYWVmNzFjMDI3Yik7CiAgICAgICAgICAgIAoKICAgICAgICAgICAgY2lyY2xlX21hcmtlcl84ZThkOGIyOTFkNjc0YjEyYjE1ZmE2MzcwYjEyNmYxYy5iaW5kUG9wdXAocG9wdXBfZGE4YWY1NWRmYjcwNDMwZmFhZGY1NjYzMmNmM2EzYzUpOwoKICAgICAgICAgICAgCiAgICAgICAgCiAgICAKICAgICAgICAgICAgdmFyIGNpcmNsZV9tYXJrZXJfNWUxN2M0NWYwMTIwNDI1Yzg4ZWY2ZTRhNzkwZGQ0NTMgPSBMLmNpcmNsZU1hcmtlcigKICAgICAgICAgICAgICAgIFs0My42ODY0MTIyOTk5OTk5OSwtNzkuNDAwMDQ5M10sCiAgICAgICAgICAgICAgICB7CiAgImJ1YmJsaW5nTW91c2VFdmVudHMiOiB0cnVlLAogICJjb2xvciI6ICJibHVlIiwKICAiZGFzaEFycmF5IjogbnVsbCwKICAiZGFzaE9mZnNldCI6IG51bGwsCiAgImZpbGwiOiB0cnVlLAogICJmaWxsQ29sb3IiOiAiIzMxODZjYyIsCiAgImZpbGxPcGFjaXR5IjogMC43LAogICJmaWxsUnVsZSI6ICJldmVub2RkIiwKICAibGluZUNhcCI6ICJyb3VuZCIsCiAgImxpbmVKb2luIjogInJvdW5kIiwKICAib3BhY2l0eSI6IDEuMCwKICAicmFkaXVzIjogNSwKICAic3Ryb2tlIjogdHJ1ZSwKICAid2VpZ2h0IjogMwp9CiAgICAgICAgICAgICAgICApLmFkZFRvKG1hcF80OTRlNDc1ZmZlZmQ0MmExYTMwNmU1OWJhZjJlNDllYSk7CiAgICAgICAgICAgIAogICAgCiAgICAgICAgICAgIHZhciBwb3B1cF9hNzRhMTc2M2MzYzU0YzEzOTM4ZjFjMTlmNTBjMDkyYSA9IEwucG9wdXAoe21heFdpZHRoOiAnMzAwJ30pOwoKICAgICAgICAgICAgCiAgICAgICAgICAgICAgICB2YXIgaHRtbF9jZGM1Y2YzZTYxNzM0NWY4YTBkNGM5NWVmOWE5YmQ1YyA9ICQoJzxkaXYgaWQ9Imh0bWxfY2RjNWNmM2U2MTczNDVmOGEwZDRjOTVlZjlhOWJkNWMiIHN0eWxlPSJ3aWR0aDogMTAwLjAlOyBoZWlnaHQ6IDEwMC4wJTsiPk5laWdoYm9yaG9vZHM6IFN1bW1lcmhpbGwgV2VzdCwgUmF0aG5lbGx5LCBTb3V0aCBIaWxsLCBGb3Jlc3QgSGlsbCBTRSwgRGVlciBQYXJrIG1hcHBlZCB0byBib3JvdWdoOiBDZW50cmFsIFRvcm9udG88L2Rpdj4nKVswXTsKICAgICAgICAgICAgICAgIHBvcHVwX2E3NGExNzYzYzNjNTRjMTM5MzhmMWMxOWY1MGMwOTJhLnNldENvbnRlbnQoaHRtbF9jZGM1Y2YzZTYxNzM0NWY4YTBkNGM5NWVmOWE5YmQ1Yyk7CiAgICAgICAgICAgIAoKICAgICAgICAgICAgY2lyY2xlX21hcmtlcl81ZTE3YzQ1ZjAxMjA0MjVjODhlZjZlNGE3OTBkZDQ1My5iaW5kUG9wdXAocG9wdXBfYTc0YTE3NjNjM2M1NGMxMzkzOGYxYzE5ZjUwYzA5MmEpOwoKICAgICAgICAgICAgCiAgICAgICAgCiAgICAKICAgICAgICAgICAgdmFyIGNpcmNsZV9tYXJrZXJfZDgyMmY0MGE2Zjc2NGNjNWE0ZTZlOTY0NmM1NmI1MjMgPSBMLmNpcmNsZU1hcmtlcigKICAgICAgICAgICAgICAgIFs0My42Mjg5NDY3LC03OS4zOTQ0MTk5XSwKICAgICAgICAgICAgICAgIHsKICAiYnViYmxpbmdNb3VzZUV2ZW50cyI6IHRydWUsCiAgImNvbG9yIjogImJsdWUiLAogICJkYXNoQXJyYXkiOiBudWxsLAogICJkYXNoT2Zmc2V0IjogbnVsbCwKICAiZmlsbCI6IHRydWUsCiAgImZpbGxDb2xvciI6ICIjMzE4NmNjIiwKICAiZmlsbE9wYWNpdHkiOiAwLjcsCiAgImZpbGxSdWxlIjogImV2ZW5vZGQiLAogICJsaW5lQ2FwIjogInJvdW5kIiwKICAibGluZUpvaW4iOiAicm91bmQiLAogICJvcGFjaXR5IjogMS4wLAogICJyYWRpdXMiOiA1LAogICJzdHJva2UiOiB0cnVlLAogICJ3ZWlnaHQiOiAzCn0KICAgICAgICAgICAgICAgICkuYWRkVG8obWFwXzQ5NGU0NzVmZmVmZDQyYTFhMzA2ZTU5YmFmMmU0OWVhKTsKICAgICAgICAgICAgCiAgICAKICAgICAgICAgICAgdmFyIHBvcHVwXzMwODNkNTVjYjc5MjRjN2JhODY4MDBjZTMzNWJmODU2ID0gTC5wb3B1cCh7bWF4V2lkdGg6ICczMDAnfSk7CgogICAgICAgICAgICAKICAgICAgICAgICAgICAgIHZhciBodG1sXzBmNjJkNTNkYWM2NjQ2MTg5OTJmYWQ5ZjU5NTdkMGM2ID0gJCgnPGRpdiBpZD0iaHRtbF8wZjYyZDUzZGFjNjY0NjE4OTkyZmFkOWY1OTU3ZDBjNiIgc3R5bGU9IndpZHRoOiAxMDAuMCU7IGhlaWdodDogMTAwLjAlOyI+TmVpZ2hib3Job29kczogQ04gVG93ZXIsIEtpbmcgYW5kIFNwYWRpbmEsIFJhaWx3YXkgTGFuZHMsIEhhcmJvdXJmcm9udCBXZXN0LCBCYXRodXJzdCBRdWF5LCBTb3V0aCBOaWFnYXJhLCBJc2xhbmQgYWlycG9ydCBtYXBwZWQgdG8gYm9yb3VnaDogRG93bnRvd24gVG9yb250bzwvZGl2PicpWzBdOwogICAgICAgICAgICAgICAgcG9wdXBfMzA4M2Q1NWNiNzkyNGM3YmE4NjgwMGNlMzM1YmY4NTYuc2V0Q29udGVudChodG1sXzBmNjJkNTNkYWM2NjQ2MTg5OTJmYWQ5ZjU5NTdkMGM2KTsKICAgICAgICAgICAgCgogICAgICAgICAgICBjaXJjbGVfbWFya2VyX2Q4MjJmNDBhNmY3NjRjYzVhNGU2ZTk2NDZjNTZiNTIzLmJpbmRQb3B1cChwb3B1cF8zMDgzZDU1Y2I3OTI0YzdiYTg2ODAwY2UzMzViZjg1Nik7CgogICAgICAgICAgICAKICAgICAgICAKICAgIAogICAgICAgICAgICB2YXIgY2lyY2xlX21hcmtlcl9hMjlkNGY0YzEzNWI0N2UxYTc4MmExMjIwOTFjZGNjZSA9IEwuY2lyY2xlTWFya2VyKAogICAgICAgICAgICAgICAgWzQzLjYwNTY0NjYsLTc5LjUwMTMyMDcwMDAwMDAxXSwKICAgICAgICAgICAgICAgIHsKICAiYnViYmxpbmdNb3VzZUV2ZW50cyI6IHRydWUsCiAgImNvbG9yIjogImJsdWUiLAogICJkYXNoQXJyYXkiOiBudWxsLAogICJkYXNoT2Zmc2V0IjogbnVsbCwKICAiZmlsbCI6IHRydWUsCiAgImZpbGxDb2xvciI6ICIjMzE4NmNjIiwKICAiZmlsbE9wYWNpdHkiOiAwLjcsCiAgImZpbGxSdWxlIjogImV2ZW5vZGQiLAogICJsaW5lQ2FwIjogInJvdW5kIiwKICAibGluZUpvaW4iOiAicm91bmQiLAogICJvcGFjaXR5IjogMS4wLAogICJyYWRpdXMiOiA1LAogICJzdHJva2UiOiB0cnVlLAogICJ3ZWlnaHQiOiAzCn0KICAgICAgICAgICAgICAgICkuYWRkVG8obWFwXzQ5NGU0NzVmZmVmZDQyYTFhMzA2ZTU5YmFmMmU0OWVhKTsKICAgICAgICAgICAgCiAgICAKICAgICAgICAgICAgdmFyIHBvcHVwXzIwNzRmYWRiZTkzNDQxMDM4MjM5MTMxZmMxMTNlZjEwID0gTC5wb3B1cCh7bWF4V2lkdGg6ICczMDAnfSk7CgogICAgICAgICAgICAKICAgICAgICAgICAgICAgIHZhciBodG1sXzY3NWE1NzYxNDhmMjRlZTZiMmMyYmRjZTcxZTg3OTIzID0gJCgnPGRpdiBpZD0iaHRtbF82NzVhNTc2MTQ4ZjI0ZWU2YjJjMmJkY2U3MWU4NzkyMyIgc3R5bGU9IndpZHRoOiAxMDAuMCU7IGhlaWdodDogMTAwLjAlOyI+TmVpZ2hib3Job29kczogTmV3IFRvcm9udG8sIE1pbWljbyBTb3V0aCwgSHVtYmVyIEJheSBTaG9yZXMgbWFwcGVkIHRvIGJvcm91Z2g6IEV0b2JpY29rZTwvZGl2PicpWzBdOwogICAgICAgICAgICAgICAgcG9wdXBfMjA3NGZhZGJlOTM0NDEwMzgyMzkxMzFmYzExM2VmMTAuc2V0Q29udGVudChodG1sXzY3NWE1NzYxNDhmMjRlZTZiMmMyYmRjZTcxZTg3OTIzKTsKICAgICAgICAgICAgCgogICAgICAgICAgICBjaXJjbGVfbWFya2VyX2EyOWQ0ZjRjMTM1YjQ3ZTFhNzgyYTEyMjA5MWNkY2NlLmJpbmRQb3B1cChwb3B1cF8yMDc0ZmFkYmU5MzQ0MTAzODIzOTEzMWZjMTEzZWYxMCk7CgogICAgICAgICAgICAKICAgICAgICAKICAgIAogICAgICAgICAgICB2YXIgY2lyY2xlX21hcmtlcl9mZTlkOTM1NTg0YjY0N2I1YWM0NzcwZjM5OGE5ZTI3ZSA9IEwuY2lyY2xlTWFya2VyKAogICAgICAgICAgICAgICAgWzQzLjczOTQxNjM5OTk5OTk5NiwtNzkuNTg4NDM2OV0sCiAgICAgICAgICAgICAgICB7CiAgImJ1YmJsaW5nTW91c2VFdmVudHMiOiB0cnVlLAogICJjb2xvciI6ICJibHVlIiwKICAiZGFzaEFycmF5IjogbnVsbCwKICAiZGFzaE9mZnNldCI6IG51bGwsCiAgImZpbGwiOiB0cnVlLAogICJmaWxsQ29sb3IiOiAiIzMxODZjYyIsCiAgImZpbGxPcGFjaXR5IjogMC43LAogICJmaWxsUnVsZSI6ICJldmVub2RkIiwKICAibGluZUNhcCI6ICJyb3VuZCIsCiAgImxpbmVKb2luIjogInJvdW5kIiwKICAib3BhY2l0eSI6IDEuMCwKICAicmFkaXVzIjogNSwKICAic3Ryb2tlIjogdHJ1ZSwKICAid2VpZ2h0IjogMwp9CiAgICAgICAgICAgICAgICApLmFkZFRvKG1hcF80OTRlNDc1ZmZlZmQ0MmExYTMwNmU1OWJhZjJlNDllYSk7CiAgICAgICAgICAgIAogICAgCiAgICAgICAgICAgIHZhciBwb3B1cF9jMzIzOWY3MjQxY2U0OGRiOTIzOTViOTM5NWFjZTM4OSA9IEwucG9wdXAoe21heFdpZHRoOiAnMzAwJ30pOwoKICAgICAgICAgICAgCiAgICAgICAgICAgICAgICB2YXIgaHRtbF9jMDM3MmRhYjdkYWQ0Zjc4YmY4MTM0Y2QyM2JlZTllYyA9ICQoJzxkaXYgaWQ9Imh0bWxfYzAzNzJkYWI3ZGFkNGY3OGJmODEzNGNkMjNiZWU5ZWMiIHN0eWxlPSJ3aWR0aDogMTAwLjAlOyBoZWlnaHQ6IDEwMC4wJTsiPk5laWdoYm9yaG9vZHM6IFNvdXRoIFN0ZWVsZXMsIFNpbHZlcnN0b25lLCBIdW1iZXJnYXRlLCBKYW1lc3Rvd24sIE1vdW50IE9saXZlLCBCZWF1bW9uZCBIZWlnaHRzLCBUaGlzdGxldG93biwgQWxiaW9uIEdhcmRlbnMgbWFwcGVkIHRvIGJvcm91Z2g6IEV0b2JpY29rZTwvZGl2PicpWzBdOwogICAgICAgICAgICAgICAgcG9wdXBfYzMyMzlmNzI0MWNlNDhkYjkyMzk1YjkzOTVhY2UzODkuc2V0Q29udGVudChodG1sX2MwMzcyZGFiN2RhZDRmNzhiZjgxMzRjZDIzYmVlOWVjKTsKICAgICAgICAgICAgCgogICAgICAgICAgICBjaXJjbGVfbWFya2VyX2ZlOWQ5MzU1ODRiNjQ3YjVhYzQ3NzBmMzk4YTllMjdlLmJpbmRQb3B1cChwb3B1cF9jMzIzOWY3MjQxY2U0OGRiOTIzOTViOTM5NWFjZTM4OSk7CgogICAgICAgICAgICAKICAgICAgICAKICAgIAogICAgICAgICAgICB2YXIgY2lyY2xlX21hcmtlcl83OTk3M2U4Mjc3MDk0NzIzYTVkM2FlNjZlZmMzOGEzMiA9IEwuY2lyY2xlTWFya2VyKAogICAgICAgICAgICAgICAgWzQzLjc5OTUyNTIwMDAwMDAwNSwtNzkuMzE4Mzg4N10sCiAgICAgICAgICAgICAgICB7CiAgImJ1YmJsaW5nTW91c2VFdmVudHMiOiB0cnVlLAogICJjb2xvciI6ICJibHVlIiwKICAiZGFzaEFycmF5IjogbnVsbCwKICAiZGFzaE9mZnNldCI6IG51bGwsCiAgImZpbGwiOiB0cnVlLAogICJmaWxsQ29sb3IiOiAiIzMxODZjYyIsCiAgImZpbGxPcGFjaXR5IjogMC43LAogICJmaWxsUnVsZSI6ICJldmVub2RkIiwKICAibGluZUNhcCI6ICJyb3VuZCIsCiAgImxpbmVKb2luIjogInJvdW5kIiwKICAib3BhY2l0eSI6IDEuMCwKICAicmFkaXVzIjogNSwKICAic3Ryb2tlIjogdHJ1ZSwKICAid2VpZ2h0IjogMwp9CiAgICAgICAgICAgICAgICApLmFkZFRvKG1hcF80OTRlNDc1ZmZlZmQ0MmExYTMwNmU1OWJhZjJlNDllYSk7CiAgICAgICAgICAgIAogICAgCiAgICAgICAgICAgIHZhciBwb3B1cF9iOTgxZGZmZGUyNGU0MDE0OTUwODUzNDZkNjczZDcyNCA9IEwucG9wdXAoe21heFdpZHRoOiAnMzAwJ30pOwoKICAgICAgICAgICAgCiAgICAgICAgICAgICAgICB2YXIgaHRtbF9lMTlkNWVkMjYyNTc0NzA2Yjg0YzljOTRlYzExMTllMCA9ICQoJzxkaXYgaWQ9Imh0bWxfZTE5ZDVlZDI2MjU3NDcwNmI4NGM5Yzk0ZWMxMTE5ZTAiIHN0eWxlPSJ3aWR0aDogMTAwLjAlOyBoZWlnaHQ6IDEwMC4wJTsiPk5laWdoYm9yaG9vZHM6IFN0ZWVsZXMgV2VzdCwgTCYjMzk7QW1vcmVhdXggV2VzdCBtYXBwZWQgdG8gYm9yb3VnaDogU2NhcmJvcm91Z2g8L2Rpdj4nKVswXTsKICAgICAgICAgICAgICAgIHBvcHVwX2I5ODFkZmZkZTI0ZTQwMTQ5NTA4NTM0NmQ2NzNkNzI0LnNldENvbnRlbnQoaHRtbF9lMTlkNWVkMjYyNTc0NzA2Yjg0YzljOTRlYzExMTllMCk7CiAgICAgICAgICAgIAoKICAgICAgICAgICAgY2lyY2xlX21hcmtlcl83OTk3M2U4Mjc3MDk0NzIzYTVkM2FlNjZlZmMzOGEzMi5iaW5kUG9wdXAocG9wdXBfYjk4MWRmZmRlMjRlNDAxNDk1MDg1MzQ2ZDY3M2Q3MjQpOwoKICAgICAgICAgICAgCiAgICAgICAgCiAgICAKICAgICAgICAgICAgdmFyIGNpcmNsZV9tYXJrZXJfYTAyZWZkNWZlZDhmNDRhMzhhYzkwOGUwZmEzNzM0ZGUgPSBMLmNpcmNsZU1hcmtlcigKICAgICAgICAgICAgICAgIFs0My42Nzk1NjI2LC03OS4zNzc1Mjk0MDAwMDAwMV0sCiAgICAgICAgICAgICAgICB7CiAgImJ1YmJsaW5nTW91c2VFdmVudHMiOiB0cnVlLAogICJjb2xvciI6ICJibHVlIiwKICAiZGFzaEFycmF5IjogbnVsbCwKICAiZGFzaE9mZnNldCI6IG51bGwsCiAgImZpbGwiOiB0cnVlLAogICJmaWxsQ29sb3IiOiAiIzMxODZjYyIsCiAgImZpbGxPcGFjaXR5IjogMC43LAogICJmaWxsUnVsZSI6ICJldmVub2RkIiwKICAibGluZUNhcCI6ICJyb3VuZCIsCiAgImxpbmVKb2luIjogInJvdW5kIiwKICAib3BhY2l0eSI6IDEuMCwKICAicmFkaXVzIjogNSwKICAic3Ryb2tlIjogdHJ1ZSwKICAid2VpZ2h0IjogMwp9CiAgICAgICAgICAgICAgICApLmFkZFRvKG1hcF80OTRlNDc1ZmZlZmQ0MmExYTMwNmU1OWJhZjJlNDllYSk7CiAgICAgICAgICAgIAogICAgCiAgICAgICAgICAgIHZhciBwb3B1cF8yNjE2NjE5NTUxNTA0NGU4OWU3ZTZkMTU2MzE5ZmVjZCA9IEwucG9wdXAoe21heFdpZHRoOiAnMzAwJ30pOwoKICAgICAgICAgICAgCiAgICAgICAgICAgICAgICB2YXIgaHRtbF83ZWQ1N2VhMDlmYTc0YjhhYmZhMTc5YmVkZGQ0ZTFjMSA9ICQoJzxkaXYgaWQ9Imh0bWxfN2VkNTdlYTA5ZmE3NGI4YWJmYTE3OWJlZGRkNGUxYzEiIHN0eWxlPSJ3aWR0aDogMTAwLjAlOyBoZWlnaHQ6IDEwMC4wJTsiPk5laWdoYm9yaG9vZHM6IFJvc2VkYWxlIG1hcHBlZCB0byBib3JvdWdoOiBEb3dudG93biBUb3JvbnRvPC9kaXY+JylbMF07CiAgICAgICAgICAgICAgICBwb3B1cF8yNjE2NjE5NTUxNTA0NGU4OWU3ZTZkMTU2MzE5ZmVjZC5zZXRDb250ZW50KGh0bWxfN2VkNTdlYTA5ZmE3NGI4YWJmYTE3OWJlZGRkNGUxYzEpOwogICAgICAgICAgICAKCiAgICAgICAgICAgIGNpcmNsZV9tYXJrZXJfYTAyZWZkNWZlZDhmNDRhMzhhYzkwOGUwZmEzNzM0ZGUuYmluZFBvcHVwKHBvcHVwXzI2MTY2MTk1NTE1MDQ0ZTg5ZTdlNmQxNTYzMTlmZWNkKTsKCiAgICAgICAgICAgIAogICAgICAgIAogICAgCiAgICAgICAgICAgIHZhciBjaXJjbGVfbWFya2VyXzU3ZTJmY2M2MjFlODQ2NzViY2VlYjY2NWM0ZGJiNjE3ID0gTC5jaXJjbGVNYXJrZXIoCiAgICAgICAgICAgICAgICBbNDMuNjQ2NDM1MiwtNzkuMzc0ODQ1OTk5OTk5OTldLAogICAgICAgICAgICAgICAgewogICJidWJibGluZ01vdXNlRXZlbnRzIjogdHJ1ZSwKICAiY29sb3IiOiAiYmx1ZSIsCiAgImRhc2hBcnJheSI6IG51bGwsCiAgImRhc2hPZmZzZXQiOiBudWxsLAogICJmaWxsIjogdHJ1ZSwKICAiZmlsbENvbG9yIjogIiMzMTg2Y2MiLAogICJmaWxsT3BhY2l0eSI6IDAuNywKICAiZmlsbFJ1bGUiOiAiZXZlbm9kZCIsCiAgImxpbmVDYXAiOiAicm91bmQiLAogICJsaW5lSm9pbiI6ICJyb3VuZCIsCiAgIm9wYWNpdHkiOiAxLjAsCiAgInJhZGl1cyI6IDUsCiAgInN0cm9rZSI6IHRydWUsCiAgIndlaWdodCI6IDMKfQogICAgICAgICAgICAgICAgKS5hZGRUbyhtYXBfNDk0ZTQ3NWZmZWZkNDJhMWEzMDZlNTliYWYyZTQ5ZWEpOwogICAgICAgICAgICAKICAgIAogICAgICAgICAgICB2YXIgcG9wdXBfZTg4NGU3ZWI2NWVhNGFlZmFmZWU0ZjViOGNmYjEyZWUgPSBMLnBvcHVwKHttYXhXaWR0aDogJzMwMCd9KTsKCiAgICAgICAgICAgIAogICAgICAgICAgICAgICAgdmFyIGh0bWxfZjk5ZTZkNGZkNzg5NDgxNjg2MTE4NmE4MzhmOTAwMGYgPSAkKCc8ZGl2IGlkPSJodG1sX2Y5OWU2ZDRmZDc4OTQ4MTY4NjExODZhODM4ZjkwMDBmIiBzdHlsZT0id2lkdGg6IDEwMC4wJTsgaGVpZ2h0OiAxMDAuMCU7Ij5OZWlnaGJvcmhvb2RzOiBTdG4gQSBQTyBCb3hlcyBtYXBwZWQgdG8gYm9yb3VnaDogRG93bnRvd24gVG9yb250bzwvZGl2PicpWzBdOwogICAgICAgICAgICAgICAgcG9wdXBfZTg4NGU3ZWI2NWVhNGFlZmFmZWU0ZjViOGNmYjEyZWUuc2V0Q29udGVudChodG1sX2Y5OWU2ZDRmZDc4OTQ4MTY4NjExODZhODM4ZjkwMDBmKTsKICAgICAgICAgICAgCgogICAgICAgICAgICBjaXJjbGVfbWFya2VyXzU3ZTJmY2M2MjFlODQ2NzViY2VlYjY2NWM0ZGJiNjE3LmJpbmRQb3B1cChwb3B1cF9lODg0ZTdlYjY1ZWE0YWVmYWZlZTRmNWI4Y2ZiMTJlZSk7CgogICAgICAgICAgICAKICAgICAgICAKICAgIAogICAgICAgICAgICB2YXIgY2lyY2xlX21hcmtlcl85OTVhYjczNGVjNTg0OTQ4OTcwZTIzOGIwYWM1MTY5NyA9IEwuY2lyY2xlTWFya2VyKAogICAgICAgICAgICAgICAgWzQzLjYwMjQxMzcwMDAwMDAxLC03OS41NDM0ODQwOTk5OTk5OV0sCiAgICAgICAgICAgICAgICB7CiAgImJ1YmJsaW5nTW91c2VFdmVudHMiOiB0cnVlLAogICJjb2xvciI6ICJibHVlIiwKICAiZGFzaEFycmF5IjogbnVsbCwKICAiZGFzaE9mZnNldCI6IG51bGwsCiAgImZpbGwiOiB0cnVlLAogICJmaWxsQ29sb3IiOiAiIzMxODZjYyIsCiAgImZpbGxPcGFjaXR5IjogMC43LAogICJmaWxsUnVsZSI6ICJldmVub2RkIiwKICAibGluZUNhcCI6ICJyb3VuZCIsCiAgImxpbmVKb2luIjogInJvdW5kIiwKICAib3BhY2l0eSI6IDEuMCwKICAicmFkaXVzIjogNSwKICAic3Ryb2tlIjogdHJ1ZSwKICAid2VpZ2h0IjogMwp9CiAgICAgICAgICAgICAgICApLmFkZFRvKG1hcF80OTRlNDc1ZmZlZmQ0MmExYTMwNmU1OWJhZjJlNDllYSk7CiAgICAgICAgICAgIAogICAgCiAgICAgICAgICAgIHZhciBwb3B1cF84NTY1NzRhMDhlZjI0NWIwYmYzZDgzYzU1MzYxZmI1ZSA9IEwucG9wdXAoe21heFdpZHRoOiAnMzAwJ30pOwoKICAgICAgICAgICAgCiAgICAgICAgICAgICAgICB2YXIgaHRtbF81MmRiZTA2ZjkzYzI0YWUyYTgwMzU3NjkzN2ZkYWI5MiA9ICQoJzxkaXYgaWQ9Imh0bWxfNTJkYmUwNmY5M2MyNGFlMmE4MDM1NzY5MzdmZGFiOTIiIHN0eWxlPSJ3aWR0aDogMTAwLjAlOyBoZWlnaHQ6IDEwMC4wJTsiPk5laWdoYm9yaG9vZHM6IEFsZGVyd29vZCwgTG9uZyBCcmFuY2ggbWFwcGVkIHRvIGJvcm91Z2g6IEV0b2JpY29rZTwvZGl2PicpWzBdOwogICAgICAgICAgICAgICAgcG9wdXBfODU2NTc0YTA4ZWYyNDViMGJmM2Q4M2M1NTM2MWZiNWUuc2V0Q29udGVudChodG1sXzUyZGJlMDZmOTNjMjRhZTJhODAzNTc2OTM3ZmRhYjkyKTsKICAgICAgICAgICAgCgogICAgICAgICAgICBjaXJjbGVfbWFya2VyXzk5NWFiNzM0ZWM1ODQ5NDg5NzBlMjM4YjBhYzUxNjk3LmJpbmRQb3B1cChwb3B1cF84NTY1NzRhMDhlZjI0NWIwYmYzZDgzYzU1MzYxZmI1ZSk7CgogICAgICAgICAgICAKICAgICAgICAKICAgIAogICAgICAgICAgICB2YXIgY2lyY2xlX21hcmtlcl9kNGEyMTJhYjkwMzA0NzU4OGRiODMxZGY3YjEyZWM4NyA9IEwuY2lyY2xlTWFya2VyKAogICAgICAgICAgICAgICAgWzQzLjcwNjc0ODI5OTk5OTk5NCwtNzkuNTk0MDU0NF0sCiAgICAgICAgICAgICAgICB7CiAgImJ1YmJsaW5nTW91c2VFdmVudHMiOiB0cnVlLAogICJjb2xvciI6ICJibHVlIiwKICAiZGFzaEFycmF5IjogbnVsbCwKICAiZGFzaE9mZnNldCI6IG51bGwsCiAgImZpbGwiOiB0cnVlLAogICJmaWxsQ29sb3IiOiAiIzMxODZjYyIsCiAgImZpbGxPcGFjaXR5IjogMC43LAogICJmaWxsUnVsZSI6ICJldmVub2RkIiwKICAibGluZUNhcCI6ICJyb3VuZCIsCiAgImxpbmVKb2luIjogInJvdW5kIiwKICAib3BhY2l0eSI6IDEuMCwKICAicmFkaXVzIjogNSwKICAic3Ryb2tlIjogdHJ1ZSwKICAid2VpZ2h0IjogMwp9CiAgICAgICAgICAgICAgICApLmFkZFRvKG1hcF80OTRlNDc1ZmZlZmQ0MmExYTMwNmU1OWJhZjJlNDllYSk7CiAgICAgICAgICAgIAogICAgCiAgICAgICAgICAgIHZhciBwb3B1cF83OWFhZmY3MTA2NTI0MTdhOWNjMmM0NDhmYTg1NzgyMSA9IEwucG9wdXAoe21heFdpZHRoOiAnMzAwJ30pOwoKICAgICAgICAgICAgCiAgICAgICAgICAgICAgICB2YXIgaHRtbF84M2U2ZjVkNjgzZTk0NmVjODcyOTI1MDZhYzUyMDYzMSA9ICQoJzxkaXYgaWQ9Imh0bWxfODNlNmY1ZDY4M2U5NDZlYzg3MjkyNTA2YWM1MjA2MzEiIHN0eWxlPSJ3aWR0aDogMTAwLjAlOyBoZWlnaHQ6IDEwMC4wJTsiPk5laWdoYm9yaG9vZHM6IE5vcnRod2VzdCBtYXBwZWQgdG8gYm9yb3VnaDogRXRvYmljb2tlPC9kaXY+JylbMF07CiAgICAgICAgICAgICAgICBwb3B1cF83OWFhZmY3MTA2NTI0MTdhOWNjMmM0NDhmYTg1NzgyMS5zZXRDb250ZW50KGh0bWxfODNlNmY1ZDY4M2U5NDZlYzg3MjkyNTA2YWM1MjA2MzEpOwogICAgICAgICAgICAKCiAgICAgICAgICAgIGNpcmNsZV9tYXJrZXJfZDRhMjEyYWI5MDMwNDc1ODhkYjgzMWRmN2IxMmVjODcuYmluZFBvcHVwKHBvcHVwXzc5YWFmZjcxMDY1MjQxN2E5Y2MyYzQ0OGZhODU3ODIxKTsKCiAgICAgICAgICAgIAogICAgICAgIAogICAgCiAgICAgICAgICAgIHZhciBjaXJjbGVfbWFya2VyXzRmNzdlNDEzOGFhYTQ3ODViZTk3M2I0YWVlMWMwOWY5ID0gTC5jaXJjbGVNYXJrZXIoCiAgICAgICAgICAgICAgICBbNDMuODM2MTI0NzAwMDAwMDA2LC03OS4yMDU2MzYwOTk5OTk5OV0sCiAgICAgICAgICAgICAgICB7CiAgImJ1YmJsaW5nTW91c2VFdmVudHMiOiB0cnVlLAogICJjb2xvciI6ICJibHVlIiwKICAiZGFzaEFycmF5IjogbnVsbCwKICAiZGFzaE9mZnNldCI6IG51bGwsCiAgImZpbGwiOiB0cnVlLAogICJmaWxsQ29sb3IiOiAiIzMxODZjYyIsCiAgImZpbGxPcGFjaXR5IjogMC43LAogICJmaWxsUnVsZSI6ICJldmVub2RkIiwKICAibGluZUNhcCI6ICJyb3VuZCIsCiAgImxpbmVKb2luIjogInJvdW5kIiwKICAib3BhY2l0eSI6IDEuMCwKICAicmFkaXVzIjogNSwKICAic3Ryb2tlIjogdHJ1ZSwKICAid2VpZ2h0IjogMwp9CiAgICAgICAgICAgICAgICApLmFkZFRvKG1hcF80OTRlNDc1ZmZlZmQ0MmExYTMwNmU1OWJhZjJlNDllYSk7CiAgICAgICAgICAgIAogICAgCiAgICAgICAgICAgIHZhciBwb3B1cF85ZjViNjlmNDI5ZTI0YzE0YTQwN2ZlYzJjNWQwYjA3OSA9IEwucG9wdXAoe21heFdpZHRoOiAnMzAwJ30pOwoKICAgICAgICAgICAgCiAgICAgICAgICAgICAgICB2YXIgaHRtbF9hYTQ0OWQwM2FmY2I0YWMwYTQ5NzQ0MGUwNzNhNjhiNyA9ICQoJzxkaXYgaWQ9Imh0bWxfYWE0NDlkMDNhZmNiNGFjMGE0OTc0NDBlMDczYTY4YjciIHN0eWxlPSJ3aWR0aDogMTAwLjAlOyBoZWlnaHQ6IDEwMC4wJTsiPk5laWdoYm9yaG9vZHM6IFVwcGVyIFJvdWdlIG1hcHBlZCB0byBib3JvdWdoOiBTY2FyYm9yb3VnaDwvZGl2PicpWzBdOwogICAgICAgICAgICAgICAgcG9wdXBfOWY1YjY5ZjQyOWUyNGMxNGE0MDdmZWMyYzVkMGIwNzkuc2V0Q29udGVudChodG1sX2FhNDQ5ZDAzYWZjYjRhYzBhNDk3NDQwZTA3M2E2OGI3KTsKICAgICAgICAgICAgCgogICAgICAgICAgICBjaXJjbGVfbWFya2VyXzRmNzdlNDEzOGFhYTQ3ODViZTk3M2I0YWVlMWMwOWY5LmJpbmRQb3B1cChwb3B1cF85ZjViNjlmNDI5ZTI0YzE0YTQwN2ZlYzJjNWQwYjA3OSk7CgogICAgICAgICAgICAKICAgICAgICAKICAgIAogICAgICAgICAgICB2YXIgY2lyY2xlX21hcmtlcl83ZDVmMTY4MmFiZjQ0ZTU5ODY2NzBmMTFjNDgzMzM4NiA9IEwuY2lyY2xlTWFya2VyKAogICAgICAgICAgICAgICAgWzQzLjY2Nzk2NywtNzkuMzY3Njc1M10sCiAgICAgICAgICAgICAgICB7CiAgImJ1YmJsaW5nTW91c2VFdmVudHMiOiB0cnVlLAogICJjb2xvciI6ICJibHVlIiwKICAiZGFzaEFycmF5IjogbnVsbCwKICAiZGFzaE9mZnNldCI6IG51bGwsCiAgImZpbGwiOiB0cnVlLAogICJmaWxsQ29sb3IiOiAiIzMxODZjYyIsCiAgImZpbGxPcGFjaXR5IjogMC43LAogICJmaWxsUnVsZSI6ICJldmVub2RkIiwKICAibGluZUNhcCI6ICJyb3VuZCIsCiAgImxpbmVKb2luIjogInJvdW5kIiwKICAib3BhY2l0eSI6IDEuMCwKICAicmFkaXVzIjogNSwKICAic3Ryb2tlIjogdHJ1ZSwKICAid2VpZ2h0IjogMwp9CiAgICAgICAgICAgICAgICApLmFkZFRvKG1hcF80OTRlNDc1ZmZlZmQ0MmExYTMwNmU1OWJhZjJlNDllYSk7CiAgICAgICAgICAgIAogICAgCiAgICAgICAgICAgIHZhciBwb3B1cF8yN2EwMjA4MDQxZGQ0MmM2Yjg5ZDM0MTA4MjhiYzZiOSA9IEwucG9wdXAoe21heFdpZHRoOiAnMzAwJ30pOwoKICAgICAgICAgICAgCiAgICAgICAgICAgICAgICB2YXIgaHRtbF84Mzc5OGMwMjNiMDM0OTUyYWU1MWE2NWRlM2M3MDFjYSA9ICQoJzxkaXYgaWQ9Imh0bWxfODM3OThjMDIzYjAzNDk1MmFlNTFhNjVkZTNjNzAxY2EiIHN0eWxlPSJ3aWR0aDogMTAwLjAlOyBoZWlnaHQ6IDEwMC4wJTsiPk5laWdoYm9yaG9vZHM6IFN0LiBKYW1lcyBUb3duLCBDYWJiYWdldG93biBtYXBwZWQgdG8gYm9yb3VnaDogRG93bnRvd24gVG9yb250bzwvZGl2PicpWzBdOwogICAgICAgICAgICAgICAgcG9wdXBfMjdhMDIwODA0MWRkNDJjNmI4OWQzNDEwODI4YmM2Yjkuc2V0Q29udGVudChodG1sXzgzNzk4YzAyM2IwMzQ5NTJhZTUxYTY1ZGUzYzcwMWNhKTsKICAgICAgICAgICAgCgogICAgICAgICAgICBjaXJjbGVfbWFya2VyXzdkNWYxNjgyYWJmNDRlNTk4NjY3MGYxMWM0ODMzMzg2LmJpbmRQb3B1cChwb3B1cF8yN2EwMjA4MDQxZGQ0MmM2Yjg5ZDM0MTA4MjhiYzZiOSk7CgogICAgICAgICAgICAKICAgICAgICAKICAgIAogICAgICAgICAgICB2YXIgY2lyY2xlX21hcmtlcl85ZmY1MTQ3ZjRmNmU0MTFiODUyMmNiZjg2OTc1YjFhOSA9IEwuY2lyY2xlTWFya2VyKAogICAgICAgICAgICAgICAgWzQzLjY0ODQyOTIsLTc5LjM4MjI4MDJdLAogICAgICAgICAgICAgICAgewogICJidWJibGluZ01vdXNlRXZlbnRzIjogdHJ1ZSwKICAiY29sb3IiOiAiYmx1ZSIsCiAgImRhc2hBcnJheSI6IG51bGwsCiAgImRhc2hPZmZzZXQiOiBudWxsLAogICJmaWxsIjogdHJ1ZSwKICAiZmlsbENvbG9yIjogIiMzMTg2Y2MiLAogICJmaWxsT3BhY2l0eSI6IDAuNywKICAiZmlsbFJ1bGUiOiAiZXZlbm9kZCIsCiAgImxpbmVDYXAiOiAicm91bmQiLAogICJsaW5lSm9pbiI6ICJyb3VuZCIsCiAgIm9wYWNpdHkiOiAxLjAsCiAgInJhZGl1cyI6IDUsCiAgInN0cm9rZSI6IHRydWUsCiAgIndlaWdodCI6IDMKfQogICAgICAgICAgICAgICAgKS5hZGRUbyhtYXBfNDk0ZTQ3NWZmZWZkNDJhMWEzMDZlNTliYWYyZTQ5ZWEpOwogICAgICAgICAgICAKICAgIAogICAgICAgICAgICB2YXIgcG9wdXBfYmQ0MzhiZWQ2MWU0NGY1NWE0ODMyMDg3Yjg0OTg0M2EgPSBMLnBvcHVwKHttYXhXaWR0aDogJzMwMCd9KTsKCiAgICAgICAgICAgIAogICAgICAgICAgICAgICAgdmFyIGh0bWxfZjc5YWM4YzI0ZGEzNGJlZWJjMjc4ZTdiNzc1MjgyNDAgPSAkKCc8ZGl2IGlkPSJodG1sX2Y3OWFjOGMyNGRhMzRiZWViYzI3OGU3Yjc3NTI4MjQwIiBzdHlsZT0id2lkdGg6IDEwMC4wJTsgaGVpZ2h0OiAxMDAuMCU7Ij5OZWlnaGJvcmhvb2RzOiBGaXJzdCBDYW5hZGlhbiBQbGFjZSwgVW5kZXJncm91bmQgY2l0eSBtYXBwZWQgdG8gYm9yb3VnaDogRG93bnRvd24gVG9yb250bzwvZGl2PicpWzBdOwogICAgICAgICAgICAgICAgcG9wdXBfYmQ0MzhiZWQ2MWU0NGY1NWE0ODMyMDg3Yjg0OTg0M2Euc2V0Q29udGVudChodG1sX2Y3OWFjOGMyNGRhMzRiZWViYzI3OGU3Yjc3NTI4MjQwKTsKICAgICAgICAgICAgCgogICAgICAgICAgICBjaXJjbGVfbWFya2VyXzlmZjUxNDdmNGY2ZTQxMWI4NTIyY2JmODY5NzViMWE5LmJpbmRQb3B1cChwb3B1cF9iZDQzOGJlZDYxZTQ0ZjU1YTQ4MzIwODdiODQ5ODQzYSk7CgogICAgICAgICAgICAKICAgICAgICAKICAgIAogICAgICAgICAgICB2YXIgY2lyY2xlX21hcmtlcl8yM2FmYTg2MzdkOTA0NGYyYmZiNzYyNmJlNmIxYTNhZSA9IEwuY2lyY2xlTWFya2VyKAogICAgICAgICAgICAgICAgWzQzLjY1MzY1MzYwMDAwMDAwNSwtNzkuNTA2OTQzNl0sCiAgICAgICAgICAgICAgICB7CiAgImJ1YmJsaW5nTW91c2VFdmVudHMiOiB0cnVlLAogICJjb2xvciI6ICJibHVlIiwKICAiZGFzaEFycmF5IjogbnVsbCwKICAiZGFzaE9mZnNldCI6IG51bGwsCiAgImZpbGwiOiB0cnVlLAogICJmaWxsQ29sb3IiOiAiIzMxODZjYyIsCiAgImZpbGxPcGFjaXR5IjogMC43LAogICJmaWxsUnVsZSI6ICJldmVub2RkIiwKICAibGluZUNhcCI6ICJyb3VuZCIsCiAgImxpbmVKb2luIjogInJvdW5kIiwKICAib3BhY2l0eSI6IDEuMCwKICAicmFkaXVzIjogNSwKICAic3Ryb2tlIjogdHJ1ZSwKICAid2VpZ2h0IjogMwp9CiAgICAgICAgICAgICAgICApLmFkZFRvKG1hcF80OTRlNDc1ZmZlZmQ0MmExYTMwNmU1OWJhZjJlNDllYSk7CiAgICAgICAgICAgIAogICAgCiAgICAgICAgICAgIHZhciBwb3B1cF9kNGNjZDgzYmY2NmU0YjUwOWY2NzhiM2RmOWZiY2QzNyA9IEwucG9wdXAoe21heFdpZHRoOiAnMzAwJ30pOwoKICAgICAgICAgICAgCiAgICAgICAgICAgICAgICB2YXIgaHRtbF83N2ZiZDkzN2FiMGM0ODJhYTQ0M2E5NGI0MDEyMDMxZCA9ICQoJzxkaXYgaWQ9Imh0bWxfNzdmYmQ5MzdhYjBjNDgyYWE0NDNhOTRiNDAxMjAzMWQiIHN0eWxlPSJ3aWR0aDogMTAwLjAlOyBoZWlnaHQ6IDEwMC4wJTsiPk5laWdoYm9yaG9vZHM6IFRoZSBLaW5nc3dheSwgTW9udGdvbWVyeSBSb2FkLCBPbGQgTWlsbCBOb3J0aCBtYXBwZWQgdG8gYm9yb3VnaDogRXRvYmljb2tlPC9kaXY+JylbMF07CiAgICAgICAgICAgICAgICBwb3B1cF9kNGNjZDgzYmY2NmU0YjUwOWY2NzhiM2RmOWZiY2QzNy5zZXRDb250ZW50KGh0bWxfNzdmYmQ5MzdhYjBjNDgyYWE0NDNhOTRiNDAxMjAzMWQpOwogICAgICAgICAgICAKCiAgICAgICAgICAgIGNpcmNsZV9tYXJrZXJfMjNhZmE4NjM3ZDkwNDRmMmJmYjc2MjZiZTZiMWEzYWUuYmluZFBvcHVwKHBvcHVwX2Q0Y2NkODNiZjY2ZTRiNTA5ZjY3OGIzZGY5ZmJjZDM3KTsKCiAgICAgICAgICAgIAogICAgICAgIAogICAgCiAgICAgICAgICAgIHZhciBjaXJjbGVfbWFya2VyXzJjOTJkYzU4ZDQyZTQ1YmFhNWQyMjIzZDYzY2QwZGY5ID0gTC5jaXJjbGVNYXJrZXIoCiAgICAgICAgICAgICAgICBbNDMuNjY1ODU5OSwtNzkuMzgzMTU5OTAwMDAwMDFdLAogICAgICAgICAgICAgICAgewogICJidWJibGluZ01vdXNlRXZlbnRzIjogdHJ1ZSwKICAiY29sb3IiOiAiYmx1ZSIsCiAgImRhc2hBcnJheSI6IG51bGwsCiAgImRhc2hPZmZzZXQiOiBudWxsLAogICJmaWxsIjogdHJ1ZSwKICAiZmlsbENvbG9yIjogIiMzMTg2Y2MiLAogICJmaWxsT3BhY2l0eSI6IDAuNywKICAiZmlsbFJ1bGUiOiAiZXZlbm9kZCIsCiAgImxpbmVDYXAiOiAicm91bmQiLAogICJsaW5lSm9pbiI6ICJyb3VuZCIsCiAgIm9wYWNpdHkiOiAxLjAsCiAgInJhZGl1cyI6IDUsCiAgInN0cm9rZSI6IHRydWUsCiAgIndlaWdodCI6IDMKfQogICAgICAgICAgICAgICAgKS5hZGRUbyhtYXBfNDk0ZTQ3NWZmZWZkNDJhMWEzMDZlNTliYWYyZTQ5ZWEpOwogICAgICAgICAgICAKICAgIAogICAgICAgICAgICB2YXIgcG9wdXBfYzM1ZGIyYjBmNDQxNDExYzhhNTM5YjU4MTAxNmUyNmMgPSBMLnBvcHVwKHttYXhXaWR0aDogJzMwMCd9KTsKCiAgICAgICAgICAgIAogICAgICAgICAgICAgICAgdmFyIGh0bWxfMzY2YzJjNTUzYTM5NDFlNDhlMmU4MGViZDMxZGU4MTggPSAkKCc8ZGl2IGlkPSJodG1sXzM2NmMyYzU1M2EzOTQxZTQ4ZTJlODBlYmQzMWRlODE4IiBzdHlsZT0id2lkdGg6IDEwMC4wJTsgaGVpZ2h0OiAxMDAuMCU7Ij5OZWlnaGJvcmhvb2RzOiBDaHVyY2ggYW5kIFdlbGxlc2xleSBtYXBwZWQgdG8gYm9yb3VnaDogRG93bnRvd24gVG9yb250bzwvZGl2PicpWzBdOwogICAgICAgICAgICAgICAgcG9wdXBfYzM1ZGIyYjBmNDQxNDExYzhhNTM5YjU4MTAxNmUyNmMuc2V0Q29udGVudChodG1sXzM2NmMyYzU1M2EzOTQxZTQ4ZTJlODBlYmQzMWRlODE4KTsKICAgICAgICAgICAgCgogICAgICAgICAgICBjaXJjbGVfbWFya2VyXzJjOTJkYzU4ZDQyZTQ1YmFhNWQyMjIzZDYzY2QwZGY5LmJpbmRQb3B1cChwb3B1cF9jMzVkYjJiMGY0NDE0MTFjOGE1MzliNTgxMDE2ZTI2Yyk7CgogICAgICAgICAgICAKICAgICAgICAKICAgIAogICAgICAgICAgICB2YXIgY2lyY2xlX21hcmtlcl9jYzRmYWJjNDc0NzY0NmVmYjM3NTYwMTBhNjFiZjJhYyA9IEwuY2lyY2xlTWFya2VyKAogICAgICAgICAgICAgICAgWzQzLjY2Mjc0MzksLTc5LjMyMTU1OF0sCiAgICAgICAgICAgICAgICB7CiAgImJ1YmJsaW5nTW91c2VFdmVudHMiOiB0cnVlLAogICJjb2xvciI6ICJibHVlIiwKICAiZGFzaEFycmF5IjogbnVsbCwKICAiZGFzaE9mZnNldCI6IG51bGwsCiAgImZpbGwiOiB0cnVlLAogICJmaWxsQ29sb3IiOiAiIzMxODZjYyIsCiAgImZpbGxPcGFjaXR5IjogMC43LAogICJmaWxsUnVsZSI6ICJldmVub2RkIiwKICAibGluZUNhcCI6ICJyb3VuZCIsCiAgImxpbmVKb2luIjogInJvdW5kIiwKICAib3BhY2l0eSI6IDEuMCwKICAicmFkaXVzIjogNSwKICAic3Ryb2tlIjogdHJ1ZSwKICAid2VpZ2h0IjogMwp9CiAgICAgICAgICAgICAgICApLmFkZFRvKG1hcF80OTRlNDc1ZmZlZmQ0MmExYTMwNmU1OWJhZjJlNDllYSk7CiAgICAgICAgICAgIAogICAgCiAgICAgICAgICAgIHZhciBwb3B1cF9jZDM4NWRiNjRjNGQ0YzRhODViNTJmY2RmMTM0OWYwNCA9IEwucG9wdXAoe21heFdpZHRoOiAnMzAwJ30pOwoKICAgICAgICAgICAgCiAgICAgICAgICAgICAgICB2YXIgaHRtbF82YjI5OTc4MjNiNjA0MzNmYTg5YjdhNjg5MmI5NDc2ZSA9ICQoJzxkaXYgaWQ9Imh0bWxfNmIyOTk3ODIzYjYwNDMzZmE4OWI3YTY4OTJiOTQ3NmUiIHN0eWxlPSJ3aWR0aDogMTAwLjAlOyBoZWlnaHQ6IDEwMC4wJTsiPk5laWdoYm9yaG9vZHM6IEJ1c2luZXNzIHJlcGx5IG1haWwgUHJvY2Vzc2luZyBDZW50cmUgbWFwcGVkIHRvIGJvcm91Z2g6IEVhc3QgVG9yb250bzwvZGl2PicpWzBdOwogICAgICAgICAgICAgICAgcG9wdXBfY2QzODVkYjY0YzRkNGM0YTg1YjUyZmNkZjEzNDlmMDQuc2V0Q29udGVudChodG1sXzZiMjk5NzgyM2I2MDQzM2ZhODliN2E2ODkyYjk0NzZlKTsKICAgICAgICAgICAgCgogICAgICAgICAgICBjaXJjbGVfbWFya2VyX2NjNGZhYmM0NzQ3NjQ2ZWZiMzc1NjAxMGE2MWJmMmFjLmJpbmRQb3B1cChwb3B1cF9jZDM4NWRiNjRjNGQ0YzRhODViNTJmY2RmMTM0OWYwNCk7CgogICAgICAgICAgICAKICAgICAgICAKICAgIAogICAgICAgICAgICB2YXIgY2lyY2xlX21hcmtlcl9kZjgwMDg2MTIwNmQ0MDQ5ODc2Yzc4ZDU4ZGQ3MTY5NyA9IEwuY2lyY2xlTWFya2VyKAogICAgICAgICAgICAgICAgWzQzLjYzNjI1NzksLTc5LjQ5ODUwOTA5OTk5OTk5XSwKICAgICAgICAgICAgICAgIHsKICAiYnViYmxpbmdNb3VzZUV2ZW50cyI6IHRydWUsCiAgImNvbG9yIjogImJsdWUiLAogICJkYXNoQXJyYXkiOiBudWxsLAogICJkYXNoT2Zmc2V0IjogbnVsbCwKICAiZmlsbCI6IHRydWUsCiAgImZpbGxDb2xvciI6ICIjMzE4NmNjIiwKICAiZmlsbE9wYWNpdHkiOiAwLjcsCiAgImZpbGxSdWxlIjogImV2ZW5vZGQiLAogICJsaW5lQ2FwIjogInJvdW5kIiwKICAibGluZUpvaW4iOiAicm91bmQiLAogICJvcGFjaXR5IjogMS4wLAogICJyYWRpdXMiOiA1LAogICJzdHJva2UiOiB0cnVlLAogICJ3ZWlnaHQiOiAzCn0KICAgICAgICAgICAgICAgICkuYWRkVG8obWFwXzQ5NGU0NzVmZmVmZDQyYTFhMzA2ZTU5YmFmMmU0OWVhKTsKICAgICAgICAgICAgCiAgICAKICAgICAgICAgICAgdmFyIHBvcHVwXzViNDdiNzE3OGU2ZDQzMjM5OGNjMzBmYTMyNzcwZDc2ID0gTC5wb3B1cCh7bWF4V2lkdGg6ICczMDAnfSk7CgogICAgICAgICAgICAKICAgICAgICAgICAgICAgIHZhciBodG1sXzJiNzRlMWFiNzdiYjRmMzZiY2EwYWY1OGMwYmVkZjBkID0gJCgnPGRpdiBpZD0iaHRtbF8yYjc0ZTFhYjc3YmI0ZjM2YmNhMGFmNThjMGJlZGYwZCIgc3R5bGU9IndpZHRoOiAxMDAuMCU7IGhlaWdodDogMTAwLjAlOyI+TmVpZ2hib3Job29kczogT2xkIE1pbGwgU291dGgsIEtpbmcmIzM5O3MgTWlsbCBQYXJrLCBTdW5ueWxlYSwgSHVtYmVyIEJheSwgTWltaWNvIE5FLCBUaGUgUXVlZW5zd2F5IEVhc3QsIFJveWFsIFlvcmsgU291dGggRWFzdCwgS2luZ3N3YXkgUGFyayBTb3V0aCBFYXN0IG1hcHBlZCB0byBib3JvdWdoOiBFdG9iaWNva2U8L2Rpdj4nKVswXTsKICAgICAgICAgICAgICAgIHBvcHVwXzViNDdiNzE3OGU2ZDQzMjM5OGNjMzBmYTMyNzcwZDc2LnNldENvbnRlbnQoaHRtbF8yYjc0ZTFhYjc3YmI0ZjM2YmNhMGFmNThjMGJlZGYwZCk7CiAgICAgICAgICAgIAoKICAgICAgICAgICAgY2lyY2xlX21hcmtlcl9kZjgwMDg2MTIwNmQ0MDQ5ODc2Yzc4ZDU4ZGQ3MTY5Ny5iaW5kUG9wdXAocG9wdXBfNWI0N2I3MTc4ZTZkNDMyMzk4Y2MzMGZhMzI3NzBkNzYpOwoKICAgICAgICAgICAgCiAgICAgICAgCiAgICAKICAgICAgICAgICAgdmFyIGNpcmNsZV9tYXJrZXJfZmVjZWZiMmM1OTk1NDk2OGJiOWRkYjM3ZGNhZTdiMmQgPSBMLmNpcmNsZU1hcmtlcigKICAgICAgICAgICAgICAgIFs0My42Mjg4NDA4LC03OS41MjA5OTk0MDAwMDAwMV0sCiAgICAgICAgICAgICAgICB7CiAgImJ1YmJsaW5nTW91c2VFdmVudHMiOiB0cnVlLAogICJjb2xvciI6ICJibHVlIiwKICAiZGFzaEFycmF5IjogbnVsbCwKICAiZGFzaE9mZnNldCI6IG51bGwsCiAgImZpbGwiOiB0cnVlLAogICJmaWxsQ29sb3IiOiAiIzMxODZjYyIsCiAgImZpbGxPcGFjaXR5IjogMC43LAogICJmaWxsUnVsZSI6ICJldmVub2RkIiwKICAibGluZUNhcCI6ICJyb3VuZCIsCiAgImxpbmVKb2luIjogInJvdW5kIiwKICAib3BhY2l0eSI6IDEuMCwKICAicmFkaXVzIjogNSwKICAic3Ryb2tlIjogdHJ1ZSwKICAid2VpZ2h0IjogMwp9CiAgICAgICAgICAgICAgICApLmFkZFRvKG1hcF80OTRlNDc1ZmZlZmQ0MmExYTMwNmU1OWJhZjJlNDllYSk7CiAgICAgICAgICAgIAogICAgCiAgICAgICAgICAgIHZhciBwb3B1cF8xOTQyMzY3NDI2NDI0NzBkODA1ZDAyOWY4ZWFhM2E2YiA9IEwucG9wdXAoe21heFdpZHRoOiAnMzAwJ30pOwoKICAgICAgICAgICAgCiAgICAgICAgICAgICAgICB2YXIgaHRtbF9kYzRmZjIzMTI4YTM0YTAyODIwNWQxOWI4MjZlZmFkNCA9ICQoJzxkaXYgaWQ9Imh0bWxfZGM0ZmYyMzEyOGEzNGEwMjgyMDVkMTliODI2ZWZhZDQiIHN0eWxlPSJ3aWR0aDogMTAwLjAlOyBoZWlnaHQ6IDEwMC4wJTsiPk5laWdoYm9yaG9vZHM6IE1pbWljbyBOVywgVGhlIFF1ZWVuc3dheSBXZXN0LCBTb3V0aCBvZiBCbG9vciwgS2luZ3N3YXkgUGFyayBTb3V0aCBXZXN0LCBSb3lhbCBZb3JrIFNvdXRoIFdlc3QgbWFwcGVkIHRvIGJvcm91Z2g6IEV0b2JpY29rZTwvZGl2PicpWzBdOwogICAgICAgICAgICAgICAgcG9wdXBfMTk0MjM2NzQyNjQyNDcwZDgwNWQwMjlmOGVhYTNhNmIuc2V0Q29udGVudChodG1sX2RjNGZmMjMxMjhhMzRhMDI4MjA1ZDE5YjgyNmVmYWQ0KTsKICAgICAgICAgICAgCgogICAgICAgICAgICBjaXJjbGVfbWFya2VyX2ZlY2VmYjJjNTk5NTQ5NjhiYjlkZGIzN2RjYWU3YjJkLmJpbmRQb3B1cChwb3B1cF8xOTQyMzY3NDI2NDI0NzBkODA1ZDAyOWY4ZWFhM2E2Yik7CgogICAgICAgICAgICAKICAgICAgICAKPC9zY3JpcHQ+ onload=\"this.contentDocument.open();this.contentDocument.write(atob(this.getAttribute('data-html')));this.contentDocument.close();\" allowfullscreen webkitallowfullscreen mozallowfullscreen></iframe></div></div>"
      ],
      "text/plain": [
       "<folium.folium.Map at 0x118fe5b00>"
      ]
     },
     "execution_count": 204,
     "metadata": {},
     "output_type": "execute_result"
    }
   ],
   "source": [
    "map_Toronto"
   ]
  },
  {
   "cell_type": "code",
   "execution_count": 221,
   "metadata": {},
   "outputs": [],
   "source": [
    "import config\n",
    "\n",
    "CLIENT_ID = config.CLIENT_ID #'your-client-ID' # your Foursquare ID\n",
    "CLIENT_SECRET =  config.CLIENT_SECRET #'your-client-secret' # your Foursquare Secret\n",
    "VERSION = '20190604' # Foursquare API version\n",
    "LIMIT = 100\n",
    "\n",
    "#print('Your credentails:')\n",
    "#print('CLIENT_ID: ' + CLIENT_ID)\n",
    "#print('CLIENT_SECRET:' + CLIENT_SECRET)"
   ]
  },
  {
   "cell_type": "code",
   "execution_count": 222,
   "metadata": {},
   "outputs": [
    {
     "data": {
      "text/plain": [
       "'Parkwoods'"
      ]
     },
     "execution_count": 222,
     "metadata": {},
     "output_type": "execute_result"
    }
   ],
   "source": [
    "df.loc[0, 'Neighborhood']"
   ]
  },
  {
   "cell_type": "code",
   "execution_count": 223,
   "metadata": {},
   "outputs": [
    {
     "name": "stdout",
     "output_type": "stream",
     "text": [
      "Latitude and longitude values of Parkwoods are 43.7532586, -79.3296565.\n"
     ]
    }
   ],
   "source": [
    "neighborhood_latitude = df.loc[0, 'Latitude'] # neighborhood latitude value\n",
    "neighborhood_longitude = df.loc[0, 'Longitude'] # neighborhood longitude value\n",
    "\n",
    "neighborhood_name = df.loc[0, 'Neighborhood'] # neighborhood name\n",
    "\n",
    "print('Latitude and longitude values of {} are {}, {}.'.format(neighborhood_name, \n",
    "                                                               neighborhood_latitude, \n",
    "                                                               neighborhood_longitude))"
   ]
  },
  {
   "cell_type": "code",
   "execution_count": 224,
   "metadata": {},
   "outputs": [
    {
     "data": {
      "text/plain": [
       "'https://api.foursquare.com/v2/venues/explore?&client_id=EEAH53S011IVQGZYN32WDRWKFBYW45JSNYFGMYB11VJ5VFFV&client_secret=NLB0SQ1KVZZNUPCQG3JN2NCVHZUCQANUY5L1RZAHCXIDL2HZ&v=20190604&ll=43.7532586,-79.3296565&radius=500&limit=100'"
      ]
     },
     "execution_count": 224,
     "metadata": {},
     "output_type": "execute_result"
    }
   ],
   "source": [
    "LIMIT = 100 # limit of number of venues returned by Foursquare API\n",
    "radius = 500 # define radius\n",
    "# create URL\n",
    "url = 'https://api.foursquare.com/v2/venues/explore?&client_id={}&client_secret={}&v={}&ll={},{}&radius={}&limit={}'.format(\n",
    "    CLIENT_ID, \n",
    "    CLIENT_SECRET, \n",
    "    VERSION, \n",
    "    neighborhood_latitude, \n",
    "    neighborhood_longitude, \n",
    "    radius, \n",
    "    LIMIT)\n",
    "url # display URL"
   ]
  },
  {
   "cell_type": "code",
   "execution_count": 225,
   "metadata": {},
   "outputs": [
    {
     "data": {
      "text/plain": [
       "{'meta': {'code': 200, 'requestId': '5eb571d99da7ee001b56dd29'},\n",
       " 'response': {'warning': {'text': \"There aren't a lot of results near you. Try something more general, reset your filters, or expand the search area.\"},\n",
       "  'headerLocation': 'Parkwoods - Donalda',\n",
       "  'headerFullLocation': 'Parkwoods - Donalda, Toronto',\n",
       "  'headerLocationGranularity': 'neighborhood',\n",
       "  'totalResults': 3,\n",
       "  'suggestedBounds': {'ne': {'lat': 43.757758604500005,\n",
       "    'lng': -79.32343823984928},\n",
       "   'sw': {'lat': 43.7487585955, 'lng': -79.33587476015072}},\n",
       "  'groups': [{'type': 'Recommended Places',\n",
       "    'name': 'recommended',\n",
       "    'items': [{'reasons': {'count': 0,\n",
       "       'items': [{'summary': 'This spot is popular',\n",
       "         'type': 'general',\n",
       "         'reasonName': 'globalInteractionReason'}]},\n",
       "      'venue': {'id': '4e8d9dcdd5fbbbb6b3003c7b',\n",
       "       'name': 'Brookbanks Park',\n",
       "       'location': {'address': 'Toronto',\n",
       "        'lat': 43.751976046055574,\n",
       "        'lng': -79.33214044722958,\n",
       "        'labeledLatLngs': [{'label': 'display',\n",
       "          'lat': 43.751976046055574,\n",
       "          'lng': -79.33214044722958}],\n",
       "        'distance': 245,\n",
       "        'cc': 'CA',\n",
       "        'city': 'Toronto',\n",
       "        'state': 'ON',\n",
       "        'country': 'Canada',\n",
       "        'formattedAddress': ['Toronto', 'Toronto ON', 'Canada']},\n",
       "       'categories': [{'id': '4bf58dd8d48988d163941735',\n",
       "         'name': 'Park',\n",
       "         'pluralName': 'Parks',\n",
       "         'shortName': 'Park',\n",
       "         'icon': {'prefix': 'https://ss3.4sqi.net/img/categories_v2/parks_outdoors/park_',\n",
       "          'suffix': '.png'},\n",
       "         'primary': True}],\n",
       "       'photos': {'count': 0, 'groups': []}},\n",
       "      'referralId': 'e-0-4e8d9dcdd5fbbbb6b3003c7b-0'},\n",
       "     {'reasons': {'count': 0,\n",
       "       'items': [{'summary': 'This spot is popular',\n",
       "         'type': 'general',\n",
       "         'reasonName': 'globalInteractionReason'}]},\n",
       "      'venue': {'id': '4cb11e2075ebb60cd1c4caad',\n",
       "       'name': 'Variety Store',\n",
       "       'location': {'address': '29 Valley Woods Road',\n",
       "        'lat': 43.75197441585782,\n",
       "        'lng': -79.33311418516017,\n",
       "        'labeledLatLngs': [{'label': 'display',\n",
       "          'lat': 43.75197441585782,\n",
       "          'lng': -79.33311418516017}],\n",
       "        'distance': 312,\n",
       "        'cc': 'CA',\n",
       "        'city': 'Toronto',\n",
       "        'state': 'ON',\n",
       "        'country': 'Canada',\n",
       "        'formattedAddress': ['29 Valley Woods Road', 'Toronto ON', 'Canada']},\n",
       "       'categories': [{'id': '4bf58dd8d48988d1f9941735',\n",
       "         'name': 'Food & Drink Shop',\n",
       "         'pluralName': 'Food & Drink Shops',\n",
       "         'shortName': 'Food & Drink',\n",
       "         'icon': {'prefix': 'https://ss3.4sqi.net/img/categories_v2/shops/foodanddrink_',\n",
       "          'suffix': '.png'},\n",
       "         'primary': True}],\n",
       "       'photos': {'count': 0, 'groups': []}},\n",
       "      'referralId': 'e-0-4cb11e2075ebb60cd1c4caad-1'},\n",
       "     {'reasons': {'count': 0,\n",
       "       'items': [{'summary': 'This spot is popular',\n",
       "         'type': 'general',\n",
       "         'reasonName': 'globalInteractionReason'}]},\n",
       "      'venue': {'id': '53622a89498ed84d6853265e',\n",
       "       'name': 'TTC stop - 44 Valley Woods',\n",
       "       'location': {'address': '44 Valley Woods Rd',\n",
       "        'lat': 43.75540238129278,\n",
       "        'lng': -79.33374133300899,\n",
       "        'labeledLatLngs': [{'label': 'display',\n",
       "          'lat': 43.75540238129278,\n",
       "          'lng': -79.33374133300899}],\n",
       "        'distance': 405,\n",
       "        'cc': 'CA',\n",
       "        'city': 'Toronto',\n",
       "        'state': 'ON',\n",
       "        'country': 'Canada',\n",
       "        'formattedAddress': ['44 Valley Woods Rd', 'Toronto ON', 'Canada']},\n",
       "       'categories': [{'id': '52f2ab2ebcbc57f1066b8b4f',\n",
       "         'name': 'Bus Stop',\n",
       "         'pluralName': 'Bus Stops',\n",
       "         'shortName': 'Bus Stop',\n",
       "         'icon': {'prefix': 'https://ss3.4sqi.net/img/categories_v2/travel/busstation_',\n",
       "          'suffix': '.png'},\n",
       "         'primary': True}],\n",
       "       'photos': {'count': 0, 'groups': []}},\n",
       "      'referralId': 'e-0-53622a89498ed84d6853265e-2'}]}]}}"
      ]
     },
     "execution_count": 225,
     "metadata": {},
     "output_type": "execute_result"
    }
   ],
   "source": [
    "import requests # library to handle requests\n",
    "results = requests.get(url).json()\n",
    "results"
   ]
  },
  {
   "cell_type": "code",
   "execution_count": 211,
   "metadata": {},
   "outputs": [],
   "source": [
    "# function that extracts the category of the venue\n",
    "def get_category_type(row):\n",
    "    try:\n",
    "        categories_list = row['categories']\n",
    "    except:\n",
    "        categories_list = row['venue.categories']\n",
    "        \n",
    "    if len(categories_list) == 0:\n",
    "        return None\n",
    "    else:\n",
    "        return categories_list[0]['name']"
   ]
  },
  {
   "cell_type": "code",
   "execution_count": 215,
   "metadata": {},
   "outputs": [
    {
     "data": {
      "text/html": [
       "<div>\n",
       "<style scoped>\n",
       "    .dataframe tbody tr th:only-of-type {\n",
       "        vertical-align: middle;\n",
       "    }\n",
       "\n",
       "    .dataframe tbody tr th {\n",
       "        vertical-align: top;\n",
       "    }\n",
       "\n",
       "    .dataframe thead th {\n",
       "        text-align: right;\n",
       "    }\n",
       "</style>\n",
       "<table border=\"1\" class=\"dataframe\">\n",
       "  <thead>\n",
       "    <tr style=\"text-align: right;\">\n",
       "      <th></th>\n",
       "      <th>name</th>\n",
       "      <th>categories</th>\n",
       "      <th>lat</th>\n",
       "      <th>lng</th>\n",
       "    </tr>\n",
       "  </thead>\n",
       "  <tbody>\n",
       "    <tr>\n",
       "      <th>0</th>\n",
       "      <td>Brookbanks Park</td>\n",
       "      <td>Park</td>\n",
       "      <td>43.751976</td>\n",
       "      <td>-79.332140</td>\n",
       "    </tr>\n",
       "    <tr>\n",
       "      <th>1</th>\n",
       "      <td>649 Variety</td>\n",
       "      <td>Convenience Store</td>\n",
       "      <td>43.754513</td>\n",
       "      <td>-79.331942</td>\n",
       "    </tr>\n",
       "    <tr>\n",
       "      <th>2</th>\n",
       "      <td>Variety Store</td>\n",
       "      <td>Food &amp; Drink Shop</td>\n",
       "      <td>43.751974</td>\n",
       "      <td>-79.333114</td>\n",
       "    </tr>\n",
       "  </tbody>\n",
       "</table>\n",
       "</div>"
      ],
      "text/plain": [
       "              name         categories        lat        lng\n",
       "0  Brookbanks Park               Park  43.751976 -79.332140\n",
       "1      649 Variety  Convenience Store  43.754513 -79.331942\n",
       "2    Variety Store  Food & Drink Shop  43.751974 -79.333114"
      ]
     },
     "execution_count": 215,
     "metadata": {},
     "output_type": "execute_result"
    }
   ],
   "source": [
    "from pandas.io.json import json_normalize # tranform JSON file into a pandas dataframe\n",
    "\n",
    "venues = results['response']['groups'][0]['items']\n",
    "    \n",
    "nearby_venues = json_normalize(venues) # flatten JSON\n",
    "\n",
    "# filter columns\n",
    "filtered_columns = ['venue.name', 'venue.categories', 'venue.location.lat', 'venue.location.lng']\n",
    "nearby_venues =nearby_venues.loc[:, filtered_columns]\n",
    "\n",
    "# filter the category for each row\n",
    "nearby_venues['venue.categories'] = nearby_venues.apply(get_category_type, axis=1)\n",
    "\n",
    "# clean columns\n",
    "nearby_venues.columns = [col.split(\".\")[-1] for col in nearby_venues.columns]\n",
    "\n",
    "nearby_venues"
   ]
  },
  {
   "cell_type": "code",
   "execution_count": 214,
   "metadata": {},
   "outputs": [
    {
     "name": "stdout",
     "output_type": "stream",
     "text": [
      "3 venues were returned by Foursquare.\n"
     ]
    }
   ],
   "source": [
    "print('{} venues were returned by Foursquare.'.format(nearby_venues.shape[0]))"
   ]
  },
  {
   "cell_type": "code",
   "execution_count": null,
   "metadata": {},
   "outputs": [],
   "source": []
  }
 ],
 "metadata": {
  "kernelspec": {
   "display_name": "Python 3",
   "language": "python",
   "name": "python3"
  },
  "language_info": {
   "codemirror_mode": {
    "name": "ipython",
    "version": 3
   },
   "file_extension": ".py",
   "mimetype": "text/x-python",
   "name": "python",
   "nbconvert_exporter": "python",
   "pygments_lexer": "ipython3",
   "version": "3.7.3"
  }
 },
 "nbformat": 4,
 "nbformat_minor": 2
}
